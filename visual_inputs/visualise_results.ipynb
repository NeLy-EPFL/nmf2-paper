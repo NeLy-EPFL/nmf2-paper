{
 "cells": [
  {
   "cell_type": "markdown",
   "metadata": {},
   "source": [
    "## Initialisations"
   ]
  },
  {
   "cell_type": "code",
   "execution_count": 1,
   "metadata": {},
   "outputs": [
    {
     "name": "stderr",
     "output_type": "stream",
     "text": [
      "c:\\Users\\Louise\\Documents\\EPFL\\UPRAMDYA_intern\\Flygym\\flyvenv\\lib\\site-packages\\torch\\utils\\tensorboard\\__init__.py:4: DeprecationWarning: distutils Version classes are deprecated. Use packaging.version instead.\n",
      "  if not hasattr(tensorboard, \"__version__\") or LooseVersion(\n",
      "c:\\Users\\Louise\\Documents\\EPFL\\UPRAMDYA_intern\\Flygym\\flyvenv\\lib\\site-packages\\torch\\utils\\tensorboard\\__init__.py:6: DeprecationWarning: distutils Version classes are deprecated. Use packaging.version instead.\n",
      "  ) < LooseVersion(\"1.15\"):\n"
     ]
    }
   ],
   "source": [
    "import numpy as np\n",
    "import matplotlib.pyplot as plt\n",
    "\n",
    "from pathlib import Path\n",
    "from tqdm import trange\n",
    "import pickle\n",
    "\n",
    "from visual_taxis import NMFVisualTaxis, MovingObjArena\n",
    "from flygym.envs.nmf_mujoco import MuJoCoParameters\n",
    "\n",
    "from util import linear_schedule, SaveIntermediateModelsCallback\n",
    "from tqdm import trange\n",
    "from flygym.util.config import all_leg_dofs\n",
    "\n",
    "from stable_baselines3 import PPO"
   ]
  },
  {
   "cell_type": "code",
   "execution_count": 2,
   "metadata": {},
   "outputs": [],
   "source": [
    "decision_dt = 0.05\n",
    "\n",
    "arena = MovingObjArena(obj_spawn_pos=(5, 3, 0), move_mode=\"s_shape\")\n",
    "arena.reset(new_spawn_pos=True, new_move_mode=False)\n",
    "spawn = arena.init_ball_pos\n",
    "sim_params = MuJoCoParameters(render_playspeed=0.2, render_camera=\"Animat/camera_top_zoomout\", render_raw_vision=True)\n",
    "sim = NMFVisualTaxis(\n",
    "    sim_params=sim_params,\n",
    "    arena=arena,\n",
    "    decision_dt=decision_dt,\n",
    "    n_stabilisation_steps=5000,\n",
    "    obj_threshold=50,\n",
    ")\n",
    "\n",
    "dr = f'../../logs_orient_'\n",
    "model_name = \"saved_model_MLPlinearlr_continue\"\n",
    "out_dir = Path(dr+f\"/eval_{model_name}\")\n",
    "out_dir.mkdir(parents=True, exist_ok=True)\n",
    "\n",
    "n_base = int(2/decision_dt)"
   ]
  },
  {
   "cell_type": "code",
   "execution_count": 3,
   "metadata": {},
   "outputs": [
    {
     "name": "stdout",
     "output_type": "stream",
     "text": [
      "ActorCriticPolicy(\n",
      "  (features_extractor): FlattenExtractor(\n",
      "    (flatten): Flatten(start_dim=1, end_dim=-1)\n",
      "  )\n",
      "  (pi_features_extractor): FlattenExtractor(\n",
      "    (flatten): Flatten(start_dim=1, end_dim=-1)\n",
      "  )\n",
      "  (vf_features_extractor): FlattenExtractor(\n",
      "    (flatten): Flatten(start_dim=1, end_dim=-1)\n",
      "  )\n",
      "  (mlp_extractor): MlpExtractor(\n",
      "    (policy_net): Sequential(\n",
      "      (0): Linear(in_features=6, out_features=64, bias=True)\n",
      "      (1): Tanh()\n",
      "      (2): Linear(in_features=64, out_features=64, bias=True)\n",
      "      (3): Tanh()\n",
      "    )\n",
      "    (value_net): Sequential(\n",
      "      (0): Linear(in_features=6, out_features=64, bias=True)\n",
      "      (1): Tanh()\n",
      "      (2): Linear(in_features=64, out_features=64, bias=True)\n",
      "      (3): Tanh()\n",
      "    )\n",
      "  )\n",
      "  (action_net): Linear(in_features=64, out_features=2, bias=True)\n",
      "  (value_net): Linear(in_features=64, out_features=1, bias=True)\n",
      ")\n"
     ]
    }
   ],
   "source": [
    "# Load model from file\n",
    "nmf_model = PPO.load(dr+\"/\"+model_name)\n",
    "\n",
    "print(nmf_model.policy)"
   ]
  },
  {
   "cell_type": "markdown",
   "metadata": {},
   "source": [
    "## Simulation runs"
   ]
  },
  {
   "cell_type": "code",
   "execution_count": 4,
   "metadata": {},
   "outputs": [
    {
     "name": "stdout",
     "output_type": "stream",
     "text": [
      "0\n"
     ]
    },
    {
     "name": "stderr",
     "output_type": "stream",
     "text": [
      "100%|██████████| 40/40 [02:25<00:00,  3.64s/it]\n"
     ]
    },
    {
     "name": "stdout",
     "output_type": "stream",
     "text": [
      "[-0.5387659  -0.16200714]\n",
      "-0.5093550536856306\n",
      "1\n"
     ]
    },
    {
     "name": "stderr",
     "output_type": "stream",
     "text": [
      "100%|██████████| 40/40 [02:26<00:00,  3.67s/it]\n"
     ]
    },
    {
     "name": "stdout",
     "output_type": "stream",
     "text": [
      "[-0.723995   0.3109061]\n",
      "-0.47550122451224364\n",
      "2\n"
     ]
    },
    {
     "name": "stderr",
     "output_type": "stream",
     "text": [
      "100%|██████████| 40/40 [02:33<00:00,  3.83s/it]\n"
     ]
    },
    {
     "name": "stdout",
     "output_type": "stream",
     "text": [
      "[-0.29389524 -0.5702161 ]\n",
      "0.13335577286753164\n",
      "3\n"
     ]
    },
    {
     "name": "stderr",
     "output_type": "stream",
     "text": [
      "100%|██████████| 40/40 [02:35<00:00,  3.89s/it]\n"
     ]
    },
    {
     "name": "stdout",
     "output_type": "stream",
     "text": [
      "[ 0.26205567 -1.        ]\n",
      "1.0770524775796675\n",
      "4\n"
     ]
    },
    {
     "name": "stderr",
     "output_type": "stream",
     "text": [
      "100%|██████████| 40/40 [02:32<00:00,  3.81s/it]\n"
     ]
    },
    {
     "name": "stdout",
     "output_type": "stream",
     "text": [
      "[ 0.05572075 -0.9124717 ]\n",
      "0.015705067024739394\n",
      "5\n"
     ]
    },
    {
     "name": "stderr",
     "output_type": "stream",
     "text": [
      "100%|██████████| 40/40 [02:28<00:00,  3.72s/it]\n"
     ]
    },
    {
     "name": "stdout",
     "output_type": "stream",
     "text": [
      "[-0.670684 -1.      ]\n",
      "-0.09055884145232063\n",
      "6\n"
     ]
    },
    {
     "name": "stderr",
     "output_type": "stream",
     "text": [
      "100%|██████████| 40/40 [02:39<00:00,  3.99s/it]\n"
     ]
    },
    {
     "name": "stdout",
     "output_type": "stream",
     "text": [
      "[-0.04526377 -1.        ]\n",
      "-0.6057511836293661\n",
      "7\n"
     ]
    },
    {
     "name": "stderr",
     "output_type": "stream",
     "text": [
      "100%|██████████| 40/40 [02:39<00:00,  4.00s/it]\n"
     ]
    },
    {
     "name": "stdout",
     "output_type": "stream",
     "text": [
      "[ 0.24936941 -1.        ]\n",
      "0.35259789854369283\n",
      "8\n"
     ]
    },
    {
     "name": "stderr",
     "output_type": "stream",
     "text": [
      "100%|██████████| 40/40 [02:44<00:00,  4.12s/it]\n"
     ]
    },
    {
     "name": "stdout",
     "output_type": "stream",
     "text": [
      "[-0.10727063 -1.        ]\n",
      "0.13470058656860018\n",
      "9\n"
     ]
    },
    {
     "name": "stderr",
     "output_type": "stream",
     "text": [
      "100%|██████████| 40/40 [02:35<00:00,  3.90s/it]\n"
     ]
    },
    {
     "name": "stdout",
     "output_type": "stream",
     "text": [
      "[-0.08943292 -0.93621475]\n",
      "-0.09802428011791875\n",
      "10\n"
     ]
    },
    {
     "name": "stderr",
     "output_type": "stream",
     "text": [
      "100%|██████████| 40/40 [02:39<00:00,  3.98s/it]\n"
     ]
    },
    {
     "name": "stdout",
     "output_type": "stream",
     "text": [
      "[-0.25766382 -0.6071467 ]\n",
      "-1.0590784357269867\n",
      "11\n"
     ]
    },
    {
     "name": "stderr",
     "output_type": "stream",
     "text": [
      "100%|██████████| 40/40 [02:40<00:00,  4.01s/it]\n"
     ]
    },
    {
     "name": "stdout",
     "output_type": "stream",
     "text": [
      "[-0.17039344 -0.9039048 ]\n",
      "0.08491159604617105\n",
      "12\n"
     ]
    },
    {
     "name": "stderr",
     "output_type": "stream",
     "text": [
      "100%|██████████| 40/40 [02:40<00:00,  4.00s/it]\n"
     ]
    },
    {
     "name": "stdout",
     "output_type": "stream",
     "text": [
      "[-0.51608884 -0.02955884]\n",
      "0.013250106665502193\n",
      "13\n"
     ]
    },
    {
     "name": "stderr",
     "output_type": "stream",
     "text": [
      "100%|██████████| 40/40 [02:44<00:00,  4.11s/it]\n"
     ]
    },
    {
     "name": "stdout",
     "output_type": "stream",
     "text": [
      "[-0.95558965 -0.5357065 ]\n",
      "-0.31888049148998787\n",
      "14\n"
     ]
    },
    {
     "name": "stderr",
     "output_type": "stream",
     "text": [
      "100%|██████████| 40/40 [02:41<00:00,  4.03s/it]\n"
     ]
    },
    {
     "name": "stdout",
     "output_type": "stream",
     "text": [
      "[-0.09673512 -0.6846596 ]\n",
      "-0.00728214461867327\n",
      "15\n"
     ]
    },
    {
     "name": "stderr",
     "output_type": "stream",
     "text": [
      "100%|██████████| 40/40 [02:36<00:00,  3.92s/it]\n"
     ]
    },
    {
     "name": "stdout",
     "output_type": "stream",
     "text": [
      "[-0.44582462 -0.27450848]\n",
      "-0.19669709036807648\n",
      "16\n"
     ]
    },
    {
     "name": "stderr",
     "output_type": "stream",
     "text": [
      "100%|██████████| 40/40 [02:39<00:00,  3.98s/it]\n"
     ]
    },
    {
     "name": "stdout",
     "output_type": "stream",
     "text": [
      "[-0.7745311   0.40421343]\n",
      "-0.017259513773093538\n",
      "17\n"
     ]
    },
    {
     "name": "stderr",
     "output_type": "stream",
     "text": [
      "100%|██████████| 40/40 [02:34<00:00,  3.86s/it]\n"
     ]
    },
    {
     "name": "stdout",
     "output_type": "stream",
     "text": [
      "[-0.247797  -0.5061549]\n",
      "0.04656932404290104\n",
      "18\n"
     ]
    },
    {
     "name": "stderr",
     "output_type": "stream",
     "text": [
      "100%|██████████| 40/40 [02:50<00:00,  4.27s/it]\n"
     ]
    },
    {
     "name": "stdout",
     "output_type": "stream",
     "text": [
      "[-0.0897052 -1.       ]\n",
      "-0.0005848610676695287\n",
      "19\n"
     ]
    },
    {
     "name": "stderr",
     "output_type": "stream",
     "text": [
      "100%|██████████| 40/40 [02:49<00:00,  4.25s/it]\n"
     ]
    },
    {
     "name": "stdout",
     "output_type": "stream",
     "text": [
      "[-0.11027715 -1.        ]\n",
      "-0.08380517616990768\n"
     ]
    },
    {
     "data": {
      "text/plain": [
       "<Figure size 640x480 with 0 Axes>"
      ]
     },
     "metadata": {},
     "output_type": "display_data"
    }
   ],
   "source": [
    "distances = []\n",
    "rew_straight = []\n",
    "rew_s = []\n",
    "folds = 20\n",
    "\n",
    "for f in range(folds):\n",
    "    print(f)\n",
    "    obs, _ = sim.reset()\n",
    "    spawn = sim.arena.init_ball_pos\n",
    "\n",
    "    obs_hist = []\n",
    "    visual_hist = []\n",
    "    action_history = []\n",
    "    rewards_hist = []\n",
    "\n",
    "    for i in trange(n_base):\n",
    "        action, _ = nmf_model.predict(obs, deterministic=True)\n",
    "        obs, rew, term, trunc, info = sim.step(np.array(action))\n",
    "        sim.render()\n",
    "        obs_hist.append(obs)\n",
    "        visual_hist.append(sim.curr_raw_visual_input)\n",
    "        action_history.append(action)\n",
    "        rewards_hist.append(rew)\n",
    "\n",
    "    obs_hist = np.array(obs_hist)\n",
    "\n",
    "    print(action)\n",
    "    print(rewards_hist[-1])\n",
    "    plt.plot(np.arange(n_base), np.cumsum(rewards_hist))\n",
    "    plt.savefig(out_dir / f\"{f}-{spawn}totrewards.png\")\n",
    "    plt.clf()\n",
    "    plt.plot(np.arange(n_base), rewards_hist)\n",
    "    plt.savefig(out_dir / f\"{f}-{spawn}rewards.png\")\n",
    "    plt.clf()\n",
    "    plt.plot(np.arange(n_base), action_history)\n",
    "    plt.savefig(out_dir / f\"{f}-{spawn}actions.png\")\n",
    "    plt.clf()\n",
    "    sim.save_video(out_dir / f'{f}-{spawn}resultcust.mp4')\n",
    "\n",
    "    # Save relevant metrics\n",
    "    if sim.arena.move_mode == \"straightHeading\":\n",
    "        rew_straight.append(rewards_hist)\n",
    "    elif sim.arena.move_mode == \"s_shape\":\n",
    "        rew_s.append(rewards_hist)\n",
    "\n",
    "sim.close()"
   ]
  },
  {
   "cell_type": "code",
   "execution_count": 5,
   "metadata": {},
   "outputs": [
    {
     "name": "stdout",
     "output_type": "stream",
     "text": [
      "(15, 40) (5, 40)\n"
     ]
    }
   ],
   "source": [
    "rewards = [np.array(rew_straight), np.array(rew_s)]\n",
    "colors = [[\"tab:blue\",\"tab:cyan\"], [\"orangered\", \"orange\"], [\"tab:green\", \"limegreen\"]]\n",
    "name = [\"Straight\", \"S-shaped\", \"Both\"]\n",
    "\n",
    "# Saving results\n",
    "with open(dr+\"/rewards.pickle\",'wb') as f:\n",
    "    pickle.dump(rewards, f)\n",
    "f.close()\n",
    "\n",
    "print(rewards[0].shape, rewards[1].shape)"
   ]
  },
  {
   "cell_type": "markdown",
   "metadata": {},
   "source": [
    "## Plots of results"
   ]
  },
  {
   "cell_type": "code",
   "execution_count": 6,
   "metadata": {},
   "outputs": [
    {
     "name": "stderr",
     "output_type": "stream",
     "text": [
      "WARNING:matplotlib.legend:No artists with labels found to put in legend.  Note that artists whose label start with an underscore are ignored when legend() is called with no argument.\n",
      "WARNING:matplotlib.legend:No artists with labels found to put in legend.  Note that artists whose label start with an underscore are ignored when legend() is called with no argument.\n"
     ]
    },
    {
     "data": {
      "text/plain": [
       "<Figure size 640x480 with 0 Axes>"
      ]
     },
     "metadata": {},
     "output_type": "display_data"
    }
   ],
   "source": [
    "# Plotting mean and std of metrics across all runs\n",
    "time = np.arange(rewards[0].shape[1])*0.05\n",
    "for c in range(len(rewards)):\n",
    "    col = colors[c]\n",
    "    if len(rewards[c].shape)>1:\n",
    "        mean_r = np.mean(rewards[c], axis=0)\n",
    "        std_r = np.std(rewards[c], axis=0)\n",
    "        plt.fill_between(time, mean_r-std_r, mean_r+std_r, color=col[1])\n",
    "        plt.plot(time,mean_r, c=col[0])\n",
    "        plt.title(name[c]+\" trajectory\")\n",
    "        plt.xlabel(\"Time [s]\")\n",
    "        plt.ylabel(\"Instant reward\")\n",
    "        plt.legend()\n",
    "        plt.savefig(out_dir / f\"rewards_avg_std{c}\")\n",
    "        plt.clf()\n",
    "        #plt.show()"
   ]
  },
  {
   "cell_type": "code",
   "execution_count": 7,
   "metadata": {},
   "outputs": [
    {
     "data": {
      "text/plain": [
       "<Figure size 640x480 with 0 Axes>"
      ]
     },
     "metadata": {},
     "output_type": "display_data"
    }
   ],
   "source": [
    "for c in range(len(rewards)):\n",
    "    col = colors[c]\n",
    "    if len(rewards[c].shape)>1:\n",
    "        cumul_rewards = np.cumsum(rewards[c], axis=1)\n",
    "        mean_r = np.mean(cumul_rewards, axis=0)\n",
    "        std_r = np.std(cumul_rewards, axis=0)\n",
    "        plt.fill_between(time, mean_r-std_r, mean_r+std_r, color=col[1])\n",
    "        plt.plot(time,mean_r, c=col[0], label=name[c])\n",
    "plt.xlabel(\"Time [s]\")\n",
    "plt.ylabel(\"Cumulative reward\")\n",
    "plt.legend()\n",
    "plt.savefig(out_dir / \"cumulrewards_avg_std\")\n",
    "plt.clf()\n",
    "#plt.show()"
   ]
  },
  {
   "cell_type": "code",
   "execution_count": 8,
   "metadata": {},
   "outputs": [
    {
     "name": "stderr",
     "output_type": "stream",
     "text": [
      "WARNING:matplotlib.legend:No artists with labels found to put in legend.  Note that artists whose label start with an underscore are ignored when legend() is called with no argument.\n"
     ]
    },
    {
     "data": {
      "text/plain": [
       "<Figure size 640x480 with 0 Axes>"
      ]
     },
     "metadata": {},
     "output_type": "display_data"
    }
   ],
   "source": [
    "# For all runs combined\n",
    "rewards_combined = [item for line in rewards for item in line]\n",
    "rewards_combined = np.array(rewards_combined)\n",
    "col = colors[2]\n",
    "\n",
    "mean_r = np.mean(rewards_combined, axis=0)\n",
    "std_r = np.std(rewards_combined, axis=0)\n",
    "plt.fill_between(time, mean_r-std_r, mean_r+std_r, color=col[1])\n",
    "plt.plot(time,mean_r, c=col[0])\n",
    "plt.title(name[2]+\" trajectories\")\n",
    "plt.xlabel(\"Time [s]\")\n",
    "plt.ylabel(\"Instant reward\")\n",
    "plt.legend()\n",
    "plt.savefig(out_dir / f\"rewards_avg_std\")\n",
    "plt.clf()\n",
    "#plt.show()"
   ]
  },
  {
   "cell_type": "code",
   "execution_count": null,
   "metadata": {},
   "outputs": [],
   "source": []
  }
 ],
 "metadata": {
  "kernelspec": {
   "display_name": "flyvenv",
   "language": "python",
   "name": "python3"
  },
  "language_info": {
   "codemirror_mode": {
    "name": "ipython",
    "version": 3
   },
   "file_extension": ".py",
   "mimetype": "text/x-python",
   "name": "python",
   "nbconvert_exporter": "python",
   "pygments_lexer": "ipython3",
   "version": "3.9.7"
  },
  "orig_nbformat": 4
 },
 "nbformat": 4,
 "nbformat_minor": 2
}
