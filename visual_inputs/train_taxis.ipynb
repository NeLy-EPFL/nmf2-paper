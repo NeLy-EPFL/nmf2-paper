{
 "cells": [
  {
   "cell_type": "code",
   "execution_count": 1,
   "metadata": {},
   "outputs": [],
   "source": [
    "%load_ext autoreload\n",
    "%autoreload 2"
   ]
  },
  {
   "cell_type": "code",
   "execution_count": 2,
   "metadata": {},
   "outputs": [
    {
     "name": "stderr",
     "output_type": "stream",
     "text": [
      "c:\\Users\\Louise\\Documents\\EPFL\\UPRAMDYA_intern\\Flygym\\flyvenv\\lib\\site-packages\\torch\\utils\\tensorboard\\__init__.py:4: DeprecationWarning: distutils Version classes are deprecated. Use packaging.version instead.\n",
      "  if not hasattr(tensorboard, \"__version__\") or LooseVersion(\n",
      "c:\\Users\\Louise\\Documents\\EPFL\\UPRAMDYA_intern\\Flygym\\flyvenv\\lib\\site-packages\\torch\\utils\\tensorboard\\__init__.py:6: DeprecationWarning: distutils Version classes are deprecated. Use packaging.version instead.\n",
      "  ) < LooseVersion(\"1.15\"):\n"
     ]
    }
   ],
   "source": [
    "from stable_baselines3.common.logger import configure\n",
    "\n",
    "from pathlib import Path\n",
    "\n",
    "from flygym.envs.nmf_mujoco import MuJoCoParameters\n",
    "from flygym.arena.mujoco_arena import FlatTerrain\n",
    "from flygym.util.config import all_leg_dofs\n",
    "\n",
    "from stable_baselines3 import PPO\n",
    "from stable_baselines3.ppo import MlpPolicy\n",
    "from stable_baselines3.common.evaluation import evaluate_policy\n",
    "from stable_baselines3.common.monitor import Monitor\n",
    "\n",
    "from visual_taxis import NMFVisualTaxis, MovingObjArena\n",
    "from flygym.envs.nmf_mujoco import MuJoCoParameters\n",
    "\n",
    "from util import linear_schedule, SaveIntermediateModelsCallback"
   ]
  },
  {
   "cell_type": "code",
   "execution_count": 3,
   "metadata": {},
   "outputs": [],
   "source": [
    "arena = MovingObjArena(obj_spawn_pos=(5, 3, 0), move_mode=\"s_shape\")\n",
    "# sim_params = MuJoCoParameters(render_playspeed=0.2, render_camera=\"birdseye_cam\")\n",
    "sim_params = MuJoCoParameters(render_playspeed=0.2)\n",
    "sim = NMFVisualTaxis(\n",
    "    sim_params=sim_params,\n",
    "    arena=arena,\n",
    "    decision_dt=0.05,\n",
    "    n_stabilisation_steps=5000,\n",
    "    obj_threshold=50,\n",
    ")"
   ]
  },
  {
   "cell_type": "code",
   "execution_count": 4,
   "metadata": {},
   "outputs": [
    {
     "name": "stdout",
     "output_type": "stream",
     "text": [
      "Logging to logs\n",
      "Using cpu device\n",
      "Wrapping the env in a DummyVecEnv.\n",
      "0\n",
      "-1.6930208755353304\n",
      "-1.1634716071746165\n",
      "-1.661662633442977\n",
      "-2.339824138272376\n",
      "1.0661421005854361\n",
      "1.5311430259372338\n",
      "1.2066051114461844\n",
      "0.1681913551277825\n",
      "0.05591192321875604\n",
      "1.1012703196338902\n"
     ]
    },
    {
     "ename": "KeyboardInterrupt",
     "evalue": "",
     "output_type": "error",
     "traceback": [
      "\u001b[1;31m---------------------------------------------------------------------------\u001b[0m",
      "\u001b[1;31mKeyboardInterrupt\u001b[0m                         Traceback (most recent call last)",
      "Cell \u001b[1;32mIn[4], line 16\u001b[0m\n\u001b[0;32m     12\u001b[0m nmf_model\u001b[39m.\u001b[39mset_logger(new_logger)\n\u001b[0;32m     14\u001b[0m \u001b[39m#print(nmf_model.policy)\u001b[39;00m\n\u001b[1;32m---> 16\u001b[0m nmf_model\u001b[39m.\u001b[39;49mlearn(total_timesteps\u001b[39m=\u001b[39;49m\u001b[39m400_000\u001b[39;49m, progress_bar\u001b[39m=\u001b[39;49m\u001b[39mFalse\u001b[39;49;00m, callback\u001b[39m=\u001b[39;49mcallback)\n\u001b[0;32m     17\u001b[0m nmf_model\u001b[39m.\u001b[39msave(\u001b[39mstr\u001b[39m(log_dir \u001b[39m/\u001b[39m \u001b[39mf\u001b[39m\u001b[39m\"\u001b[39m\u001b[39msaved_model_MLPlinearlr\u001b[39m\u001b[39m\"\u001b[39m))\n\u001b[0;32m     18\u001b[0m mynmf\u001b[39m.\u001b[39mclose()\n",
      "File \u001b[1;32mc:\\Users\\Louise\\Documents\\EPFL\\UPRAMDYA_intern\\Flygym\\flyvenv\\lib\\site-packages\\stable_baselines3\\ppo\\ppo.py:308\u001b[0m, in \u001b[0;36mPPO.learn\u001b[1;34m(self, total_timesteps, callback, log_interval, tb_log_name, reset_num_timesteps, progress_bar)\u001b[0m\n\u001b[0;32m    299\u001b[0m \u001b[39mdef\u001b[39;00m \u001b[39mlearn\u001b[39m(\n\u001b[0;32m    300\u001b[0m     \u001b[39mself\u001b[39m: SelfPPO,\n\u001b[0;32m    301\u001b[0m     total_timesteps: \u001b[39mint\u001b[39m,\n\u001b[1;32m   (...)\u001b[0m\n\u001b[0;32m    306\u001b[0m     progress_bar: \u001b[39mbool\u001b[39m \u001b[39m=\u001b[39m \u001b[39mFalse\u001b[39;00m,\n\u001b[0;32m    307\u001b[0m ) \u001b[39m-\u001b[39m\u001b[39m>\u001b[39m SelfPPO:\n\u001b[1;32m--> 308\u001b[0m     \u001b[39mreturn\u001b[39;00m \u001b[39msuper\u001b[39;49m()\u001b[39m.\u001b[39;49mlearn(\n\u001b[0;32m    309\u001b[0m         total_timesteps\u001b[39m=\u001b[39;49mtotal_timesteps,\n\u001b[0;32m    310\u001b[0m         callback\u001b[39m=\u001b[39;49mcallback,\n\u001b[0;32m    311\u001b[0m         log_interval\u001b[39m=\u001b[39;49mlog_interval,\n\u001b[0;32m    312\u001b[0m         tb_log_name\u001b[39m=\u001b[39;49mtb_log_name,\n\u001b[0;32m    313\u001b[0m         reset_num_timesteps\u001b[39m=\u001b[39;49mreset_num_timesteps,\n\u001b[0;32m    314\u001b[0m         progress_bar\u001b[39m=\u001b[39;49mprogress_bar,\n\u001b[0;32m    315\u001b[0m     )\n",
      "File \u001b[1;32mc:\\Users\\Louise\\Documents\\EPFL\\UPRAMDYA_intern\\Flygym\\flyvenv\\lib\\site-packages\\stable_baselines3\\common\\on_policy_algorithm.py:259\u001b[0m, in \u001b[0;36mOnPolicyAlgorithm.learn\u001b[1;34m(self, total_timesteps, callback, log_interval, tb_log_name, reset_num_timesteps, progress_bar)\u001b[0m\n\u001b[0;32m    256\u001b[0m \u001b[39massert\u001b[39;00m \u001b[39mself\u001b[39m\u001b[39m.\u001b[39menv \u001b[39mis\u001b[39;00m \u001b[39mnot\u001b[39;00m \u001b[39mNone\u001b[39;00m\n\u001b[0;32m    258\u001b[0m \u001b[39mwhile\u001b[39;00m \u001b[39mself\u001b[39m\u001b[39m.\u001b[39mnum_timesteps \u001b[39m<\u001b[39m total_timesteps:\n\u001b[1;32m--> 259\u001b[0m     continue_training \u001b[39m=\u001b[39m \u001b[39mself\u001b[39;49m\u001b[39m.\u001b[39;49mcollect_rollouts(\u001b[39mself\u001b[39;49m\u001b[39m.\u001b[39;49menv, callback, \u001b[39mself\u001b[39;49m\u001b[39m.\u001b[39;49mrollout_buffer, n_rollout_steps\u001b[39m=\u001b[39;49m\u001b[39mself\u001b[39;49m\u001b[39m.\u001b[39;49mn_steps)\n\u001b[0;32m    261\u001b[0m     \u001b[39mif\u001b[39;00m continue_training \u001b[39mis\u001b[39;00m \u001b[39mFalse\u001b[39;00m:\n\u001b[0;32m    262\u001b[0m         \u001b[39mbreak\u001b[39;00m\n",
      "File \u001b[1;32mc:\\Users\\Louise\\Documents\\EPFL\\UPRAMDYA_intern\\Flygym\\flyvenv\\lib\\site-packages\\stable_baselines3\\common\\on_policy_algorithm.py:178\u001b[0m, in \u001b[0;36mOnPolicyAlgorithm.collect_rollouts\u001b[1;34m(self, env, callback, rollout_buffer, n_rollout_steps)\u001b[0m\n\u001b[0;32m    175\u001b[0m \u001b[39mif\u001b[39;00m \u001b[39misinstance\u001b[39m(\u001b[39mself\u001b[39m\u001b[39m.\u001b[39maction_space, spaces\u001b[39m.\u001b[39mBox):\n\u001b[0;32m    176\u001b[0m     clipped_actions \u001b[39m=\u001b[39m np\u001b[39m.\u001b[39mclip(actions, \u001b[39mself\u001b[39m\u001b[39m.\u001b[39maction_space\u001b[39m.\u001b[39mlow, \u001b[39mself\u001b[39m\u001b[39m.\u001b[39maction_space\u001b[39m.\u001b[39mhigh)\n\u001b[1;32m--> 178\u001b[0m new_obs, rewards, dones, infos \u001b[39m=\u001b[39m env\u001b[39m.\u001b[39;49mstep(clipped_actions)\n\u001b[0;32m    180\u001b[0m \u001b[39mself\u001b[39m\u001b[39m.\u001b[39mnum_timesteps \u001b[39m+\u001b[39m\u001b[39m=\u001b[39m env\u001b[39m.\u001b[39mnum_envs\n\u001b[0;32m    182\u001b[0m \u001b[39m# Give access to local variables\u001b[39;00m\n",
      "File \u001b[1;32mc:\\Users\\Louise\\Documents\\EPFL\\UPRAMDYA_intern\\Flygym\\flyvenv\\lib\\site-packages\\stable_baselines3\\common\\vec_env\\base_vec_env.py:171\u001b[0m, in \u001b[0;36mVecEnv.step\u001b[1;34m(self, actions)\u001b[0m\n\u001b[0;32m    164\u001b[0m \u001b[39m\u001b[39m\u001b[39m\"\"\"\u001b[39;00m\n\u001b[0;32m    165\u001b[0m \u001b[39mStep the environments with the given action\u001b[39;00m\n\u001b[0;32m    166\u001b[0m \n\u001b[0;32m    167\u001b[0m \u001b[39m:param actions: the action\u001b[39;00m\n\u001b[0;32m    168\u001b[0m \u001b[39m:return: observation, reward, done, information\u001b[39;00m\n\u001b[0;32m    169\u001b[0m \u001b[39m\"\"\"\u001b[39;00m\n\u001b[0;32m    170\u001b[0m \u001b[39mself\u001b[39m\u001b[39m.\u001b[39mstep_async(actions)\n\u001b[1;32m--> 171\u001b[0m \u001b[39mreturn\u001b[39;00m \u001b[39mself\u001b[39;49m\u001b[39m.\u001b[39;49mstep_wait()\n",
      "File \u001b[1;32mc:\\Users\\Louise\\Documents\\EPFL\\UPRAMDYA_intern\\Flygym\\flyvenv\\lib\\site-packages\\stable_baselines3\\common\\vec_env\\dummy_vec_env.py:57\u001b[0m, in \u001b[0;36mDummyVecEnv.step_wait\u001b[1;34m(self)\u001b[0m\n\u001b[0;32m     54\u001b[0m \u001b[39mdef\u001b[39;00m \u001b[39mstep_wait\u001b[39m(\u001b[39mself\u001b[39m) \u001b[39m-\u001b[39m\u001b[39m>\u001b[39m VecEnvStepReturn:\n\u001b[0;32m     55\u001b[0m     \u001b[39m# Avoid circular imports\u001b[39;00m\n\u001b[0;32m     56\u001b[0m     \u001b[39mfor\u001b[39;00m env_idx \u001b[39min\u001b[39;00m \u001b[39mrange\u001b[39m(\u001b[39mself\u001b[39m\u001b[39m.\u001b[39mnum_envs):\n\u001b[1;32m---> 57\u001b[0m         obs, \u001b[39mself\u001b[39m\u001b[39m.\u001b[39mbuf_rews[env_idx], terminated, truncated, \u001b[39mself\u001b[39m\u001b[39m.\u001b[39mbuf_infos[env_idx] \u001b[39m=\u001b[39m \u001b[39mself\u001b[39;49m\u001b[39m.\u001b[39;49menvs[env_idx]\u001b[39m.\u001b[39;49mstep(\n\u001b[0;32m     58\u001b[0m             \u001b[39mself\u001b[39;49m\u001b[39m.\u001b[39;49mactions[env_idx]\n\u001b[0;32m     59\u001b[0m         )\n\u001b[0;32m     60\u001b[0m         \u001b[39m# convert to SB3 VecEnv api\u001b[39;00m\n\u001b[0;32m     61\u001b[0m         \u001b[39mself\u001b[39m\u001b[39m.\u001b[39mbuf_dones[env_idx] \u001b[39m=\u001b[39m terminated \u001b[39mor\u001b[39;00m truncated\n",
      "File \u001b[1;32mc:\\Users\\Louise\\Documents\\EPFL\\UPRAMDYA_intern\\Flygym\\flyvenv\\lib\\site-packages\\stable_baselines3\\common\\monitor.py:94\u001b[0m, in \u001b[0;36mMonitor.step\u001b[1;34m(self, action)\u001b[0m\n\u001b[0;32m     92\u001b[0m \u001b[39mif\u001b[39;00m \u001b[39mself\u001b[39m\u001b[39m.\u001b[39mneeds_reset:\n\u001b[0;32m     93\u001b[0m     \u001b[39mraise\u001b[39;00m \u001b[39mRuntimeError\u001b[39;00m(\u001b[39m\"\u001b[39m\u001b[39mTried to step environment that needs reset\u001b[39m\u001b[39m\"\u001b[39m)\n\u001b[1;32m---> 94\u001b[0m observation, reward, terminated, truncated, info \u001b[39m=\u001b[39m \u001b[39mself\u001b[39;49m\u001b[39m.\u001b[39;49menv\u001b[39m.\u001b[39;49mstep(action)\n\u001b[0;32m     95\u001b[0m \u001b[39mself\u001b[39m\u001b[39m.\u001b[39mrewards\u001b[39m.\u001b[39mappend(\u001b[39mfloat\u001b[39m(reward))\n\u001b[0;32m     96\u001b[0m \u001b[39mif\u001b[39;00m terminated \u001b[39mor\u001b[39;00m truncated:\n",
      "File \u001b[1;32mc:\\Users\\Louise\\Documents\\EPFL\\UPRAMDYA_intern\\nmf2-paper\\visual_inputs\\visual_taxis.py:303\u001b[0m, in \u001b[0;36mNMFVisualTaxis.step\u001b[1;34m(self, amplitude)\u001b[0m\n\u001b[0;32m    301\u001b[0m \u001b[39mfor\u001b[39;00m i \u001b[39min\u001b[39;00m \u001b[39mrange\u001b[39m(\u001b[39mself\u001b[39m\u001b[39m.\u001b[39mnum_sub_steps):\n\u001b[0;32m    302\u001b[0m     raw_obs, _, raw_term, raw_trunc, raw_info \u001b[39m=\u001b[39m \u001b[39msuper\u001b[39m()\u001b[39m.\u001b[39mstep(amplitude)\n\u001b[1;32m--> 303\u001b[0m     \u001b[39msuper\u001b[39;49m()\u001b[39m.\u001b[39;49mrender()\n\u001b[0;32m    304\u001b[0m obs \u001b[39m=\u001b[39m \u001b[39mself\u001b[39m\u001b[39m.\u001b[39m_get_visual_features()\n\u001b[0;32m    305\u001b[0m reward \u001b[39m=\u001b[39m \u001b[39mself\u001b[39m\u001b[39m.\u001b[39m_calc_delta_dist(\n\u001b[0;32m    306\u001b[0m     fly_pos\u001b[39m=\u001b[39mraw_obs[\u001b[39m\"\u001b[39m\u001b[39mfly\u001b[39m\u001b[39m\"\u001b[39m][\u001b[39m0\u001b[39m, :], obj_pos\u001b[39m=\u001b[39m\u001b[39mself\u001b[39m\u001b[39m.\u001b[39marena\u001b[39m.\u001b[39mball_pos\n\u001b[0;32m    307\u001b[0m )\n",
      "File \u001b[1;32mc:\\users\\louise\\documents\\epfl\\upramdya_intern\\flygym\\flygym\\flygym\\envs\\nmf_mujoco.py:1056\u001b[0m, in \u001b[0;36mNeuroMechFlyMuJoCo.render\u001b[1;34m(self)\u001b[0m\n\u001b[0;32m   1054\u001b[0m \u001b[39mif\u001b[39;00m \u001b[39mself\u001b[39m\u001b[39m.\u001b[39msim_params\u001b[39m.\u001b[39mdraw_adhesion:\n\u001b[0;32m   1055\u001b[0m     \u001b[39mself\u001b[39m\u001b[39m.\u001b[39m_draw_adhesion()\n\u001b[1;32m-> 1056\u001b[0m img \u001b[39m=\u001b[39m \u001b[39mself\u001b[39;49m\u001b[39m.\u001b[39;49mphysics\u001b[39m.\u001b[39;49mrender(width\u001b[39m=\u001b[39;49mwidth, height\u001b[39m=\u001b[39;49mheight, camera_id\u001b[39m=\u001b[39;49mcamera)\n\u001b[0;32m   1057\u001b[0m \u001b[39mif\u001b[39;00m \u001b[39mself\u001b[39m\u001b[39m.\u001b[39msim_params\u001b[39m.\u001b[39mdraw_contacts:\n\u001b[0;32m   1058\u001b[0m     img \u001b[39m=\u001b[39m \u001b[39mself\u001b[39m\u001b[39m.\u001b[39m_draw_contacts(img)\n",
      "File \u001b[1;32mc:\\Users\\Louise\\Documents\\EPFL\\UPRAMDYA_intern\\Flygym\\flyvenv\\lib\\site-packages\\dm_control\\mujoco\\engine.py:229\u001b[0m, in \u001b[0;36mPhysics.render\u001b[1;34m(self, height, width, camera_id, overlays, depth, segmentation, scene_option, render_flag_overrides, scene_callback)\u001b[0m\n\u001b[0;32m    191\u001b[0m \u001b[39m\u001b[39m\u001b[39m\"\"\"Returns a camera view as a NumPy array of pixel values.\u001b[39;00m\n\u001b[0;32m    192\u001b[0m \n\u001b[0;32m    193\u001b[0m \u001b[39mArgs:\u001b[39;00m\n\u001b[1;32m   (...)\u001b[0m\n\u001b[0;32m    221\u001b[0m \u001b[39m  The rendered RGB, depth or segmentation image.\u001b[39;00m\n\u001b[0;32m    222\u001b[0m \u001b[39m\"\"\"\u001b[39;00m\n\u001b[0;32m    223\u001b[0m camera \u001b[39m=\u001b[39m Camera(\n\u001b[0;32m    224\u001b[0m     physics\u001b[39m=\u001b[39m\u001b[39mself\u001b[39m,\n\u001b[0;32m    225\u001b[0m     height\u001b[39m=\u001b[39mheight,\n\u001b[0;32m    226\u001b[0m     width\u001b[39m=\u001b[39mwidth,\n\u001b[0;32m    227\u001b[0m     camera_id\u001b[39m=\u001b[39mcamera_id,\n\u001b[0;32m    228\u001b[0m     scene_callback\u001b[39m=\u001b[39mscene_callback)\n\u001b[1;32m--> 229\u001b[0m image \u001b[39m=\u001b[39m camera\u001b[39m.\u001b[39;49mrender(\n\u001b[0;32m    230\u001b[0m     overlays\u001b[39m=\u001b[39;49moverlays, depth\u001b[39m=\u001b[39;49mdepth, segmentation\u001b[39m=\u001b[39;49msegmentation,\n\u001b[0;32m    231\u001b[0m     scene_option\u001b[39m=\u001b[39;49mscene_option, render_flag_overrides\u001b[39m=\u001b[39;49mrender_flag_overrides)\n\u001b[0;32m    232\u001b[0m camera\u001b[39m.\u001b[39m_scene\u001b[39m.\u001b[39mfree()  \u001b[39m# pylint: disable=protected-access\u001b[39;00m\n\u001b[0;32m    233\u001b[0m \u001b[39mreturn\u001b[39;00m image\n",
      "File \u001b[1;32mc:\\Users\\Louise\\Documents\\EPFL\\UPRAMDYA_intern\\Flygym\\flyvenv\\lib\\site-packages\\dm_control\\mujoco\\engine.py:891\u001b[0m, in \u001b[0;36mCamera.render\u001b[1;34m(self, overlays, depth, segmentation, scene_option, render_flag_overrides)\u001b[0m\n\u001b[0;32m    889\u001b[0m \u001b[39mwith\u001b[39;00m \u001b[39mself\u001b[39m\u001b[39m.\u001b[39mscene\u001b[39m.\u001b[39moverride_flags(render_flag_overrides):\n\u001b[0;32m    890\u001b[0m   \u001b[39mwith\u001b[39;00m \u001b[39mself\u001b[39m\u001b[39m.\u001b[39m_physics\u001b[39m.\u001b[39mcontexts\u001b[39m.\u001b[39mgl\u001b[39m.\u001b[39mmake_current() \u001b[39mas\u001b[39;00m ctx:\n\u001b[1;32m--> 891\u001b[0m     ctx\u001b[39m.\u001b[39;49mcall(\u001b[39mself\u001b[39;49m\u001b[39m.\u001b[39;49m_render_on_gl_thread, depth\u001b[39m=\u001b[39;49mdepth, overlays\u001b[39m=\u001b[39;49moverlays)\n\u001b[0;32m    893\u001b[0m \u001b[39mif\u001b[39;00m depth:\n\u001b[0;32m    894\u001b[0m   \u001b[39m# Get the distances to the near and far clipping planes.\u001b[39;00m\n\u001b[0;32m    895\u001b[0m   extent \u001b[39m=\u001b[39m \u001b[39mself\u001b[39m\u001b[39m.\u001b[39m_physics\u001b[39m.\u001b[39mmodel\u001b[39m.\u001b[39mstat\u001b[39m.\u001b[39mextent\n",
      "File \u001b[1;32mc:\\Users\\Louise\\Documents\\EPFL\\UPRAMDYA_intern\\Flygym\\flyvenv\\lib\\site-packages\\dm_control\\_render\\executor\\render_executor.py:138\u001b[0m, in \u001b[0;36mPassthroughRenderExecutor.call\u001b[1;34m(self, func, *args, **kwargs)\u001b[0m\n\u001b[0;32m    136\u001b[0m \u001b[39mdef\u001b[39;00m \u001b[39mcall\u001b[39m(\u001b[39mself\u001b[39m, func, \u001b[39m*\u001b[39margs, \u001b[39m*\u001b[39m\u001b[39m*\u001b[39mkwargs):\n\u001b[0;32m    137\u001b[0m   \u001b[39mself\u001b[39m\u001b[39m.\u001b[39m_check_locked()\n\u001b[1;32m--> 138\u001b[0m   \u001b[39mreturn\u001b[39;00m func(\u001b[39m*\u001b[39margs, \u001b[39m*\u001b[39m\u001b[39m*\u001b[39mkwargs)\n",
      "File \u001b[1;32mc:\\Users\\Louise\\Documents\\EPFL\\UPRAMDYA_intern\\Flygym\\flyvenv\\lib\\site-packages\\dm_control\\mujoco\\engine.py:813\u001b[0m, in \u001b[0;36mCamera._render_on_gl_thread\u001b[1;34m(self, depth, overlays)\u001b[0m\n\u001b[0;32m    810\u001b[0m     overlay\u001b[39m.\u001b[39mdraw(\u001b[39mself\u001b[39m\u001b[39m.\u001b[39m_physics\u001b[39m.\u001b[39mcontexts\u001b[39m.\u001b[39mmujoco\u001b[39m.\u001b[39mptr, \u001b[39mself\u001b[39m\u001b[39m.\u001b[39m_rect)\n\u001b[0;32m    812\u001b[0m \u001b[39m# Read the contents of either the RGB or depth buffer.\u001b[39;00m\n\u001b[1;32m--> 813\u001b[0m mujoco\u001b[39m.\u001b[39;49mmjr_readPixels(\u001b[39mself\u001b[39;49m\u001b[39m.\u001b[39;49m_rgb_buffer \u001b[39mif\u001b[39;49;00m \u001b[39mnot\u001b[39;49;00m depth \u001b[39melse\u001b[39;49;00m \u001b[39mNone\u001b[39;49;00m,\n\u001b[0;32m    814\u001b[0m                       \u001b[39mself\u001b[39;49m\u001b[39m.\u001b[39;49m_depth_buffer \u001b[39mif\u001b[39;49;00m depth \u001b[39melse\u001b[39;49;00m \u001b[39mNone\u001b[39;49;00m, \u001b[39mself\u001b[39;49m\u001b[39m.\u001b[39;49m_rect,\n\u001b[0;32m    815\u001b[0m                       \u001b[39mself\u001b[39;49m\u001b[39m.\u001b[39;49m_physics\u001b[39m.\u001b[39;49mcontexts\u001b[39m.\u001b[39;49mmujoco\u001b[39m.\u001b[39;49mptr)\n",
      "\u001b[1;31mKeyboardInterrupt\u001b[0m: "
     ]
    }
   ],
   "source": [
    "log_dir = Path(\"logs\")\n",
    "log_dir.mkdir(parents=True, exist_ok=True)\n",
    "\n",
    "callback = SaveIntermediateModelsCallback(check_freq=20_000, log_dir=log_dir)\n",
    "\n",
    "mynmf = Monitor(sim, filename=str(log_dir / f\"train_log_MLP\"))\n",
    "\n",
    "new_logger = configure(str(log_dir), [\"stdout\", \"csv\", \"tensorboard\"])\n",
    "\n",
    "nmf_model = PPO(MlpPolicy, mynmf, verbose=True, learning_rate=linear_schedule(0.003))\n",
    "\n",
    "nmf_model.set_logger(new_logger)\n",
    "\n",
    "#print(nmf_model.policy)\n",
    "\n",
    "nmf_model.learn(total_timesteps=400_000, progress_bar=False, callback=callback)\n",
    "nmf_model.save(str(log_dir / f\"saved_model_MLPlinearlr\"))\n",
    "mynmf.close()"
   ]
  },
  {
   "cell_type": "code",
   "execution_count": null,
   "metadata": {},
   "outputs": [],
   "source": []
  }
 ],
 "metadata": {
  "kernelspec": {
   "display_name": "flygym",
   "language": "python",
   "name": "python3"
  },
  "language_info": {
   "codemirror_mode": {
    "name": "ipython",
    "version": 3
   },
   "file_extension": ".py",
   "mimetype": "text/x-python",
   "name": "python",
   "nbconvert_exporter": "python",
   "pygments_lexer": "ipython3",
   "version": "3.9.7"
  },
  "orig_nbformat": 4,
  "vscode": {
   "interpreter": {
    "hash": "c59852332aaf9da574302dd025ef100eabc038e7fe3e9111c7011bf89b7be9c6"
   }
  }
 },
 "nbformat": 4,
 "nbformat_minor": 2
}
