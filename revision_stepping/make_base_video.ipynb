{
 "cells": [
  {
   "cell_type": "code",
   "execution_count": 1,
   "metadata": {},
   "outputs": [],
   "source": [
    "import sleap \n",
    "import cv2\n",
    "import os\n",
    "from pathlib import Path\n",
    "import matplotlib.pyplot as plt\n",
    "\n",
    "import numpy as np"
   ]
  },
  {
   "cell_type": "code",
   "execution_count": 2,
   "metadata": {},
   "outputs": [],
   "source": [
    "data_folder = Path(\"/Users/stimpfli/Desktop/nmf2-paper/revision_stepping/data\")\n",
    "prism_labels = sleap.io.dataset.load_file(str(data_folder/\"best_side.slp\"))\n",
    "ventral_labels = sleap.io.dataset.load_file(str(data_folder/\"best_ventral.slp\"))"
   ]
  },
  {
   "cell_type": "code",
   "execution_count": 3,
   "metadata": {},
   "outputs": [],
   "source": [
    "import pickle\n",
    "\n",
    "step_data_stance_swing_path = Path(\"/Users/stimpfli/Desktop/nmf2-paper/revision_stepping/data/revision_new_step_PR_bestdata_fly001_trial001subset_video_4_start5751_end6001_stepping.txt\")\n",
    "video_start_frame = 5751\n",
    "video_end_frame = 6001\n",
    "\n",
    "start, end = None, None\n",
    "swing_stance_dict = {}\n",
    "with open(step_data_stance_swing_path, \"r\") as f:\n",
    "    for line in f.readlines():\n",
    "        line = line.strip()\n",
    "        if line.startswith(\"Start\"):\n",
    "            start = int(line.split(\" \")[1])\n",
    "        if line.startswith(\"End\"):\n",
    "            end = int(line.split(\" \")[1])\n",
    "        if line in [\"RF\", \"RM\", \"RH\", \"LF\", \"LM\", \"LH\"]:\n",
    "            assert start is not None and end is not None, \"Start and end not defined\"\n",
    "            leg = line\n",
    "            swing_stance_dict[leg] = {}\n",
    "        if \"swing\" in line or \"stance\" in line:\n",
    "            phase = line.split(\" \")[0]\n",
    "            indexes = np.array(line.split(\" \")[1:]).astype(int)\n",
    "            assert np.all(indexes >= start-1) and np.all(indexes <= end+1), \"Indexes not in range\"\n",
    "            indexes -= start\n",
    "            if phase == \"swing\":\n",
    "                # the frames in the file are the ones were the first elevation \n",
    "                #is observed but really the swing starts inbeetween the two frames\n",
    "                # This gives some margin for the adhesion\n",
    "                indexes -= 1\n",
    "            # save as integers\n",
    "            swing_stance_dict[leg][phase] = indexes\n",
    "        else:\n",
    "            continue\n",
    "\n",
    "# put in video indexes\n",
    "for leg, phases in swing_stance_dict.items():\n",
    "    for phase, indexes in phases.items():\n",
    "        swing_stance_dict[leg][phase] = indexes + start - video_start_frame\n",
    "\n",
    "\n",
    "with open(\"/Users/stimpfli/Desktop/flygym_other/flygym/data/behavior/single_steps_untethered.pkl\", \"rb\") as f:\n",
    "    single_steps_data = pickle.load(f)\n",
    "\n",
    "single_steps_name = single_steps_data[\"meta\"][\"name\"]"
   ]
  },
  {
   "cell_type": "code",
   "execution_count": 4,
   "metadata": {},
   "outputs": [
    {
     "data": {
      "text/plain": [
       "{'RF': [35, 51], 'RM': [39, 56], 'LH': [41, 57]}"
      ]
     },
     "execution_count": 4,
     "metadata": {},
     "output_type": "execute_result"
    }
   ],
   "source": [
    "frontleg, frontleg_id, midleg, midleg_id, hindleg, hindleg_id = single_steps_data[\"meta\"][\"name\"].split(\"_\")\n",
    "leg_step_ids = {}\n",
    "for leg, id in zip([frontleg, midleg, hindleg], [frontleg_id, midleg_id, hindleg_id]):\n",
    "    index = int(id[0])\n",
    "    state = id[1:]\n",
    "    leg_step_ids[leg] = [swing_stance_dict[leg][state][index], swing_stance_dict[leg][state][index+1]]\n",
    "leg_step_ids"
   ]
  },
  {
   "cell_type": "code",
   "execution_count": 5,
   "metadata": {},
   "outputs": [],
   "source": [
    "for node in [\"V-F-Claw\", \"V-M-Claw\", \"V-H-Claw\"]:\n",
    "    prism_labels.skeleton.delete_node(node)"
   ]
  },
  {
   "cell_type": "code",
   "execution_count": 6,
   "metadata": {},
   "outputs": [],
   "source": [
    "s_skeletons = {}\n",
    "v_skeletons = {}\n",
    "for leg in leg_step_ids:\n",
    "    sleg_skel = sleap.skeleton.Skeleton()\n",
    "    leg_id = leg[1]+\"-\"\n",
    "    for node in prism_labels.skeleton.nodes:\n",
    "        if leg_id in node.name:\n",
    "            sleg_skel.add_node(node.name)\n",
    "    \n",
    "    for edge in prism_labels.skeleton.edges:\n",
    "        if leg_id in edge[0].name and leg_id in edge[1].name:\n",
    "            sleg_skel.add_edge(edge[0].name, edge[1].name)\n",
    "    \n",
    "    s_skeletons[leg] = sleg_skel\n",
    "\n",
    "    vleg_skel = sleap.skeleton.Skeleton()\n",
    "    for node in ventral_labels.skeleton.nodes:\n",
    "        if leg in node.name:\n",
    "            vleg_skel.add_node(node.name)\n",
    "    \n",
    "    for edge in ventral_labels.skeleton.edges:\n",
    "        if leg in edge[0].name and leg in edge[1].name:\n",
    "            vleg_skel.add_edge(edge[0].name, edge[1].name)\n",
    "    \n",
    "    v_skeletons[leg] = vleg_skel"
   ]
  },
  {
   "cell_type": "code",
   "execution_count": 7,
   "metadata": {},
   "outputs": [],
   "source": [
    "frame_out_path = data_folder / \"labelled_frames\"\n",
    "frame_out_path.mkdir(parents=True, exist_ok=True)\n",
    "\n",
    "# remove all images from the folder\n",
    "for file in os.listdir(frame_out_path):\n",
    "    os.remove(os.path.join(frame_out_path, file))"
   ]
  },
  {
   "cell_type": "code",
   "execution_count": 10,
   "metadata": {},
   "outputs": [],
   "source": [
    "color = plt.cm.tab20.colors[1]\n",
    "leg_color = plt.cm.tab20.colors[7]\n",
    "\n",
    "# right on the top\n",
    "_, height, width , _ = prism_labels.video.shape\n",
    "half_height = height // 2\n",
    "reduction_factor = 100\n",
    "figure_size = (np.round(height/reduction_factor).astype(int), np.round(width/reduction_factor).astype(int))\n",
    "\n",
    "for i, (frame_side, frame_ventral) in enumerate(zip(prism_labels.labeled_frames[:3], ventral_labels.labeled_frames)):\n",
    "    assert np.all(frame_side.image == frame_ventral.image), \"Frame are not matching\"\n",
    "\n",
    "    image = frame_side.image\n",
    "    # instances might be empty\n",
    "    plt.figure(figsize=(40, 20))\n",
    "    plt.imshow(image, cmap=\"gray\")\n",
    "    if frame_side.user_instances and frame_ventral.user_instances:\n",
    "        for instance in frame_side.user_instances:\n",
    "            sleap.nn.viz.plot_instance(instance, cmap=[color], lw=1.0, ms=2.0)\n",
    "            for leg, skel in s_skeletons.items():\n",
    "                if i > leg_step_ids[leg][0] and i < leg_step_ids[leg][1]:\n",
    "                    if leg[0] == \"L\":\n",
    "                        if np.all(instance.numpy()[:, 1] < half_height):\n",
    "                            sleap.nn.viz.plot_instance(instance, skeleton=skel, cmap=[leg_color], lw=1.0, ms=2.0)\n",
    "                    elif leg[0] == \"R\":\n",
    "                        if np.all(instance.numpy()[:, 1] > half_height):\n",
    "                            sleap.nn.viz.plot_instance(instance, skeleton=skel, cmap=[leg_color], lw=1.0, ms=2.0)\n",
    "        \n",
    "        for instance in frame_ventral.user_instances:\n",
    "            sleap.nn.viz.plot_instance(instance, cmap=[color], lw=1.0, ms=2.0)\n",
    "            for leg, skel in v_skeletons.items():\n",
    "                if i > leg_step_ids[leg][0] and i < leg_step_ids[leg][1]:\n",
    "                    sleap.nn.viz.plot_instance(instance, skeleton=skel, cmap=[leg_color], lw=1.0, ms=2.0)\n",
    "    \n",
    "    # save the image without margins\n",
    "\n",
    "    plt.ylim(50, height-50)\n",
    "\n",
    "    plt.axis(\"off\")\n",
    "    plt.tight_layout()\n",
    "    plt.savefig(frame_out_path / f\"frame_{i:05d}.png\", bbox_inches=\"tight\", pad_inches=0)\n",
    "    plt.close()"
   ]
  },
  {
   "cell_type": "code",
   "execution_count": 9,
   "metadata": {},
   "outputs": [
    {
     "name": "stderr",
     "output_type": "stream",
     "text": [
      "ffmpeg version 4.4.2 Copyright (c) 2000-2021 the FFmpeg developers\n",
      "  built with clang version 14.0.6\n",
      "  configuration: --prefix=/Users/runner/miniforge3/conda-bld/ffmpeg_1671040356584/_h_env_placehold_placehold_placehold_placehold_placehold_placehold_placehold_placehold_placehold_placehold_placehold_placehold_placehold_placehold_placehold_placehold_placehold_placehold_placehold_pl --cc=arm64-apple-darwin20.0.0-clang --cxx=arm64-apple-darwin20.0.0-clang++ --nm=arm64-apple-darwin20.0.0-nm --ar=arm64-apple-darwin20.0.0-ar --disable-doc --disable-openssl --enable-avresample --enable-demuxer=dash --enable-hardcoded-tables --enable-libfreetype --enable-libfontconfig --enable-libopenh264 --enable-cross-compile --arch=arm64 --target-os=darwin --cross-prefix=arm64-apple-darwin20.0.0- --host-cc=/Users/runner/miniforge3/conda-bld/ffmpeg_1671040356584/_build_env/bin/x86_64-apple-darwin13.4.0-clang --enable-neon --enable-gnutls --enable-libmp3lame --enable-libvpx --enable-pthreads --enable-gpl --enable-libx264 --enable-libx265 --enable-libaom --enable-libsvtav1 --enable-libxml2 --enable-pic --enable-shared --disable-static --enable-version3 --enable-zlib --pkg-config=/Users/runner/miniforge3/conda-bld/ffmpeg_1671040356584/_build_env/bin/pkg-config\n",
      "  libavutil      56. 70.100 / 56. 70.100\n",
      "  libavcodec     58.134.100 / 58.134.100\n",
      "  libavformat    58. 76.100 / 58. 76.100\n",
      "  libavdevice    58. 13.100 / 58. 13.100\n",
      "  libavfilter     7.110.100 /  7.110.100\n",
      "  libavresample   4.  0.  0 /  4.  0.  0\n",
      "  libswscale      5.  9.100 /  5.  9.100\n",
      "  libswresample   3.  9.100 /  3.  9.100\n",
      "  libpostproc    55.  9.100 / 55.  9.100\n",
      "Input #0, image2, from '/Users/stimpfli/Desktop/nmf2-paper/revision_stepping/data/labelled_frames/frame_%05d.png':\n",
      "  Duration: 00:00:07.17, start: 0.000000, bitrate: N/A\n",
      "  Stream #0:0: Video: png, rgba(pc), 3050x1420 [SAR 19685:19685 DAR 305:142], 12 fps, 12 tbr, 12 tbn, 12 tbc\n",
      "Stream mapping:\n",
      "  Stream #0:0 -> #0:0 (png (native) -> h264 (libx264))\n",
      "Press [q] to stop, [?] for help\n",
      "[libx264 @ 0x13f808e00] using SAR=1/1\n",
      "[libx264 @ 0x13f808e00] using cpu capabilities: ARMv8 NEON\n",
      "[libx264 @ 0x13f808e00] profile High, level 5.0, 4:2:0, 8-bit\n",
      "[libx264 @ 0x13f808e00] 264 - core 164 r3095 baee400 - H.264/MPEG-4 AVC codec - Copyleft 2003-2022 - http://www.videolan.org/x264.html - options: cabac=1 ref=3 deblock=1:0:0 analyse=0x3:0x113 me=hex subme=7 psy=1 psy_rd=1.00:0.00 mixed_ref=1 me_range=16 chroma_me=1 trellis=1 8x8dct=1 cqm=0 deadzone=21,11 fast_pskip=1 chroma_qp_offset=-2 threads=12 lookahead_threads=2 sliced_threads=0 nr=0 decimate=1 interlaced=0 bluray_compat=0 constrained_intra=0 bframes=3 b_pyramid=2 b_adapt=1 b_bias=0 direct=1 weightb=1 open_gop=0 weightp=2 keyint=250 keyint_min=12 scenecut=40 intra_refresh=0 rc_lookahead=40 rc=crf mbtree=1 crf=25.0 qcomp=0.60 qpmin=0 qpmax=69 qpstep=4 ip_ratio=1.40 aq=1:1.00\n",
      "Output #0, mp4, to '/Users/stimpfli/Desktop/nmf2-paper/revision_stepping/data/labelled_frames_annotated.mp4':\n",
      "  Metadata:\n",
      "    encoder         : Lavf58.76.100\n",
      "  Stream #0:0: Video: h264 (avc1 / 0x31637661), yuv420p(tv, progressive), 3050x1420 [SAR 1:1 DAR 305:142], q=2-31, 12 fps, 12288 tbn\n",
      "    Metadata:\n",
      "      encoder         : Lavc58.134.100 libx264\n",
      "    Side data:\n",
      "      cpb: bitrate max/min/avg: 0/0/0 buffer size: 0 vbv_delay: N/A\n",
      "frame=   86 fps= 23 q=-1.0 Lsize=    1964kB time=00:00:06.91 bitrate=2326.5kbits/s speed=1.84x    \n",
      "video:1962kB audio:0kB subtitle:0kB other streams:0kB global headers:0kB muxing overhead: 0.095794%\n",
      "[libx264 @ 0x13f808e00] frame I:1     Avg QP:19.25  size: 56662\n",
      "[libx264 @ 0x13f808e00] frame P:22    Avg QP:20.89  size: 36349\n",
      "[libx264 @ 0x13f808e00] frame B:63    Avg QP:22.49  size: 18294\n",
      "[libx264 @ 0x13f808e00] consecutive B-frames:  2.3%  0.0%  0.0% 97.7%\n",
      "[libx264 @ 0x13f808e00] mb I  I16..4: 15.5% 78.3%  6.1%\n",
      "[libx264 @ 0x13f808e00] mb P  I16..4:  2.3%  7.3%  0.7%  P16..4: 35.4%  7.8%  3.0%  0.0%  0.0%    skip:43.5%\n",
      "[libx264 @ 0x13f808e00] mb B  I16..4:  0.3%  0.6%  0.1%  B16..8: 38.5%  3.8%  0.5%  direct: 0.9%  skip:55.4%  L0:40.2% L1:58.2% BI: 1.5%\n",
      "[libx264 @ 0x13f808e00] 8x8 transform intra:71.6% inter:91.5%\n",
      "[libx264 @ 0x13f808e00] coded y,uvDC,uvAC intra: 34.2% 3.7% 3.3% inter: 8.6% 0.2% 0.1%\n",
      "[libx264 @ 0x13f808e00] i16 v,h,dc,p: 30% 42%  8% 20%\n",
      "[libx264 @ 0x13f808e00] i8 v,h,dc,ddl,ddr,vr,hd,vl,hu: 22% 21% 33%  3%  4%  4%  5%  3%  4%\n",
      "[libx264 @ 0x13f808e00] i4 v,h,dc,ddl,ddr,vr,hd,vl,hu: 21% 27% 19%  5%  7%  6%  7%  4%  4%\n",
      "[libx264 @ 0x13f808e00] i8c dc,h,v,p: 97%  1%  2%  0%\n",
      "[libx264 @ 0x13f808e00] Weighted P-Frames: Y:0.0% UV:0.0%\n",
      "[libx264 @ 0x13f808e00] ref P L0: 68.0%  9.6% 15.8%  6.6%\n",
      "[libx264 @ 0x13f808e00] ref B L0: 85.1% 11.5%  3.4%\n",
      "[libx264 @ 0x13f808e00] ref B L1: 94.8%  5.2%\n",
      "[libx264 @ 0x13f808e00] kb/s:2242.41\n"
     ]
    },
    {
     "data": {
      "text/plain": [
       "0"
      ]
     },
     "execution_count": 9,
     "metadata": {},
     "output_type": "execute_result"
    }
   ],
   "source": [
    "# make video out of the images using ffmpeg\n",
    "video_out_path = data_folder / \"labelled_frames_annotated.mp4\"\n",
    "# 12 fps = 10x reduction\n",
    "\n",
    "os.system(f\"ffmpeg -y -r 12 -f image2 -s {figure_size[1]}x{figure_size[0]} -i {frame_out_path / 'frame_%05d.png'} -vcodec libx264 -crf 25 -pix_fmt yuv420p {video_out_path}\")"
   ]
  },
  {
   "cell_type": "code",
   "execution_count": null,
   "metadata": {},
   "outputs": [],
   "source": []
  }
 ],
 "metadata": {
  "kernelspec": {
   "display_name": "sleap",
   "language": "python",
   "name": "python3"
  },
  "language_info": {
   "codemirror_mode": {
    "name": "ipython",
    "version": 3
   },
   "file_extension": ".py",
   "mimetype": "text/x-python",
   "name": "python",
   "nbconvert_exporter": "python",
   "pygments_lexer": "ipython3",
   "version": "3.9.15"
  }
 },
 "nbformat": 4,
 "nbformat_minor": 2
}
