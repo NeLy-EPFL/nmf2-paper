{
 "cells": [
  {
   "cell_type": "code",
   "execution_count": 1,
   "metadata": {},
   "outputs": [],
   "source": [
    "import sleap \n",
    "import cv2\n",
    "import os\n",
    "from pathlib import Path\n",
    "import matplotlib.pyplot as plt\n",
    "\n",
    "import numpy as np"
   ]
  },
  {
   "cell_type": "code",
   "execution_count": 2,
   "metadata": {},
   "outputs": [],
   "source": [
    "data_folder = Path(\"/Users/stimpfli/Desktop/nmf2-paper/revision_stepping/data\")\n",
    "prism_labels = sleap.io.dataset.load_file(str(data_folder/\"best_side.slp\"))\n",
    "ventral_labels = sleap.io.dataset.load_file(str(data_folder/\"best_ventral.slp\"))"
   ]
  },
  {
   "cell_type": "code",
   "execution_count": 3,
   "metadata": {},
   "outputs": [],
   "source": [
    "import pickle\n",
    "\n",
    "step_data_stance_swing_path = Path(\"/Users/stimpfli/Desktop/nmf2-paper/revision_stepping/data/revision_new_step_PR_bestdata_fly001_trial001subset_video_4_start5751_end6001_stepping.txt\")\n",
    "video_start_frame = 5751\n",
    "video_end_frame = 6001\n",
    "\n",
    "start, end = None, None\n",
    "swing_stance_dict = {}\n",
    "with open(step_data_stance_swing_path, \"r\") as f:\n",
    "    for line in f.readlines():\n",
    "        line = line.strip()\n",
    "        if line.startswith(\"Start\"):\n",
    "            start = int(line.split(\" \")[1])\n",
    "        if line.startswith(\"End\"):\n",
    "            end = int(line.split(\" \")[1])\n",
    "        if line in [\"RF\", \"RM\", \"RH\", \"LF\", \"LM\", \"LH\"]:\n",
    "            assert start is not None and end is not None, \"Start and end not defined\"\n",
    "            leg = line\n",
    "            swing_stance_dict[leg] = {}\n",
    "        if \"swing\" in line or \"stance\" in line:\n",
    "            phase = line.split(\" \")[0]\n",
    "            indexes = np.array(line.split(\" \")[1:]).astype(int)\n",
    "            assert np.all(indexes >= start-1) and np.all(indexes <= end+1), \"Indexes not in range\"\n",
    "            indexes -= start\n",
    "            if phase == \"swing\":\n",
    "                # the frames in the file are the ones were the first elevation \n",
    "                #is observed but really the swing starts inbeetween the two frames\n",
    "                # This gives some margin for the adhesion\n",
    "                indexes -= 1\n",
    "            # save as integers\n",
    "            swing_stance_dict[leg][phase] = indexes\n",
    "        else:\n",
    "            continue\n",
    "\n",
    "# put in video indexes\n",
    "for leg, phases in swing_stance_dict.items():\n",
    "    for phase, indexes in phases.items():\n",
    "        swing_stance_dict[leg][phase] = indexes + start - video_start_frame\n",
    "\n",
    "\n",
    "with open(\"/Users/stimpfli/Desktop/flygym_other/flygym/data/behavior/single_steps_untethered.pkl\", \"rb\") as f:\n",
    "    single_steps_data = pickle.load(f)\n",
    "\n",
    "single_steps_name = single_steps_data[\"meta\"][\"name\"]"
   ]
  },
  {
   "cell_type": "code",
   "execution_count": 4,
   "metadata": {},
   "outputs": [
    {
     "data": {
      "text/plain": [
       "{'RF': [35, 51], 'RM': [39, 56], 'LH': [41, 57]}"
      ]
     },
     "execution_count": 4,
     "metadata": {},
     "output_type": "execute_result"
    }
   ],
   "source": [
    "frontleg, frontleg_id, midleg, midleg_id, hindleg, hindleg_id = single_steps_data[\"meta\"][\"name\"].split(\"_\")\n",
    "leg_step_ids = {}\n",
    "for leg, id in zip([frontleg, midleg, hindleg], [frontleg_id, midleg_id, hindleg_id]):\n",
    "    index = int(id[0])\n",
    "    state = id[1:]\n",
    "    leg_step_ids[leg] = [swing_stance_dict[leg][state][index], swing_stance_dict[leg][state][index+1]]\n",
    "leg_step_ids"
   ]
  },
  {
   "cell_type": "code",
   "execution_count": 5,
   "metadata": {},
   "outputs": [],
   "source": [
    "for node in [\"V-F-Claw\", \"V-M-Claw\", \"V-H-Claw\"]:\n",
    "    prism_labels.skeleton.delete_node(node)"
   ]
  },
  {
   "cell_type": "code",
   "execution_count": 6,
   "metadata": {},
   "outputs": [],
   "source": [
    "s_skeletons = {}\n",
    "v_skeletons = {}\n",
    "for leg in leg_step_ids:\n",
    "    sleg_skel = sleap.skeleton.Skeleton()\n",
    "    leg_id = leg[1]+\"-\"\n",
    "    for node in prism_labels.skeleton.nodes:\n",
    "        if leg_id in node.name:\n",
    "            sleg_skel.add_node(node.name)\n",
    "    \n",
    "    for edge in prism_labels.skeleton.edges:\n",
    "        if leg_id in edge[0].name and leg_id in edge[1].name:\n",
    "            sleg_skel.add_edge(edge[0].name, edge[1].name)\n",
    "    \n",
    "    s_skeletons[leg] = sleg_skel\n",
    "\n",
    "    vleg_skel = sleap.skeleton.Skeleton()\n",
    "    for node in ventral_labels.skeleton.nodes:\n",
    "        if leg in node.name:\n",
    "            vleg_skel.add_node(node.name)\n",
    "    \n",
    "    for edge in ventral_labels.skeleton.edges:\n",
    "        if leg in edge[0].name and leg in edge[1].name:\n",
    "            vleg_skel.add_edge(edge[0].name, edge[1].name)\n",
    "    \n",
    "    v_skeletons[leg] = vleg_skel"
   ]
  },
  {
   "cell_type": "code",
   "execution_count": 27,
   "metadata": {},
   "outputs": [
    {
     "data": {
      "text/plain": [
       "{'RF': Skeleton(name='Skeleton-4', description='None', nodes=['RF-ThC', 'RF-CTr', 'RF-FTi', 'RF-TiTa', 'RF-Claw'], edges=[('RF-ThC', 'RF-CTr'), ('RF-CTr', 'RF-FTi'), ('RF-FTi', 'RF-TiTa'), ('RF-TiTa', 'RF-Claw')], symmetries=[]),\n",
       " 'RM': Skeleton(name='Skeleton-6', description='None', nodes=['RM-ThC', 'RM-CTr', 'RM-FTi', 'RM-TiTa', 'RM-Claw'], edges=[('RM-ThC', 'RM-CTr'), ('RM-CTr', 'RM-FTi'), ('RM-FTi', 'RM-TiTa'), ('RM-TiTa', 'RM-Claw')], symmetries=[]),\n",
       " 'LH': Skeleton(name='Skeleton-8', description='None', nodes=['LH-ThC', 'LH-CTr', 'LH-FTi', 'LH-TiTa', 'LH-Claw'], edges=[('LH-ThC', 'LH-CTr'), ('LH-CTr', 'LH-FTi'), ('LH-FTi', 'LH-TiTa'), ('LH-TiTa', 'LH-Claw')], symmetries=[])}"
      ]
     },
     "execution_count": 27,
     "metadata": {},
     "output_type": "execute_result"
    }
   ],
   "source": [
    "v_skeletons"
   ]
  },
  {
   "cell_type": "code",
   "execution_count": 25,
   "metadata": {},
   "outputs": [
    {
     "data": {
      "text/plain": [
       "[Node(name='He', weight=1.0),\n",
       " Node(name='Th', weight=1.0),\n",
       " Node(name='Abd', weight=1.0),\n",
       " Node(name='LF-ThC', weight=1.0),\n",
       " Node(name='LF-CTr', weight=1.0),\n",
       " Node(name='LF-FTi', weight=1.0),\n",
       " Node(name='LF-TiTa', weight=1.0),\n",
       " Node(name='LF-Claw', weight=1.0),\n",
       " Node(name='LM-ThC', weight=1.0),\n",
       " Node(name='LM-CTr', weight=1.0),\n",
       " Node(name='LM-FTi', weight=1.0),\n",
       " Node(name='LM-TiTa', weight=1.0),\n",
       " Node(name='LM-Claw', weight=1.0),\n",
       " Node(name='LH-ThC', weight=1.0),\n",
       " Node(name='LH-CTr', weight=1.0),\n",
       " Node(name='LH-FTi', weight=1.0),\n",
       " Node(name='LH-TiTa', weight=1.0),\n",
       " Node(name='LH-Claw', weight=1.0),\n",
       " Node(name='RH-ThC', weight=1.0),\n",
       " Node(name='RH-CTr', weight=1.0),\n",
       " Node(name='RH-FTi', weight=1.0),\n",
       " Node(name='RH-TiTa', weight=1.0),\n",
       " Node(name='RH-Claw', weight=1.0),\n",
       " Node(name='RM-ThC', weight=1.0),\n",
       " Node(name='RM-CTr', weight=1.0),\n",
       " Node(name='RM-FTi', weight=1.0),\n",
       " Node(name='RM-TiTa', weight=1.0),\n",
       " Node(name='RM-Claw', weight=1.0),\n",
       " Node(name='RF-ThC', weight=1.0),\n",
       " Node(name='RF-CTr', weight=1.0),\n",
       " Node(name='RF-FTi', weight=1.0),\n",
       " Node(name='RF-TiTa', weight=1.0),\n",
       " Node(name='RF-Claw', weight=1.0),\n",
       " Node(name='LA', weight=1.0),\n",
       " Node(name='RA', weight=1.0)]"
      ]
     },
     "execution_count": 25,
     "metadata": {},
     "output_type": "execute_result"
    }
   ],
   "source": [
    "ventral_labels.skeleton.nodes"
   ]
  },
  {
   "cell_type": "code",
   "execution_count": 11,
   "metadata": {},
   "outputs": [],
   "source": [
    "frame_out_path = data_folder / \"labelled_frames\"\n",
    "frame_out_path.mkdir(parents=True, exist_ok=True)\n",
    "\n",
    "# remove all images from the folder\n",
    "for file in os.listdir(frame_out_path):\n",
    "    os.remove(os.path.join(frame_out_path, file))"
   ]
  },
  {
   "cell_type": "code",
   "execution_count": 35,
   "metadata": {},
   "outputs": [],
   "source": [
    "color = plt.cm.tab20.colors[1]\n",
    "leg_color = plt.cm.tab20.colors[7]\n",
    "\n",
    "# right on the top\n",
    "_, height, width , _ = prism_labels.video.shape\n",
    "half_height = height // 2\n",
    "reduction_factor = 100\n",
    "figure_size = (np.round(height/reduction_factor).astype(int), np.round(width/reduction_factor).astype(int))\n",
    "\n",
    "lw, ms = 3.0, 5.0\n",
    "\n",
    "for i, (frame_side, frame_ventral) in enumerate(zip(prism_labels.labeled_frames, ventral_labels.labeled_frames)):\n",
    "    assert np.all(frame_side.image == frame_ventral.image), \"Frame are not matching\"\n",
    "\n",
    "    image = frame_side.image\n",
    "    # instances might be empty\n",
    "    plt.figure(figsize=(40, 20), dpi=100)\n",
    "    plt.imshow(image, cmap=\"gray\", origin='upper')\n",
    "    if frame_side.user_instances and frame_ventral.user_instances:\n",
    "        for instance in frame_side.user_instances:\n",
    "            sleap.nn.viz.plot_instance(instance, cmap=[color], lw=lw, ms=ms)\n",
    "            for leg, skel in s_skeletons.items():\n",
    "                if i > leg_step_ids[leg][0] and i < leg_step_ids[leg][1]:\n",
    "                    if leg[0] == \"L\":\n",
    "                        if np.all(instance.numpy()[:, 1] < half_height):\n",
    "                            sleap.nn.viz.plot_instance(instance, skeleton=skel, cmap=[leg_color], lw=lw, ms=ms)\n",
    "                    elif leg[0] == \"R\":\n",
    "                        if np.all(instance.numpy()[:, 1] > half_height):\n",
    "                            sleap.nn.viz.plot_instance(instance, skeleton=skel, cmap=[leg_color], lw=lw, ms=ms)\n",
    "        \n",
    "        for instance in frame_ventral.user_instances:\n",
    "            sleap.nn.viz.plot_instance(instance, cmap=[color], lw=lw, ms=ms)\n",
    "            for leg, skel in v_skeletons.items():\n",
    "                if i > leg_step_ids[leg][0] and i < leg_step_ids[leg][1]:\n",
    "                    sleap.nn.viz.plot_instance(instance, skeleton=skel, cmap=[leg_color], lw=lw, ms=ms)\n",
    "    \n",
    "    # save the image without margins\n",
    "    plt.ylim(55, height-55)\n",
    "\n",
    "    plt.gca().invert_yaxis()\n",
    "\n",
    "    plt.axis(\"off\")\n",
    "    plt.tight_layout()\n",
    "    plt.savefig(frame_out_path / f\"frame_{i:05d}.png\", bbox_inches=\"tight\", pad_inches=0)\n",
    "    plt.close()"
   ]
  },
  {
   "cell_type": "code",
   "execution_count": 34,
   "metadata": {},
   "outputs": [
    {
     "name": "stderr",
     "output_type": "stream",
     "text": [
      "ffmpeg version 4.4.2 Copyright (c) 2000-2021 the FFmpeg developers\n",
      "  built with clang version 14.0.6\n",
      "  configuration: --prefix=/Users/runner/miniforge3/conda-bld/ffmpeg_1671040356584/_h_env_placehold_placehold_placehold_placehold_placehold_placehold_placehold_placehold_placehold_placehold_placehold_placehold_placehold_placehold_placehold_placehold_placehold_placehold_placehold_pl --cc=arm64-apple-darwin20.0.0-clang --cxx=arm64-apple-darwin20.0.0-clang++ --nm=arm64-apple-darwin20.0.0-nm --ar=arm64-apple-darwin20.0.0-ar --disable-doc --disable-openssl --enable-avresample --enable-demuxer=dash --enable-hardcoded-tables --enable-libfreetype --enable-libfontconfig --enable-libopenh264 --enable-cross-compile --arch=arm64 --target-os=darwin --cross-prefix=arm64-apple-darwin20.0.0- --host-cc=/Users/runner/miniforge3/conda-bld/ffmpeg_1671040356584/_build_env/bin/x86_64-apple-darwin13.4.0-clang --enable-neon --enable-gnutls --enable-libmp3lame --enable-libvpx --enable-pthreads --enable-gpl --enable-libx264 --enable-libx265 --enable-libaom --enable-libsvtav1 --enable-libxml2 --enable-pic --enable-shared --disable-static --enable-version3 --enable-zlib --pkg-config=/Users/runner/miniforge3/conda-bld/ffmpeg_1671040356584/_build_env/bin/pkg-config\n",
      "  libavutil      56. 70.100 / 56. 70.100\n",
      "  libavcodec     58.134.100 / 58.134.100\n",
      "  libavformat    58. 76.100 / 58. 76.100\n",
      "  libavdevice    58. 13.100 / 58. 13.100\n",
      "  libavfilter     7.110.100 /  7.110.100\n",
      "  libavresample   4.  0.  0 /  4.  0.  0\n",
      "  libswscale      5.  9.100 /  5.  9.100\n",
      "  libswresample   3.  9.100 /  3.  9.100\n",
      "  libpostproc    55.  9.100 / 55.  9.100\n",
      "Input #0, image2, from '/Users/stimpfli/Desktop/nmf2-paper/revision_stepping/data/labelled_frames/frame_%05d.png':\n",
      "  Duration: 00:00:07.17, start: 0.000000, bitrate: N/A\n",
      "  Stream #0:0: Video: png, rgba(pc), 610x281 [SAR 3937:3937 DAR 610:281], 12 fps, 12 tbr, 12 tbn, 12 tbc\n",
      "Stream mapping:\n",
      "  Stream #0:0 -> #0:0 (png (native) -> h264 (libx264))\n",
      "Press [q] to stop, [?] for help\n",
      "[libx264 @ 0x13a011000] height not divisible by 2 (610x281)\n",
      "Error initializing output stream 0:0 -- Error while opening encoder for output stream #0:0 - maybe incorrect parameters such as bit_rate, rate, width or height\n",
      "Conversion failed!\n"
     ]
    },
    {
     "data": {
      "text/plain": [
       "256"
      ]
     },
     "execution_count": 34,
     "metadata": {},
     "output_type": "execute_result"
    }
   ],
   "source": [
    "# make video out of the images using ffmpeg\n",
    "video_out_path = data_folder / \"labelled_frames_annotated.mp4\"\n",
    "# 12 fps = 10x reduction\n",
    "\n",
    "os.system(f\"ffmpeg -y -r 12 -f image2 -s {figure_size[1]}x{figure_size[0]} -i {frame_out_path / 'frame_%05d.png'} -vcodec libx264 -crf 25 -pix_fmt yuv420p {video_out_path}\")"
   ]
  },
  {
   "cell_type": "code",
   "execution_count": 21,
   "metadata": {},
   "outputs": [
    {
     "data": {
      "text/plain": [
       "'RF_0stance_RM_0swing_LH_0swing'"
      ]
     },
     "execution_count": 21,
     "metadata": {},
     "output_type": "execute_result"
    }
   ],
   "source": [
    "single_steps_name"
   ]
  },
  {
   "cell_type": "code",
   "execution_count": null,
   "metadata": {},
   "outputs": [],
   "source": []
  }
 ],
 "metadata": {
  "kernelspec": {
   "display_name": "sleap",
   "language": "python",
   "name": "python3"
  },
  "language_info": {
   "codemirror_mode": {
    "name": "ipython",
    "version": 3
   },
   "file_extension": ".py",
   "mimetype": "text/x-python",
   "name": "python",
   "nbconvert_exporter": "python",
   "pygments_lexer": "ipython3",
   "version": "3.9.15"
  }
 },
 "nbformat": 4,
 "nbformat_minor": 2
}
