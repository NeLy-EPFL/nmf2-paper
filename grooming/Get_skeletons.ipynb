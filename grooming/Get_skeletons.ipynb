{
 "cells": [
  {
   "cell_type": "code",
   "execution_count": 9,
   "metadata": {},
   "outputs": [],
   "source": [
    "from flygym.examples.common import get_data_path\n",
    "import flygym.util as util\n",
    "import numpy as np\n",
    "\n",
    "#xml parser\n",
    "from lxml import etree"
   ]
  },
  {
   "cell_type": "code",
   "execution_count": 10,
   "metadata": {},
   "outputs": [],
   "source": [
    "seqikpy_skel_corresp = {\n",
    "    \"RFCoxa\":\"RF_Coxa\", \"RFFemur\":\"RF_Femur\", \"RFTibia\":\"RF_Tibia\", \"RFTarsus1\":\"RF_Tarsus\", \"RFTarsus5\":\"RF_Claw\",\n",
    "    \"LFCoxa\":\"LF_Coxa\", \"LFFemur\":\"LF_Femur\", \"LFTibia\":\"LF_Tibia\", \"LFTarsus1\":\"LF_Tarsus\", \"LFTarsus5\":\"LF_Claw\",\n",
    "    \"RMCoxa\":\"RM_Coxa\", \"RMFemur\":\"RM_Femur\", \"RMTibia\":\"RM_Tibia\", \"RMTarsus1\":\"RM_Tarsus\", \"RMTarsus5\":\"RM_Claw\",\n",
    "    \"LMCoxa\":\"LM_Coxa\", \"LMFemur\":\"LM_Femur\", \"LMTibia\":\"LM_Tibia\", \"LMTarsus1\":\"LM_Tarsus\", \"LMTarsus5\":\"LM_Claw\",\n",
    "    \"RHCoxa\":\"RH_Coxa\", \"RHFemur\":\"RH_Femur\", \"RHTibia\":\"RH_Tibia\", \"RHTarsus1\":\"RH_Tarsus\", \"RHTarsus5\":\"RH_Claw\",\n",
    "    \"LHCoxa\":\"LH_Coxa\", \"LHFemur\":\"LH_Femur\", \"LHTibia\":\"LH_Tibia\", \"LHTarsus1\":\"LH_Tarsus\", \"LHTarsus5\":\"LH_Claw\",\n",
    "    \"RPedicel\":\"R_Antenna_base\", \"RArista\":\"R_Antenna_edge\", \"LPedicel\":\"L_Antenna_base\", \"LArista\":\"L_Antenna_edge\",\n",
    "    \"Head\":\"Neck\", \"Thorax\":\"Thorax_mid\", \"Abdomen\":\"Abdomen_mid\", \"RWing\":\"R_wing\", \"LWing\":\"L_wing\"\n",
    "    }"
   ]
  },
  {
   "cell_type": "code",
   "execution_count": 16,
   "metadata": {},
   "outputs": [
    {
     "name": "stdout",
     "output_type": "stream",
     "text": [
      "Warning: LFCoxa in deepfly3d_original has non-zero joint pos\n",
      "Warning: LFFemur in deepfly3d_original has non-zero joint pos\n",
      "Warning: LFTibia in deepfly3d_original has non-zero joint pos\n",
      "Warning: LFTarsus1 in deepfly3d_original has non-zero joint pos\n",
      "Warning: RFCoxa in deepfly3d_original has non-zero joint pos\n",
      "Warning: RFFemur in deepfly3d_original has non-zero joint pos\n",
      "Warning: RFTibia in deepfly3d_original has non-zero joint pos\n",
      "Warning: RFTarsus1 in deepfly3d_original has non-zero joint pos\n"
     ]
    }
   ],
   "source": [
    "all_skeletons = {}\n",
    "\n",
    "for xml_variant in [\"deepfly3d\", \"deepfly3d_old\", \"deepfly3d_original\", \"seqik\", \"seqik_old\"]:\n",
    "    mujoco_config = util.load_config() \n",
    "    xml_path = get_data_path(\"flygym\", \"data\") / mujoco_config[\"paths\"][\"mjcf\"][xml_variant]\n",
    "\n",
    "    # load the xml at xml_path and read line by line\n",
    "    tree = etree.parse(xml_path)\n",
    "    root = tree.getroot()\n",
    "\n",
    "    # read line by line\n",
    "    skeleton = {}\n",
    "    for i, line in enumerate(tree.iter()):\n",
    "        if line.tag == \"body\":\n",
    "            parent = line.getparent()\n",
    "            parent_name = parent.get(\"name\")\n",
    "            body_pos = np.array(line.get(\"pos\").strip().split(\" \")).astype(float)\n",
    "            if not parent is None and parent_name in skeleton:\n",
    "                curr_name = line.get(\"name\")\n",
    "                # find joint if exists\n",
    "                joint = line.findall(\"joint\")\n",
    "                if len(joint) > 0 and False:\n",
    "                    joint_pos = np.array(joint[0].get(\"pos\").strip().split(\" \")).astype(float)\n",
    "                    if not np.all(joint_pos == 0.0):\n",
    "                        print(f\"Warning: {curr_name} in {xml_variant} has non-zero joint pos\")\n",
    "                else:\n",
    "                    joint_pos = np.zeros(3)\n",
    "                    #print(f\"Warning: {curr_name} in {xml_variant} has no joint\")\n",
    "\n",
    "                skeleton[curr_name] = skeleton[parent_name] + body_pos + joint_pos\n",
    "            else:\n",
    "                skeleton[line.get(\"name\")] = body_pos\n",
    "\n",
    "    seqikpy_skeleton = {v: skeleton[k] for k, v in seqikpy_skel_corresp.items() if k in skeleton}\n",
    "    all_skeletons[xml_variant] = seqikpy_skeleton"
   ]
  },
  {
   "cell_type": "code",
   "execution_count": 17,
   "metadata": {},
   "outputs": [],
   "source": [
    "# save all of them in a python file with xml_variant = all_skeletons[xml_variant]\n",
    "from pathlib import Path\n",
    "out_path = Path(\"/Users/stimpfli/Desktop/sequential-inverse-kinematics/seqikpy/flygym_skeletons.py\")\n",
    "out_path = Path(\"/Users/stimpfli/Desktop/nmf2-paper/grooming/data/flygym_skeletons.py\")\n",
    "\n",
    "with open(out_path, \"w\") as f:\n",
    "    f.write(\"import numpy as np\\n\\n\")\n",
    "    for xml_variant, skeleton in all_skeletons.items():\n",
    "        f.write(xml_variant.upper() + \" = \" + \"{\" + \"\\n\")\n",
    "        for k, v in skeleton.items():\n",
    "            f.write(f'\\t\"{k}\": np.array({v.tolist()}),\\n')\n",
    "        f.write(\"}\\n\\n\")\n"
   ]
  },
  {
   "cell_type": "code",
   "execution_count": null,
   "metadata": {},
   "outputs": [],
   "source": []
  },
  {
   "cell_type": "code",
   "execution_count": null,
   "metadata": {},
   "outputs": [],
   "source": []
  }
 ],
 "metadata": {
  "kernelspec": {
   "display_name": "flygym_other",
   "language": "python",
   "name": "python3"
  },
  "language_info": {
   "codemirror_mode": {
    "name": "ipython",
    "version": 3
   },
   "file_extension": ".py",
   "mimetype": "text/x-python",
   "name": "python",
   "nbconvert_exporter": "python",
   "pygments_lexer": "ipython3",
   "version": "3.8.16"
  }
 },
 "nbformat": 4,
 "nbformat_minor": 2
}
