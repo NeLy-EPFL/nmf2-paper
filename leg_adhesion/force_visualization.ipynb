{
 "cells": [
  {
   "cell_type": "code",
   "execution_count": 1,
   "metadata": {},
   "outputs": [],
   "source": [
    "import PIL.Image\n",
    "\n",
    "import numpy as np\n",
    "import pkg_resources\n",
    "import pickle\n",
    "import matplotlib.pyplot as plt\n",
    "import seaborn as sns\n",
    "from pathlib import Path\n",
    "from flygym.envs.nmf_mujoco import NeuroMechFlyMuJoCo, MuJoCoParameters\n",
    "from tqdm import trange\n",
    "from flygym.util.config import all_leg_dofs, leg_dofs_3_per_leg\n",
    "from flygym.state import stretched_pose\n",
    "\n",
    "import cv2\n",
    "\n",
    "\n",
    "from flygym.util.cpg_controller import (advancement_transfer, phase_oscillator, sine_output, initialize_solver,\n",
    "                         phase_biases_tripod_measured, phase_biases_tripod_idealized,\n",
    "                         phase_biases_ltetrapod_idealized, phase_biases_metachronal_idealized,\n",
    "                         plot_phase_amp_output)"
   ]
  },
  {
   "cell_type": "code",
   "execution_count": 2,
   "metadata": {},
   "outputs": [],
   "source": [
    "plt.rcParams['font.family'] = 'Arial'\n",
    "plt.rcParams['pdf.fonttype'] = 42"
   ]
  },
  {
   "cell_type": "code",
   "execution_count": 3,
   "metadata": {},
   "outputs": [],
   "source": [
    "# Initialize the simulation\n",
    "run_time = 1\n",
    "\n",
    "sim_params = MuJoCoParameters(\n",
    "    timestep=2e-4,\n",
    "    render_mode=\"saved\",\n",
    "    render_camera=\"Animat/camera_right\",\n",
    "    render_playspeed=0.1,\n",
    "    enable_adhesion=True,\n",
    "    adhesion_gain=20,\n",
    "    draw_adhesion=True,\n",
    "    draw_contacts=True,\n",
    "    force_arrow_scaling=0.5,\n",
    ")\n",
    "nmf = NeuroMechFlyMuJoCo(\n",
    "    sim_params=sim_params,\n",
    "    init_pose=stretched_pose,\n",
    "    actuated_joints=all_leg_dofs,\n",
    "    spawn_pos = [0.0, 0.0, 0.2]\n",
    ")\n",
    "\n",
    "num_steps_base = int(run_time / nmf.timestep)"
   ]
  },
  {
   "cell_type": "code",
   "execution_count": 4,
   "metadata": {},
   "outputs": [],
   "source": [
    "# Load recorded data\n",
    "data_path = Path(pkg_resources.resource_filename('flygym', 'data'))\n",
    "with open(data_path / 'behavior' / 'single_steps.pkl', 'rb') as f:\n",
    "    data = pickle.load(f)"
   ]
  },
  {
   "cell_type": "code",
   "execution_count": 5,
   "metadata": {},
   "outputs": [],
   "source": [
    "# Interpolate 5x\n",
    "step_duration = len(data['joint_LFCoxa'])\n",
    "interp_step_duration = int(step_duration * data['meta']['timestep'] / nmf.timestep)\n",
    "data_block = np.zeros((len(nmf.actuated_joints), interp_step_duration))\n",
    "measure_t = np.arange(step_duration) * data['meta']['timestep']\n",
    "interp_t = np.arange(interp_step_duration) * nmf.timestep\n",
    "for i, joint in enumerate(nmf.actuated_joints):\n",
    "    data_block[i, :] = np.interp(interp_t, measure_t, data[joint])\n",
    "\n",
    "leg_swing_starts = {k:v/nmf.timestep for k,v in data[\"swing_stance_time\"][\"swing\"].items()}\n",
    "leg_stance_starts = {k:v/nmf.timestep for k,v in data[\"swing_stance_time\"][\"stance\"].items()}"
   ]
  },
  {
   "cell_type": "code",
   "execution_count": 6,
   "metadata": {},
   "outputs": [],
   "source": [
    "legs = [\"RF\", \"RM\", \"RH\", \"LF\", \"LM\", \"LH\"]\n",
    "n_oscillators = len(legs)\n",
    "\n",
    "t = np.arange(0, run_time, nmf.timestep)\n",
    "\n",
    "n_joints = len(nmf.actuated_joints)\n",
    "leg_ids = np.arange(len(legs)).astype(int)\n",
    "joint_ids = np.arange(n_joints).astype(int)\n",
    "# Map the id of the joint to the leg it belongs to (usefull to go through the steps for each legs)\n",
    "match_leg_to_joints = np.array([i  for joint in nmf.actuated_joints for i, leg in enumerate(legs) if leg in joint])\n",
    "\n",
    "# Coxa joint of each leg (recover the advancement of the leg)\n",
    "joints_to_leg = np.array([i for ts in nmf.last_tarsalseg_names for i, joint in enumerate(nmf.actuated_joints) if f\"{ts[:2]}Coxa_roll\" in joint])\n",
    "stance_starts_in_order = np.array([leg_stance_starts[ts[:2]] for ts in nmf.last_tarsalseg_names])\n",
    "swing_starts_in_order = np.array([leg_swing_starts[ts[:2]] for ts in nmf.last_tarsalseg_names])"
   ]
  },
  {
   "cell_type": "code",
   "execution_count": 7,
   "metadata": {},
   "outputs": [],
   "source": [
    "# lets say we want 5 oscillations in the time period\n",
    "n_steps = 5\n",
    "frequencies = np.ones(n_oscillators) * n_steps / run_time\n",
    "\n",
    "# For now each oscillator have the same amplitude\n",
    "target_amplitudes = np.ones(n_oscillators) * 1.0\n",
    "rates = np.ones(n_oscillators) * 20.0\n",
    "\n",
    "phase_biases = phase_biases_tripod_idealized * 2 * np.pi\n",
    "\n",
    "coupling_weights = (np.abs(phase_biases) > 0).astype(float) * 10.0 "
   ]
  },
  {
   "cell_type": "code",
   "execution_count": 8,
   "metadata": {},
   "outputs": [
    {
     "name": "stderr",
     "output_type": "stream",
     "text": [
      "100%|██████████| 7000/7000 [00:29<00:00, 239.71it/s]\n"
     ]
    }
   ],
   "source": [
    "n_stabilisation_steps = 2000\n",
    "num_steps = n_stabilisation_steps + num_steps_base\n",
    "\n",
    "# Initilize the simulation\n",
    "np.random.seed(0)\n",
    "start_ampl = np.ones(6) * 0.2\n",
    "obs, info = nmf.reset()\n",
    "solver = initialize_solver(phase_oscillator, \"dopri5\", nmf.curr_time,\n",
    "                            n_oscillators, frequencies,\n",
    "                              coupling_weights, phase_biases,\n",
    "                                start_ampl, rates,\n",
    "                                int_params={\"atol\": 1e-6, \"rtol\": 1e-6, \"max_step\":100000})\n",
    "\n",
    "\n",
    "# Initalize storage\n",
    "obs_list = []\n",
    "phases = np.zeros((num_steps, n_oscillators))\n",
    "amplitudes = np.zeros((num_steps, n_oscillators))\n",
    "\n",
    "joint_angles = np.zeros((num_steps, n_joints))\n",
    "input_joint_angles = np.zeros(len(nmf.actuated_joints))\n",
    "\n",
    "indices = np.zeros_like(nmf.actuated_joints, dtype=np.int64)\n",
    "\n",
    "for i in trange(num_steps):\n",
    "\n",
    "    res = solver.integrate(nmf.curr_time)\n",
    "    phase = res[:n_oscillators]\n",
    "    amp = res[n_oscillators:2*n_oscillators]\n",
    "\n",
    "    phases[i, :] = phase\n",
    "    amplitudes[i, :] = amp    \n",
    "\n",
    "    if i == n_stabilisation_steps:\n",
    "        # Now set the amplitude to their real values\n",
    "        solver.set_f_params(n_oscillators, frequencies,\n",
    "                              coupling_weights, phase_biases,\n",
    "                                target_amplitudes, rates)\n",
    "    if i > n_stabilisation_steps:\n",
    "        indices = advancement_transfer(phase, interp_step_duration, match_leg_to_joints)\n",
    "        # scale amplitude by interpolating between the resting values and i timestep value\n",
    "        input_joint_angles = data_block[joint_ids, 0] + \\\n",
    "                  (data_block[joint_ids, indices]-data_block[joint_ids, 0])*amp[match_leg_to_joints]\n",
    "    else:\n",
    "        input_joint_angles = data_block[joint_ids, 0]\n",
    "\n",
    "    joint_angles[i, :] = input_joint_angles\n",
    "    adhesion_signal = np.logical_or(indices[joints_to_leg] < swing_starts_in_order,\n",
    "                                        indices[joints_to_leg] > stance_starts_in_order)\n",
    "\n",
    "    action = {\"joints\": input_joint_angles, \"adhesion\": adhesion_signal}\n",
    "    \n",
    "    obs, reward, terminated, truncated, info = nmf.step(action)\n",
    "    obs_list.append(obs)\n",
    "    render_status = nmf.render()"
   ]
  },
  {
   "cell_type": "code",
   "execution_count": 9,
   "metadata": {},
   "outputs": [],
   "source": [
    "nmf.save_video(\"outputs/force_visualization.mp4\", stabilization_time=0.5)"
   ]
  }
 ],
 "metadata": {
  "kernelspec": {
   "display_name": "flygym",
   "language": "python",
   "name": "python3"
  },
  "language_info": {
   "codemirror_mode": {
    "name": "ipython",
    "version": 3
   },
   "file_extension": ".py",
   "mimetype": "text/x-python",
   "name": "python",
   "nbconvert_exporter": "python",
   "pygments_lexer": "ipython3",
   "version": "3.8.16"
  },
  "orig_nbformat": 4
 },
 "nbformat": 4,
 "nbformat_minor": 2
}
