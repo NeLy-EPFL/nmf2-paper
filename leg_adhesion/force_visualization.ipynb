{
 "cells": [
  {
   "cell_type": "code",
   "execution_count": 1,
   "metadata": {},
   "outputs": [],
   "source": [
    "import numpy as np\n",
    "\n",
    "from flygym import Camera, Fly, SingleFlySimulation\n",
    "from flygym.examples.common import PreprogrammedSteps\n",
    "from flygym.examples.cpg_controller import CPGNetwork, run_cpg_simulation\n",
    "from flygym.preprogrammed import all_tarsi_links"
   ]
  },
  {
   "cell_type": "code",
   "execution_count": 2,
   "metadata": {},
   "outputs": [],
   "source": [
    "# Simulation parameters\n",
    "run_time = 1\n",
    "stabilization_time = 0.5\n",
    "timestep = 1e-4\n",
    "\n",
    "# CPG parameters\n",
    "intrinsic_freqs = np.ones(6) * 12\n",
    "intrinsic_amps = np.ones(6) * 1\n",
    "phase_biases = np.pi * np.array(\n",
    "    [\n",
    "        [0, 1, 0, 1, 0, 1],\n",
    "        [1, 0, 1, 0, 1, 0],\n",
    "        [0, 1, 0, 1, 0, 1],\n",
    "        [1, 0, 1, 0, 1, 0],\n",
    "        [0, 1, 0, 1, 0, 1],\n",
    "        [1, 0, 1, 0, 1, 0],\n",
    "    ]\n",
    ")\n",
    "coupling_weights = (phase_biases > 0) * 10\n",
    "convergence_coefs = np.ones(6) * 20"
   ]
  },
  {
   "cell_type": "code",
   "execution_count": 3,
   "metadata": {},
   "outputs": [],
   "source": [
    "# Initialize simulation\n",
    "fly = Fly(\n",
    "    enable_adhesion=True,\n",
    "    adhesion_force=20,\n",
    "    draw_adhesion=True,\n",
    "    spawn_pos=[0.0, 0.0, 0.2],\n",
    "    contact_sensor_placements=all_tarsi_links[4::5],\n",
    ")\n",
    "\n",
    "cam = Camera(\n",
    "    fly=fly,\n",
    "    camera_id=\"Animat/camera_right\",\n",
    "    play_speed=0.05,\n",
    "    draw_contacts=True,\n",
    "    force_arrow_scaling=10,\n",
    "    perspective_arrow_length=False,\n",
    ")\n",
    "\n",
    "sim = SingleFlySimulation(\n",
    "    fly=fly,\n",
    "    cameras=[cam],\n",
    "    timestep=timestep,\n",
    ")\n",
    "\n",
    "cpg_network = CPGNetwork(\n",
    "    timestep=1e-4,\n",
    "    intrinsic_freqs=intrinsic_freqs,\n",
    "    intrinsic_amps=intrinsic_amps,\n",
    "    coupling_weights=coupling_weights,\n",
    "    phase_biases=phase_biases,\n",
    "    convergence_coefs=convergence_coefs,\n",
    ")\n",
    "\n",
    "# Initialize preprogrammed steps\n",
    "preprogrammed_steps = PreprogrammedSteps()"
   ]
  },
  {
   "cell_type": "code",
   "execution_count": 4,
   "metadata": {},
   "outputs": [
    {
     "name": "stderr",
     "output_type": "stream",
     "text": [
      "100%|██████████| 15000/15000 [00:24<00:00, 603.54it/s]\n"
     ]
    }
   ],
   "source": [
    "# Run simulation\n",
    "run_cpg_simulation(sim, cpg_network, preprogrammed_steps, run_time + stabilization_time)\n",
    "\n",
    "# Save video\n",
    "cam.save_video(\"outputs/force_visualization.mp4\", stabilization_time=stabilization_time)"
   ]
  }
 ],
 "metadata": {
  "kernelspec": {
   "display_name": "flygym",
   "language": "python",
   "name": "python3"
  },
  "language_info": {
   "codemirror_mode": {
    "name": "ipython",
    "version": 3
   },
   "file_extension": ".py",
   "mimetype": "text/x-python",
   "name": "python",
   "nbconvert_exporter": "python",
   "pygments_lexer": "ipython3",
   "version": "3.11.8"
  },
  "orig_nbformat": 4
 },
 "nbformat": 4,
 "nbformat_minor": 2
}
