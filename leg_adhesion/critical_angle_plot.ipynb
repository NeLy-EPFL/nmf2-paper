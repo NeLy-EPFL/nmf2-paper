{
 "cells": [
  {
   "cell_type": "code",
   "execution_count": 1,
   "metadata": {},
   "outputs": [],
   "source": [
    "from pathlib import Path\n",
    "import numpy as np\n",
    "import matplotlib.pyplot as plt\n",
    "import pandas as pd"
   ]
  },
  {
   "cell_type": "code",
   "execution_count": 2,
   "metadata": {},
   "outputs": [],
   "source": [
    "plt.rcParams[\"font.family\"] = \"Arial\"\n",
    "plt.rcParams[\"pdf.fonttype\"] = 42"
   ]
  },
  {
   "cell_type": "code",
   "execution_count": 3,
   "metadata": {},
   "outputs": [],
   "source": [
    "base_data_path = Path(\"outputs/datapts_force_slope\")\n",
    "df = pd.DataFrame(\n",
    "    [\n",
    "        (*map(int, i.stem.split(\"_\")[1::2]), i)\n",
    "        for i in sorted(base_data_path.glob(\"*.npz\"))\n",
    "    ],\n",
    "    columns=[\"force\", \"slope\", \"seed\", \"path\"],\n",
    ")"
   ]
  },
  {
   "cell_type": "code",
   "execution_count": 4,
   "metadata": {},
   "outputs": [
    {
     "name": "stdout",
     "output_type": "stream",
     "text": [
      "Fly flipped over\n",
      "Fly flipped over\n",
      "Fly flipped over\n",
      "Fly flipped over\n",
      "Fly flipped over\n",
      "[0, 0, 0, 0, 0, 5, 5, 5, 5, 5, 10, 10, 10, 10, 10, 15, 15, 15, 15, 15, 20, 20, 20, 20, 20, 25, 25, 25, 25, 25, 30, 30, 30, 30, 30, 35, 35, 35, 35, 35, 40, 40, 40, 40, 40, 45, 45, 45, 45, 45, 50, 50, 50, 50, 50, 55, 55, 55, 55, 55, 60, 60, 60, 60, 60] [30, 30, 30, 30, 30, 35, 35, 35, 35, 35, 40, 40, 40, 40, 40, 50, 50, 55, 60, 60, 80, 60, 60, 70, 60, 75, 70, 100, 90, 95, 105, 60, 70, 75, 110, 80, 85, 105, 105, 45, 105, 80, 110, 95, 65, 100, 100, 65, 50, 115, 100, 105, 80, 80, 85, 80, 100, 95, 105, 100, 95, 55, 110, 65, 80] [False, False, False, False, False, False, False, False, False, False, False, False, False, False, False, False, False, False, False, False, False, False, False, False, False, False, False, False, False, False, False, False, False, False, False, False, False, False, False, False, False, False, False, False, False, False, False, False, False, False, False, False, False, False, False, False, False, False, False, False, False, False, False, False, False]\n"
     ]
    }
   ],
   "source": [
    "forces = []\n",
    "seeds = []\n",
    "critical_slopes = []\n",
    "reached_end_all = []\n",
    "reached_end_critical = []\n",
    "\n",
    "is_critical = True\n",
    "x_pos_thr = -6  # two body lengths\n",
    "\n",
    "metadata = {\n",
    "    \"run_time\": 0.7,\n",
    "    \"stabilisation_dur\": 0,\n",
    "    \"timestep\": 1e-4,\n",
    "    \"slope_reversal_time\": 0.2,\n",
    "}\n",
    "\n",
    "# Go through all pkl files\n",
    "for (force, seed), df_ in df.groupby([\"force\", \"seed\"]):\n",
    "    forces.append(force)\n",
    "    seeds.append(seed)\n",
    "    df_ = df_.sort_values(\"slope\")\n",
    "\n",
    "    for i in df_.itertuples():\n",
    "        obs_fly = np.load(i.path)[\"fly\"]\n",
    "        # Check if the end was reached\n",
    "        is_complete = len(obs_fly) == np.ceil(\n",
    "            (metadata[\"run_time\"] + metadata[\"stabilisation_dur\"])\n",
    "            / metadata[\"timestep\"]\n",
    "        )\n",
    "        reached_end_all.append(is_complete)\n",
    "\n",
    "        if len(forces) == len(critical_slopes):\n",
    "            # print(force_folder.name, slope_file.name, \"already processed\")\n",
    "            continue\n",
    "\n",
    "        # When gravity is reversed, xpos is not zeros\n",
    "        # check wether the x pos is threshold away from the position it was when gravity was reversed\n",
    "        # In case something went wrong, check if the fly was flipped (maybe with low slopes, the fly flips over but does not go reverse x due to friciton)\n",
    "\n",
    "        reverse_id = int(\n",
    "            np.ceil(metadata[\"slope_reversal_time\"] / metadata[\"timestep\"])\n",
    "        )\n",
    "\n",
    "        fly_xvel = obs_fly[:, 1, 2]\n",
    "        fly_xpos = obs_fly[:, 0, 0]\n",
    "        fly_xpos_treverse_is_origin = fly_xpos[reverse_id:] - fly_xpos[reverse_id]\n",
    "        is_critical = np.any(fly_xpos_treverse_is_origin < x_pos_thr)\n",
    "        if not is_critical:\n",
    "            # check wether the fly just flipped over\n",
    "            fly_ang = obs_fly[:, 2, 1:]\n",
    "            is_critical = np.any(np.abs(fly_ang) > np.pi / 2)\n",
    "            if is_critical:\n",
    "                print(\"Fly flipped over\")\n",
    "        if is_critical:\n",
    "            critical_slopes.append(i.slope)\n",
    "            reached_end_critical.append(is_complete)\n",
    "            # DO NOT BREAK JUST TO CHECK IF SOME SIMULATION DID NOT REACH THE END\n",
    "\n",
    "print(forces, critical_slopes, reached_end_critical)\n",
    "\n",
    "ids_reached_end = np.where(reached_end_critical)[0]\n",
    "ids_did_not_reach_end = np.where(np.logical_not(reached_end_critical))[0]"
   ]
  },
  {
   "cell_type": "code",
   "execution_count": 5,
   "metadata": {},
   "outputs": [
    {
     "data": {
      "image/png": "[encoded data removed]",
      "text/plain": [
       "<Figure size 250x180 with 1 Axes>"
      ]
     },
     "metadata": {},
     "output_type": "display_data"
    }
   ],
   "source": [
    "fig, ax = plt.subplots(figsize=(2.5, 1.8))\n",
    "scatter = ax.scatter(forces, critical_slopes, s=4, c=\"k\")\n",
    "ax.set_xlabel(\"Adhesion force (mN)\")\n",
    "ax.set_ylabel(\"Critical slope (°)\")\n",
    "ax.axhline(90, color=\"gray\", linestyle=\"--\", linewidth=0.5, zorder=-1)\n",
    "ax.set_yticks([0, 15, 30, 45, 60, 75, 90, 105, 120][::2])\n",
    "xticks = np.arange(0, 70, 5)\n",
    "xticklabels = [f\"{x}\" if x % 10 == 0 else \"\" for x in xticks]\n",
    "ax.set_xticks(xticks)\n",
    "ax.set_xticklabels(xticklabels)\n",
    "for spine in [\"top\", \"right\"]:\n",
    "    ax.spines[spine].set_visible(False)\n",
    "fig.savefig(\n",
    "    \"outputs/critical_slope.pdf\", transparent=True, bbox_inches=\"tight\", pad_inches=0\n",
    ")"
   ]
  },
  {
   "cell_type": "code",
   "execution_count": 6,
   "metadata": {},
   "outputs": [],
   "source": [
    "pd.DataFrame({\"adhesion_force\": forces, \"critical_slope\": critical_slopes}).to_csv(\"outputs/critical_slope.csv\", index=False)"
   ]
  }
 ],
 "metadata": {
  "kernelspec": {
   "display_name": "flygym",
   "language": "python",
   "name": "python3"
  },
  "language_info": {
   "codemirror_mode": {
    "name": "ipython",
    "version": 3
   },
   "file_extension": ".py",
   "mimetype": "text/x-python",
   "name": "python",
   "nbconvert_exporter": "python",
   "pygments_lexer": "ipython3",
   "version": "3.12.4"
  },
  "orig_nbformat": 4
 },
 "nbformat": 4,
 "nbformat_minor": 2
}
