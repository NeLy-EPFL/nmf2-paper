{
 "cells": [
  {
   "cell_type": "code",
   "execution_count": 1,
   "metadata": {},
   "outputs": [],
   "source": [
    "import matplotlib.pyplot as plt\n",
    "import seaborn as sns\n",
    "import numpy as np\n",
    "import imageio\n",
    "import cv2\n",
    "from scipy.spatial.distance import euclidean\n",
    "from pathlib import Path\n",
    "from tqdm import trange\n",
    "from flygym.envs.nmf_mujoco import MuJoCoParameters\n",
    "from flygym.arena.mujoco_arena import OdorArena\n",
    "from flygym.state import stretched_pose\n",
    "from flygym.util.config import all_leg_dofs\n",
    "from flygym.util.data import color_cycle_rgb\n",
    "\n",
    "from flygym.util.turning_controller import TurningController"
   ]
  },
  {
   "cell_type": "code",
   "execution_count": 2,
   "metadata": {},
   "outputs": [],
   "source": [
    "plt.rcParams['font.family'] = 'Arial'\n",
    "plt.rcParams['pdf.fonttype'] = 42"
   ]
  },
  {
   "cell_type": "code",
   "execution_count": 3,
   "metadata": {},
   "outputs": [],
   "source": [
    "odor_source = np.array([[24, 0, 1.5], [8, -4, 1.5], [16, 4, 1.5]])\n",
    "peak_intensity = np.array([[1, 0], [0, 1], [0, 1]])\n",
    "\n",
    "\n",
    "def run_trial(\n",
    "    spawn_pos,\n",
    "    spawn_orientation,\n",
    "    odor_source,\n",
    "    peak_intensity,\n",
    "    attractive_gain=500,\n",
    "    aversive_gain=80,\n",
    "    run_time=5,\n",
    "    video_path=None,\n",
    "):\n",
    "    marker_colors = [color_cycle_rgb[1]] + [color_cycle_rgb[0]] * (len(odor_source) - 1)\n",
    "    marker_colors = [(*np.array(color) / 255, 1) for color in marker_colors]\n",
    "    odor_dimesions = len(peak_intensity[0])\n",
    "    second_cam_frames = []\n",
    "    odor_history = []\n",
    "    arena = OdorArena(\n",
    "        size=(300, 300),\n",
    "        odor_source=odor_source,\n",
    "        peak_intensity=peak_intensity,\n",
    "        diffuse_func=lambda x: x**-2,\n",
    "        marker_colors=marker_colors,\n",
    "        marker_size=0.3,\n",
    "    )\n",
    "\n",
    "    sim_params = MuJoCoParameters(\n",
    "        timestep=1e-4,\n",
    "        render_mode=\"saved\",\n",
    "        render_playspeed=0.5,\n",
    "        render_fps=30,\n",
    "        render_window_size=(700, 560),\n",
    "        enable_olfaction=True,\n",
    "        enable_adhesion=True,\n",
    "        draw_adhesion=False,\n",
    "        render_camera=\"birdeye_cam\",\n",
    "    )\n",
    "\n",
    "    sim = TurningController(\n",
    "        sim_params=sim_params,\n",
    "        arena=arena,\n",
    "        init_pose=stretched_pose,\n",
    "        actuated_joints=all_leg_dofs,\n",
    "        spawn_pos=spawn_pos,\n",
    "        spawn_orient=spawn_orientation,\n",
    "    )\n",
    "\n",
    "    obs_hist = []\n",
    "    attractive_bias_hist = []\n",
    "    aversive_bias_hist = []\n",
    "    stearing_hist = []\n",
    "    # decreasing_count = 0\n",
    "    decision_interval = 0.05\n",
    "    num_decision_steps = int(run_time / decision_interval)\n",
    "    physics_steps_per_decision_step = int(decision_interval / sim_params.timestep)\n",
    "\n",
    "    obs, _ = sim.reset()\n",
    "    for i in trange(num_decision_steps):\n",
    "        # print(obs[\"odor_intensity\"])\n",
    "        # print(obs[\"odor_intensity\"].reshape(odor_dimesions, 2, 2).shape)\n",
    "        # intensities = obs[\"odor_intensity\"].reshape(odor_dimesions, 2, 2).mean(axis=1)\n",
    "        intensities = obs[\"odor_intensity\"].reshape(odor_dimesions, 2, 2)[:, 0, :]\n",
    "        # intensities = np.sqrt(intensities)\n",
    "        # print(intensities)\n",
    "        attractive_intensities = intensities[0, :]\n",
    "        aversive_intensities = intensities[1, :]\n",
    "        attractive_bias = (\n",
    "            attractive_gain\n",
    "            * (attractive_intensities[0] - attractive_intensities[1])\n",
    "            / attractive_intensities.mean()\n",
    "        )\n",
    "        aversive_bias = (\n",
    "            aversive_gain\n",
    "            * (aversive_intensities[0] - aversive_intensities[1])\n",
    "            / aversive_intensities.mean()\n",
    "        )\n",
    "        effective_bias = aversive_bias - attractive_bias\n",
    "        # effective_bias_norm = np.tanh(np.abs(effective_bias) ** 1.3) * np.sign(effective_bias)\n",
    "        effective_bias_norm = np.tanh(effective_bias**2) * np.sign(effective_bias)\n",
    "        assert np.sign(effective_bias_norm) == np.sign(effective_bias)\n",
    "        control_signal = np.ones((2,))\n",
    "        control_signal[int(effective_bias_norm > 0)] -= (\n",
    "            np.abs(effective_bias_norm) * 0.8\n",
    "        )\n",
    "        # print(intensities)\n",
    "        # print(attractive_bias, aversive_bias, effective_bias)\n",
    "        # print(control_signal)\n",
    "        for j in range(physics_steps_per_decision_step):\n",
    "            obs, _, _, _, _ = sim.step(control_signal)\n",
    "            rendered_img = sim.render()\n",
    "            if rendered_img is not None:\n",
    "                # render a second image\n",
    "                second_img = sim.physics.render(\n",
    "                    width=700, height=560, camera_id=\"birdeye_cam_zoom\"\n",
    "                )\n",
    "                second_cam_frames.append(second_img)\n",
    "                # record odor intensity too for video\n",
    "                odor_history.append(obs[\"odor_intensity\"])\n",
    "        obs_hist.append(obs)\n",
    "        attractive_bias_hist.append(attractive_bias)\n",
    "        aversive_bias_hist.append(aversive_bias)\n",
    "        stearing_hist.append(effective_bias_norm)\n",
    "\n",
    "        if np.linalg.norm(obs[\"fly\"][0, :2] - odor_source[0, :2]) < 2:\n",
    "            break\n",
    "\n",
    "    if video_path is not None:\n",
    "        sim.save_video(video_path)\n",
    "\n",
    "    return (\n",
    "        sim,\n",
    "        obs_hist,\n",
    "        attractive_bias_hist,\n",
    "        aversive_bias_hist,\n",
    "        stearing_hist,\n",
    "        second_cam_frames,\n",
    "        odor_history,\n",
    "    )"
   ]
  },
  {
   "cell_type": "code",
   "execution_count": null,
   "metadata": {},
   "outputs": [],
   "source": []
  },
  {
   "cell_type": "code",
   "execution_count": 4,
   "metadata": {},
   "outputs": [
    {
     "name": "stderr",
     "output_type": "stream",
     "text": [
      " 79%|███████▉  | 79/100 [02:00<00:32,  1.53s/it]\n",
      "WARNING:imageio_ffmpeg:IMAGEIO FFMPEG_WRITER WARNING: input image is not divisible by macro_block_size=16, resizing from (700, 560) to (704, 560) to ensure video compatibility with most codecs and players. To prevent resizing, make your input image divisible by the macro_block_size or set the macro_block_size to 1 (risking incompatibility).\n"
     ]
    }
   ],
   "source": [
    "(\n",
    "    sim,\n",
    "    obs_hist,\n",
    "    attractive_bias_hist,\n",
    "    aversive_bias_hist,\n",
    "    stearing_hist,\n",
    "    second_cam_frames,\n",
    "    odor_hist,\n",
    ") = run_trial(\n",
    "    # spawn_pos=(-0.35355949,  2.91725038, 0.2),\n",
    "    # spawn_orientation=[0, 0, 1, 0.75181193],\n",
    "    spawn_pos=(0, 0, 0.2),\n",
    "    spawn_orientation=[0, 0, np.pi / 2],\n",
    "    run_time=5,\n",
    "    odor_source=odor_source,\n",
    "    peak_intensity=peak_intensity,\n",
    "    video_path=f\"outputs/odor_taxis.mp4\",\n",
    ")"
   ]
  },
  {
   "cell_type": "code",
   "execution_count": 5,
   "metadata": {},
   "outputs": [],
   "source": [
    "def add_insets(\n",
    "    viz_frame, odor_intensities, odor_colors, odor_gain=400, panel_height=150\n",
    "):\n",
    "    final_frame = np.zeros(\n",
    "        (viz_frame.shape[0] + panel_height + 5, viz_frame.shape[1], 3), dtype=np.uint8\n",
    "    )\n",
    "    final_frame[: viz_frame.shape[0], :, :] = viz_frame\n",
    "\n",
    "    assert np.array(odor_intensities).shape == (2, 4)\n",
    "    odor_intensities = np.array(odor_intensities).reshape(2, 2, 2).mean(axis=1)\n",
    "    unit_size = panel_height // 5\n",
    "\n",
    "    for i_odor in range(2):\n",
    "        for i_side in range(2):\n",
    "            row_start = unit_size + i_odor * unit_size * 2 + viz_frame.shape[0] + 5\n",
    "            row_end = row_start + unit_size\n",
    "            width = int(odor_intensities[i_odor, i_side] * odor_gain)\n",
    "            if i_side == 0:\n",
    "                col_start = 0\n",
    "                col_end = width\n",
    "            else:\n",
    "                col_start = final_frame.shape[1] - width\n",
    "                col_end = final_frame.shape[1]\n",
    "            final_frame[row_start:row_end, col_start:col_end, :] = odor_colors[i_odor]\n",
    "\n",
    "    return final_frame"
   ]
  },
  {
   "cell_type": "code",
   "execution_count": 6,
   "metadata": {},
   "outputs": [
    {
     "data": {
      "text/plain": [
       "<matplotlib.image.AxesImage at 0x2dc948370>"
      ]
     },
     "execution_count": 6,
     "metadata": {},
     "output_type": "execute_result"
    },
    {
     "data": {
      "image/png": "[encoded data removed]",
      "text/plain": [
       "<Figure size 640x480 with 1 Axes>"
      ]
     },
     "metadata": {},
     "output_type": "display_data"
    }
   ],
   "source": [
    "inset = add_insets(\n",
    "    sim._frames[100],\n",
    "    [[0.1, 0.2, 0.1, 0.2], [0.1, 0.05, 0.1, 0.05]],\n",
    "    [color_cycle_rgb[1], color_cycle_rgb[0]],\n",
    ")\n",
    "plt.imshow(inset)"
   ]
  },
  {
   "cell_type": "code",
   "execution_count": 10,
   "metadata": {},
   "outputs": [
    {
     "name": "stderr",
     "output_type": "stream",
     "text": [
      "WARNING:imageio_ffmpeg:IMAGEIO FFMPEG_WRITER WARNING: input image is not divisible by macro_block_size=16, resizing from (700, 715) to (704, 720) to ensure video compatibility with most codecs and players. To prevent resizing, make your input image divisible by the macro_block_size or set the macro_block_size to 1 (risking incompatibility).\n"
     ]
    }
   ],
   "source": [
    "stabilization_time = 0.05\n",
    "num_stab_frames = int(np.ceil(stabilization_time / sim._eff_render_interval))\n",
    "\n",
    "path = Path(\"outputs/odor_taxis.mp4\")\n",
    "path.parent.mkdir(parents=True, exist_ok=True)\n",
    "with imageio.get_writer(path, fps=sim.sim_params.render_fps) as writer:\n",
    "    for frame, odor_intensities in zip(second_cam_frames, odor_hist):\n",
    "        frame = add_insets(\n",
    "            frame,\n",
    "            odor_intensities,\n",
    "            odor_gain=600,\n",
    "            odor_colors=[color_cycle_rgb[1], color_cycle_rgb[0]],\n",
    "        )\n",
    "        writer.append_data(frame)"
   ]
  },
  {
   "cell_type": "code",
   "execution_count": 11,
   "metadata": {},
   "outputs": [
    {
     "name": "stderr",
     "output_type": "stream",
     "text": [
      "100%|██████████| 9/9 [00:00<00:00, 22.34it/s]\n"
     ]
    }
   ],
   "source": [
    "sample_interval = 30\n",
    "individual_frames_dir = Path(\"outputs/individual_frames\")\n",
    "individual_frames_dir.mkdir(parents=True, exist_ok=True)\n",
    "\n",
    "offset = len(sim._frames) % sample_interval - 1\n",
    "# print(len(sim._frames), offset)\n",
    "selected_images = np.array(\n",
    "    [sim._frames[i] for i in range(offset, len(sim._frames), sample_interval)]\n",
    ")\n",
    "background = np.median(selected_images, axis=0)\n",
    "\n",
    "for i in trange(0, selected_images.shape[0]):\n",
    "    img = selected_images[i, :, :, :]\n",
    "    is_background = np.isclose(img, background, atol=1).all(axis=2)\n",
    "    img_alpha = np.ones((img.shape[0], img.shape[1], 4)) * 255\n",
    "    img_alpha[:, :, :3] = img\n",
    "    img_alpha[is_background, 3] = 0\n",
    "    img_alpha = img_alpha.astype(np.uint8)\n",
    "    # break\n",
    "    imageio.imwrite(\n",
    "        individual_frames_dir / f\"frame_{i}.png\", img_alpha\n",
    "    )\n",
    "\n",
    "imageio.imwrite(individual_frames_dir / \"background.png\", background.astype(np.uint8))"
   ]
  },
  {
   "cell_type": "code",
   "execution_count": null,
   "metadata": {},
   "outputs": [],
   "source": []
  }
 ],
 "metadata": {
  "kernelspec": {
   "display_name": "flygym",
   "language": "python",
   "name": "python3"
  },
  "language_info": {
   "codemirror_mode": {
    "name": "ipython",
    "version": 3
   },
   "file_extension": ".py",
   "mimetype": "text/x-python",
   "name": "python",
   "nbconvert_exporter": "python",
   "pygments_lexer": "ipython3",
   "version": "3.8.16"
  },
  "orig_nbformat": 4
 },
 "nbformat": 4,
 "nbformat_minor": 2
}
