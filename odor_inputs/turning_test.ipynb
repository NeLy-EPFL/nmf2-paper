{
 "cells": [
  {
   "cell_type": "code",
   "execution_count": 1,
   "metadata": {},
   "outputs": [],
   "source": [
    "from tqdm import trange\n",
    "from flygym.envs.nmf_mujoco import MuJoCoParameters\n",
    "from flygym.arena.mujoco_arena import OdorArena\n",
    "from flygym.state import stretched_pose\n",
    "from flygym.util.config import all_leg_dofs\n",
    "\n",
    "from cpg_controller import NMFCPG"
   ]
  },
  {
   "cell_type": "code",
   "execution_count": 2,
   "metadata": {},
   "outputs": [],
   "source": [
    "odor_source = [[2, -1, 1.5], [5, 1, 1.5]]\n",
    "peak_intensity = [[80, 0], [0, 100]]\n",
    "\n",
    "arena = OdorArena(\n",
    "    size=(100, 100),\n",
    "    odor_source=odor_source,\n",
    "    peak_intensity=peak_intensity,\n",
    "    diffuse_func=lambda x: x ** -2,\n",
    ")\n",
    "\n",
    "sim_params = MuJoCoParameters(\n",
    "    timestep=1e-4, render_mode=\"saved\", render_playspeed=0.1, enable_olfaction=True\n",
    ")\n",
    "\n",
    "nmf_cpg = NMFCPG(\n",
    "    sim_params=sim_params,\n",
    "    arena=arena,\n",
    "    init_pose=stretched_pose,\n",
    "    actuated_joints=all_leg_dofs,\n",
    ")"
   ]
  },
  {
   "cell_type": "code",
   "execution_count": 3,
   "metadata": {},
   "outputs": [
    {
     "name": "stderr",
     "output_type": "stream",
     "text": [
      "Drive signal: [0, 0]: 100%|██████████| 5000/5000 [00:14<00:00, 356.46it/s]\n",
      "Drive signal: [1, 1]: 100%|██████████| 5000/5000 [00:12<00:00, 389.89it/s]\n",
      "Drive signal: [-1, -1]: 100%|██████████| 5000/5000 [00:18<00:00, 264.24it/s]\n",
      "Drive signal: [-1, 1]: 100%|██████████| 5000/5000 [00:12<00:00, 387.35it/s]\n",
      "Drive signal: [1, -1]: 100%|██████████| 5000/5000 [00:13<00:00, 381.09it/s]\n"
     ]
    }
   ],
   "source": [
    "obs, _ = nmf_cpg.reset()\n",
    "obs_list = [obs]\n",
    "\n",
    "actions = [[0, 0], [1, 1], [-1, -1], [-1, 1], [1, -1]]\n",
    "time_per_action = 0.5\n",
    "steps_per_action = int(time_per_action / sim_params.timestep)\n",
    "\n",
    "for action in actions:\n",
    "    for i in trange(steps_per_action, desc=f\"Drive signal: {action}\"):\n",
    "        obs, _, _, _, _ = nmf_cpg.step(action)\n",
    "        obs_list.append(obs)\n",
    "        nmf_cpg.render()\n",
    "\n",
    "nmf_cpg.nmf.save_video(\"outputs/turning_test.mp4\")"
   ]
  }
 ],
 "metadata": {
  "kernelspec": {
   "display_name": "flygym",
   "language": "python",
   "name": "python3"
  },
  "language_info": {
   "codemirror_mode": {
    "name": "ipython",
    "version": 3
   },
   "file_extension": ".py",
   "mimetype": "text/x-python",
   "name": "python",
   "nbconvert_exporter": "python",
   "pygments_lexer": "ipython3",
   "version": "3.8.16"
  },
  "orig_nbformat": 4
 },
 "nbformat": 4,
 "nbformat_minor": 2
}
