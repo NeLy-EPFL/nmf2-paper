{
 "cells": [
  {
   "cell_type": "code",
   "execution_count": 1,
   "metadata": {},
   "outputs": [],
   "source": [
    "%load_ext autoreload\n",
    "%autoreload 2"
   ]
  },
  {
   "cell_type": "code",
   "execution_count": 2,
   "metadata": {},
   "outputs": [
    {
     "name": "stdout",
     "output_type": "stream",
     "text": [
      "pygame 2.5.1 (SDL 2.28.2, Python 3.11.0)\n",
      "Hello from the pygame community. https://www.pygame.org/contribute.html\n"
     ]
    },
    {
     "name": "stderr",
     "output_type": "stream",
     "text": [
      "/home/sibwang/anaconda3/envs/flygym/lib/python3.11/site-packages/torch/utils/tensorboard/__init__.py:4: DeprecationWarning: distutils Version classes are deprecated. Use packaging.version instead.\n",
      "  if not hasattr(tensorboard, \"__version__\") or LooseVersion(\n",
      "/home/sibwang/anaconda3/envs/flygym/lib/python3.11/site-packages/torch/utils/tensorboard/__init__.py:6: DeprecationWarning: distutils Version classes are deprecated. Use packaging.version instead.\n",
      "  ) < LooseVersion(\"1.15\"):\n",
      "/home/sibwang/anaconda3/envs/flygym/lib/python3.11/site-packages/lightning_fabric/__init__.py:36: DeprecationWarning: Deprecated call to `pkg_resources.declare_namespace('lightning_fabric')`.\n",
      "Implementing implicit namespace packages (as specified in PEP 420) is preferred to `pkg_resources.declare_namespace`. See https://setuptools.pypa.io/en/latest/references/keywords.html#keyword-namespace-packages\n",
      "  __import__(\"pkg_resources\").declare_namespace(__name__)\n",
      "/home/sibwang/anaconda3/envs/flygym/lib/python3.11/site-packages/torchmetrics/utilities/imports.py:24: DeprecationWarning: distutils Version classes are deprecated. Use packaging.version instead.\n",
      "  _PYTHON_LOWER_3_8 = LooseVersion(_PYTHON_VERSION) < LooseVersion(\"3.8\")\n",
      "/home/sibwang/anaconda3/envs/flygym/lib/python3.11/site-packages/torchmetrics/utilities/imports.py:24: DeprecationWarning: distutils Version classes are deprecated. Use packaging.version instead.\n",
      "  _PYTHON_LOWER_3_8 = LooseVersion(_PYTHON_VERSION) < LooseVersion(\"3.8\")\n",
      "/home/sibwang/anaconda3/envs/flygym/lib/python3.11/site-packages/pytorch_lightning/__init__.py:36: DeprecationWarning: Deprecated call to `pkg_resources.declare_namespace('pytorch_lightning')`.\n",
      "Implementing implicit namespace packages (as specified in PEP 420) is preferred to `pkg_resources.declare_namespace`. See https://setuptools.pypa.io/en/latest/references/keywords.html#keyword-namespace-packages\n",
      "  __import__(\"pkg_resources\").declare_namespace(__name__)\n"
     ]
    }
   ],
   "source": [
    "import pickle\n",
    "import pkg_resources\n",
    "import matplotlib.pyplot as plt\n",
    "import numpy as np\n",
    "import pandas as pd\n",
    "import gymnasium as gym\n",
    "import stable_baselines3 as sb3\n",
    "import stable_baselines3.common.logger as logger\n",
    "import stable_baselines3.common.callbacks as callbacks\n",
    "import stable_baselines3.common.env_checker as env_checker\n",
    "from dm_control import mjcf\n",
    "from dm_control.rl.control import PhysicsError\n",
    "import imageio\n",
    "import scipy.spatial\n",
    "import torch\n",
    "import torch.nn as nn\n",
    "import torch.optim as optim\n",
    "import torch_geometric as pyg\n",
    "import torch.nn.functional as F\n",
    "import torch_geometric.nn as gnn\n",
    "import torch_geometric.loader as pyg_loader\n",
    "import pytorch_lightning as pl\n",
    "import torchmetrics\n",
    "from torch.utils.data import Dataset\n",
    "from pathlib import Path\n",
    "from typing import Tuple, Callable, Optional, List, Union\n",
    "from tqdm import trange\n",
    "from dm_control.rl.control import PhysicsError\n",
    "from PIL import Image\n",
    "\n",
    "from flygym.arena.mujoco_arena import FlatTerrain\n",
    "from flygym.envs.nmf_mujoco import NeuroMechFlyMuJoCo, MuJoCoParameters\n",
    "from flygym.state import stretched_pose\n",
    "import flygym.util.vision as vision\n",
    "import flygym.util.config as config\n",
    "from flygym.arena import BaseArena\n",
    "from flygym.arena.mujoco_arena import OdorArena, FlatTerrain, GappedTerrain, BlocksTerrain\n",
    "from flygym.util.data import color_cycle_rgb\n",
    "\n",
    "from rl_navigation import ObstacleOdorArena, NMFNavigation"
   ]
  },
  {
   "cell_type": "code",
   "execution_count": 3,
   "metadata": {},
   "outputs": [
    {
     "name": "stderr",
     "output_type": "stream",
     "text": [
      "WARNING:root:Setting spawn pos to MuJoCoParameters(timestep=0.0001, joint_stiffness=0.05, joint_damping=0.06, actuator_kp=30, tarsus_stiffness=2.2, tarsus_damping=0.05, friction=(1.0, 0.005, 0.0001), gravity=(0.0, 0.0, -9810.0), contact_solref=(0.0002, 1000.0), contact_solimp=(0.999, 0.9999, 0.001, 0.5, 2.0), enable_olfaction=True, enable_vision=True, render_raw_vision=True, render_mode='saved', render_window_size=(640, 480), render_playspeed=0.5, render_fps=30, render_camera='birdeye_cam', vision_refresh_rate=20, enable_adhesion=True, adhesion_gain=20, adhesion_off_duration=0.02, adhesion_off_refractory_duration=0.05, draw_adhesion=False, draw_markers=False, draw_contacts=False, force_arrow_scaling=1.0, tip_length=10.0, decompose_contacts=True, contact_threshold=0.1, draw_gravity=False, gravity_arrow_scaling=0.0001, align_camera_with_gravity=False, camera_follows_fly_orientation=False) for turning controller\n"
     ]
    }
   ],
   "source": [
    "terrain_arena = FlatTerrain(ground_alpha=1)\n",
    "arena = ObstacleOdorArena(\n",
    "    terrain=terrain_arena,\n",
    "    obstacle_positions=np.array([(10, 0)]),\n",
    "    obstacle_radius=1.5,\n",
    "    odor_source=np.array([[20, 0, 2]]),\n",
    "    marker_size=0.5,\n",
    "    obstacle_colors=(0.14, 0.14, 0.2, 1),\n",
    ")\n",
    "sim = NMFNavigation(\n",
    "    arena=arena,\n",
    "    test_mode=True,\n",
    "    debug_mode=True,\n",
    ")\n",
    "# env_checker.check_env(sim)"
   ]
  },
  {
   "cell_type": "code",
   "execution_count": 4,
   "metadata": {},
   "outputs": [
    {
     "name": "stderr",
     "output_type": "stream",
     "text": [
      "/home/sibwang/anaconda3/envs/flygym/lib/python3.11/site-packages/numba/np/ufunc/parallel.py:371: NumbaWarning: The TBB threading layer requires TBB version 2021 update 6 or later i.e., TBB_INTERFACE_VERSION >= 12060. Found TBB_INTERFACE_VERSION = 12050. The TBB threading layer is disabled.\n",
      "  warnings.warn(problem)\n"
     ]
    },
    {
     "name": "stdout",
     "output_type": "stream",
     "text": [
      "resetting environment\n"
     ]
    },
    {
     "name": "stderr",
     "output_type": "stream",
     "text": [
      "  7%|▋         | 1/15 [00:01<00:16,  1.17s/it]"
     ]
    },
    {
     "name": "stdout",
     "output_type": "stream",
     "text": [
      "fly_pos: [  7.57543747 -10.19910189], final reward=2.3846994483403154, state=seeking\n",
      "  dist rew=2.384699, danger=0.000, action diff=0.000, tgt rew=0.000\n",
      "  dist=12.615\n"
     ]
    },
    {
     "name": "stderr",
     "output_type": "stream",
     "text": [
      " 13%|█▎        | 2/15 [00:02<00:18,  1.45s/it]"
     ]
    },
    {
     "name": "stdout",
     "output_type": "stream",
     "text": [
      "fly_pos: [  7.86152632 -10.73489144], final reward=-0.2763905945100653, state=seeking\n",
      "  dist rew=-0.276391, danger=0.000, action diff=0.000, tgt rew=0.000\n",
      "  dist=12.892\n"
     ]
    },
    {
     "name": "stderr",
     "output_type": "stream",
     "text": [
      " 20%|██        | 3/15 [00:04<00:17,  1.47s/it]"
     ]
    },
    {
     "name": "stdout",
     "output_type": "stream",
     "text": [
      "fly_pos: [  8.14763683 -11.12413816], final reward=-0.17358079010299754, state=seeking\n",
      "  dist rew=-0.173581, danger=0.000, action diff=0.000, tgt rew=0.000\n",
      "  dist=13.065\n"
     ]
    },
    {
     "name": "stderr",
     "output_type": "stream",
     "text": [
      " 27%|██▋       | 4/15 [00:05<00:15,  1.43s/it]"
     ]
    },
    {
     "name": "stdout",
     "output_type": "stream",
     "text": [
      "fly_pos: [  8.36792316 -11.37625891], final reward=-0.10301230804084938, state=seeking\n",
      "  dist rew=-0.103012, danger=0.000, action diff=0.000, tgt rew=0.000\n",
      "  dist=13.168\n"
     ]
    },
    {
     "name": "stderr",
     "output_type": "stream",
     "text": [
      " 33%|███▎      | 5/15 [00:06<00:13,  1.36s/it]"
     ]
    },
    {
     "name": "stdout",
     "output_type": "stream",
     "text": [
      "fly_pos: [  8.70731685 -11.84948076], final reward=-0.24842382627927506, state=seeking\n",
      "  dist rew=-0.248424, danger=0.000, action diff=0.000, tgt rew=0.000\n",
      "  dist=13.417\n"
     ]
    },
    {
     "name": "stderr",
     "output_type": "stream",
     "text": [
      " 40%|████      | 6/15 [00:08<00:11,  1.31s/it]"
     ]
    },
    {
     "name": "stdout",
     "output_type": "stream",
     "text": [
      "fly_pos: [  9.22033934 -12.29405855], final reward=-0.1681494173743694, state=seeking\n",
      "  dist rew=-0.168149, danger=0.000, action diff=0.000, tgt rew=0.000\n",
      "  dist=13.585\n"
     ]
    },
    {
     "name": "stderr",
     "output_type": "stream",
     "text": [
      " 47%|████▋     | 7/15 [00:09<00:10,  1.28s/it]"
     ]
    },
    {
     "name": "stdout",
     "output_type": "stream",
     "text": [
      "fly_pos: [  9.38799803 -12.92256605], final reward=-0.5036938734110041, state=seeking\n",
      "  dist rew=-0.503694, danger=0.000, action diff=0.000, tgt rew=0.000\n",
      "  dist=14.089\n"
     ]
    },
    {
     "name": "stderr",
     "output_type": "stream",
     "text": [
      " 53%|█████▎    | 8/15 [00:10<00:08,  1.22s/it]"
     ]
    },
    {
     "name": "stdout",
     "output_type": "stream",
     "text": [
      "fly_pos: [  9.8195547  -13.34944925], final reward=-0.23083440891201157, state=seeking\n",
      "  dist rew=-0.230834, danger=0.000, action diff=0.000, tgt rew=0.000\n",
      "  dist=14.319\n"
     ]
    },
    {
     "name": "stderr",
     "output_type": "stream",
     "text": [
      " 60%|██████    | 9/15 [00:11<00:07,  1.21s/it]"
     ]
    },
    {
     "name": "stdout",
     "output_type": "stream",
     "text": [
      "fly_pos: [ 10.10790783 -13.88177461], final reward=-0.3754920298882807, state=seeking\n",
      "  dist rew=-0.399182, danger=0.000, action diff=0.000, tgt rew=0.024\n",
      "  dist=14.719\n"
     ]
    },
    {
     "name": "stderr",
     "output_type": "stream",
     "text": [
      " 67%|██████▋   | 10/15 [00:12<00:05,  1.18s/it]"
     ]
    },
    {
     "name": "stdout",
     "output_type": "stream",
     "text": [
      "fly_pos: [ 10.51925518 -14.52630238], final reward=-0.48309463704928746, state=seeking\n",
      "  dist rew=-0.483095, danger=0.000, action diff=0.000, tgt rew=0.000\n",
      "  dist=15.202\n"
     ]
    },
    {
     "name": "stderr",
     "output_type": "stream",
     "text": [
      " 73%|███████▎  | 11/15 [00:13<00:04,  1.20s/it]"
     ]
    },
    {
     "name": "stdout",
     "output_type": "stream",
     "text": [
      "fly_pos: [ 10.80735967 -14.72602491], final reward=-0.13337741681332344, state=seeking\n",
      "  dist rew=-0.109577, danger=0.000, action diff=0.300, tgt rew=0.276\n",
      "  dist=15.311\n"
     ]
    },
    {
     "name": "stderr",
     "output_type": "stream",
     "text": [
      " 80%|████████  | 12/15 [00:15<00:03,  1.22s/it]"
     ]
    },
    {
     "name": "stdout",
     "output_type": "stream",
     "text": [
      "fly_pos: [ 10.28056485 -15.32343462], final reward=-0.5225252403628124, state=seeking\n",
      "  dist rew=-0.722498, danger=0.000, action diff=0.000, tgt rew=0.200\n",
      "  dist=16.034\n"
     ]
    },
    {
     "name": "stderr",
     "output_type": "stream",
     "text": [
      " 87%|████████▋ | 13/15 [00:16<00:02,  1.19s/it]"
     ]
    },
    {
     "name": "stdout",
     "output_type": "stream",
     "text": [
      "fly_pos: [ 10.43157332 -15.32706615], final reward=0.336926374742309, state=seeking\n",
      "  dist rew=0.040317, danger=0.000, action diff=0.000, tgt rew=0.297\n",
      "  dist=15.993\n"
     ]
    },
    {
     "name": "stderr",
     "output_type": "stream",
     "text": [
      " 93%|█████████▎| 14/15 [00:17<00:01,  1.16s/it]"
     ]
    },
    {
     "name": "stdout",
     "output_type": "stream",
     "text": [
      "fly_pos: [ 10.17573172 -15.79048914], final reward=-0.2488120474405504, state=seeking\n",
      "  dist rew=-0.517580, danger=0.000, action diff=0.000, tgt rew=0.269\n",
      "  dist=16.511\n"
     ]
    },
    {
     "name": "stderr",
     "output_type": "stream",
     "text": [
      "100%|██████████| 15/15 [00:18<00:00,  1.24s/it]"
     ]
    },
    {
     "name": "stdout",
     "output_type": "stream",
     "text": [
      "fly_pos: [  9.73814002 -15.84696243], final reward=0.10933315846900582, state=seeking\n",
      "  dist rew=-0.186706, danger=0.000, action diff=0.000, tgt rew=0.296\n",
      "  dist=16.698\n"
     ]
    },
    {
     "name": "stderr",
     "output_type": "stream",
     "text": [
      "\n"
     ]
    }
   ],
   "source": [
    "# from flygym.util.vision import hex_pxls_to_human_readable\n",
    "\n",
    "terrain_arena = FlatTerrain(ground_alpha=1)\n",
    "arena = ObstacleOdorArena(\n",
    "    terrain=terrain_arena,\n",
    "    obstacle_positions=np.array([(7.5, 0)]),\n",
    "    obstacle_radius=1.5,\n",
    "    odor_source=np.array([[15, 0, 2]]),\n",
    "    marker_size=0.5,\n",
    "    obstacle_colors=(0, 0, 0, 1),\n",
    ")\n",
    "sim = NMFNavigation(\n",
    "    spawn_pos=(7.5, -10, 0.2),\n",
    "    spawn_orient=(0, 0, np.pi/4),\n",
    "    arena=arena,\n",
    "    test_mode=True,\n",
    "    debug_mode=True,\n",
    ")\n",
    "\n",
    "obs_hist = []\n",
    "reward_hist = []\n",
    "action_hist = []\n",
    "obs, info = sim.reset()\n",
    "for i in trange(15):\n",
    "    action = np.array([0 if i < 10 else 0.6])\n",
    "    action_hist.append(action)\n",
    "    obs, reward, terminated, truncated, info = sim.step(action)\n",
    "    # fig, axs = plt.subplots(1, 2, figsize=(4, 2))\n",
    "    # for i in range(2):\n",
    "    #     visual_inputs = sim.curr_visual_input[i, :, :]\n",
    "    #     print(visual_inputs.shape, visual_inputs.max())\n",
    "    #     visual_inputs[:, 1] = 0\n",
    "    #     visual_inputs[:, 0][visual_inputs[:, 0] > 50] = 0\n",
    "    #     img = hex_pxls_to_human_readable(visual_inputs)\n",
    "    #     axs[i].imshow(img, cmap=\"gray\", vmin=0, vmax=255)\n",
    "    #     axs[i].axis(\"off\")\n",
    "    # plt.show()\n",
    "    \n",
    "    obs_hist.append(obs)\n",
    "    reward_hist.append(reward)\n",
    "    if terminated:\n",
    "        print(\"terminated\")\n",
    "        break\n",
    "\n",
    "obs_hist = np.array(obs_hist)\n",
    "reward_hist = np.array(reward_hist)\n",
    "action_hist = np.array(action_hist)\n",
    "\n",
    "sim.save_video(\"test2.mp4\")"
   ]
  },
  {
   "cell_type": "code",
   "execution_count": 5,
   "metadata": {},
   "outputs": [
    {
     "data": {
      "text/plain": [
       "<matplotlib.image.AxesImage at 0x7f6a67f9b910>"
      ]
     },
     "execution_count": 5,
     "metadata": {},
     "output_type": "execute_result"
    },
    {
     "data": {
      "image/png": "[encoded data removed]",
      "text/plain": [
       "<Figure size 640x480 with 1 Axes>"
      ]
     },
     "metadata": {},
     "output_type": "display_data"
    }
   ],
   "source": [
    "plt.imshow(sim._frames[0])"
   ]
  },
  {
   "cell_type": "code",
   "execution_count": 6,
   "metadata": {},
   "outputs": [
    {
     "name": "stderr",
     "output_type": "stream",
     "text": [
      "WARNING:root:Setting spawn pos to MuJoCoParameters(timestep=0.0001, joint_stiffness=0.05, joint_damping=0.06, actuator_kp=30, tarsus_stiffness=2.2, tarsus_damping=0.05, friction=(1.0, 0.005, 0.0001), gravity=(0.0, 0.0, -9810.0), contact_solref=(0.0002, 1000.0), contact_solimp=(0.999, 0.9999, 0.001, 0.5, 2.0), enable_olfaction=True, enable_vision=True, render_raw_vision=True, render_mode='saved', render_window_size=(640, 480), render_playspeed=0.5, render_fps=30, render_camera='birdeye_cam', vision_refresh_rate=20, enable_adhesion=True, adhesion_gain=20, adhesion_off_duration=0.02, adhesion_off_refractory_duration=0.05, draw_adhesion=False, draw_markers=False, draw_contacts=False, force_arrow_scaling=1.0, tip_length=10.0, decompose_contacts=True, contact_threshold=0.1, draw_gravity=False, gravity_arrow_scaling=0.0001, align_camera_with_gravity=False, camera_follows_fly_orientation=False) for turning controller\n"
     ]
    },
    {
     "name": "stdout",
     "output_type": "stream",
     "text": [
      "Logging to logs/trial_8\n",
      "Using cuda device\n",
      "Wrapping the env with a `Monitor` wrapper\n",
      "Wrapping the env in a DummyVecEnv.\n",
      "resetting environment\n"
     ]
    },
    {
     "name": "stderr",
     "output_type": "stream",
     "text": [
      "  1%|          | 1/100 [00:01<02:33,  1.55s/it]"
     ]
    },
    {
     "name": "stdout",
     "output_type": "stream",
     "text": [
      "fly_pos: [ 0.11603922 -0.06244214], final reward=0.03316382083537128, state=seeking\n",
      "  dist rew=0.115908, danger=0.000, action diff=0.083, tgt rew=0.000\n",
      "  dist=14.884\n"
     ]
    },
    {
     "name": "stderr",
     "output_type": "stream",
     "text": [
      "  2%|▏         | 2/100 [00:03<02:27,  1.50s/it]"
     ]
    },
    {
     "name": "stdout",
     "output_type": "stream",
     "text": [
      "fly_pos: [ 0.64376072 -0.28918812], final reward=0.3967012508055312, state=seeking\n",
      "  dist rew=0.524940, danger=0.000, action diff=0.128, tgt rew=0.000\n",
      "  dist=14.359\n"
     ]
    },
    {
     "name": "stderr",
     "output_type": "stream",
     "text": [
      "  3%|▎         | 3/100 [00:04<02:25,  1.50s/it]"
     ]
    },
    {
     "name": "stdout",
     "output_type": "stream",
     "text": [
      "fly_pos: [ 1.05960813 -0.23280161], final reward=0.4030492834015096, state=seeking\n",
      "  dist rew=0.416816, danger=0.000, action diff=0.014, tgt rew=0.000\n",
      "  dist=13.942\n"
     ]
    },
    {
     "name": "stderr",
     "output_type": "stream",
     "text": [
      "  4%|▍         | 4/100 [00:05<02:16,  1.42s/it]"
     ]
    },
    {
     "name": "stdout",
     "output_type": "stream",
     "text": [
      "fly_pos: [ 1.4828126  -0.24636941], final reward=0.29814207374410095, state=seeking\n",
      "  dist rew=0.422903, danger=0.000, action diff=0.125, tgt rew=0.000\n",
      "  dist=13.519\n"
     ]
    },
    {
     "name": "stderr",
     "output_type": "stream",
     "text": [
      "  5%|▌         | 5/100 [00:07<02:09,  1.37s/it]"
     ]
    },
    {
     "name": "stdout",
     "output_type": "stream",
     "text": [
      "fly_pos: [ 1.80055045 -0.66983647], final reward=0.2356714135663811, state=seeking\n",
      "  dist rew=0.302998, danger=0.000, action diff=0.067, tgt rew=0.000\n",
      "  dist=13.216\n"
     ]
    },
    {
     "name": "stderr",
     "output_type": "stream",
     "text": [
      "  6%|▌         | 6/100 [00:08<02:10,  1.39s/it]"
     ]
    },
    {
     "name": "stdout",
     "output_type": "stream",
     "text": [
      "fly_pos: [ 2.11925603 -0.63185836], final reward=0.2076428037177802, state=seeking\n",
      "  dist rew=0.320202, danger=0.000, action diff=0.113, tgt rew=0.000\n",
      "  dist=12.896\n"
     ]
    },
    {
     "name": "stderr",
     "output_type": "stream",
     "text": [
      "  7%|▋         | 7/100 [00:09<02:08,  1.38s/it]"
     ]
    },
    {
     "name": "stdout",
     "output_type": "stream",
     "text": [
      "fly_pos: [ 2.70888859 -0.96995992], final reward=0.5312458111239806, state=seeking\n",
      "  dist rew=0.566908, danger=0.000, action diff=0.036, tgt rew=0.000\n",
      "  dist=12.329\n"
     ]
    },
    {
     "name": "stderr",
     "output_type": "stream",
     "text": [
      "  8%|▊         | 8/100 [00:11<02:03,  1.35s/it]"
     ]
    },
    {
     "name": "stdout",
     "output_type": "stream",
     "text": [
      "fly_pos: [ 2.9602342  -0.99205653], final reward=0.2337080112973844, state=seeking\n",
      "  dist rew=0.248756, danger=0.000, action diff=0.015, tgt rew=0.000\n",
      "  dist=12.081\n"
     ]
    },
    {
     "name": "stderr",
     "output_type": "stream",
     "text": [
      "  9%|▉         | 9/100 [00:12<02:04,  1.37s/it]"
     ]
    },
    {
     "name": "stdout",
     "output_type": "stream",
     "text": [
      "fly_pos: [ 3.28957647 -1.11829308], final reward=0.3107371364001583, state=seeking\n",
      "  dist rew=0.316870, danger=0.000, action diff=0.006, tgt rew=0.000\n",
      "  dist=11.764\n"
     ]
    },
    {
     "name": "stderr",
     "output_type": "stream",
     "text": [
      " 10%|█         | 10/100 [00:13<01:59,  1.32s/it]"
     ]
    },
    {
     "name": "stdout",
     "output_type": "stream",
     "text": [
      "fly_pos: [ 3.72776248 -1.56731628], final reward=0.21650814522538653, state=seeking\n",
      "  dist rew=0.383021, danger=0.000, action diff=0.167, tgt rew=0.000\n",
      "  dist=11.381\n"
     ]
    },
    {
     "name": "stderr",
     "output_type": "stream",
     "text": [
      " 11%|█         | 11/100 [00:15<01:57,  1.32s/it]"
     ]
    },
    {
     "name": "stdout",
     "output_type": "stream",
     "text": [
      "fly_pos: [ 4.14501202 -1.59428582], final reward=0.2953968934584488, state=seeking\n",
      "  dist rew=0.409237, danger=0.000, action diff=0.114, tgt rew=0.000\n",
      "  dist=10.971\n"
     ]
    },
    {
     "name": "stderr",
     "output_type": "stream",
     "text": [
      " 12%|█▏        | 12/100 [00:16<01:55,  1.32s/it]"
     ]
    },
    {
     "name": "stdout",
     "output_type": "stream",
     "text": [
      "fly_pos: [ 4.69514289 -1.9775992 ], final reward=0.3744525494829869, state=seeking\n",
      "  dist rew=0.478539, danger=0.000, action diff=0.104, tgt rew=0.000\n",
      "  dist=10.493\n"
     ]
    },
    {
     "name": "stderr",
     "output_type": "stream",
     "text": [
      " 13%|█▎        | 13/100 [00:17<01:52,  1.30s/it]"
     ]
    },
    {
     "name": "stdout",
     "output_type": "stream",
     "text": [
      "fly_pos: [ 4.97343385 -2.04652115], final reward=0.23917757978734677, state=seeking\n",
      "  dist rew=0.259609, danger=0.000, action diff=0.020, tgt rew=0.000\n",
      "  dist=10.233\n"
     ]
    },
    {
     "name": "stderr",
     "output_type": "stream",
     "text": [
      " 14%|█▍        | 14/100 [00:19<01:58,  1.37s/it]"
     ]
    },
    {
     "name": "stdout",
     "output_type": "stream",
     "text": [
      "fly_pos: [ 5.13604597 -1.84222239], final reward=0.18520678462169649, state=seeking\n",
      "  dist rew=0.198784, danger=0.000, action diff=0.014, tgt rew=0.000\n",
      "  dist=10.035\n"
     ]
    },
    {
     "name": "stderr",
     "output_type": "stream",
     "text": [
      " 15%|█▌        | 15/100 [00:20<01:46,  1.26s/it]"
     ]
    },
    {
     "name": "stdout",
     "output_type": "stream",
     "text": [
      "fly_pos: [ 5.02370257 -1.70592458], final reward=-0.11285880277228166, state=seeking\n",
      "  dist rew=-0.086592, danger=0.000, action diff=0.026, tgt rew=0.000\n",
      "  dist=10.121\n"
     ]
    },
    {
     "name": "stderr",
     "output_type": "stream",
     "text": [
      " 16%|█▌        | 16/100 [00:21<01:41,  1.20s/it]"
     ]
    },
    {
     "name": "stdout",
     "output_type": "stream",
     "text": [
      "fly_pos: [ 5.04912244 -2.44673979], final reward=-0.16374340903777984, state=seeking\n",
      "  dist rew=-0.126167, danger=0.000, action diff=0.038, tgt rew=0.000\n",
      "  dist=10.247\n"
     ]
    },
    {
     "name": "stderr",
     "output_type": "stream",
     "text": [
      " 17%|█▋        | 17/100 [00:22<01:38,  1.18s/it]"
     ]
    },
    {
     "name": "stdout",
     "output_type": "stream",
     "text": [
      "fly_pos: [ 4.89836408 -3.4450613 ], final reward=-0.6973322341240884, state=seeking\n",
      "  dist rew=-0.425665, danger=0.000, action diff=0.272, tgt rew=0.000\n",
      "  dist=10.673\n"
     ]
    },
    {
     "name": "stderr",
     "output_type": "stream",
     "text": [
      " 18%|█▊        | 18/100 [00:23<01:40,  1.22s/it]"
     ]
    },
    {
     "name": "stdout",
     "output_type": "stream",
     "text": [
      "fly_pos: [ 5.26208411 -3.6236991 ], final reward=0.1191371854095511, state=seeking\n",
      "  dist rew=0.282639, danger=0.000, action diff=0.164, tgt rew=0.000\n",
      "  dist=10.390\n"
     ]
    },
    {
     "name": "stderr",
     "output_type": "stream",
     "text": [
      " 19%|█▉        | 19/100 [00:24<01:39,  1.23s/it]"
     ]
    },
    {
     "name": "stdout",
     "output_type": "stream",
     "text": [
      "fly_pos: [ 5.19156977 -3.77898291], final reward=-0.13722080291451455, state=seeking\n",
      "  dist rew=-0.120939, danger=0.000, action diff=0.016, tgt rew=0.000\n",
      "  dist=10.511\n"
     ]
    },
    {
     "name": "stderr",
     "output_type": "stream",
     "text": [
      " 20%|██        | 20/100 [00:26<01:41,  1.27s/it]"
     ]
    },
    {
     "name": "stdout",
     "output_type": "stream",
     "text": [
      "fly_pos: [ 4.54775642 -3.64727243], final reward=-0.5811521225304972, state=seeking\n",
      "  dist rew=-0.559087, danger=0.000, action diff=0.022, tgt rew=0.000\n",
      "  dist=11.070\n"
     ]
    },
    {
     "name": "stderr",
     "output_type": "stream",
     "text": [
      " 21%|██        | 21/100 [00:27<01:36,  1.22s/it]"
     ]
    },
    {
     "name": "stdout",
     "output_type": "stream",
     "text": [
      "fly_pos: [ 5.06482096 -3.89751829], final reward=0.37915085846907104, state=seeking\n",
      "  dist rew=0.398000, danger=0.000, action diff=0.019, tgt rew=0.000\n",
      "  dist=10.672\n"
     ]
    },
    {
     "name": "stderr",
     "output_type": "stream",
     "text": [
      " 22%|██▏       | 22/100 [00:28<01:36,  1.24s/it]"
     ]
    },
    {
     "name": "stdout",
     "output_type": "stream",
     "text": [
      "fly_pos: [ 5.25022671 -3.85086527], final reward=0.1799331616683535, state=seeking\n",
      "  dist rew=0.189609, danger=0.000, action diff=0.010, tgt rew=0.000\n",
      "  dist=10.483\n"
     ]
    },
    {
     "name": "stderr",
     "output_type": "stream",
     "text": [
      " 23%|██▎       | 23/100 [00:30<01:39,  1.30s/it]"
     ]
    },
    {
     "name": "stdout",
     "output_type": "stream",
     "text": [
      "fly_pos: [ 5.92154087 -4.10546044], final reward=0.46798879808608795, state=seeking\n",
      "  dist rew=0.519117, danger=0.000, action diff=0.051, tgt rew=0.000\n",
      "  dist=9.964\n"
     ]
    },
    {
     "name": "stderr",
     "output_type": "stream",
     "text": [
      " 24%|██▍       | 24/100 [00:31<01:35,  1.26s/it]"
     ]
    },
    {
     "name": "stdout",
     "output_type": "stream",
     "text": [
      "fly_pos: [ 6.02213355 -4.04004051], final reward=0.06472158666248085, state=seeking\n",
      "  dist rew=0.118596, danger=0.000, action diff=0.054, tgt rew=0.000\n",
      "  dist=9.845\n"
     ]
    },
    {
     "name": "stderr",
     "output_type": "stream",
     "text": [
      " 25%|██▌       | 25/100 [00:32<01:36,  1.29s/it]"
     ]
    },
    {
     "name": "stdout",
     "output_type": "stream",
     "text": [
      "fly_pos: [ 5.68765795 -4.20195309], final reward=-0.3872030073042616, state=seeking\n",
      "  dist rew=-0.371464, danger=0.000, action diff=0.016, tgt rew=0.000\n",
      "  dist=10.216\n"
     ]
    },
    {
     "name": "stderr",
     "output_type": "stream",
     "text": [
      " 26%|██▌       | 26/100 [00:33<01:33,  1.26s/it]"
     ]
    },
    {
     "name": "stdout",
     "output_type": "stream",
     "text": [
      "fly_pos: [ 6.22840432 -4.29101428], final reward=0.434249626885844, state=seeking\n",
      "  dist rew=0.451542, danger=0.000, action diff=0.017, tgt rew=0.000\n",
      "  dist=9.765\n"
     ]
    },
    {
     "name": "stderr",
     "output_type": "stream",
     "text": [
      " 27%|██▋       | 27/100 [00:35<01:34,  1.30s/it]"
     ]
    },
    {
     "name": "stdout",
     "output_type": "stream",
     "text": [
      "fly_pos: [ 6.29081722 -4.13950657], final reward=0.09254097521700544, state=seeking\n",
      "  dist rew=0.122029, danger=0.000, action diff=0.029, tgt rew=0.000\n",
      "  dist=9.643\n"
     ]
    },
    {
     "name": "stderr",
     "output_type": "stream",
     "text": [
      " 28%|██▊       | 28/100 [00:36<01:41,  1.41s/it]"
     ]
    },
    {
     "name": "stdout",
     "output_type": "stream",
     "text": [
      "fly_pos: [ 7.04513082 -3.95823781], final reward=0.7474225753432311, state=seeking\n",
      "  dist rew=0.757647, danger=0.000, action diff=0.010, tgt rew=0.000\n",
      "  dist=8.885\n"
     ]
    },
    {
     "name": "stderr",
     "output_type": "stream",
     "text": [
      " 29%|██▉       | 29/100 [00:38<01:36,  1.36s/it]"
     ]
    },
    {
     "name": "stdout",
     "output_type": "stream",
     "text": [
      "fly_pos: [ 6.85727548 -3.92156008], final reward=-0.16733792319690544, state=seeking\n",
      "  dist rew=-0.152597, danger=0.000, action diff=0.015, tgt rew=0.000\n",
      "  dist=9.038\n"
     ]
    },
    {
     "name": "stderr",
     "output_type": "stream",
     "text": [
      " 30%|███       | 30/100 [00:39<01:34,  1.35s/it]"
     ]
    },
    {
     "name": "stdout",
     "output_type": "stream",
     "text": [
      "fly_pos: [ 6.77922755 -4.17481287], final reward=-0.2047055892517431, state=seeking\n",
      "  dist rew=-0.182253, danger=0.000, action diff=0.022, tgt rew=0.000\n",
      "  dist=9.220\n"
     ]
    },
    {
     "name": "stderr",
     "output_type": "stream",
     "text": [
      " 31%|███       | 31/100 [00:40<01:31,  1.33s/it]"
     ]
    },
    {
     "name": "stdout",
     "output_type": "stream",
     "text": [
      "fly_pos: [ 6.97957559 -3.95832994], final reward=-0.42441111591512914, state=seeking\n",
      "  dist rew=0.276071, danger=0.000, action diff=0.700, tgt rew=0.000\n",
      "  dist=8.944\n"
     ]
    },
    {
     "name": "stderr",
     "output_type": "stream",
     "text": [
      " 32%|███▏      | 32/100 [00:42<01:29,  1.32s/it]"
     ]
    },
    {
     "name": "stdout",
     "output_type": "stream",
     "text": [
      "fly_pos: [ 7.13777931 -3.74043503], final reward=-0.5000846476804632, state=seeking\n",
      "  dist rew=0.237397, danger=0.000, action diff=0.737, tgt rew=0.000\n",
      "  dist=8.707\n"
     ]
    },
    {
     "name": "stderr",
     "output_type": "stream",
     "text": [
      " 33%|███▎      | 33/100 [00:43<01:28,  1.31s/it]"
     ]
    },
    {
     "name": "stdout",
     "output_type": "stream",
     "text": [
      "fly_pos: [ 7.03808803 -3.92534491], final reward=-0.8994017791469808, state=seeking\n",
      "  dist rew=-0.170330, danger=0.000, action diff=0.729, tgt rew=0.000\n",
      "  dist=8.877\n"
     ]
    },
    {
     "name": "stderr",
     "output_type": "stream",
     "text": [
      " 34%|███▍      | 34/100 [00:44<01:22,  1.25s/it]"
     ]
    },
    {
     "name": "stdout",
     "output_type": "stream",
     "text": [
      "fly_pos: [ 7.30516632 -3.6156099 ], final reward=-0.4152333094561058, state=seeking\n",
      "  dist rew=0.375011, danger=0.000, action diff=0.790, tgt rew=0.000\n",
      "  dist=8.502\n"
     ]
    },
    {
     "name": "stderr",
     "output_type": "stream",
     "text": [
      " 35%|███▌      | 35/100 [00:45<01:22,  1.27s/it]"
     ]
    },
    {
     "name": "stdout",
     "output_type": "stream",
     "text": [
      "fly_pos: [ 7.34683378 -3.3871091 ], final reward=-0.6772327303171828, state=seeking\n",
      "  dist rew=0.132750, danger=0.000, action diff=0.810, tgt rew=0.000\n",
      "  dist=8.369\n"
     ]
    },
    {
     "name": "stderr",
     "output_type": "stream",
     "text": [
      " 36%|███▌      | 36/100 [00:47<01:24,  1.32s/it]"
     ]
    },
    {
     "name": "stdout",
     "output_type": "stream",
     "text": [
      "fly_pos: [ 7.49355918 -3.72763859], final reward=-0.7561356218209525, state=seeking\n",
      "  dist rew=-0.011850, danger=0.000, action diff=0.744, tgt rew=0.000\n",
      "  dist=8.381\n"
     ]
    },
    {
     "name": "stderr",
     "output_type": "stream",
     "text": [
      " 37%|███▋      | 37/100 [00:48<01:20,  1.28s/it]"
     ]
    },
    {
     "name": "stdout",
     "output_type": "stream",
     "text": [
      "fly_pos: [ 7.96508049 -3.41332014], final reward=0.44177906783595766, state=seeking\n",
      "  dist rew=0.561785, danger=0.000, action diff=0.120, tgt rew=0.000\n",
      "  dist=7.819\n"
     ]
    },
    {
     "name": "stderr",
     "output_type": "stream",
     "text": [
      " 38%|███▊      | 38/100 [00:49<01:21,  1.31s/it]"
     ]
    },
    {
     "name": "stdout",
     "output_type": "stream",
     "text": [
      "fly_pos: [ 8.42563168 -3.40747165], final reward=0.3734731068567587, state=seeking\n",
      "  dist rew=0.414318, danger=0.000, action diff=0.041, tgt rew=0.000\n",
      "  dist=7.405\n"
     ]
    },
    {
     "name": "stderr",
     "output_type": "stream",
     "text": [
      " 39%|███▉      | 39/100 [00:51<01:21,  1.33s/it]"
     ]
    },
    {
     "name": "stdout",
     "output_type": "stream",
     "text": [
      "fly_pos: [ 8.98307775 -3.13336941], final reward=0.5441030874045998, state=seeking\n",
      "  dist rew=0.621039, danger=0.000, action diff=0.077, tgt rew=0.000\n",
      "  dist=6.784\n"
     ]
    },
    {
     "name": "stderr",
     "output_type": "stream",
     "text": [
      " 40%|████      | 40/100 [00:52<01:23,  1.39s/it]"
     ]
    },
    {
     "name": "stdout",
     "output_type": "stream",
     "text": [
      "fly_pos: [ 9.17828022 -3.1153323 ], final reward=0.14513417195508183, state=seeking\n",
      "  dist rew=0.181048, danger=0.000, action diff=0.036, tgt rew=0.000\n",
      "  dist=6.603\n"
     ]
    },
    {
     "name": "stderr",
     "output_type": "stream",
     "text": [
      " 41%|████      | 41/100 [00:54<01:23,  1.41s/it]"
     ]
    },
    {
     "name": "stdout",
     "output_type": "stream",
     "text": [
      "fly_pos: [ 9.49564966 -2.99693705], final reward=0.22374221682812934, state=seeking\n",
      "  dist rew=0.335520, danger=0.000, action diff=0.112, tgt rew=0.000\n",
      "  dist=6.267\n"
     ]
    },
    {
     "name": "stderr",
     "output_type": "stream",
     "text": [
      " 42%|████▏     | 42/100 [00:55<01:22,  1.43s/it]"
     ]
    },
    {
     "name": "stdout",
     "output_type": "stream",
     "text": [
      "fly_pos: [ 9.82889323 -2.72273021], final reward=0.19894723315189022, state=seeking\n",
      "  dist rew=0.423228, danger=0.000, action diff=0.224, tgt rew=0.000\n",
      "  dist=5.844\n"
     ]
    },
    {
     "name": "stderr",
     "output_type": "stream",
     "text": [
      " 43%|████▎     | 43/100 [00:57<01:21,  1.43s/it]"
     ]
    },
    {
     "name": "stdout",
     "output_type": "stream",
     "text": [
      "fly_pos: [10.16643784 -2.53392191], final reward=0.29523229849733124, state=seeking\n",
      "  dist rew=0.386629, danger=0.000, action diff=0.091, tgt rew=0.000\n",
      "  dist=5.457\n"
     ]
    },
    {
     "name": "stderr",
     "output_type": "stream",
     "text": [
      " 44%|████▍     | 44/100 [00:58<01:20,  1.43s/it]"
     ]
    },
    {
     "name": "stdout",
     "output_type": "stream",
     "text": [
      "fly_pos: [10.68305467 -2.12597987], final reward=0.4053008140626654, state=seeking\n",
      "  dist rew=0.645431, danger=0.000, action diff=0.313, tgt rew=0.000\n",
      "  dist=4.812\n"
     ]
    },
    {
     "name": "stderr",
     "output_type": "stream",
     "text": [
      " 45%|████▌     | 45/100 [00:59<01:17,  1.40s/it]"
     ]
    },
    {
     "name": "stdout",
     "output_type": "stream",
     "text": [
      "fly_pos: [10.9456685  -2.11523388], final reward=0.27099149838279196, state=seeking\n",
      "  dist rew=0.239104, danger=0.000, action diff=0.029, tgt rew=0.000\n",
      "  dist=4.573\n"
     ]
    },
    {
     "name": "stderr",
     "output_type": "stream",
     "text": [
      " 46%|████▌     | 46/100 [01:01<01:13,  1.37s/it]"
     ]
    },
    {
     "name": "stdout",
     "output_type": "stream",
     "text": [
      "fly_pos: [11.41381665 -1.89376629], final reward=0.7680303535282418, state=seeking\n",
      "  dist rew=0.517446, danger=0.000, action diff=0.043, tgt rew=0.000\n",
      "  dist=4.055\n"
     ]
    },
    {
     "name": "stderr",
     "output_type": "stream",
     "text": [
      " 47%|████▋     | 47/100 [01:02<01:10,  1.33s/it]"
     ]
    },
    {
     "name": "stdout",
     "output_type": "stream",
     "text": [
      "fly_pos: [11.7868384  -1.75002852], final reward=0.6496522240977866, state=seeking\n",
      "  dist rew=0.396672, danger=0.000, action diff=0.066, tgt rew=0.000\n",
      "  dist=3.659\n"
     ]
    },
    {
     "name": "stderr",
     "output_type": "stream",
     "text": [
      " 48%|████▊     | 48/100 [01:03<01:07,  1.29s/it]"
     ]
    },
    {
     "name": "stdout",
     "output_type": "stream",
     "text": [
      "fly_pos: [12.28416242 -1.65812326], final reward=0.9517683824446139, state=seeking\n",
      "  dist rew=0.476822, danger=0.000, action diff=0.045, tgt rew=0.000\n",
      "  dist=3.182\n"
     ]
    },
    {
     "name": "stderr",
     "output_type": "stream",
     "text": [
      " 48%|████▊     | 48/100 [01:04<01:10,  1.35s/it]"
     ]
    },
    {
     "name": "stdout",
     "output_type": "stream",
     "text": [
      "fly_pos: [12.87536781 -1.27750626], final reward=30.0, state=success\n",
      "  dist rew=0.702874, danger=0.000, action diff=0.000, tgt rew=0.000\n",
      "  dist=2.479\n",
      "terminated\n",
      "terminated\n"
     ]
    },
    {
     "name": "stderr",
     "output_type": "stream",
     "text": [
      "\n"
     ]
    },
    {
     "data": {
      "text/plain": [
       "[<matplotlib.lines.Line2D at 0x7f6b23520110>]"
      ]
     },
     "execution_count": 6,
     "metadata": {},
     "output_type": "execute_result"
    },
    {
     "data": {
      "image/png": "[encoded data removed]",
      "text/plain": [
       "<Figure size 800x900 with 6 Axes>"
      ]
     },
     "metadata": {},
     "output_type": "display_data"
    }
   ],
   "source": [
    "terrain_arena = FlatTerrain(ground_alpha=1)\n",
    "arena = ObstacleOdorArena(\n",
    "    terrain=terrain_arena,\n",
    "    obstacle_positions=np.array([(7.5, 0)]),\n",
    "    obstacle_radius=1,\n",
    "    odor_source=np.array([[15, 0, 2]]),\n",
    "    marker_size=0.5,\n",
    "    obstacle_colors=(0, 0, 0, 1),\n",
    ")\n",
    "\n",
    "sim = NMFNavigation(\n",
    "    arena=arena,\n",
    "    test_mode=True,\n",
    "    debug_mode=True,\n",
    ")\n",
    "\n",
    "np.random.seed(0)\n",
    "sb3.common.utils.set_random_seed(0, using_cuda=True)\n",
    "\n",
    "start_from = \"logs/trial_17d/trial_17d_117600_steps.zip\"\n",
    "train = False\n",
    "\n",
    "log_dir = \"logs/trial_8\"\n",
    "checkpoint_callback = callbacks.CheckpointCallback(\n",
    "    save_freq=100,\n",
    "    save_path=log_dir,\n",
    "    name_prefix=\"trial_8\",\n",
    "    save_replay_buffer=True,\n",
    "    save_vecnormalize=True,\n",
    "    verbose=2,\n",
    ")\n",
    "my_logger = logger.configure(log_dir, [\"tensorboard\", \"stdout\", \"csv\"])\n",
    "model = sb3.SAC(\n",
    "    \"MlpPolicy\",\n",
    "    # env=sim,\n",
    "    env=sim,\n",
    "    policy_kwargs={\"net_arch\": [16, 16]},\n",
    "    verbose=2,\n",
    "    learning_rate=0.01,\n",
    ")\n",
    "if start_from is not None:\n",
    "    model = sb3.SAC.load(start_from)\n",
    "model.set_logger(my_logger)\n",
    "\n",
    "if train:\n",
    "    model.learn(total_timesteps=50_000, progress_bar=True, callback=checkpoint_callback)\n",
    "    model.save(\"models/trial_8\")\n",
    "\n",
    "obs_hist = []\n",
    "reward_hist = []\n",
    "action_hist = []\n",
    "obs, info = sim.reset()\n",
    "for i in trange(100):\n",
    "    action, _ = model.predict(obs, deterministic=True)    \n",
    "    obs, reward, terminated, truncated, info = sim.step(action)\n",
    "    action_hist.append(action)\n",
    "    obs_hist.append(obs)\n",
    "    reward_hist.append(reward)\n",
    "    if terminated:\n",
    "        print(\"terminated\")\n",
    "        break\n",
    "\n",
    "obs_hist = np.array(obs_hist)\n",
    "reward_hist = np.array(reward_hist)\n",
    "action_hist = np.array(action_hist)\n",
    "\n",
    "sim.save_video(Path(start_from).stem + \".mp4\")\n",
    "\n",
    "fig, axs = plt.subplots(3, 2, figsize=(8, 9), tight_layout=True)\n",
    "axs[0, 0].plot(obs_hist[:, 0])\n",
    "axs[0, 0].plot(obs_hist[:, 1])\n",
    "axs[0, 1].plot(obs_hist[:, 2])\n",
    "axs[0, 1].plot(obs_hist[:, 3])\n",
    "axs[1, 0].plot(obs_hist[:, 4])\n",
    "axs[1, 0].plot(obs_hist[:, 5])\n",
    "axs[1, 1].plot(action_hist)\n",
    "axs[1, 1].set_ylim(-1, 1)\n",
    "axs[2, 0].plot(reward_hist)"
   ]
  },
  {
   "cell_type": "code",
   "execution_count": 7,
   "metadata": {},
   "outputs": [
    {
     "name": "stderr",
     "output_type": "stream",
     "text": [
      "100%|██████████| 5/5 [00:00<00:00, 46.10it/s]\n"
     ]
    }
   ],
   "source": [
    "sample_interval = 30\n",
    "individual_frames_dir = Path(\"outputs/individual_frames\")\n",
    "individual_frames_dir.mkdir(parents=True, exist_ok=True)\n",
    "\n",
    "offset = max(0, len(sim._frames) % sample_interval - 1)\n",
    "# print(len(sim._frames), offset)\n",
    "selected_images = np.array(\n",
    "    [sim._frames[i] for i in range(offset, len(sim._frames), sample_interval)]\n",
    ")\n",
    "background = np.median(np.array(sim._frames), axis=0)\n",
    "\n",
    "for i in trange(0, selected_images.shape[0]):\n",
    "    img = selected_images[i, :, :, :]\n",
    "    is_background = np.isclose(img, background, atol=1).all(axis=2)\n",
    "    img_alpha = np.ones((img.shape[0], img.shape[1], 4)) * 255\n",
    "    img_alpha[:, :, :3] = img\n",
    "    img_alpha[is_background, 3] = 0\n",
    "    img_alpha = img_alpha.astype(np.uint8)\n",
    "    # break\n",
    "    imageio.imwrite(\n",
    "        individual_frames_dir / f\"frame_{i}.png\", img_alpha\n",
    "    )\n",
    "\n",
    "imageio.imwrite(individual_frames_dir / \"background.png\", background.astype(np.uint8))"
   ]
  },
  {
   "cell_type": "code",
   "execution_count": 8,
   "metadata": {},
   "outputs": [
    {
     "data": {
      "text/plain": [
       "147"
      ]
     },
     "execution_count": 8,
     "metadata": {},
     "output_type": "execute_result"
    }
   ],
   "source": [
    "len(sim._frames)"
   ]
  },
  {
   "cell_type": "code",
   "execution_count": 9,
   "metadata": {},
   "outputs": [
    {
     "data": {
      "text/plain": [
       "[26, 56, 86, 116, 146]"
      ]
     },
     "execution_count": 9,
     "metadata": {},
     "output_type": "execute_result"
    }
   ],
   "source": [
    "list(range(offset, len(sim._frames), sample_interval))"
   ]
  },
  {
   "cell_type": "code",
   "execution_count": null,
   "metadata": {},
   "outputs": [],
   "source": []
  }
 ],
 "metadata": {
  "kernelspec": {
   "display_name": "flygym",
   "language": "python",
   "name": "python3"
  },
  "language_info": {
   "codemirror_mode": {
    "name": "ipython",
    "version": 3
   },
   "file_extension": ".py",
   "mimetype": "text/x-python",
   "name": "python",
   "nbconvert_exporter": "python",
   "pygments_lexer": "ipython3",
   "version": "3.11.0"
  },
  "orig_nbformat": 4
 },
 "nbformat": 4,
 "nbformat_minor": 2
}
