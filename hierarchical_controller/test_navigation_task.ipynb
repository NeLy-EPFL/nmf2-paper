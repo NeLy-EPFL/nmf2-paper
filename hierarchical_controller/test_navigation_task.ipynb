{
 "cells": [
  {
   "cell_type": "code",
   "execution_count": 1,
   "metadata": {},
   "outputs": [],
   "source": [
    "%load_ext autoreload\n",
    "%autoreload 2"
   ]
  },
  {
   "cell_type": "code",
   "execution_count": 2,
   "metadata": {},
   "outputs": [
    {
     "name": "stdout",
     "output_type": "stream",
     "text": [
      "pygame 2.5.1 (SDL 2.28.2, Python 3.11.0)\n",
      "Hello from the pygame community. https://www.pygame.org/contribute.html\n"
     ]
    },
    {
     "name": "stderr",
     "output_type": "stream",
     "text": [
      "/home/sibwang/anaconda3/envs/flygym/lib/python3.11/site-packages/torch/utils/tensorboard/__init__.py:4: DeprecationWarning: distutils Version classes are deprecated. Use packaging.version instead.\n",
      "  if not hasattr(tensorboard, \"__version__\") or LooseVersion(\n",
      "/home/sibwang/anaconda3/envs/flygym/lib/python3.11/site-packages/torch/utils/tensorboard/__init__.py:6: DeprecationWarning: distutils Version classes are deprecated. Use packaging.version instead.\n",
      "  ) < LooseVersion(\"1.15\"):\n",
      "/home/sibwang/anaconda3/envs/flygym/lib/python3.11/site-packages/lightning_fabric/__init__.py:36: DeprecationWarning: Deprecated call to `pkg_resources.declare_namespace('lightning_fabric')`.\n",
      "Implementing implicit namespace packages (as specified in PEP 420) is preferred to `pkg_resources.declare_namespace`. See https://setuptools.pypa.io/en/latest/references/keywords.html#keyword-namespace-packages\n",
      "  __import__(\"pkg_resources\").declare_namespace(__name__)\n",
      "/home/sibwang/anaconda3/envs/flygym/lib/python3.11/site-packages/torchmetrics/utilities/imports.py:24: DeprecationWarning: distutils Version classes are deprecated. Use packaging.version instead.\n",
      "  _PYTHON_LOWER_3_8 = LooseVersion(_PYTHON_VERSION) < LooseVersion(\"3.8\")\n",
      "/home/sibwang/anaconda3/envs/flygym/lib/python3.11/site-packages/torchmetrics/utilities/imports.py:24: DeprecationWarning: distutils Version classes are deprecated. Use packaging.version instead.\n",
      "  _PYTHON_LOWER_3_8 = LooseVersion(_PYTHON_VERSION) < LooseVersion(\"3.8\")\n",
      "/home/sibwang/anaconda3/envs/flygym/lib/python3.11/site-packages/pytorch_lightning/__init__.py:36: DeprecationWarning: Deprecated call to `pkg_resources.declare_namespace('pytorch_lightning')`.\n",
      "Implementing implicit namespace packages (as specified in PEP 420) is preferred to `pkg_resources.declare_namespace`. See https://setuptools.pypa.io/en/latest/references/keywords.html#keyword-namespace-packages\n",
      "  __import__(\"pkg_resources\").declare_namespace(__name__)\n"
     ]
    }
   ],
   "source": [
    "import pickle\n",
    "import pkg_resources\n",
    "import matplotlib.pyplot as plt\n",
    "import numpy as np\n",
    "import pandas as pd\n",
    "import gymnasium as gym\n",
    "import stable_baselines3 as sb3\n",
    "import stable_baselines3.common.logger as logger\n",
    "import stable_baselines3.common.callbacks as callbacks\n",
    "import stable_baselines3.common.env_checker as env_checker\n",
    "from dm_control import mjcf\n",
    "from dm_control.rl.control import PhysicsError\n",
    "import imageio\n",
    "import scipy.spatial\n",
    "import torch\n",
    "import torch.nn as nn\n",
    "import torch.optim as optim\n",
    "import torch_geometric as pyg\n",
    "import torch.nn.functional as F\n",
    "import torch_geometric.nn as gnn\n",
    "import torch_geometric.loader as pyg_loader\n",
    "import pytorch_lightning as pl\n",
    "import torchmetrics\n",
    "from torch.utils.data import Dataset\n",
    "from pathlib import Path\n",
    "from typing import Tuple, Callable, Optional, List, Union\n",
    "from tqdm import trange\n",
    "from dm_control.rl.control import PhysicsError\n",
    "from PIL import Image\n",
    "\n",
    "from flygym.arena.mujoco_arena import FlatTerrain\n",
    "from flygym.envs.nmf_mujoco import NeuroMechFlyMuJoCo, MuJoCoParameters\n",
    "from flygym.state import stretched_pose\n",
    "import flygym.util.vision as vision\n",
    "import flygym.util.config as config\n",
    "from flygym.arena import BaseArena\n",
    "from flygym.arena.mujoco_arena import OdorArena, FlatTerrain, GappedTerrain, BlocksTerrain\n",
    "from flygym.util.data import color_cycle_rgb\n",
    "\n",
    "from rl_navigation import ObstacleOdorArena, NMFNavigation"
   ]
  },
  {
   "cell_type": "code",
   "execution_count": 3,
   "metadata": {},
   "outputs": [
    {
     "name": "stderr",
     "output_type": "stream",
     "text": [
      "WARNING:root:Setting spawn pos to MuJoCoParameters(timestep=0.0001, joint_stiffness=0.05, joint_damping=0.06, actuator_kp=30, tarsus_stiffness=2.2, tarsus_damping=0.05, friction=(1.0, 0.005, 0.0001), gravity=(0.0, 0.0, -9810.0), contact_solref=(0.0002, 1000.0), contact_solimp=(0.999, 0.9999, 0.001, 0.5, 2.0), enable_olfaction=True, enable_vision=True, render_raw_vision=True, render_mode='saved', render_window_size=(640, 480), render_playspeed=0.5, render_fps=60, render_camera='birdeye_cam', vision_refresh_rate=20, enable_adhesion=True, adhesion_gain=20, adhesion_off_duration=0.02, adhesion_off_refractory_duration=0.05, draw_adhesion=True, draw_markers=False, draw_contacts=False, force_arrow_scaling=1.0, tip_length=10.0, decompose_contacts=True, contact_threshold=0.1, draw_gravity=False, gravity_arrow_scaling=0.0001, align_camera_with_gravity=False) for turning controller\n",
      "/home/sibwang/anaconda3/envs/flygym/lib/python3.11/site-packages/numba/np/ufunc/parallel.py:371: NumbaWarning: The TBB threading layer requires TBB version 2021 update 6 or later i.e., TBB_INTERFACE_VERSION >= 12060. Found TBB_INTERFACE_VERSION = 12050. The TBB threading layer is disabled.\n",
      "  warnings.warn(problem)\n"
     ]
    },
    {
     "name": "stdout",
     "output_type": "stream",
     "text": [
      "resetting environment\n"
     ]
    }
   ],
   "source": [
    "terrain_arena = FlatTerrain(ground_alpha=1)\n",
    "arena = ObstacleOdorArena(\n",
    "    terrain=terrain_arena,\n",
    "    obstacle_positions=np.array([(10, 0)]),\n",
    "    obstacle_radius=1.5,\n",
    "    odor_source=np.array([[20, 0, 2]]),\n",
    "    marker_size=0.5,\n",
    "    obstacle_colors=(0.14, 0.14, 0.2, 1),\n",
    ")\n",
    "sim = NMFNavigation(\n",
    "    arena=arena,\n",
    "    test_mode=True,\n",
    "    debug_mode=True,\n",
    ")\n",
    "# env_checker.check_env(sim)"
   ]
  },
  {
   "cell_type": "code",
   "execution_count": 4,
   "metadata": {},
   "outputs": [
    {
     "name": "stdout",
     "output_type": "stream",
     "text": [
      "resetting environment\n",
      "resetting environment\n"
     ]
    },
    {
     "name": "stderr",
     "output_type": "stream",
     "text": [
      "  7%|▋         | 1/15 [00:01<00:16,  1.19s/it]"
     ]
    },
    {
     "name": "stdout",
     "output_type": "stream",
     "text": [
      "fly_pos: [  7.52433713 -10.06858912], final reward=3.2918658708870163, state=seeking\n",
      "  dist rew=2.459584, danger=0.000, action diff=0.000, tgt rew=0.832\n",
      "  dist=12.540\n"
     ]
    },
    {
     "name": "stderr",
     "output_type": "stream",
     "text": [
      " 13%|█▎        | 2/15 [00:02<00:17,  1.37s/it]"
     ]
    },
    {
     "name": "stdout",
     "output_type": "stream",
     "text": [
      "fly_pos: [  7.98586545 -10.1912249 ], final reward=1.024513694695472, state=seeking\n",
      "  dist rew=0.168708, danger=0.000, action diff=0.000, tgt rew=0.856\n",
      "  dist=12.372\n"
     ]
    },
    {
     "name": "stderr",
     "output_type": "stream",
     "text": [
      " 20%|██        | 3/15 [00:04<00:18,  1.50s/it]"
     ]
    },
    {
     "name": "stdout",
     "output_type": "stream",
     "text": [
      "fly_pos: [ 8.40695182 -9.82164435], final reward=1.3534581918164128, state=seeking\n",
      "  dist rew=0.542380, danger=0.000, action diff=0.000, tgt rew=0.811\n",
      "  dist=11.829\n"
     ]
    },
    {
     "name": "stderr",
     "output_type": "stream",
     "text": [
      " 27%|██▋       | 4/15 [00:05<00:16,  1.47s/it]"
     ]
    },
    {
     "name": "stdout",
     "output_type": "stream",
     "text": [
      "fly_pos: [ 8.45937769 -9.42266703], final reward=1.2277304285903976, state=seeking\n",
      "  dist rew=0.359088, danger=0.000, action diff=0.000, tgt rew=0.869\n",
      "  dist=11.470\n"
     ]
    },
    {
     "name": "stderr",
     "output_type": "stream",
     "text": [
      " 33%|███▎      | 5/15 [00:07<00:14,  1.47s/it]"
     ]
    },
    {
     "name": "stdout",
     "output_type": "stream",
     "text": [
      "fly_pos: [ 8.80349968 -9.09149614], final reward=1.4351247783402394, state=seeking\n",
      "  dist rew=0.467880, danger=0.000, action diff=0.000, tgt rew=0.967\n",
      "  dist=11.002\n"
     ]
    },
    {
     "name": "stderr",
     "output_type": "stream",
     "text": [
      " 40%|████      | 6/15 [00:08<00:13,  1.46s/it]"
     ]
    },
    {
     "name": "stdout",
     "output_type": "stream",
     "text": [
      "fly_pos: [ 8.98602125 -8.69039795], final reward=1.3118851006085808, state=seeking\n",
      "  dist rew=0.433965, danger=0.000, action diff=0.000, tgt rew=0.878\n",
      "  dist=10.568\n"
     ]
    },
    {
     "name": "stderr",
     "output_type": "stream",
     "text": [
      " 47%|████▋     | 7/15 [00:10<00:11,  1.48s/it]"
     ]
    },
    {
     "name": "stdout",
     "output_type": "stream",
     "text": [
      "fly_pos: [ 9.36583967 -8.30584844], final reward=1.5067469416035326, state=seeking\n",
      "  dist rew=0.531917, danger=0.000, action diff=0.000, tgt rew=0.975\n",
      "  dist=10.036\n"
     ]
    },
    {
     "name": "stderr",
     "output_type": "stream",
     "text": [
      " 53%|█████▎    | 8/15 [00:11<00:10,  1.46s/it]"
     ]
    },
    {
     "name": "stdout",
     "output_type": "stream",
     "text": [
      "fly_pos: [ 9.64914389 -7.95755984], final reward=1.4332077673043595, state=seeking\n",
      "  dist rew=0.447191, danger=0.000, action diff=0.000, tgt rew=0.986\n",
      "  dist=9.589\n"
     ]
    },
    {
     "name": "stderr",
     "output_type": "stream",
     "text": [
      " 60%|██████    | 9/15 [00:13<00:08,  1.47s/it]"
     ]
    },
    {
     "name": "stdout",
     "output_type": "stream",
     "text": [
      "fly_pos: [ 9.9514733  -7.56625194], final reward=1.4182478760702475, state=seeking\n",
      "  dist rew=0.493365, danger=0.000, action diff=0.000, tgt rew=0.925\n",
      "  dist=9.096\n"
     ]
    },
    {
     "name": "stderr",
     "output_type": "stream",
     "text": [
      " 67%|██████▋   | 10/15 [00:14<00:07,  1.45s/it]"
     ]
    },
    {
     "name": "stdout",
     "output_type": "stream",
     "text": [
      "fly_pos: [10.34001934 -7.0735791 ], final reward=1.5970419429082825, state=seeking\n",
      "  dist rew=0.625329, danger=0.000, action diff=0.000, tgt rew=0.972\n",
      "  dist=8.471\n"
     ]
    },
    {
     "name": "stderr",
     "output_type": "stream",
     "text": [
      " 73%|███████▎  | 11/15 [00:16<00:05,  1.47s/it]"
     ]
    },
    {
     "name": "stdout",
     "output_type": "stream",
     "text": [
      "fly_pos: [10.50899285 -6.75471007], final reward=0.896714177480135, state=seeking\n",
      "  dist rew=0.359165, danger=0.000, action diff=0.300, tgt rew=0.838\n",
      "  dist=8.111\n"
     ]
    },
    {
     "name": "stderr",
     "output_type": "stream",
     "text": [
      " 80%|████████  | 12/15 [00:17<00:04,  1.52s/it]"
     ]
    },
    {
     "name": "stdout",
     "output_type": "stream",
     "text": [
      "fly_pos: [11.19805884 -6.88096019], final reward=1.008532338356809, state=seeking\n",
      "  dist rew=0.249979, danger=0.000, action diff=0.000, tgt rew=0.759\n",
      "  dist=7.861\n"
     ]
    },
    {
     "name": "stderr",
     "output_type": "stream",
     "text": [
      " 87%|████████▋ | 13/15 [00:19<00:02,  1.48s/it]"
     ]
    },
    {
     "name": "stdout",
     "output_type": "stream",
     "text": [
      "fly_pos: [11.21781091 -6.69538117], final reward=0.846355690499204, state=seeking\n",
      "  dist rew=0.171644, danger=0.000, action diff=0.000, tgt rew=0.675\n",
      "  dist=7.690\n"
     ]
    },
    {
     "name": "stderr",
     "output_type": "stream",
     "text": [
      " 93%|█████████▎| 14/15 [00:20<00:01,  1.53s/it]"
     ]
    },
    {
     "name": "stdout",
     "output_type": "stream",
     "text": [
      "fly_pos: [11.71397657 -6.5465504 ], final reward=0.9553854340111835, state=seeking\n",
      "  dist rew=0.364828, danger=0.000, action diff=0.000, tgt rew=0.591\n",
      "  dist=7.325\n"
     ]
    },
    {
     "name": "stderr",
     "output_type": "stream",
     "text": [
      "100%|██████████| 15/15 [00:22<00:00,  1.47s/it]"
     ]
    },
    {
     "name": "stdout",
     "output_type": "stream",
     "text": [
      "fly_pos: [11.9525489  -6.85133623], final reward=0.32009318908986173, state=seeking\n",
      "  dist rew=-0.173542, danger=0.000, action diff=0.000, tgt rew=0.494\n",
      "  dist=7.499\n"
     ]
    },
    {
     "name": "stderr",
     "output_type": "stream",
     "text": [
      "\n"
     ]
    }
   ],
   "source": [
    "# from flygym.util.vision import hex_pxls_to_human_readable\n",
    "\n",
    "terrain_arena = FlatTerrain(ground_alpha=1)\n",
    "arena = ObstacleOdorArena(\n",
    "    terrain=terrain_arena,\n",
    "    obstacle_positions=np.array([(7.5, 0)]),\n",
    "    obstacle_radius=1.5,\n",
    "    odor_source=np.array([[15, 0, 2]]),\n",
    "    marker_size=0.5,\n",
    "    obstacle_colors=(0, 0, 0, 1),\n",
    ")\n",
    "sim = NMFNavigation(\n",
    "    spawn_pos=(7.5, -10, 0.2),\n",
    "    spawn_orient=(0, 0, 1, np.pi/4),\n",
    "    arena=arena,\n",
    "    test_mode=True,\n",
    "    debug_mode=True,\n",
    ")\n",
    "\n",
    "obs_hist = []\n",
    "reward_hist = []\n",
    "action_hist = []\n",
    "obs, info = sim.reset()\n",
    "for i in trange(15):\n",
    "    action = np.array([0 if i < 10 else 0.6])\n",
    "    action_hist.append(action)\n",
    "    obs, reward, terminated, truncated, info = sim.step(action)\n",
    "    # fig, axs = plt.subplots(1, 2, figsize=(4, 2))\n",
    "    # for i in range(2):\n",
    "    #     visual_inputs = sim.curr_visual_input[i, :, :]\n",
    "    #     print(visual_inputs.shape, visual_inputs.max())\n",
    "    #     visual_inputs[:, 1] = 0\n",
    "    #     visual_inputs[:, 0][visual_inputs[:, 0] > 50] = 0\n",
    "    #     img = hex_pxls_to_human_readable(visual_inputs)\n",
    "    #     axs[i].imshow(img, cmap=\"gray\", vmin=0, vmax=255)\n",
    "    #     axs[i].axis(\"off\")\n",
    "    # plt.show()\n",
    "    \n",
    "    obs_hist.append(obs)\n",
    "    reward_hist.append(reward)\n",
    "    if terminated:\n",
    "        print(\"terminated\")\n",
    "        break\n",
    "\n",
    "obs_hist = np.array(obs_hist)\n",
    "reward_hist = np.array(reward_hist)\n",
    "action_hist = np.array(action_hist)\n",
    "\n",
    "sim.save_video(\"test2.mp4\")"
   ]
  },
  {
   "cell_type": "code",
   "execution_count": 5,
   "metadata": {},
   "outputs": [
    {
     "data": {
      "text/plain": [
       "<matplotlib.image.AxesImage at 0x7fd37970da50>"
      ]
     },
     "execution_count": 5,
     "metadata": {},
     "output_type": "execute_result"
    },
    {
     "data": {
      "image/png": "[encoded data removed]",
      "text/plain": [
       "<Figure size 640x480 with 1 Axes>"
      ]
     },
     "metadata": {},
     "output_type": "display_data"
    }
   ],
   "source": [
    "plt.imshow(sim._frames[0])"
   ]
  },
  {
   "cell_type": "code",
   "execution_count": 6,
   "metadata": {},
   "outputs": [
    {
     "name": "stderr",
     "output_type": "stream",
     "text": [
      "WARNING:root:Setting spawn pos to MuJoCoParameters(timestep=0.0001, joint_stiffness=0.05, joint_damping=0.06, actuator_kp=30, tarsus_stiffness=2.2, tarsus_damping=0.05, friction=(1.0, 0.005, 0.0001), gravity=(0.0, 0.0, -9810.0), contact_solref=(0.0002, 1000.0), contact_solimp=(0.999, 0.9999, 0.001, 0.5, 2.0), enable_olfaction=True, enable_vision=True, render_raw_vision=True, render_mode='saved', render_window_size=(640, 480), render_playspeed=0.5, render_fps=60, render_camera='birdeye_cam', vision_refresh_rate=20, enable_adhesion=True, adhesion_gain=20, adhesion_off_duration=0.02, adhesion_off_refractory_duration=0.05, draw_adhesion=True, draw_markers=False, draw_contacts=False, force_arrow_scaling=1.0, tip_length=10.0, decompose_contacts=True, contact_threshold=0.1, draw_gravity=False, gravity_arrow_scaling=0.0001, align_camera_with_gravity=False) for turning controller\n"
     ]
    },
    {
     "name": "stdout",
     "output_type": "stream",
     "text": [
      "resetting environment\n",
      "Logging to logs/trial_8\n",
      "Using cuda device\n",
      "Wrapping the env with a `Monitor` wrapper\n",
      "Wrapping the env in a DummyVecEnv.\n",
      "resetting environment\n"
     ]
    },
    {
     "name": "stderr",
     "output_type": "stream",
     "text": [
      "  1%|          | 1/100 [00:01<03:06,  1.88s/it]"
     ]
    },
    {
     "name": "stdout",
     "output_type": "stream",
     "text": [
      "fly_pos: [ 0.06946828 -0.10582025], final reward=-0.9421552379460656, state=seeking\n",
      "  dist rew=0.069093, danger=0.711, action diff=0.301, tgt rew=0.000\n",
      "  dist=14.931\n"
     ]
    },
    {
     "name": "stderr",
     "output_type": "stream",
     "text": [
      "  2%|▏         | 2/100 [00:03<03:08,  1.92s/it]"
     ]
    },
    {
     "name": "stdout",
     "output_type": "stream",
     "text": [
      "fly_pos: [ 0.33449045 -0.46805576], final reward=-1.0244382139326795, state=seeking\n",
      "  dist rew=0.257930, danger=0.603, action diff=0.680, tgt rew=0.000\n",
      "  dist=14.673\n"
     ]
    },
    {
     "name": "stderr",
     "output_type": "stream",
     "text": [
      "  3%|▎         | 3/100 [00:05<02:54,  1.80s/it]"
     ]
    },
    {
     "name": "stdout",
     "output_type": "stream",
     "text": [
      "fly_pos: [ 0.50843833 -0.28448916], final reward=-0.5492692603711218, state=seeking\n",
      "  dist rew=0.178623, danger=0.527, action diff=0.201, tgt rew=0.000\n",
      "  dist=14.494\n"
     ]
    },
    {
     "name": "stderr",
     "output_type": "stream",
     "text": [
      "  4%|▍         | 4/100 [00:07<03:01,  1.89s/it]"
     ]
    },
    {
     "name": "stdout",
     "output_type": "stream",
     "text": [
      "fly_pos: [ 0.83081021 -0.28990829], final reward=-0.2603507466233883, state=seeking\n",
      "  dist rew=0.322199, danger=0.527, action diff=0.055, tgt rew=0.000\n",
      "  dist=14.172\n"
     ]
    },
    {
     "name": "stderr",
     "output_type": "stream",
     "text": [
      "  5%|▌         | 5/100 [00:09<02:54,  1.84s/it]"
     ]
    },
    {
     "name": "stdout",
     "output_type": "stream",
     "text": [
      "fly_pos: [ 1.17151845 -0.37063854], final reward=0.030094284888948497, state=seeking\n",
      "  dist rew=0.338708, danger=0.238, action diff=0.071, tgt rew=0.000\n",
      "  dist=13.833\n"
     ]
    },
    {
     "name": "stderr",
     "output_type": "stream",
     "text": [
      "  6%|▌         | 6/100 [00:11<02:52,  1.83s/it]"
     ]
    },
    {
     "name": "stdout",
     "output_type": "stream",
     "text": [
      "fly_pos: [ 1.39463039 -0.37734462], final reward=0.19647477988707962, state=seeking\n",
      "  dist rew=0.222846, danger=0.000, action diff=0.026, tgt rew=0.000\n",
      "  dist=13.611\n"
     ]
    },
    {
     "name": "stderr",
     "output_type": "stream",
     "text": [
      "  7%|▋         | 7/100 [00:12<02:45,  1.78s/it]"
     ]
    },
    {
     "name": "stdout",
     "output_type": "stream",
     "text": [
      "fly_pos: [ 1.6541319  -0.84938218], final reward=0.10902151688418904, state=seeking\n",
      "  dist rew=0.237732, danger=0.000, action diff=0.129, tgt rew=0.000\n",
      "  dist=13.373\n"
     ]
    },
    {
     "name": "stderr",
     "output_type": "stream",
     "text": [
      "  8%|▊         | 8/100 [00:14<02:43,  1.77s/it]"
     ]
    },
    {
     "name": "stdout",
     "output_type": "stream",
     "text": [
      "fly_pos: [ 1.69333259 -0.67388166], final reward=-0.24296764079437239, state=seeking\n",
      "  dist rew=0.049150, danger=0.000, action diff=0.292, tgt rew=0.000\n",
      "  dist=13.324\n"
     ]
    },
    {
     "name": "stderr",
     "output_type": "stream",
     "text": [
      "  9%|▉         | 9/100 [00:16<02:37,  1.73s/it]"
     ]
    },
    {
     "name": "stdout",
     "output_type": "stream",
     "text": [
      "fly_pos: [ 2.18752437 -0.9634633 ], final reward=0.41923240184225463, state=seeking\n",
      "  dist rew=0.475071, danger=0.000, action diff=0.056, tgt rew=0.000\n",
      "  dist=12.849\n"
     ]
    },
    {
     "name": "stderr",
     "output_type": "stream",
     "text": [
      " 10%|█         | 10/100 [00:17<02:31,  1.68s/it]"
     ]
    },
    {
     "name": "stdout",
     "output_type": "stream",
     "text": [
      "fly_pos: [ 2.48893981 -1.12142987], final reward=0.1353353222701763, state=seeking\n",
      "  dist rew=0.287430, danger=0.000, action diff=0.152, tgt rew=0.000\n",
      "  dist=12.561\n"
     ]
    },
    {
     "name": "stderr",
     "output_type": "stream",
     "text": [
      " 11%|█         | 11/100 [00:19<02:30,  1.69s/it]"
     ]
    },
    {
     "name": "stdout",
     "output_type": "stream",
     "text": [
      "fly_pos: [ 2.55763961 -0.83578265], final reward=-0.014566550833373881, state=seeking\n",
      "  dist rew=0.090820, danger=0.000, action diff=0.105, tgt rew=0.000\n",
      "  dist=12.470\n"
     ]
    },
    {
     "name": "stderr",
     "output_type": "stream",
     "text": [
      " 12%|█▏        | 12/100 [00:20<02:18,  1.57s/it]"
     ]
    },
    {
     "name": "stdout",
     "output_type": "stream",
     "text": [
      "fly_pos: [ 2.68056868 -1.27766087], final reward=-0.3123705797316454, state=seeking\n",
      "  dist rew=0.084892, danger=0.000, action diff=0.397, tgt rew=0.000\n",
      "  dist=12.386\n"
     ]
    },
    {
     "name": "stderr",
     "output_type": "stream",
     "text": [
      " 13%|█▎        | 13/100 [00:22<02:15,  1.55s/it]"
     ]
    },
    {
     "name": "stdout",
     "output_type": "stream",
     "text": [
      "fly_pos: [ 2.97575856 -1.59091218], final reward=0.23329051407502988, state=seeking\n",
      "  dist rew=0.256477, danger=0.000, action diff=0.023, tgt rew=0.000\n",
      "  dist=12.129\n"
     ]
    },
    {
     "name": "stderr",
     "output_type": "stream",
     "text": [
      " 14%|█▍        | 14/100 [00:23<02:16,  1.59s/it]"
     ]
    },
    {
     "name": "stdout",
     "output_type": "stream",
     "text": [
      "fly_pos: [ 3.21628648 -1.83844032], final reward=-0.0068134644728665705, state=seeking\n",
      "  dist rew=0.202767, danger=0.000, action diff=0.210, tgt rew=0.000\n",
      "  dist=11.926\n"
     ]
    },
    {
     "name": "stderr",
     "output_type": "stream",
     "text": [
      " 15%|█▌        | 15/100 [00:25<02:15,  1.60s/it]"
     ]
    },
    {
     "name": "stdout",
     "output_type": "stream",
     "text": [
      "fly_pos: [ 3.53835111 -2.00598407], final reward=0.13198087715913331, state=seeking\n",
      "  dist rew=0.290398, danger=0.000, action diff=0.158, tgt rew=0.000\n",
      "  dist=11.636\n"
     ]
    },
    {
     "name": "stderr",
     "output_type": "stream",
     "text": [
      " 16%|█▌        | 16/100 [00:27<02:12,  1.57s/it]"
     ]
    },
    {
     "name": "stdout",
     "output_type": "stream",
     "text": [
      "fly_pos: [ 3.83840432 -2.16787304], final reward=0.19659367179419185, state=seeking\n",
      "  dist rew=0.265690, danger=0.000, action diff=0.069, tgt rew=0.000\n",
      "  dist=11.370\n"
     ]
    },
    {
     "name": "stderr",
     "output_type": "stream",
     "text": [
      " 17%|█▋        | 17/100 [00:28<02:05,  1.52s/it]"
     ]
    },
    {
     "name": "stdout",
     "output_type": "stream",
     "text": [
      "fly_pos: [ 4.17298175 -2.46817744], final reward=0.1613317335850315, state=seeking\n",
      "  dist rew=0.265392, danger=0.000, action diff=0.104, tgt rew=0.000\n",
      "  dist=11.105\n"
     ]
    },
    {
     "name": "stderr",
     "output_type": "stream",
     "text": [
      " 18%|█▊        | 18/100 [00:29<02:02,  1.49s/it]"
     ]
    },
    {
     "name": "stdout",
     "output_type": "stream",
     "text": [
      "fly_pos: [ 4.6571224  -2.69326607], final reward=0.37818536138083125, state=seeking\n",
      "  dist rew=0.416996, danger=0.000, action diff=0.039, tgt rew=0.000\n",
      "  dist=10.688\n"
     ]
    },
    {
     "name": "stderr",
     "output_type": "stream",
     "text": [
      " 19%|█▉        | 19/100 [00:31<02:00,  1.49s/it]"
     ]
    },
    {
     "name": "stdout",
     "output_type": "stream",
     "text": [
      "fly_pos: [ 4.97320814 -2.99391646], final reward=0.11568209582883071, state=seeking\n",
      "  dist rew=0.223558, danger=0.000, action diff=0.108, tgt rew=0.000\n",
      "  dist=10.464\n"
     ]
    },
    {
     "name": "stderr",
     "output_type": "stream",
     "text": [
      " 20%|██        | 20/100 [00:32<02:00,  1.51s/it]"
     ]
    },
    {
     "name": "stdout",
     "output_type": "stream",
     "text": [
      "fly_pos: [ 5.47195659 -3.16668871], final reward=0.4038355665376461, state=seeking\n",
      "  dist rew=0.423735, danger=0.000, action diff=0.020, tgt rew=0.000\n",
      "  dist=10.040\n"
     ]
    },
    {
     "name": "stderr",
     "output_type": "stream",
     "text": [
      " 21%|██        | 21/100 [00:34<01:58,  1.50s/it]"
     ]
    },
    {
     "name": "stdout",
     "output_type": "stream",
     "text": [
      "fly_pos: [ 5.72997193 -3.29813171], final reward=0.1157289198474647, state=seeking\n",
      "  dist rew=0.201232, danger=0.000, action diff=0.086, tgt rew=0.000\n",
      "  dist=9.839\n"
     ]
    },
    {
     "name": "stderr",
     "output_type": "stream",
     "text": [
      " 22%|██▏       | 22/100 [00:35<01:59,  1.53s/it]"
     ]
    },
    {
     "name": "stdout",
     "output_type": "stream",
     "text": [
      "fly_pos: [ 5.83091157 -3.46786123], final reward=-0.06451017620087107, state=seeking\n",
      "  dist rew=0.036292, danger=0.000, action diff=0.101, tgt rew=0.000\n",
      "  dist=9.803\n"
     ]
    },
    {
     "name": "stderr",
     "output_type": "stream",
     "text": [
      " 23%|██▎       | 23/100 [00:37<01:59,  1.55s/it]"
     ]
    },
    {
     "name": "stdout",
     "output_type": "stream",
     "text": [
      "fly_pos: [ 6.35606412 -3.3352045 ], final reward=0.3740689731520632, state=seeking\n",
      "  dist rew=0.537918, danger=0.000, action diff=0.164, tgt rew=0.000\n",
      "  dist=9.265\n"
     ]
    },
    {
     "name": "stderr",
     "output_type": "stream",
     "text": [
      " 24%|██▍       | 24/100 [00:39<01:59,  1.57s/it]"
     ]
    },
    {
     "name": "stdout",
     "output_type": "stream",
     "text": [
      "fly_pos: [ 6.5209659  -3.39725071], final reward=0.10599096239042893, state=seeking\n",
      "  dist rew=0.130759, danger=0.000, action diff=0.025, tgt rew=0.000\n",
      "  dist=9.134\n"
     ]
    },
    {
     "name": "stderr",
     "output_type": "stream",
     "text": [
      " 25%|██▌       | 25/100 [00:40<02:00,  1.60s/it]"
     ]
    },
    {
     "name": "stdout",
     "output_type": "stream",
     "text": [
      "fly_pos: [ 7.04820348 -3.41297743], final reward=0.4082731633610788, state=seeking\n",
      "  dist rew=0.481001, danger=0.000, action diff=0.073, tgt rew=0.000\n",
      "  dist=8.653\n"
     ]
    },
    {
     "name": "stderr",
     "output_type": "stream",
     "text": [
      " 26%|██▌       | 26/100 [00:42<01:58,  1.60s/it]"
     ]
    },
    {
     "name": "stdout",
     "output_type": "stream",
     "text": [
      "fly_pos: [ 7.35886778 -3.44368095], final reward=0.24678350955946016, state=seeking\n",
      "  dist rew=0.272014, danger=0.000, action diff=0.025, tgt rew=0.000\n",
      "  dist=8.381\n"
     ]
    },
    {
     "name": "stderr",
     "output_type": "stream",
     "text": [
      " 27%|██▋       | 27/100 [00:43<01:53,  1.56s/it]"
     ]
    },
    {
     "name": "stdout",
     "output_type": "stream",
     "text": [
      "fly_pos: [ 7.68822816 -3.53296074], final reward=0.7483959027103984, state=seeking\n",
      "  dist rew=0.260699, danger=0.000, action diff=0.005, tgt rew=0.493\n",
      "  dist=8.121\n"
     ]
    },
    {
     "name": "stderr",
     "output_type": "stream",
     "text": [
      " 28%|██▊       | 28/100 [00:45<01:52,  1.56s/it]"
     ]
    },
    {
     "name": "stdout",
     "output_type": "stream",
     "text": [
      "fly_pos: [ 8.23084405 -3.4194015 ], final reward=0.9741374636202138, state=seeking\n",
      "  dist rew=0.536796, danger=0.000, action diff=0.008, tgt rew=0.445\n",
      "  dist=7.584\n"
     ]
    },
    {
     "name": "stderr",
     "output_type": "stream",
     "text": [
      " 29%|██▉       | 29/100 [00:47<01:52,  1.59s/it]"
     ]
    },
    {
     "name": "stdout",
     "output_type": "stream",
     "text": [
      "fly_pos: [ 8.44215842 -3.47866681], final reward=0.5272866670449368, state=seeking\n",
      "  dist rew=0.160415, danger=0.000, action diff=0.195, tgt rew=0.562\n",
      "  dist=7.423\n"
     ]
    },
    {
     "name": "stderr",
     "output_type": "stream",
     "text": [
      " 30%|███       | 30/100 [00:48<01:52,  1.61s/it]"
     ]
    },
    {
     "name": "stdout",
     "output_type": "stream",
     "text": [
      "fly_pos: [ 8.93177462 -3.45221062], final reward=0.6899037213878398, state=seeking\n",
      "  dist rew=0.441885, danger=0.000, action diff=0.218, tgt rew=0.466\n",
      "  dist=6.981\n"
     ]
    },
    {
     "name": "stderr",
     "output_type": "stream",
     "text": [
      " 31%|███       | 31/100 [00:50<01:49,  1.59s/it]"
     ]
    },
    {
     "name": "stdout",
     "output_type": "stream",
     "text": [
      "fly_pos: [ 8.99024987 -3.54160707], final reward=0.39681378724369365, state=seeking\n",
      "  dist rew=0.005806, danger=0.000, action diff=0.148, tgt rew=0.539\n",
      "  dist=6.976\n"
     ]
    },
    {
     "name": "stderr",
     "output_type": "stream",
     "text": [
      " 32%|███▏      | 32/100 [00:51<01:48,  1.60s/it]"
     ]
    },
    {
     "name": "stdout",
     "output_type": "stream",
     "text": [
      "fly_pos: [ 9.20239541 -3.42009473], final reward=0.5639906895047905, state=seeking\n",
      "  dist rew=0.244462, danger=0.000, action diff=0.296, tgt rew=0.615\n",
      "  dist=6.731\n"
     ]
    },
    {
     "name": "stderr",
     "output_type": "stream",
     "text": [
      " 33%|███▎      | 33/100 [00:53<01:50,  1.64s/it]"
     ]
    },
    {
     "name": "stdout",
     "output_type": "stream",
     "text": [
      "fly_pos: [ 9.63458388 -3.22674332], final reward=0.8021308398775147, state=seeking\n",
      "  dist rew=0.470260, danger=0.000, action diff=0.295, tgt rew=0.627\n",
      "  dist=6.261\n"
     ]
    },
    {
     "name": "stderr",
     "output_type": "stream",
     "text": [
      " 34%|███▍      | 34/100 [00:55<01:50,  1.67s/it]"
     ]
    },
    {
     "name": "stdout",
     "output_type": "stream",
     "text": [
      "fly_pos: [ 9.90471415 -3.22004862], final reward=0.9010287417622098, state=seeking\n",
      "  dist rew=0.233464, danger=0.000, action diff=0.029, tgt rew=0.696\n",
      "  dist=6.027\n"
     ]
    },
    {
     "name": "stderr",
     "output_type": "stream",
     "text": [
      " 35%|███▌      | 35/100 [00:57<01:51,  1.72s/it]"
     ]
    },
    {
     "name": "stdout",
     "output_type": "stream",
     "text": [
      "fly_pos: [10.31870557 -2.97443926], final reward=0.9046949030384648, state=seeking\n",
      "  dist rew=0.481159, danger=0.000, action diff=0.286, tgt rew=0.710\n",
      "  dist=5.546\n"
     ]
    },
    {
     "name": "stderr",
     "output_type": "stream",
     "text": [
      " 36%|███▌      | 36/100 [00:58<01:49,  1.72s/it]"
     ]
    },
    {
     "name": "stdout",
     "output_type": "stream",
     "text": [
      "fly_pos: [10.4782359 -2.9347165], final reward=0.9345340221791084, state=seeking\n",
      "  dist rew=0.155701, danger=0.000, action diff=0.046, tgt rew=0.825\n",
      "  dist=5.391\n"
     ]
    },
    {
     "name": "stderr",
     "output_type": "stream",
     "text": [
      " 37%|███▋      | 37/100 [01:00<01:47,  1.71s/it]"
     ]
    },
    {
     "name": "stdout",
     "output_type": "stream",
     "text": [
      "fly_pos: [10.9154011  -2.74071872], final reward=1.1597820049656062, state=seeking\n",
      "  dist rew=0.471741, danger=0.000, action diff=0.118, tgt rew=0.784\n",
      "  dist=4.919\n"
     ]
    },
    {
     "name": "stderr",
     "output_type": "stream",
     "text": [
      " 38%|███▊      | 38/100 [01:02<01:46,  1.72s/it]"
     ]
    },
    {
     "name": "stdout",
     "output_type": "stream",
     "text": [
      "fly_pos: [10.7501379  -2.43990377], final reward=0.4944752207386508, state=seeking\n",
      "  dist rew=0.018436, danger=0.000, action diff=0.205, tgt rew=0.680\n",
      "  dist=4.900\n"
     ]
    },
    {
     "name": "stderr",
     "output_type": "stream",
     "text": [
      " 39%|███▉      | 39/100 [01:03<01:40,  1.66s/it]"
     ]
    },
    {
     "name": "stdout",
     "output_type": "stream",
     "text": [
      "fly_pos: [10.70451727 -2.2086055 ], final reward=0.16493228891524692, state=seeking\n",
      "  dist rew=0.070433, danger=0.000, action diff=0.566, tgt rew=0.653\n",
      "  dist=4.830\n"
     ]
    },
    {
     "name": "stderr",
     "output_type": "stream",
     "text": [
      " 40%|████      | 40/100 [01:05<01:30,  1.51s/it]"
     ]
    },
    {
     "name": "stdout",
     "output_type": "stream",
     "text": [
      "fly_pos: [11.15650416 -2.13319109], final reward=1.0014017210923394, state=seeking\n",
      "  dist rew=0.434232, danger=0.000, action diff=0.354, tgt rew=0.764\n",
      "  dist=4.396\n"
     ]
    },
    {
     "name": "stderr",
     "output_type": "stream",
     "text": [
      " 41%|████      | 41/100 [01:06<01:24,  1.44s/it]"
     ]
    },
    {
     "name": "stdout",
     "output_type": "stream",
     "text": [
      "fly_pos: [11.62245122 -2.47264023], final reward=0.6482990475806287, state=seeking\n",
      "  dist rew=0.209886, danger=0.000, action diff=0.274, tgt rew=0.610\n",
      "  dist=4.186\n"
     ]
    },
    {
     "name": "stderr",
     "output_type": "stream",
     "text": [
      " 42%|████▏     | 42/100 [01:08<01:29,  1.54s/it]"
     ]
    },
    {
     "name": "stdout",
     "output_type": "stream",
     "text": [
      "fly_pos: [11.80245867 -2.18783279], final reward=1.0299055265569832, state=seeking\n",
      "  dist rew=0.311515, danger=0.000, action diff=0.130, tgt rew=0.638\n",
      "  dist=3.874\n"
     ]
    },
    {
     "name": "stderr",
     "output_type": "stream",
     "text": [
      " 43%|████▎     | 43/100 [01:10<01:33,  1.64s/it]"
     ]
    },
    {
     "name": "stdout",
     "output_type": "stream",
     "text": [
      "fly_pos: [12.00875079 -2.22606688], final reward=0.9488474472160391, state=seeking\n",
      "  dist rew=0.145723, danger=0.000, action diff=0.045, tgt rew=0.737\n",
      "  dist=3.729\n"
     ]
    },
    {
     "name": "stderr",
     "output_type": "stream",
     "text": [
      " 44%|████▍     | 44/100 [01:12<01:38,  1.76s/it]"
     ]
    },
    {
     "name": "stdout",
     "output_type": "stream",
     "text": [
      "fly_pos: [12.51409024 -1.87217472], final reward=2.012617600449557, state=seeking\n",
      "  dist rew=0.616627, danger=0.000, action diff=0.024, tgt rew=0.721\n",
      "  dist=3.112\n"
     ]
    },
    {
     "name": "stderr",
     "output_type": "stream",
     "text": [
      " 45%|████▌     | 45/100 [01:13<01:33,  1.71s/it]"
     ]
    },
    {
     "name": "stdout",
     "output_type": "stream",
     "text": [
      "fly_pos: [12.59802677 -1.95699318], final reward=0.6885628749704736, state=seeking\n",
      "  dist rew=0.013765, danger=0.000, action diff=0.069, tgt rew=0.728\n",
      "  dist=3.098\n"
     ]
    },
    {
     "name": "stderr",
     "output_type": "stream",
     "text": [
      " 46%|████▌     | 46/100 [01:15<01:32,  1.71s/it]"
     ]
    },
    {
     "name": "stdout",
     "output_type": "stream",
     "text": [
      "fly_pos: [12.51572819 -2.27118627], final reward=0.45538446638750185, state=seeking\n",
      "  dist rew=-0.267717, danger=0.000, action diff=0.000, tgt rew=0.986\n",
      "  dist=3.366\n"
     ]
    },
    {
     "name": "stderr",
     "output_type": "stream",
     "text": [
      " 46%|████▌     | 46/100 [01:16<01:30,  1.67s/it]"
     ]
    },
    {
     "name": "stdout",
     "output_type": "stream",
     "text": [
      "fly_pos: [12.69575375 -1.7885542 ], final reward=30.97025995818636, state=success\n",
      "  dist rew=0.449061, danger=0.000, action diff=0.000, tgt rew=0.970\n",
      "  dist=2.917\n",
      "terminated\n",
      "terminated\n"
     ]
    },
    {
     "name": "stderr",
     "output_type": "stream",
     "text": [
      "\n"
     ]
    },
    {
     "data": {
      "text/plain": [
       "[<matplotlib.lines.Line2D at 0x7fd49eb99ed0>]"
      ]
     },
     "execution_count": 6,
     "metadata": {},
     "output_type": "execute_result"
    },
    {
     "data": {
      "image/png": "[encoded data removed]",
      "text/plain": [
       "<Figure size 800x900 with 6 Axes>"
      ]
     },
     "metadata": {},
     "output_type": "display_data"
    }
   ],
   "source": [
    "terrain_arena = FlatTerrain(ground_alpha=1)\n",
    "arena = ObstacleOdorArena(\n",
    "    terrain=terrain_arena,\n",
    "    obstacle_positions=np.array([(7.5, 0)]),\n",
    "    obstacle_radius=1,\n",
    "    odor_source=np.array([[15, 0, 2]]),\n",
    "    marker_size=0.5,\n",
    "    obstacle_colors=(0, 0, 0, 1),\n",
    ")\n",
    "sim = NMFNavigation(\n",
    "    arena=arena,\n",
    "    test_mode=True,\n",
    "    debug_mode=True,\n",
    ")\n",
    "\n",
    "np.random.seed(0)\n",
    "sb3.common.utils.set_random_seed(0, using_cuda=True)\n",
    "\n",
    "start_from = \"logs/trial_17d/trial_17d_199200_steps.zip\"\n",
    "train = False\n",
    "\n",
    "log_dir = \"logs/trial_8\"\n",
    "checkpoint_callback = callbacks.CheckpointCallback(\n",
    "    save_freq=100,\n",
    "    save_path=log_dir,\n",
    "    name_prefix=\"trial_8\",\n",
    "    save_replay_buffer=True,\n",
    "    save_vecnormalize=True,\n",
    "    verbose=2,\n",
    ")\n",
    "my_logger = logger.configure(log_dir, [\"tensorboard\", \"stdout\", \"csv\"])\n",
    "model = sb3.SAC(\n",
    "    \"MlpPolicy\",\n",
    "    # env=sim,\n",
    "    env=sim,\n",
    "    policy_kwargs={\"net_arch\": [16, 16]},\n",
    "    verbose=2,\n",
    "    learning_rate=0.01,\n",
    ")\n",
    "if start_from is not None:\n",
    "    model = sb3.SAC.load(start_from)\n",
    "model.set_logger(my_logger)\n",
    "\n",
    "if train:\n",
    "    model.learn(total_timesteps=50_000, progress_bar=True, callback=checkpoint_callback)\n",
    "    model.save(\"models/trial_8\")\n",
    "\n",
    "obs_hist = []\n",
    "reward_hist = []\n",
    "action_hist = []\n",
    "obs, info = sim.reset()\n",
    "for i in trange(100):\n",
    "    action, _ = model.predict(obs, deterministic=True)    \n",
    "    obs, reward, terminated, truncated, info = sim.step(action)\n",
    "    action_hist.append(action)\n",
    "    obs_hist.append(obs)\n",
    "    reward_hist.append(reward)\n",
    "    if terminated:\n",
    "        print(\"terminated\")\n",
    "        break\n",
    "\n",
    "obs_hist = np.array(obs_hist)\n",
    "reward_hist = np.array(reward_hist)\n",
    "action_hist = np.array(action_hist)\n",
    "\n",
    "sim.save_video(Path(start_from).stem + \".mp4\")\n",
    "\n",
    "fig, axs = plt.subplots(3, 2, figsize=(8, 9), tight_layout=True)\n",
    "axs[0, 0].plot(obs_hist[:, 0])\n",
    "axs[0, 0].plot(obs_hist[:, 1])\n",
    "axs[0, 1].plot(obs_hist[:, 2])\n",
    "axs[0, 1].plot(obs_hist[:, 3])\n",
    "axs[1, 0].plot(obs_hist[:, 4])\n",
    "axs[1, 0].plot(obs_hist[:, 5])\n",
    "axs[1, 1].plot(action_hist)\n",
    "axs[1, 1].set_ylim(-1, 1)\n",
    "axs[2, 0].plot(reward_hist)"
   ]
  },
  {
   "cell_type": "code",
   "execution_count": null,
   "metadata": {},
   "outputs": [],
   "source": []
  }
 ],
 "metadata": {
  "kernelspec": {
   "display_name": "flygym",
   "language": "python",
   "name": "python3"
  },
  "language_info": {
   "codemirror_mode": {
    "name": "ipython",
    "version": 3
   },
   "file_extension": ".py",
   "mimetype": "text/x-python",
   "name": "python",
   "nbconvert_exporter": "python",
   "pygments_lexer": "ipython3",
   "version": "3.11.0"
  },
  "orig_nbformat": 4
 },
 "nbformat": 4,
 "nbformat_minor": 2
}
