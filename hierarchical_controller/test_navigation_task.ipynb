{
 "cells": [
  {
   "cell_type": "code",
   "execution_count": null,
   "metadata": {},
   "outputs": [],
   "source": [
    "%load_ext autoreload\n",
    "%autoreload 2"
   ]
  },
  {
   "cell_type": "code",
   "execution_count": 1,
   "metadata": {},
   "outputs": [
    {
     "name": "stdout",
     "output_type": "stream",
     "text": [
      "pygame 2.5.1 (SDL 2.28.2, Python 3.11.0)\n",
      "Hello from the pygame community. https://www.pygame.org/contribute.html\n"
     ]
    },
    {
     "name": "stderr",
     "output_type": "stream",
     "text": [
      "/home/sibwang/anaconda3/envs/flygym/lib/python3.11/site-packages/torch/utils/tensorboard/__init__.py:4: DeprecationWarning: distutils Version classes are deprecated. Use packaging.version instead.\n",
      "  if not hasattr(tensorboard, \"__version__\") or LooseVersion(\n",
      "/home/sibwang/anaconda3/envs/flygym/lib/python3.11/site-packages/torch/utils/tensorboard/__init__.py:6: DeprecationWarning: distutils Version classes are deprecated. Use packaging.version instead.\n",
      "  ) < LooseVersion(\"1.15\"):\n",
      "/home/sibwang/anaconda3/envs/flygym/lib/python3.11/site-packages/lightning_fabric/__init__.py:36: DeprecationWarning: Deprecated call to `pkg_resources.declare_namespace('lightning_fabric')`.\n",
      "Implementing implicit namespace packages (as specified in PEP 420) is preferred to `pkg_resources.declare_namespace`. See https://setuptools.pypa.io/en/latest/references/keywords.html#keyword-namespace-packages\n",
      "  __import__(\"pkg_resources\").declare_namespace(__name__)\n",
      "/home/sibwang/anaconda3/envs/flygym/lib/python3.11/site-packages/torchmetrics/utilities/imports.py:24: DeprecationWarning: distutils Version classes are deprecated. Use packaging.version instead.\n",
      "  _PYTHON_LOWER_3_8 = LooseVersion(_PYTHON_VERSION) < LooseVersion(\"3.8\")\n",
      "/home/sibwang/anaconda3/envs/flygym/lib/python3.11/site-packages/torchmetrics/utilities/imports.py:24: DeprecationWarning: distutils Version classes are deprecated. Use packaging.version instead.\n",
      "  _PYTHON_LOWER_3_8 = LooseVersion(_PYTHON_VERSION) < LooseVersion(\"3.8\")\n",
      "/home/sibwang/anaconda3/envs/flygym/lib/python3.11/site-packages/pytorch_lightning/__init__.py:36: DeprecationWarning: Deprecated call to `pkg_resources.declare_namespace('pytorch_lightning')`.\n",
      "Implementing implicit namespace packages (as specified in PEP 420) is preferred to `pkg_resources.declare_namespace`. See https://setuptools.pypa.io/en/latest/references/keywords.html#keyword-namespace-packages\n",
      "  __import__(\"pkg_resources\").declare_namespace(__name__)\n"
     ]
    }
   ],
   "source": [
    "import pickle\n",
    "import pkg_resources\n",
    "import matplotlib.pyplot as plt\n",
    "import numpy as np\n",
    "import pandas as pd\n",
    "import gymnasium as gym\n",
    "import stable_baselines3 as sb3\n",
    "import stable_baselines3.common.logger as logger\n",
    "import stable_baselines3.common.callbacks as callbacks\n",
    "import stable_baselines3.common.env_checker as env_checker\n",
    "from dm_control import mjcf\n",
    "from dm_control.rl.control import PhysicsError\n",
    "import imageio\n",
    "import scipy.spatial\n",
    "import torch\n",
    "import torch.nn as nn\n",
    "import torch.optim as optim\n",
    "import torch_geometric as pyg\n",
    "import torch.nn.functional as F\n",
    "import torch_geometric.nn as gnn\n",
    "import torch_geometric.loader as pyg_loader\n",
    "import pytorch_lightning as pl\n",
    "import torchmetrics\n",
    "from torch.utils.data import Dataset\n",
    "from pathlib import Path\n",
    "from typing import Tuple, Callable, Optional, List, Union\n",
    "from tqdm import trange\n",
    "from dm_control.rl.control import PhysicsError\n",
    "from PIL import Image\n",
    "\n",
    "from flygym.arena.mujoco_arena import FlatTerrain\n",
    "from flygym.envs.nmf_mujoco import NeuroMechFlyMuJoCo, MuJoCoParameters\n",
    "from flygym.state import stretched_pose\n",
    "import flygym.util.vision as vision\n",
    "import flygym.util.config as config\n",
    "from flygym.arena import BaseArena\n",
    "from flygym.arena.mujoco_arena import OdorArena, FlatTerrain, GappedTerrain, BlocksTerrain\n",
    "from flygym.util.data import color_cycle_rgb\n",
    "\n",
    "from rl_navigation import ObstacleOdorArena, NMFNavigation"
   ]
  },
  {
   "cell_type": "code",
   "execution_count": 2,
   "metadata": {},
   "outputs": [],
   "source": [
    "def make_arena():\n",
    "    terrain_arena = FlatTerrain(ground_alpha=1)\n",
    "    odor_arena = ObstacleOdorArena(\n",
    "        terrain=terrain_arena,\n",
    "        obstacle_positions=np.array([(7.5, 0)]),\n",
    "        obstacle_radius=1,\n",
    "        odor_source=np.array([[15, 0, 2]]),\n",
    "        marker_size=0.5,\n",
    "        obstacle_colors=(0, 0, 0, 1),\n",
    "    )\n",
    "    return odor_arena"
   ]
  },
  {
   "cell_type": "code",
   "execution_count": 4,
   "metadata": {},
   "outputs": [
    {
     "name": "stdout",
     "output_type": "stream",
     "text": [
      "resetting environment\n"
     ]
    },
    {
     "name": "stderr",
     "output_type": "stream",
     "text": [
      " 10%|█         | 1/10 [00:06<01:02,  6.96s/it]"
     ]
    },
    {
     "name": "stdout",
     "output_type": "stream",
     "text": [
      "fly_pos: [-0.21471979  1.80523878], final reward=-0.3214420092717791, state=seeking\n",
      "  dist rew=-0.321442, danger=0.000, action diff=0.000, tgt rew=0.000\n",
      "  dist=15.321\n"
     ]
    },
    {
     "name": "stderr",
     "output_type": "stream",
     "text": [
      " 20%|██        | 2/10 [00:13<00:51,  6.43s/it]"
     ]
    },
    {
     "name": "stdout",
     "output_type": "stream",
     "text": [
      "fly_pos: [0.09874248 2.50699214], final reward=0.210767464371294, state=seeking\n",
      "  dist rew=0.210767, danger=0.000, action diff=0.000, tgt rew=0.000\n",
      "  dist=15.111\n"
     ]
    },
    {
     "name": "stderr",
     "output_type": "stream",
     "text": [
      " 30%|███       | 3/10 [00:17<00:40,  5.75s/it]"
     ]
    },
    {
     "name": "stdout",
     "output_type": "stream",
     "text": [
      "fly_pos: [0.72033509 3.1706637 ], final reward=0.4832366857784258, state=seeking\n",
      "  dist rew=0.483237, danger=0.000, action diff=0.000, tgt rew=0.000\n",
      "  dist=14.627\n"
     ]
    },
    {
     "name": "stderr",
     "output_type": "stream",
     "text": [
      " 40%|████      | 4/10 [00:22<00:31,  5.25s/it]"
     ]
    },
    {
     "name": "stdout",
     "output_type": "stream",
     "text": [
      "fly_pos: [1.71305105 3.96865424], final reward=0.7604544531885757, state=seeking\n",
      "  dist rew=0.760454, danger=0.000, action diff=0.000, tgt rew=0.000\n",
      "  dist=13.867\n"
     ]
    },
    {
     "name": "stderr",
     "output_type": "stream",
     "text": [
      " 50%|█████     | 5/10 [00:27<00:25,  5.03s/it]"
     ]
    },
    {
     "name": "stdout",
     "output_type": "stream",
     "text": [
      "fly_pos: [2.67684919 4.62562315], final reward=0.7042923681866728, state=seeking\n",
      "  dist rew=0.704292, danger=0.000, action diff=0.000, tgt rew=0.000\n",
      "  dist=13.163\n"
     ]
    },
    {
     "name": "stderr",
     "output_type": "stream",
     "text": [
      " 60%|██████    | 6/10 [00:32<00:21,  5.27s/it]"
     ]
    },
    {
     "name": "stdout",
     "output_type": "stream",
     "text": [
      "fly_pos: [3.84826968 5.35107412], final reward=0.7935729074365572, state=seeking\n",
      "  dist rew=0.793573, danger=0.000, action diff=0.000, tgt rew=0.000\n",
      "  dist=12.369\n"
     ]
    },
    {
     "name": "stderr",
     "output_type": "stream",
     "text": [
      " 70%|███████   | 7/10 [00:38<00:16,  5.44s/it]"
     ]
    },
    {
     "name": "stdout",
     "output_type": "stream",
     "text": [
      "fly_pos: [4.76626065 6.10212246], final reward=0.45419809465571426, state=seeking\n",
      "  dist rew=0.454198, danger=0.000, action diff=0.000, tgt rew=0.000\n",
      "  dist=11.915\n"
     ]
    },
    {
     "name": "stderr",
     "output_type": "stream",
     "text": [
      " 80%|████████  | 8/10 [00:43<00:10,  5.37s/it]"
     ]
    },
    {
     "name": "stdout",
     "output_type": "stream",
     "text": [
      "fly_pos: [4.22541123 6.59594877], final reward=-1.0183021769419913, state=seeking\n",
      "  dist rew=-0.718302, danger=0.000, action diff=0.300, tgt rew=0.000\n",
      "  dist=12.633\n"
     ]
    },
    {
     "name": "stderr",
     "output_type": "stream",
     "text": [
      " 90%|█████████ | 9/10 [00:48<00:05,  5.24s/it]"
     ]
    },
    {
     "name": "stdout",
     "output_type": "stream",
     "text": [
      "fly_pos: [5.52735735 6.45175844], final reward=1.1721513335395866, state=seeking\n",
      "  dist rew=1.172151, danger=0.000, action diff=0.000, tgt rew=0.000\n",
      "  dist=11.461\n"
     ]
    },
    {
     "name": "stderr",
     "output_type": "stream",
     "text": [
      "100%|██████████| 10/10 [00:54<00:00,  5.46s/it]"
     ]
    },
    {
     "name": "stdout",
     "output_type": "stream",
     "text": [
      "fly_pos: [6.4319825  5.85692724], final reward=1.0825102566711013, state=seeking\n",
      "  dist rew=1.082510, danger=0.000, action diff=0.000, tgt rew=0.000\n",
      "  dist=10.379\n"
     ]
    },
    {
     "name": "stderr",
     "output_type": "stream",
     "text": [
      "\n"
     ]
    }
   ],
   "source": [
    "# from flygym.util.vision import hex_pxls_to_human_readable\n",
    "\n",
    "sim = NMFNavigation(\n",
    "    spawn_pos=(7.5, 10, 0.2),\n",
    "    spawn_orient=(0, 0, np.pi / 2),\n",
    "    arena_factory=make_arena,\n",
    "    test_mode=True,\n",
    "    debug_mode=True,\n",
    "    decision_dt=0.1,\n",
    ")\n",
    "\n",
    "obs_hist = []\n",
    "reward_hist = []\n",
    "action_hist = []\n",
    "obs, info = sim.reset(spawn_pos=(0, 2, 0.2), spawn_orient=(0, 0, np.pi / 2 + np.deg2rad(45)))\n",
    "for i in trange(10):\n",
    "    action = np.array([0 if i < 7 else 0.6])\n",
    "    action_hist.append(action)\n",
    "    obs, reward, terminated, truncated, info = sim.step(action)\n",
    "    # fig, axs = plt.subplots(1, 2, figsize=(4, 2))\n",
    "    # for i in range(2):\n",
    "    #     visual_inputs = sim.curr_visual_input[i, :, :]\n",
    "    #     print(visual_inputs.shape, visual_inputs.max())\n",
    "    #     visual_inputs[:, 1] = 0\n",
    "    #     visual_inputs[:, 0][visual_inputs[:, 0] > 50] = 0\n",
    "    #     img = hex_pxls_to_human_readable(visual_inputs)\n",
    "    #     axs[i].imshow(img, cmap=\"gray\", vmin=0, vmax=255)\n",
    "    #     axs[i].axis(\"off\")\n",
    "    # plt.show()\n",
    "    \n",
    "    obs_hist.append(obs)\n",
    "    reward_hist.append(reward)\n",
    "    if terminated:\n",
    "        print(\"terminated\")\n",
    "        break\n",
    "\n",
    "obs_hist = np.array(obs_hist)\n",
    "reward_hist = np.array(reward_hist)\n",
    "action_hist = np.array(action_hist)\n",
    "\n",
    "sim.controller.save_video(\"test2.mp4\")"
   ]
  },
  {
   "cell_type": "code",
   "execution_count": 5,
   "metadata": {},
   "outputs": [
    {
     "data": {
      "text/plain": [
       "<matplotlib.image.AxesImage at 0x7f5418d23c90>"
      ]
     },
     "execution_count": 5,
     "metadata": {},
     "output_type": "execute_result"
    },
    {
     "data": {
      "image/png": "[encoded data removed]",
      "text/plain": [
       "<Figure size 640x480 with 1 Axes>"
      ]
     },
     "metadata": {},
     "output_type": "display_data"
    }
   ],
   "source": [
    "plt.imshow(sim.controller._frames[0])"
   ]
  },
  {
   "cell_type": "code",
   "execution_count": 7,
   "metadata": {},
   "outputs": [
    {
     "name": "stderr",
     "output_type": "stream",
     "text": [
      "WARNING:root:Setting spawn pos to MuJoCoParameters(timestep=0.0001, joint_stiffness=0.05, joint_damping=0.06, actuator_kp=30, tarsus_stiffness=2.2, tarsus_damping=0.05, friction=(1.0, 0.005, 0.0001), gravity=(0.0, 0.0, -9810.0), contact_solref=(0.0002, 1000.0), contact_solimp=(0.999, 0.9999, 0.001, 0.5, 2.0), enable_olfaction=True, enable_vision=True, render_raw_vision=True, render_mode='saved', render_window_size=(640, 480), render_playspeed=0.5, render_fps=30, render_camera='birdeye_cam', vision_refresh_rate=20, enable_adhesion=True, adhesion_gain=20, adhesion_off_duration=0.02, adhesion_off_refractory_duration=0.05, draw_adhesion=False, draw_markers=False, draw_contacts=False, force_arrow_scaling=1.0, tip_length=10.0, decompose_contacts=True, contact_threshold=0.1, draw_gravity=False, gravity_arrow_scaling=0.0001, align_camera_with_gravity=False, camera_follows_fly_orientation=False) for turning controller\n"
     ]
    },
    {
     "name": "stdout",
     "output_type": "stream",
     "text": [
      "Logging to logs/trial_8\n",
      "Using cuda device\n",
      "Wrapping the env with a `Monitor` wrapper\n",
      "Wrapping the env in a DummyVecEnv.\n",
      "resetting environment\n"
     ]
    },
    {
     "name": "stderr",
     "output_type": "stream",
     "text": [
      "  1%|          | 1/100 [00:03<05:23,  3.27s/it]"
     ]
    },
    {
     "name": "stdout",
     "output_type": "stream",
     "text": [
      "fly_pos: [0.10338673 0.01977945], final reward=-1.2629470983745361, state=seeking\n",
      "  dist rew=0.103374, danger=0.683, action diff=0.000, tgt rew=0.000\n",
      "  dist=14.897\n"
     ]
    },
    {
     "name": "stderr",
     "output_type": "stream",
     "text": [
      "  2%|▏         | 2/100 [00:05<04:27,  2.73s/it]"
     ]
    },
    {
     "name": "stdout",
     "output_type": "stream",
     "text": [
      "fly_pos: [-0.10715183  0.1606728 ], final reward=-1.1847141749067545, state=seeking\n",
      "  dist rew=-0.211380, danger=0.478, action diff=0.016, tgt rew=0.000\n",
      "  dist=15.108\n"
     ]
    },
    {
     "name": "stderr",
     "output_type": "stream",
     "text": [
      "  3%|▎         | 3/100 [00:10<05:38,  3.49s/it]"
     ]
    },
    {
     "name": "stdout",
     "output_type": "stream",
     "text": [
      "fly_pos: [0.15870662 0.20590112], final reward=-1.1446924630008966, state=seeking\n",
      "  dist rew=0.265285, danger=0.705, action diff=0.000, tgt rew=0.000\n",
      "  dist=14.843\n"
     ]
    },
    {
     "name": "stderr",
     "output_type": "stream",
     "text": [
      "  4%|▍         | 4/100 [00:13<05:16,  3.29s/it]"
     ]
    },
    {
     "name": "stdout",
     "output_type": "stream",
     "text": [
      "fly_pos: [0.65758562 0.21720672], final reward=-0.6660533624784366, state=seeking\n",
      "  dist rew=0.498663, danger=0.581, action diff=0.002, tgt rew=0.000\n",
      "  dist=14.344\n"
     ]
    },
    {
     "name": "stderr",
     "output_type": "stream",
     "text": [
      "  5%|▌         | 5/100 [00:15<04:42,  2.97s/it]"
     ]
    },
    {
     "name": "stdout",
     "output_type": "stream",
     "text": [
      "fly_pos: [1.02031696 0.18801649], final reward=-0.8546345508825532, state=seeking\n",
      "  dist rew=0.363112, danger=0.608, action diff=0.002, tgt rew=0.000\n",
      "  dist=13.981\n"
     ]
    },
    {
     "name": "stderr",
     "output_type": "stream",
     "text": [
      "  6%|▌         | 6/100 [00:19<05:30,  3.52s/it]"
     ]
    },
    {
     "name": "stdout",
     "output_type": "stream",
     "text": [
      "fly_pos: [1.65870303 0.24390446], final reward=-1.3302094616713673, state=seeking\n",
      "  dist rew=0.637421, danger=0.984, action diff=0.001, tgt rew=0.000\n",
      "  dist=13.344\n"
     ]
    },
    {
     "name": "stderr",
     "output_type": "stream",
     "text": [
      "  7%|▋         | 7/100 [00:22<05:10,  3.34s/it]"
     ]
    },
    {
     "name": "stdout",
     "output_type": "stream",
     "text": [
      "fly_pos: [2.21756945 0.18272633], final reward=-0.7241579862229823, state=seeking\n",
      "  dist rew=0.559790, danger=0.642, action diff=0.001, tgt rew=0.000\n",
      "  dist=12.784\n"
     ]
    },
    {
     "name": "stderr",
     "output_type": "stream",
     "text": [
      "  8%|▊         | 8/100 [00:26<05:01,  3.28s/it]"
     ]
    },
    {
     "name": "stdout",
     "output_type": "stream",
     "text": [
      "fly_pos: [2.90942981 0.30785138], final reward=-0.9804364604923586, state=seeking\n",
      "  dist rew=0.689248, danger=0.835, action diff=0.000, tgt rew=0.000\n",
      "  dist=12.094\n"
     ]
    },
    {
     "name": "stderr",
     "output_type": "stream",
     "text": [
      "  9%|▉         | 9/100 [00:28<04:36,  3.04s/it]"
     ]
    },
    {
     "name": "stdout",
     "output_type": "stream",
     "text": [
      "fly_pos: [3.35397519 0.23960373], final reward=-1.5409191813575938, state=seeking\n",
      "  dist rew=0.445999, danger=0.993, action diff=0.000, tgt rew=0.000\n",
      "  dist=11.648\n"
     ]
    },
    {
     "name": "stderr",
     "output_type": "stream",
     "text": [
      " 10%|█         | 10/100 [00:31<04:26,  2.96s/it]"
     ]
    },
    {
     "name": "stdout",
     "output_type": "stream",
     "text": [
      "fly_pos: [3.95360284 0.36080121], final reward=-0.6866859290617369, state=seeking\n",
      "  dist rew=0.596201, danger=0.641, action diff=0.000, tgt rew=0.000\n",
      "  dist=11.052\n"
     ]
    },
    {
     "name": "stderr",
     "output_type": "stream",
     "text": [
      " 11%|█         | 11/100 [00:33<04:03,  2.74s/it]"
     ]
    },
    {
     "name": "stdout",
     "output_type": "stream",
     "text": [
      "fly_pos: [4.73517805 0.41075331], final reward=-0.9566375056640233, state=seeking\n",
      "  dist rew=0.779251, danger=0.868, action diff=0.000, tgt rew=0.000\n",
      "  dist=10.273\n"
     ]
    },
    {
     "name": "stderr",
     "output_type": "stream",
     "text": [
      " 11%|█         | 11/100 [00:36<04:56,  3.33s/it]"
     ]
    },
    {
     "name": "stdout",
     "output_type": "stream",
     "text": [
      "fly_pos: [5.17129531 0.43538246], final reward=-2.668306908130384, state=collision\n",
      "  dist rew=0.434694, danger=0.834, action diff=0.000, tgt rew=0.000\n",
      "  dist=9.838\n",
      "terminated\n",
      "terminated\n"
     ]
    },
    {
     "name": "stderr",
     "output_type": "stream",
     "text": [
      "\n"
     ]
    },
    {
     "data": {
      "text/plain": [
       "[<matplotlib.lines.Line2D at 0x7f553b9973d0>]"
      ]
     },
     "execution_count": 7,
     "metadata": {},
     "output_type": "execute_result"
    },
    {
     "data": {
      "image/png": "[encoded data removed]",
      "text/plain": [
       "<Figure size 800x900 with 6 Axes>"
      ]
     },
     "metadata": {},
     "output_type": "display_data"
    }
   ],
   "source": [
    "sim = NMFNavigation(\n",
    "    arena_factory=make_arena,\n",
    "    test_mode=True,\n",
    "    debug_mode=True,\n",
    ")\n",
    "\n",
    "np.random.seed(0)\n",
    "sb3.common.utils.set_random_seed(0, using_cuda=True)\n",
    "start_from = \"logs/trial_23/trial_23_90000_steps.zip\"\n",
    "train = False\n",
    "\n",
    "log_dir = \"logs/trial_8\"\n",
    "checkpoint_callback = callbacks.CheckpointCallback(\n",
    "    save_freq=100,\n",
    "    save_path=log_dir,\n",
    "    name_prefix=\"trial_8\",\n",
    "    save_replay_buffer=True,\n",
    "    save_vecnormalize=True,\n",
    "    verbose=2,\n",
    ")\n",
    "my_logger = logger.configure(log_dir, [\"tensorboard\", \"stdout\", \"csv\"])\n",
    "model = sb3.SAC(\n",
    "    \"MlpPolicy\",\n",
    "    # env=sim,\n",
    "    env=sim,\n",
    "    policy_kwargs={\"net_arch\": [16, 16]},\n",
    "    verbose=2,\n",
    "    learning_rate=0.01,\n",
    ")\n",
    "if start_from is not None:\n",
    "    model = sb3.SAC.load(start_from)\n",
    "model.set_logger(my_logger)\n",
    "\n",
    "if train:\n",
    "    model.learn(total_timesteps=50_000, progress_bar=True, callback=checkpoint_callback)\n",
    "    model.save(\"models/trial_8\")\n",
    "\n",
    "obs_hist = []\n",
    "reward_hist = []\n",
    "action_hist = []\n",
    "obs, info = sim.reset(spawn_pos=[0, 0, 0.2])\n",
    "for i in trange(100):\n",
    "    action, _ = model.predict(obs, deterministic=True)    \n",
    "    obs, reward, terminated, truncated, info = sim.step(action)\n",
    "    action_hist.append(action)\n",
    "    obs_hist.append(obs)\n",
    "    reward_hist.append(reward)\n",
    "    if terminated:\n",
    "        print(\"terminated\")\n",
    "        break\n",
    "\n",
    "obs_hist = np.array(obs_hist)\n",
    "reward_hist = np.array(reward_hist)\n",
    "action_hist = np.array(action_hist)\n",
    "\n",
    "sim.controller.save_video(Path(start_from).stem + \".mp4\")\n",
    "\n",
    "fig, axs = plt.subplots(3, 2, figsize=(8, 9), tight_layout=True)\n",
    "axs[0, 0].plot(obs_hist[:, 0])\n",
    "axs[0, 0].plot(obs_hist[:, 1])\n",
    "axs[0, 1].plot(obs_hist[:, 2])\n",
    "axs[0, 1].plot(obs_hist[:, 3])\n",
    "axs[1, 0].plot(obs_hist[:, 4])\n",
    "axs[1, 0].plot(obs_hist[:, 5])\n",
    "axs[1, 1].plot(action_hist)\n",
    "axs[1, 1].set_ylim(-1, 1)\n",
    "axs[2, 0].plot(reward_hist)"
   ]
  },
  {
   "cell_type": "code",
   "execution_count": null,
   "metadata": {},
   "outputs": [],
   "source": [
    "# sample_interval = 30\n",
    "# individual_frames_dir = Path(\"outputs/individual_frames\")\n",
    "# individual_frames_dir.mkdir(parents=True, exist_ok=True)\n",
    "\n",
    "# offset = max(0, len(sim._frames) % sample_interval - 1)\n",
    "# # print(len(sim._frames), offset)\n",
    "# selected_images = np.array(\n",
    "#     [sim._frames[i] for i in range(offset, len(sim._frames), sample_interval)]\n",
    "# )\n",
    "# background = np.median(np.array(sim._frames), axis=0)\n",
    "\n",
    "# for i in trange(0, selected_images.shape[0]):\n",
    "#     img = selected_images[i, :, :, :]\n",
    "#     is_background = np.isclose(img, background, atol=1).all(axis=2)\n",
    "#     img_alpha = np.ones((img.shape[0], img.shape[1], 4)) * 255\n",
    "#     img_alpha[:, :, :3] = img\n",
    "#     img_alpha[is_background, 3] = 0\n",
    "#     img_alpha = img_alpha.astype(np.uint8)\n",
    "#     # break\n",
    "#     imageio.imwrite(\n",
    "#         individual_frames_dir / f\"frame_{i}.png\", img_alpha\n",
    "#     )\n",
    "\n",
    "# imageio.imwrite(individual_frames_dir / \"background.png\", background.astype(np.uint8))"
   ]
  },
  {
   "cell_type": "code",
   "execution_count": null,
   "metadata": {},
   "outputs": [],
   "source": [
    "len(sim._frames)"
   ]
  },
  {
   "cell_type": "code",
   "execution_count": null,
   "metadata": {},
   "outputs": [],
   "source": [
    "list(range(offset, len(sim._frames), sample_interval))"
   ]
  },
  {
   "cell_type": "code",
   "execution_count": null,
   "metadata": {},
   "outputs": [],
   "source": []
  }
 ],
 "metadata": {
  "kernelspec": {
   "display_name": "flygym",
   "language": "python",
   "name": "python3"
  },
  "language_info": {
   "codemirror_mode": {
    "name": "ipython",
    "version": 3
   },
   "file_extension": ".py",
   "mimetype": "text/x-python",
   "name": "python",
   "nbconvert_exporter": "python",
   "pygments_lexer": "ipython3",
   "version": "3.11.0"
  },
  "orig_nbformat": 4
 },
 "nbformat": 4,
 "nbformat_minor": 2
}
