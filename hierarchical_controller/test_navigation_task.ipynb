{
 "cells": [
  {
   "cell_type": "code",
   "execution_count": 1,
   "metadata": {},
   "outputs": [],
   "source": [
    "%load_ext autoreload\n",
    "%autoreload 2"
   ]
  },
  {
   "cell_type": "code",
   "execution_count": 17,
   "metadata": {},
   "outputs": [],
   "source": [
    "import pickle\n",
    "import pkg_resources\n",
    "import matplotlib.pyplot as plt\n",
    "import numpy as np\n",
    "import pandas as pd\n",
    "import gymnasium as gym\n",
    "import stable_baselines3 as sb3\n",
    "import stable_baselines3.common.logger as logger\n",
    "import stable_baselines3.common.callbacks as callbacks\n",
    "import stable_baselines3.common.env_checker as env_checker\n",
    "from dm_control import mjcf\n",
    "from dm_control.rl.control import PhysicsError\n",
    "import imageio\n",
    "import scipy.spatial\n",
    "import torch\n",
    "import torch.nn as nn\n",
    "import torch.optim as optim\n",
    "import torch_geometric as pyg\n",
    "import torch.nn.functional as F\n",
    "import torch_geometric.nn as gnn\n",
    "import torch_geometric.loader as pyg_loader\n",
    "import pytorch_lightning as pl\n",
    "import torchmetrics\n",
    "from torch.utils.data import Dataset\n",
    "from pathlib import Path\n",
    "from typing import Tuple, Callable, Optional, List, Union\n",
    "from tqdm import trange\n",
    "from dm_control.rl.control import PhysicsError\n",
    "from PIL import Image\n",
    "\n",
    "from flygym.arena.mujoco_arena import FlatTerrain\n",
    "from flygym.envs.nmf_mujoco import NeuroMechFlyMuJoCo, MuJoCoParameters\n",
    "from flygym.state import stretched_pose\n",
    "import flygym.util.vision as vision\n",
    "import flygym.util.config as config\n",
    "from flygym.arena import BaseArena\n",
    "from flygym.arena.mujoco_arena import OdorArena, FlatTerrain, GappedTerrain, BlocksTerrain\n",
    "from flygym.util.data import color_cycle_rgb\n",
    "\n",
    "from rl_navigation import ObstacleOdorArena, NMFNavigation"
   ]
  },
  {
   "cell_type": "code",
   "execution_count": 18,
   "metadata": {},
   "outputs": [
    {
     "name": "stderr",
     "output_type": "stream",
     "text": [
      "WARNING:root:Setting spawn pos to MuJoCoParameters(timestep=0.0001, joint_stiffness=0.05, joint_damping=0.06, actuator_kp=30, tarsus_stiffness=2.2, tarsus_damping=0.05, friction=(1.0, 0.005, 0.0001), gravity=(0.0, 0.0, -9810.0), contact_solref=(0.0002, 1000.0), contact_solimp=(0.999, 0.9999, 0.001, 0.5, 2.0), enable_olfaction=True, enable_vision=True, render_raw_vision=True, render_mode='saved', render_window_size=(640, 480), render_playspeed=0.5, render_fps=30, render_camera='birdeye_cam', vision_refresh_rate=20, enable_adhesion=True, adhesion_gain=20, adhesion_off_duration=0.02, adhesion_off_refractory_duration=0.05, draw_adhesion=False, draw_markers=False, draw_contacts=False, force_arrow_scaling=1.0, tip_length=10.0, decompose_contacts=True, contact_threshold=0.1, draw_gravity=False, gravity_arrow_scaling=0.0001, align_camera_with_gravity=False, camera_follows_fly_orientation=False) for turning controller\n"
     ]
    }
   ],
   "source": [
    "terrain_arena = FlatTerrain(ground_alpha=1)\n",
    "arena = ObstacleOdorArena(\n",
    "    terrain=terrain_arena,\n",
    "    obstacle_positions=np.array([(10, 0)]),\n",
    "    obstacle_radius=1.5,\n",
    "    odor_source=np.array([[20, 0, 2]]),\n",
    "    marker_size=0.5,\n",
    "    obstacle_colors=(0.14, 0.14, 0.2, 1),\n",
    ")\n",
    "sim = NMFNavigation(\n",
    "    arena=arena,\n",
    "    test_mode=True,\n",
    "    debug_mode=True,\n",
    ")\n",
    "# env_checker.check_env(sim)"
   ]
  },
  {
   "cell_type": "code",
   "execution_count": 26,
   "metadata": {},
   "outputs": [
    {
     "name": "stdout",
     "output_type": "stream",
     "text": [
      "resetting environment\n"
     ]
    },
    {
     "name": "stderr",
     "output_type": "stream",
     "text": [
      "  7%|▋         | 1/15 [00:03<00:44,  3.15s/it]"
     ]
    },
    {
     "name": "stdout",
     "output_type": "stream",
     "text": [
      "fly_pos: [7.55016389 9.80082426], final reward=3.528131322985713, state=seeking\n",
      "  dist rew=2.689183, danger=0.000, action diff=0.000, tgt rew=0.839\n",
      "  dist=12.311\n"
     ]
    },
    {
     "name": "stderr",
     "output_type": "stream",
     "text": [
      " 13%|█▎        | 2/15 [00:06<00:45,  3.51s/it]"
     ]
    },
    {
     "name": "stdout",
     "output_type": "stream",
     "text": [
      "fly_pos: [7.58436888 9.69686629], final reward=0.9410170994171781, state=seeking\n",
      "  dist rew=0.103409, danger=0.000, action diff=0.000, tgt rew=0.838\n",
      "  dist=12.207\n"
     ]
    },
    {
     "name": "stderr",
     "output_type": "stream",
     "text": [
      " 20%|██        | 3/15 [00:10<00:40,  3.41s/it]"
     ]
    },
    {
     "name": "stdout",
     "output_type": "stream",
     "text": [
      "fly_pos: [7.80096725 9.37034946], final reward=1.2232480534184325, state=seeking\n",
      "  dist rew=0.390914, danger=0.000, action diff=0.000, tgt rew=0.832\n",
      "  dist=11.816\n"
     ]
    },
    {
     "name": "stderr",
     "output_type": "stream",
     "text": [
      " 27%|██▋       | 4/15 [00:13<00:37,  3.42s/it]"
     ]
    },
    {
     "name": "stdout",
     "output_type": "stream",
     "text": [
      "fly_pos: [7.97008265 9.16592413], final reward=1.0860583107985586, state=seeking\n",
      "  dist rew=0.265134, danger=0.000, action diff=0.000, tgt rew=0.821\n",
      "  dist=11.551\n"
     ]
    },
    {
     "name": "stderr",
     "output_type": "stream",
     "text": [
      " 33%|███▎      | 5/15 [00:17<00:34,  3.42s/it]"
     ]
    },
    {
     "name": "stdout",
     "output_type": "stream",
     "text": [
      "fly_pos: [8.41919943 8.81443941], final reward=1.371448692494662, state=seeking\n",
      "  dist rew=0.551301, danger=0.000, action diff=0.000, tgt rew=0.820\n",
      "  dist=11.000\n"
     ]
    },
    {
     "name": "stderr",
     "output_type": "stream",
     "text": [
      " 40%|████      | 6/15 [00:20<00:30,  3.39s/it]"
     ]
    },
    {
     "name": "stdout",
     "output_type": "stream",
     "text": [
      "fly_pos: [8.69344738 8.27606962], final reward=1.4050688102076672, state=seeking\n",
      "  dist rew=0.594966, danger=0.000, action diff=0.000, tgt rew=0.810\n",
      "  dist=10.405\n"
     ]
    },
    {
     "name": "stderr",
     "output_type": "stream",
     "text": [
      " 47%|████▋     | 7/15 [00:22<00:24,  3.08s/it]"
     ]
    },
    {
     "name": "stdout",
     "output_type": "stream",
     "text": [
      "fly_pos: [9.16199836 7.74626627], final reward=1.5019119863498231, state=seeking\n",
      "  dist rew=0.705251, danger=0.000, action diff=0.000, tgt rew=0.797\n",
      "  dist=9.700\n"
     ]
    },
    {
     "name": "stderr",
     "output_type": "stream",
     "text": [
      " 53%|█████▎    | 8/15 [00:25<00:21,  3.03s/it]"
     ]
    },
    {
     "name": "stdout",
     "output_type": "stream",
     "text": [
      "fly_pos: [9.36843028 7.96693724], final reward=0.44128179461143685, state=seeking\n",
      "  dist rew=-0.056525, danger=0.000, action diff=0.300, tgt rew=0.798\n",
      "  dist=9.756\n"
     ]
    },
    {
     "name": "stderr",
     "output_type": "stream",
     "text": [
      " 60%|██████    | 9/15 [00:27<00:16,  2.72s/it]"
     ]
    },
    {
     "name": "stdout",
     "output_type": "stream",
     "text": [
      "fly_pos: [9.90662041 8.2610935 ], final reward=0.8480728871908545, state=seeking\n",
      "  dist rew=0.051306, danger=0.000, action diff=0.000, tgt rew=0.797\n",
      "  dist=9.705\n"
     ]
    },
    {
     "name": "stderr",
     "output_type": "stream",
     "text": [
      " 67%|██████▋   | 10/15 [00:30<00:13,  2.76s/it]"
     ]
    },
    {
     "name": "stdout",
     "output_type": "stream",
     "text": [
      "fly_pos: [9.59210897 7.69102421], final reward=1.0934872382776972, state=seeking\n",
      "  dist rew=0.303084, danger=0.000, action diff=0.000, tgt rew=0.790\n",
      "  dist=9.402\n"
     ]
    },
    {
     "name": "stderr",
     "output_type": "stream",
     "text": [
      " 73%|███████▎  | 11/15 [00:33<00:10,  2.74s/it]"
     ]
    },
    {
     "name": "stdout",
     "output_type": "stream",
     "text": [
      "fly_pos: [9.71651569 7.05809975], final reward=1.362330868594138, state=seeking\n",
      "  dist rew=0.585401, danger=0.000, action diff=0.000, tgt rew=0.777\n",
      "  dist=8.817\n"
     ]
    },
    {
     "name": "stderr",
     "output_type": "stream",
     "text": [
      " 80%|████████  | 12/15 [00:36<00:08,  2.93s/it]"
     ]
    },
    {
     "name": "stdout",
     "output_type": "stream",
     "text": [
      "fly_pos: [9.68832062 7.19655699], final reward=0.5189940060249487, state=seeking\n",
      "  dist rew=-0.127942, danger=0.000, action diff=0.000, tgt rew=0.647\n",
      "  dist=8.945\n"
     ]
    },
    {
     "name": "stderr",
     "output_type": "stream",
     "text": [
      " 87%|████████▋ | 13/15 [00:40<00:06,  3.11s/it]"
     ]
    },
    {
     "name": "stdout",
     "output_type": "stream",
     "text": [
      "fly_pos: [9.62166817 6.174004  ], final reward=1.398723587068995, state=seeking\n",
      "  dist rew=0.756429, danger=0.000, action diff=0.000, tgt rew=0.642\n",
      "  dist=8.188\n"
     ]
    },
    {
     "name": "stderr",
     "output_type": "stream",
     "text": [
      " 93%|█████████▎| 14/15 [00:42<00:03,  3.01s/it]"
     ]
    },
    {
     "name": "stdout",
     "output_type": "stream",
     "text": [
      "fly_pos: [9.89047098 6.56770694], final reward=0.1141750058992752, state=seeking\n",
      "  dist rew=-0.133094, danger=0.116, action diff=0.000, tgt rew=0.363\n",
      "  dist=8.321\n"
     ]
    },
    {
     "name": "stderr",
     "output_type": "stream",
     "text": [
      "100%|██████████| 15/15 [00:46<00:00,  3.11s/it]"
     ]
    },
    {
     "name": "stdout",
     "output_type": "stream",
     "text": [
      "fly_pos: [9.36294686 6.22412797], final reward=-0.554556557440353, state=seeking\n",
      "  dist rew=-0.076207, danger=0.623, action diff=0.000, tgt rew=0.144\n",
      "  dist=8.397\n"
     ]
    },
    {
     "name": "stderr",
     "output_type": "stream",
     "text": [
      "\n"
     ]
    }
   ],
   "source": [
    "# from flygym.util.vision import hex_pxls_to_human_readable\n",
    "\n",
    "terrain_arena = FlatTerrain(ground_alpha=1)\n",
    "arena = ObstacleOdorArena(\n",
    "    terrain=terrain_arena,\n",
    "    obstacle_positions=np.array([(7.5, 0)]),\n",
    "    obstacle_radius=1.5,\n",
    "    odor_source=np.array([[15, 0, 2]]),\n",
    "    marker_size=0.5,\n",
    "    obstacle_colors=(0, 0, 0, 1),\n",
    ")\n",
    "sim = NMFNavigation(\n",
    "    spawn_pos=(7.5, 10, 0.2),\n",
    "    spawn_orient=(0, 0, np.pi/4),\n",
    "    arena=arena,\n",
    "    test_mode=True,\n",
    "    debug_mode=True,\n",
    ")\n",
    "\n",
    "obs_hist = []\n",
    "reward_hist = []\n",
    "action_hist = []\n",
    "obs, info = sim.reset()\n",
    "for i in trange(15):\n",
    "    action = np.array([0 if i < 7 else 0.6])\n",
    "    action_hist.append(action)\n",
    "    obs, reward, terminated, truncated, info = sim.step(action)\n",
    "    # fig, axs = plt.subplots(1, 2, figsize=(4, 2))\n",
    "    # for i in range(2):\n",
    "    #     visual_inputs = sim.curr_visual_input[i, :, :]\n",
    "    #     print(visual_inputs.shape, visual_inputs.max())\n",
    "    #     visual_inputs[:, 1] = 0\n",
    "    #     visual_inputs[:, 0][visual_inputs[:, 0] > 50] = 0\n",
    "    #     img = hex_pxls_to_human_readable(visual_inputs)\n",
    "    #     axs[i].imshow(img, cmap=\"gray\", vmin=0, vmax=255)\n",
    "    #     axs[i].axis(\"off\")\n",
    "    # plt.show()\n",
    "    \n",
    "    obs_hist.append(obs)\n",
    "    reward_hist.append(reward)\n",
    "    if terminated:\n",
    "        print(\"terminated\")\n",
    "        break\n",
    "\n",
    "obs_hist = np.array(obs_hist)\n",
    "reward_hist = np.array(reward_hist)\n",
    "action_hist = np.array(action_hist)\n",
    "\n",
    "sim.save_video(\"test2.mp4\")"
   ]
  },
  {
   "cell_type": "code",
   "execution_count": 5,
   "metadata": {},
   "outputs": [
    {
     "data": {
      "text/plain": [
       "<matplotlib.image.AxesImage at 0x7efe2ff32a10>"
      ]
     },
     "execution_count": 5,
     "metadata": {},
     "output_type": "execute_result"
    },
    {
     "data": {
      "image/png": "[encoded data removed]",
      "text/plain": [
       "<Figure size 640x480 with 1 Axes>"
      ]
     },
     "metadata": {},
     "output_type": "display_data"
    }
   ],
   "source": [
    "plt.imshow(sim._frames[0])"
   ]
  },
  {
   "cell_type": "code",
   "execution_count": 27,
   "metadata": {},
   "outputs": [
    {
     "name": "stderr",
     "output_type": "stream",
     "text": [
      "WARNING:root:Setting spawn pos to MuJoCoParameters(timestep=0.0001, joint_stiffness=0.05, joint_damping=0.06, actuator_kp=30, tarsus_stiffness=2.2, tarsus_damping=0.05, friction=(1.0, 0.005, 0.0001), gravity=(0.0, 0.0, -9810.0), contact_solref=(0.0002, 1000.0), contact_solimp=(0.999, 0.9999, 0.001, 0.5, 2.0), enable_olfaction=True, enable_vision=True, render_raw_vision=True, render_mode='saved', render_window_size=(640, 480), render_playspeed=0.5, render_fps=30, render_camera='birdeye_cam', vision_refresh_rate=20, enable_adhesion=True, adhesion_gain=20, adhesion_off_duration=0.02, adhesion_off_refractory_duration=0.05, draw_adhesion=False, draw_markers=False, draw_contacts=False, force_arrow_scaling=1.0, tip_length=10.0, decompose_contacts=True, contact_threshold=0.1, draw_gravity=False, gravity_arrow_scaling=0.0001, align_camera_with_gravity=False, camera_follows_fly_orientation=False) for turning controller\n"
     ]
    },
    {
     "name": "stdout",
     "output_type": "stream",
     "text": [
      "Logging to logs/trial_8\n",
      "Using cuda device\n",
      "Wrapping the env with a `Monitor` wrapper\n",
      "Wrapping the env in a DummyVecEnv.\n",
      "resetting environment\n"
     ]
    },
    {
     "name": "stderr",
     "output_type": "stream",
     "text": [
      "  1%|          | 1/100 [00:03<05:46,  3.50s/it]"
     ]
    },
    {
     "name": "stdout",
     "output_type": "stream",
     "text": [
      "fly_pos: [ 0.11538716 -0.0487389 ], final reward=-1.2864676029064726, state=seeking\n",
      "  dist rew=0.115307, danger=0.673, action diff=0.056, tgt rew=0.000\n",
      "  dist=14.885\n"
     ]
    },
    {
     "name": "stderr",
     "output_type": "stream",
     "text": [
      "  2%|▏         | 2/100 [00:07<05:46,  3.53s/it]"
     ]
    },
    {
     "name": "stdout",
     "output_type": "stream",
     "text": [
      "fly_pos: [ 0.72813338 -0.32689587], final reward=-1.0937037990452438, state=seeking\n",
      "  dist rew=0.609083, danger=0.851, action diff=0.000, tgt rew=0.000\n",
      "  dist=14.276\n"
     ]
    },
    {
     "name": "stderr",
     "output_type": "stream",
     "text": [
      "  3%|▎         | 3/100 [00:10<05:56,  3.68s/it]"
     ]
    },
    {
     "name": "stdout",
     "output_type": "stream",
     "text": [
      "fly_pos: [ 1.15926423 -0.33281609], final reward=-1.21103243361679, state=seeking\n",
      "  dist rew=0.430873, danger=0.821, action diff=0.000, tgt rew=0.000\n",
      "  dist=13.845\n"
     ]
    },
    {
     "name": "stderr",
     "output_type": "stream",
     "text": [
      "  4%|▍         | 4/100 [00:14<05:54,  3.70s/it]"
     ]
    },
    {
     "name": "stdout",
     "output_type": "stream",
     "text": [
      "fly_pos: [ 1.52715578 -0.37906213], final reward=-0.5041480029684857, state=seeking\n",
      "  dist rew=0.366561, danger=0.435, action diff=0.000, tgt rew=0.000\n",
      "  dist=13.478\n"
     ]
    },
    {
     "name": "stderr",
     "output_type": "stream",
     "text": [
      "  5%|▌         | 5/100 [00:17<05:32,  3.50s/it]"
     ]
    },
    {
     "name": "stdout",
     "output_type": "stream",
     "text": [
      "fly_pos: [ 2.22279156 -0.55085386], final reward=-0.8814649897711384, state=seeking\n",
      "  dist rew=0.689098, danger=0.785, action diff=0.000, tgt rew=0.000\n",
      "  dist=12.789\n"
     ]
    },
    {
     "name": "stderr",
     "output_type": "stream",
     "text": [
      "  6%|▌         | 6/100 [00:20<05:10,  3.31s/it]"
     ]
    },
    {
     "name": "stdout",
     "output_type": "stream",
     "text": [
      "fly_pos: [ 2.77217367 -0.50230311], final reward=-0.3486930003216093, state=seeking\n",
      "  dist rew=0.550938, danger=0.450, action diff=0.000, tgt rew=0.000\n",
      "  dist=12.238\n"
     ]
    },
    {
     "name": "stderr",
     "output_type": "stream",
     "text": [
      "  7%|▋         | 7/100 [00:23<05:02,  3.26s/it]"
     ]
    },
    {
     "name": "stdout",
     "output_type": "stream",
     "text": [
      "fly_pos: [ 3.33918609 -0.70674723], final reward=-0.5527787363394077, state=seeking\n",
      "  dist rew=0.555927, danger=0.554, action diff=0.000, tgt rew=0.000\n",
      "  dist=11.682\n"
     ]
    },
    {
     "name": "stderr",
     "output_type": "stream",
     "text": [
      "  8%|▊         | 8/100 [00:27<05:02,  3.29s/it]"
     ]
    },
    {
     "name": "stdout",
     "output_type": "stream",
     "text": [
      "fly_pos: [ 3.82452784 -0.72919977], final reward=-0.7919597579629494, state=seeking\n",
      "  dist rew=0.482975, danger=0.637, action diff=0.000, tgt rew=0.000\n",
      "  dist=11.199\n"
     ]
    },
    {
     "name": "stderr",
     "output_type": "stream",
     "text": [
      "  9%|▉         | 9/100 [00:30<04:46,  3.14s/it]"
     ]
    },
    {
     "name": "stdout",
     "output_type": "stream",
     "text": [
      "fly_pos: [ 4.32270922 -0.85811583], final reward=-0.29776928615319886, state=seeking\n",
      "  dist rew=0.487519, danger=0.393, action diff=0.000, tgt rew=0.000\n",
      "  dist=10.712\n"
     ]
    },
    {
     "name": "stderr",
     "output_type": "stream",
     "text": [
      " 10%|█         | 10/100 [00:32<04:31,  3.02s/it]"
     ]
    },
    {
     "name": "stdout",
     "output_type": "stream",
     "text": [
      "fly_pos: [ 4.97004614 -1.02125183], final reward=-0.32883230682134434, state=seeking\n",
      "  dist rew=0.629906, danger=0.479, action diff=0.000, tgt rew=0.000\n",
      "  dist=10.082\n"
     ]
    },
    {
     "name": "stderr",
     "output_type": "stream",
     "text": [
      " 10%|█         | 10/100 [00:36<05:26,  3.63s/it]"
     ]
    },
    {
     "name": "stdout",
     "output_type": "stream",
     "text": [
      "fly_pos: [ 4.84159934 -0.99434895], final reward=-1.7359851565985904, state=collision\n",
      "  dist rew=-0.125138, danger=0.368, action diff=0.000, tgt rew=0.000\n",
      "  dist=10.207\n",
      "terminated\n",
      "terminated\n"
     ]
    },
    {
     "name": "stderr",
     "output_type": "stream",
     "text": [
      "\n"
     ]
    },
    {
     "data": {
      "text/plain": [
       "[<matplotlib.lines.Line2D at 0x7efdf2eb9a90>]"
      ]
     },
     "execution_count": 27,
     "metadata": {},
     "output_type": "execute_result"
    },
    {
     "data": {
      "image/png": "[encoded data removed]",
      "text/plain": [
       "<Figure size 800x900 with 6 Axes>"
      ]
     },
     "metadata": {},
     "output_type": "display_data"
    }
   ],
   "source": [
    "terrain_arena = FlatTerrain(ground_alpha=1)\n",
    "arena = ObstacleOdorArena(\n",
    "    terrain=terrain_arena,\n",
    "    obstacle_positions=np.array([(7.5, 0)]),\n",
    "    obstacle_radius=1,\n",
    "    odor_source=np.array([[15, 0, 2]]),\n",
    "    marker_size=0.5,\n",
    "    obstacle_colors=(0, 0, 0, 1),\n",
    ")\n",
    "\n",
    "sim = NMFNavigation(\n",
    "    arena=arena,\n",
    "    test_mode=True,\n",
    "    debug_mode=True,\n",
    ")\n",
    "\n",
    "np.random.seed(0)\n",
    "sb3.common.utils.set_random_seed(0, using_cuda=True)\n",
    "start_from = \"logs/trial_21/trial_21_88800_steps.zip\"\n",
    "train = False\n",
    "\n",
    "log_dir = \"logs/trial_8\"\n",
    "checkpoint_callback = callbacks.CheckpointCallback(\n",
    "    save_freq=100,\n",
    "    save_path=log_dir,\n",
    "    name_prefix=\"trial_8\",\n",
    "    save_replay_buffer=True,\n",
    "    save_vecnormalize=True,\n",
    "    verbose=2,\n",
    ")\n",
    "my_logger = logger.configure(log_dir, [\"tensorboard\", \"stdout\", \"csv\"])\n",
    "model = sb3.SAC(\n",
    "    \"MlpPolicy\",\n",
    "    # env=sim,\n",
    "    env=sim,\n",
    "    policy_kwargs={\"net_arch\": [16, 16]},\n",
    "    verbose=2,\n",
    "    learning_rate=0.01,\n",
    ")\n",
    "if start_from is not None:\n",
    "    model = sb3.SAC.load(start_from)\n",
    "model.set_logger(my_logger)\n",
    "\n",
    "if train:\n",
    "    model.learn(total_timesteps=50_000, progress_bar=True, callback=checkpoint_callback)\n",
    "    model.save(\"models/trial_8\")\n",
    "\n",
    "obs_hist = []\n",
    "reward_hist = []\n",
    "action_hist = []\n",
    "obs, info = sim.reset()\n",
    "for i in trange(100):\n",
    "    action, _ = model.predict(obs, deterministic=True)    \n",
    "    obs, reward, terminated, truncated, info = sim.step(action)\n",
    "    action_hist.append(action)\n",
    "    obs_hist.append(obs)\n",
    "    reward_hist.append(reward)\n",
    "    if terminated:\n",
    "        print(\"terminated\")\n",
    "        break\n",
    "\n",
    "obs_hist = np.array(obs_hist)\n",
    "reward_hist = np.array(reward_hist)\n",
    "action_hist = np.array(action_hist)\n",
    "\n",
    "sim.save_video(Path(start_from).stem + \".mp4\")\n",
    "\n",
    "fig, axs = plt.subplots(3, 2, figsize=(8, 9), tight_layout=True)\n",
    "axs[0, 0].plot(obs_hist[:, 0])\n",
    "axs[0, 0].plot(obs_hist[:, 1])\n",
    "axs[0, 1].plot(obs_hist[:, 2])\n",
    "axs[0, 1].plot(obs_hist[:, 3])\n",
    "axs[1, 0].plot(obs_hist[:, 4])\n",
    "axs[1, 0].plot(obs_hist[:, 5])\n",
    "axs[1, 1].plot(action_hist)\n",
    "axs[1, 1].set_ylim(-1, 1)\n",
    "axs[2, 0].plot(reward_hist)"
   ]
  },
  {
   "cell_type": "code",
   "execution_count": 7,
   "metadata": {},
   "outputs": [
    {
     "name": "stderr",
     "output_type": "stream",
     "text": [
      "100%|██████████| 5/5 [00:00<00:00, 46.10it/s]\n"
     ]
    }
   ],
   "source": [
    "# sample_interval = 30\n",
    "# individual_frames_dir = Path(\"outputs/individual_frames\")\n",
    "# individual_frames_dir.mkdir(parents=True, exist_ok=True)\n",
    "\n",
    "# offset = max(0, len(sim._frames) % sample_interval - 1)\n",
    "# # print(len(sim._frames), offset)\n",
    "# selected_images = np.array(\n",
    "#     [sim._frames[i] for i in range(offset, len(sim._frames), sample_interval)]\n",
    "# )\n",
    "# background = np.median(np.array(sim._frames), axis=0)\n",
    "\n",
    "# for i in trange(0, selected_images.shape[0]):\n",
    "#     img = selected_images[i, :, :, :]\n",
    "#     is_background = np.isclose(img, background, atol=1).all(axis=2)\n",
    "#     img_alpha = np.ones((img.shape[0], img.shape[1], 4)) * 255\n",
    "#     img_alpha[:, :, :3] = img\n",
    "#     img_alpha[is_background, 3] = 0\n",
    "#     img_alpha = img_alpha.astype(np.uint8)\n",
    "#     # break\n",
    "#     imageio.imwrite(\n",
    "#         individual_frames_dir / f\"frame_{i}.png\", img_alpha\n",
    "#     )\n",
    "\n",
    "# imageio.imwrite(individual_frames_dir / \"background.png\", background.astype(np.uint8))"
   ]
  },
  {
   "cell_type": "code",
   "execution_count": 8,
   "metadata": {},
   "outputs": [
    {
     "data": {
      "text/plain": [
       "147"
      ]
     },
     "execution_count": 8,
     "metadata": {},
     "output_type": "execute_result"
    }
   ],
   "source": [
    "len(sim._frames)"
   ]
  },
  {
   "cell_type": "code",
   "execution_count": 9,
   "metadata": {},
   "outputs": [
    {
     "data": {
      "text/plain": [
       "[26, 56, 86, 116, 146]"
      ]
     },
     "execution_count": 9,
     "metadata": {},
     "output_type": "execute_result"
    }
   ],
   "source": [
    "list(range(offset, len(sim._frames), sample_interval))"
   ]
  },
  {
   "cell_type": "code",
   "execution_count": null,
   "metadata": {},
   "outputs": [],
   "source": []
  }
 ],
 "metadata": {
  "kernelspec": {
   "display_name": "flygym",
   "language": "python",
   "name": "python3"
  },
  "language_info": {
   "codemirror_mode": {
    "name": "ipython",
    "version": 3
   },
   "file_extension": ".py",
   "mimetype": "text/x-python",
   "name": "python",
   "nbconvert_exporter": "python",
   "pygments_lexer": "ipython3",
   "version": "3.11.0"
  },
  "orig_nbformat": 4
 },
 "nbformat": 4,
 "nbformat_minor": 2
}
