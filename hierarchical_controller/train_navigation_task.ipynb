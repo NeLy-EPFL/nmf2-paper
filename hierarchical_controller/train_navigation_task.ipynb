{
 "cells": [
  {
   "cell_type": "code",
   "execution_count": 1,
   "metadata": {},
   "outputs": [],
   "source": [
    "%load_ext autoreload\n",
    "%autoreload 2"
   ]
  },
  {
   "cell_type": "code",
   "execution_count": 2,
   "metadata": {},
   "outputs": [
    {
     "name": "stdout",
     "output_type": "stream",
     "text": [
      "pygame 2.5.1 (SDL 2.28.2, Python 3.11.0)\n",
      "Hello from the pygame community. https://www.pygame.org/contribute.html\n"
     ]
    },
    {
     "name": "stderr",
     "output_type": "stream",
     "text": [
      "/home/sibwang/anaconda3/envs/flygym/lib/python3.11/site-packages/torch/utils/tensorboard/__init__.py:4: DeprecationWarning: distutils Version classes are deprecated. Use packaging.version instead.\n",
      "  if not hasattr(tensorboard, \"__version__\") or LooseVersion(\n",
      "/home/sibwang/anaconda3/envs/flygym/lib/python3.11/site-packages/torch/utils/tensorboard/__init__.py:6: DeprecationWarning: distutils Version classes are deprecated. Use packaging.version instead.\n",
      "  ) < LooseVersion(\"1.15\"):\n",
      "/home/sibwang/anaconda3/envs/flygym/lib/python3.11/site-packages/lightning_fabric/__init__.py:36: DeprecationWarning: Deprecated call to `pkg_resources.declare_namespace('lightning_fabric')`.\n",
      "Implementing implicit namespace packages (as specified in PEP 420) is preferred to `pkg_resources.declare_namespace`. See https://setuptools.pypa.io/en/latest/references/keywords.html#keyword-namespace-packages\n",
      "  __import__(\"pkg_resources\").declare_namespace(__name__)\n",
      "/home/sibwang/anaconda3/envs/flygym/lib/python3.11/site-packages/torchmetrics/utilities/imports.py:24: DeprecationWarning: distutils Version classes are deprecated. Use packaging.version instead.\n",
      "  _PYTHON_LOWER_3_8 = LooseVersion(_PYTHON_VERSION) < LooseVersion(\"3.8\")\n",
      "/home/sibwang/anaconda3/envs/flygym/lib/python3.11/site-packages/torchmetrics/utilities/imports.py:24: DeprecationWarning: distutils Version classes are deprecated. Use packaging.version instead.\n",
      "  _PYTHON_LOWER_3_8 = LooseVersion(_PYTHON_VERSION) < LooseVersion(\"3.8\")\n",
      "/home/sibwang/anaconda3/envs/flygym/lib/python3.11/site-packages/pytorch_lightning/__init__.py:36: DeprecationWarning: Deprecated call to `pkg_resources.declare_namespace('pytorch_lightning')`.\n",
      "Implementing implicit namespace packages (as specified in PEP 420) is preferred to `pkg_resources.declare_namespace`. See https://setuptools.pypa.io/en/latest/references/keywords.html#keyword-namespace-packages\n",
      "  __import__(\"pkg_resources\").declare_namespace(__name__)\n"
     ]
    }
   ],
   "source": [
    "import pickle\n",
    "import pkg_resources\n",
    "import matplotlib.pyplot as plt\n",
    "import numpy as np\n",
    "import pandas as pd\n",
    "import gymnasium as gym\n",
    "import stable_baselines3 as sb3\n",
    "import stable_baselines3.common.logger as logger\n",
    "import stable_baselines3.common.callbacks as callbacks\n",
    "import stable_baselines3.common.env_checker as env_checker\n",
    "from dm_control import mjcf\n",
    "from dm_control.rl.control import PhysicsError\n",
    "import imageio\n",
    "import scipy.spatial\n",
    "import torch\n",
    "import torch.nn as nn\n",
    "import torch.optim as optim\n",
    "import torch_geometric as pyg\n",
    "import torch.nn.functional as F\n",
    "import torch_geometric.nn as gnn\n",
    "import torch_geometric.loader as pyg_loader\n",
    "import pytorch_lightning as pl\n",
    "import torchmetrics\n",
    "from torch.utils.data import Dataset\n",
    "from pathlib import Path\n",
    "from typing import Tuple, Callable, Optional, List, Union\n",
    "from tqdm import trange\n",
    "from dm_control.rl.control import PhysicsError\n",
    "from PIL import Image\n",
    "\n",
    "from flygym.arena.mujoco_arena import FlatTerrain\n",
    "from flygym.envs.nmf_mujoco import NeuroMechFlyMuJoCo, MuJoCoParameters\n",
    "from flygym.state import stretched_pose\n",
    "import flygym.util.vision as vision\n",
    "import flygym.util.config as config\n",
    "from flygym.arena import BaseArena\n",
    "from flygym.arena.mujoco_arena import OdorArena, FlatTerrain, GappedTerrain, BlocksTerrain\n",
    "from flygym.util.data import color_cycle_rgb\n",
    "\n",
    "from rl_navigation import ObstacleOdorArena, NMFNavigation, VisualFeaturePreprocessor"
   ]
  },
  {
   "cell_type": "code",
   "execution_count": 3,
   "metadata": {},
   "outputs": [],
   "source": [
    "device = torch.device(\"cuda\" if torch.cuda.is_available() else \"cpu\")"
   ]
  },
  {
   "cell_type": "markdown",
   "metadata": {},
   "source": [
    "Load retina graph"
   ]
  },
  {
   "cell_type": "code",
   "execution_count": 4,
   "metadata": {},
   "outputs": [],
   "source": [
    "with open(\"data/ommatidia_graph.pkl\", \"rb\") as f:\n",
    "    ommatidia_graph_nx = pickle.load(f)\n",
    "ommatidia_graph_pg = pyg.utils.from_networkx(ommatidia_graph_nx)"
   ]
  },
  {
   "cell_type": "markdown",
   "metadata": {},
   "source": [
    "Load visual feature extraction model"
   ]
  },
  {
   "cell_type": "code",
   "execution_count": 5,
   "metadata": {},
   "outputs": [],
   "source": [
    "vision_model = VisualFeaturePreprocessor.load_from_checkpoint(\n",
    "    \"data/models/visual_preprocessor.pt\"\n",
    ")"
   ]
  },
  {
   "cell_type": "markdown",
   "metadata": {},
   "source": [
    "Sanity check on MDP task"
   ]
  },
  {
   "cell_type": "code",
   "execution_count": 6,
   "metadata": {},
   "outputs": [
    {
     "name": "stderr",
     "output_type": "stream",
     "text": [
      "WARNING:root:Setting spawn pos to MuJoCoParameters(timestep=0.0001, joint_stiffness=0.05, joint_damping=0.06, actuator_kp=30, tarsus_stiffness=2.2, tarsus_damping=0.05, friction=(1.0, 0.005, 0.0001), gravity=(0.0, 0.0, -9810.0), contact_solref=(0.0002, 1000.0), contact_solimp=(0.999, 0.9999, 0.001, 0.5, 2.0), enable_olfaction=True, enable_vision=True, render_raw_vision=True, render_mode='saved', render_window_size=(640, 480), render_playspeed=0.1, render_fps=60, render_camera='birdeye_cam', vision_refresh_rate=20, enable_adhesion=True, adhesion_gain=20, adhesion_off_duration=0.02, adhesion_off_refractory_duration=0.05, draw_adhesion=False, draw_markers=False, draw_contacts=False, force_arrow_scaling=1.0, tip_length=10.0, decompose_contacts=True, contact_threshold=0.1, draw_gravity=False, gravity_arrow_scaling=0.0001, align_camera_with_gravity=False) for turning controller\n",
      "/home/sibwang/anaconda3/envs/flygym/lib/python3.11/site-packages/numba/np/ufunc/parallel.py:371: NumbaWarning: The TBB threading layer requires TBB version 2021 update 6 or later i.e., TBB_INTERFACE_VERSION >= 12060. Found TBB_INTERFACE_VERSION = 12050. The TBB threading layer is disabled.\n",
      "  warnings.warn(problem)\n"
     ]
    },
    {
     "name": "stdout",
     "output_type": "stream",
     "text": [
      "resetting environment\n",
      "resetting environment\n",
      "resetting environment\n",
      "fly_pos: [0.16672726 0.00932456], reward=0.04445727885912376, state=seeking\n",
      "resetting environment\n",
      "fly_pos: [ 0.06785764 -0.07284725], reward=-0.33995432006062387, state=seeking\n",
      "fly_pos: [ 0.23019228 -0.52313347], reward=-0.28486123591853385, state=seeking\n",
      "fly_pos: [ 0.08303374 -0.29346425], reward=-0.344201909147543, state=seeking\n",
      "fly_pos: [-0.16191231 -0.72080478], reward=-0.4408728770971777, state=seeking\n",
      "fly_pos: [-0.06251614 -0.8418824 ], reward=0.027142302510927863, state=seeking\n",
      "fly_pos: [-0.5867879  -0.79810883], reward=-1.2311497082949145, state=seeking\n",
      "fly_pos: [-0.43727383 -0.58106295], reward=0.08228436275945228, state=seeking\n",
      "fly_pos: [-0.51305675 -0.65169439], reward=-0.1804805148416584, state=seeking\n",
      "fly_pos: [-0.62148698  0.39576171], reward=-0.16659821341231051, state=seeking\n",
      "fly_pos: [0.14857893 0.71618309], reward=0.06526849035514459, state=seeking\n"
     ]
    }
   ],
   "source": [
    "terrain_arena = FlatTerrain(ground_alpha=1)\n",
    "arena = ObstacleOdorArena(\n",
    "    terrain=terrain_arena,\n",
    "    obstacle_positions=np.array([(7.5, 1.5), (12.5, -1.5)]),\n",
    "    odor_source=np.array([[20, 0, 2]]),\n",
    "    marker_size=0.5,\n",
    "    obstacle_colors=(0.14, 0.14, 0.2, 1),\n",
    ")\n",
    "sim = NMFNavigation(\n",
    "    arena=arena,\n",
    "    vision_model=vision_model,\n",
    "    ommatidia_graph=ommatidia_graph_pg,\n",
    "    test_mode=True,\n",
    "    debug_mode=True,\n",
    ")\n",
    "env_checker.check_env(sim)"
   ]
  },
  {
   "cell_type": "code",
   "execution_count": 7,
   "metadata": {},
   "outputs": [
    {
     "name": "stdout",
     "output_type": "stream",
     "text": [
      "resetting environment\n"
     ]
    },
    {
     "name": "stderr",
     "output_type": "stream",
     "text": [
      "  0%|          | 0/10 [00:02<?, ?it/s]"
     ]
    },
    {
     "name": "stdout",
     "output_type": "stream",
     "text": [
      "fly_pos: [0.03115142 0.07989841], reward=0.030991576043678748, state=seeking\n"
     ]
    },
    {
     "name": "stderr",
     "output_type": "stream",
     "text": [
      "\n"
     ]
    }
   ],
   "source": [
    "sim.reset()\n",
    "for i in trange(30):\n",
    "    obs, reward, terminated, truncated, info = sim.step(np.zeros((2,)))\n",
    "    break"
   ]
  },
  {
   "cell_type": "code",
   "execution_count": 8,
   "metadata": {},
   "outputs": [],
   "source": [
    "sim.save_video(\"test.mp4\", stabilization_time=0)"
   ]
  },
  {
   "cell_type": "code",
   "execution_count": 9,
   "metadata": {},
   "outputs": [
    {
     "name": "stderr",
     "output_type": "stream",
     "text": [
      "WARNING:root:Setting spawn pos to MuJoCoParameters(timestep=0.0001, joint_stiffness=0.05, joint_damping=0.06, actuator_kp=30, tarsus_stiffness=2.2, tarsus_damping=0.05, friction=(1.0, 0.005, 0.0001), gravity=(0.0, 0.0, -9810.0), contact_solref=(0.0002, 1000.0), contact_solimp=(0.999, 0.9999, 0.001, 0.5, 2.0), enable_olfaction=True, enable_vision=True, render_raw_vision=False, render_mode='headless', render_window_size=(640, 480), render_playspeed=0.1, render_fps=60, render_camera='birdeye_cam', vision_refresh_rate=20, enable_adhesion=True, adhesion_gain=20, adhesion_off_duration=0.02, adhesion_off_refractory_duration=0.05, draw_adhesion=False, draw_markers=False, draw_contacts=False, force_arrow_scaling=1.0, tip_length=10.0, decompose_contacts=True, contact_threshold=0.1, draw_gravity=False, gravity_arrow_scaling=0.0001, align_camera_with_gravity=False) for turning controller\n"
     ]
    },
    {
     "name": "stdout",
     "output_type": "stream",
     "text": [
      "Logging to logs/trial_7\n"
     ]
    },
    {
     "data": {
      "application/vnd.jupyter.widget-view+json": {
       "model_id": "14eaf363f669411fbc34c593620900f6",
       "version_major": 2,
       "version_minor": 0
      },
      "text/plain": [
       "Output()"
      ]
     },
     "metadata": {},
     "output_type": "display_data"
    },
    {
     "name": "stdout",
     "output_type": "stream",
     "text": [
      "Using cuda device\n",
      "Wrapping the env with a `Monitor` wrapper\n",
      "Wrapping the env in a DummyVecEnv.\n"
     ]
    }
   ],
   "source": [
    "terrain_arena = FlatTerrain(ground_alpha=1)\n",
    "arena = ObstacleOdorArena(\n",
    "    terrain=terrain_arena,\n",
    "    obstacle_positions=np.array([(7.5, 1.5), (12.5, -1.5)]),\n",
    "    odor_source=np.array([[20, 0, 2]]),\n",
    "    marker_size=0.5,\n",
    "    obstacle_colors=(0.14, 0.14, 0.2, 1),\n",
    ")\n",
    "sim = NMFNavigation(\n",
    "    arena=arena,\n",
    "    vision_model=vision_model,\n",
    "    ommatidia_graph=ommatidia_graph_pg,\n",
    "    max_time=7,\n",
    "    test_mode=False,\n",
    ")\n",
    "env_checker.check_env(sim)\n",
    "\n",
    "np.random.seed(0)\n",
    "sb3.common.utils.set_random_seed(0, using_cuda=True)\n",
    "\n",
    "start_from = None\n",
    "train = True\n",
    "\n",
    "log_dir = \"logs/trial_7\"\n",
    "checkpoint_callback = callbacks.CheckpointCallback(\n",
    "    save_freq=1000,\n",
    "    save_path=log_dir,\n",
    "    name_prefix=\"trial_7\",\n",
    "    save_replay_buffer=True,\n",
    "    save_vecnormalize=True,\n",
    ")\n",
    "my_logger = logger.configure(log_dir, [\"tensorboard\", \"stdout\", \"csv\"])\n",
    "model = sb3.PPO(\n",
    "    \"MlpPolicy\",\n",
    "    env=sim,\n",
    "    policy_kwargs={\"net_arch\": [16, 16]},\n",
    "    verbose=2,\n",
    "    learning_rate=0.01,\n",
    ")\n",
    "if start_from is not None:\n",
    "    model = sb3.SAC.load(start_from)\n",
    "model.set_logger(my_logger)\n",
    "\n",
    "if train:\n",
    "    model.learn(total_timesteps=50_000, progress_bar=True, callback=checkpoint_callback)\n",
    "    model.save(\"models/trial_7\")"
   ]
  },
  {
   "cell_type": "code",
   "execution_count": null,
   "metadata": {},
   "outputs": [],
   "source": [
    "np.abs(sim.physics.named.data.cfrc_ext[\"obstacle_0\"]).sum()"
   ]
  },
  {
   "cell_type": "code",
   "execution_count": null,
   "metadata": {},
   "outputs": [],
   "source": []
  }
 ],
 "metadata": {
  "kernelspec": {
   "display_name": "flygym",
   "language": "python",
   "name": "python3"
  },
  "language_info": {
   "codemirror_mode": {
    "name": "ipython",
    "version": 3
   },
   "file_extension": ".py",
   "mimetype": "text/x-python",
   "name": "python",
   "nbconvert_exporter": "python",
   "pygments_lexer": "ipython3",
   "version": "3.11.0"
  },
  "orig_nbformat": 4
 },
 "nbformat": 4,
 "nbformat_minor": 2
}
