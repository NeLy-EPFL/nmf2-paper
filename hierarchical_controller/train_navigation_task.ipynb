{
 "cells": [
  {
   "cell_type": "code",
   "execution_count": 1,
   "metadata": {},
   "outputs": [],
   "source": [
    "%load_ext autoreload\n",
    "%autoreload 2"
   ]
  },
  {
   "cell_type": "code",
   "execution_count": 2,
   "metadata": {},
   "outputs": [
    {
     "name": "stdout",
     "output_type": "stream",
     "text": [
      "pygame 2.5.1 (SDL 2.28.2, Python 3.11.0)\n",
      "Hello from the pygame community. https://www.pygame.org/contribute.html\n"
     ]
    },
    {
     "name": "stderr",
     "output_type": "stream",
     "text": [
      "/home/sibwang/anaconda3/envs/flygym/lib/python3.11/site-packages/torch/utils/tensorboard/__init__.py:4: DeprecationWarning: distutils Version classes are deprecated. Use packaging.version instead.\n",
      "  if not hasattr(tensorboard, \"__version__\") or LooseVersion(\n",
      "/home/sibwang/anaconda3/envs/flygym/lib/python3.11/site-packages/torch/utils/tensorboard/__init__.py:6: DeprecationWarning: distutils Version classes are deprecated. Use packaging.version instead.\n",
      "  ) < LooseVersion(\"1.15\"):\n",
      "/home/sibwang/anaconda3/envs/flygym/lib/python3.11/site-packages/lightning_fabric/__init__.py:36: DeprecationWarning: Deprecated call to `pkg_resources.declare_namespace('lightning_fabric')`.\n",
      "Implementing implicit namespace packages (as specified in PEP 420) is preferred to `pkg_resources.declare_namespace`. See https://setuptools.pypa.io/en/latest/references/keywords.html#keyword-namespace-packages\n",
      "  __import__(\"pkg_resources\").declare_namespace(__name__)\n",
      "/home/sibwang/anaconda3/envs/flygym/lib/python3.11/site-packages/torchmetrics/utilities/imports.py:24: DeprecationWarning: distutils Version classes are deprecated. Use packaging.version instead.\n",
      "  _PYTHON_LOWER_3_8 = LooseVersion(_PYTHON_VERSION) < LooseVersion(\"3.8\")\n",
      "/home/sibwang/anaconda3/envs/flygym/lib/python3.11/site-packages/torchmetrics/utilities/imports.py:24: DeprecationWarning: distutils Version classes are deprecated. Use packaging.version instead.\n",
      "  _PYTHON_LOWER_3_8 = LooseVersion(_PYTHON_VERSION) < LooseVersion(\"3.8\")\n",
      "/home/sibwang/anaconda3/envs/flygym/lib/python3.11/site-packages/pytorch_lightning/__init__.py:36: DeprecationWarning: Deprecated call to `pkg_resources.declare_namespace('pytorch_lightning')`.\n",
      "Implementing implicit namespace packages (as specified in PEP 420) is preferred to `pkg_resources.declare_namespace`. See https://setuptools.pypa.io/en/latest/references/keywords.html#keyword-namespace-packages\n",
      "  __import__(\"pkg_resources\").declare_namespace(__name__)\n"
     ]
    }
   ],
   "source": [
    "import pickle\n",
    "import pkg_resources\n",
    "import matplotlib.pyplot as plt\n",
    "import numpy as np\n",
    "import pandas as pd\n",
    "import gymnasium as gym\n",
    "import stable_baselines3 as sb3\n",
    "import stable_baselines3.common.logger as logger\n",
    "import stable_baselines3.common.callbacks as callbacks\n",
    "import stable_baselines3.common.env_checker as env_checker\n",
    "from dm_control import mjcf\n",
    "from dm_control.rl.control import PhysicsError\n",
    "import imageio\n",
    "import scipy.spatial\n",
    "import torch\n",
    "import torch.nn as nn\n",
    "import torch.optim as optim\n",
    "import torch_geometric as pyg\n",
    "import torch.nn.functional as F\n",
    "import torch_geometric.nn as gnn\n",
    "import torch_geometric.loader as pyg_loader\n",
    "import pytorch_lightning as pl\n",
    "import torchmetrics\n",
    "from torch.utils.data import Dataset\n",
    "from pathlib import Path\n",
    "from typing import Tuple, Callable, Optional, List, Union\n",
    "from tqdm import trange\n",
    "from dm_control.rl.control import PhysicsError\n",
    "from PIL import Image\n",
    "\n",
    "from flygym.arena.mujoco_arena import FlatTerrain\n",
    "from flygym.envs.nmf_mujoco import NeuroMechFlyMuJoCo, MuJoCoParameters\n",
    "from flygym.state import stretched_pose\n",
    "import flygym.util.vision as vision\n",
    "import flygym.util.config as config\n",
    "from flygym.arena import BaseArena\n",
    "from flygym.arena.mujoco_arena import OdorArena, FlatTerrain, GappedTerrain, BlocksTerrain\n",
    "from flygym.util.data import color_cycle_rgb\n",
    "from flygym.util.turning_controller import TurningController\n",
    "\n",
    "from vision_model import VisualFeaturePreprocessor\n",
    "from navigation_arena import ObstacleOdorArena"
   ]
  },
  {
   "cell_type": "code",
   "execution_count": 3,
   "metadata": {},
   "outputs": [],
   "source": [
    "device = torch.device(\"cuda\" if torch.cuda.is_available() else \"cpu\")"
   ]
  },
  {
   "cell_type": "markdown",
   "metadata": {},
   "source": [
    "Load retina graph"
   ]
  },
  {
   "cell_type": "code",
   "execution_count": 4,
   "metadata": {},
   "outputs": [],
   "source": [
    "with open(\"data/ommatidia_graph.pkl\", \"rb\") as f:\n",
    "    ommatidia_graph_nx = pickle.load(f)\n",
    "ommatidia_graph_pg = pyg.utils.from_networkx(ommatidia_graph_nx)"
   ]
  },
  {
   "cell_type": "markdown",
   "metadata": {},
   "source": [
    "Load visual feature extraction model"
   ]
  },
  {
   "cell_type": "code",
   "execution_count": 5,
   "metadata": {},
   "outputs": [],
   "source": [
    "vision_model = VisualFeaturePreprocessor.load_from_checkpoint(\n",
    "    \"data/models/visual_preprocessor.pt\"\n",
    ")"
   ]
  },
  {
   "cell_type": "markdown",
   "metadata": {},
   "source": [
    "Define MDP task"
   ]
  },
  {
   "cell_type": "code",
   "execution_count": 6,
   "metadata": {},
   "outputs": [],
   "source": [
    "class NMFNavigation(TurningController):\n",
    "    def __init__(\n",
    "        self,\n",
    "        arena,\n",
    "        vision_model,\n",
    "        ommatidia_graph,\n",
    "        device=torch.device(\"cpu\"),\n",
    "        decision_dt=0.1,\n",
    "        n_stabilisation_dur=0.3,\n",
    "        distance_threshold=15,\n",
    "        max_time=5,\n",
    "        test_mode=False,\n",
    "        debug_mode=False,\n",
    "        **kwargs,\n",
    "    ) -> None:\n",
    "        self.debug_mode = debug_mode\n",
    "        sim_params = MuJoCoParameters(\n",
    "            render_playspeed=0.1,\n",
    "            render_camera=\"birdeye_cam\",\n",
    "            enable_vision=True,\n",
    "            render_raw_vision=test_mode,\n",
    "            enable_olfaction=True,\n",
    "            render_mode=\"saved\" if test_mode else \"headless\",\n",
    "            vision_refresh_rate=int(1 / decision_dt),\n",
    "        )\n",
    "        super().__init__(\n",
    "            sim_params=sim_params,\n",
    "            arena=arena,\n",
    "            stabilisation_dur=n_stabilisation_dur,\n",
    "            detect_flip=True,\n",
    "            **kwargs,\n",
    "        )\n",
    "\n",
    "        self.device = device\n",
    "        self.ommatidia_graphs = [ommatidia_graph.clone(), ommatidia_graph.clone()]\n",
    "        self.vision_model = vision_model.to(self.device)\n",
    "        self.max_time = max_time\n",
    "        self.arena = arena\n",
    "        self.num_substeps = int(decision_dt / self.timestep)\n",
    "        self.distance_threshold = distance_threshold\n",
    "\n",
    "        # Override spaces\n",
    "        # action space: 2D vector of amplitude and phase for oscillators on each side\n",
    "        # observation space:\n",
    "        #  - 2D vector of x-y position of object relative to the fly, norm. to [0, 1]\n",
    "        #  - scalar probability that there is an object in view, [0, 1]\n",
    "        #  - 2D vector of mean odor intensity on each side, norm. to [0, 1]\n",
    "        #  - 2D vector of current oscillator amp. on each side, norm. to [0, 1]\n",
    "        self.action_space = gym.spaces.Box(low=-1, high=1, shape=(2,))\n",
    "        self.observation_space = gym.spaces.Box(low=0, high=1, shape=(7,))\n",
    "\n",
    "        self._last_fly_tgt_dist = np.linalg.norm(\n",
    "            np.zeros(2) - self.arena.odor_source[0, :2]\n",
    "        )\n",
    "        self._last_action = np.zeros((2,))\n",
    "\n",
    "    def update_retina_graphs(self, intensities):\n",
    "        intensities = torch.tensor(intensities, dtype=torch.float32).sum(axis=-1) / 255\n",
    "        intensities = intensities.to(self.device)\n",
    "        for i in range(2):\n",
    "            self.ommatidia_graphs[i].x = intensities[i, :]\n",
    "\n",
    "    def step(self, amplitude):\n",
    "        try:\n",
    "            obstacle_contact_counter = 0\n",
    "            for i in range(self.num_substeps):\n",
    "                raw_obs, _, raw_term, raw_trunc, info = super().step(amplitude)\n",
    "                collision_forces = [\n",
    "                    np.abs(self.physics.named.data.cfrc_ext[f\"obstacle_{j}\"]).sum()\n",
    "                    for j in range(len(self.arena.obstacle_positions))\n",
    "                ]\n",
    "                if np.sum(collision_forces) > 1:\n",
    "                    obstacle_contact_counter += 1\n",
    "                super().render()\n",
    "            collision = obstacle_contact_counter > 0.5 * self.num_substeps\n",
    "        except PhysicsError:\n",
    "            print(\"Physics error, resetting environment\")\n",
    "            return np.zeros((7,), dtype=\"float32\"), 0, False, True, {}\n",
    "\n",
    "        # Check if visual inputs are rendered recently\n",
    "        assert abs(self.curr_time - self._last_vision_update_time) < 0.5 * self.timestep\n",
    "\n",
    "        # Parse observations\n",
    "        self.update_retina_graphs(self.curr_visual_input)\n",
    "        pos_pred, obj_prob = self.vision_model(*self.ommatidia_graphs)\n",
    "        pos_pred = pos_pred.detach().numpy().squeeze() / self.distance_threshold\n",
    "        pos_pred = np.clip(pos_pred, 0, 1)\n",
    "        obj_prob = obj_prob.detach().numpy()\n",
    "        odor_intensity = raw_obs[\"odor_intensity\"][0, :].reshape(2, 2).mean(axis=0)\n",
    "        odor_intensity /= self.arena.peak_odor_intensity[0, 0]\n",
    "        last_action = self._last_action / 2 + 0.5\n",
    "        obs = np.concatenate(\n",
    "            [pos_pred, obj_prob, odor_intensity, last_action], dtype=np.float32\n",
    "        )\n",
    "\n",
    "        # Calculate reward\n",
    "        # calculate distance reward\n",
    "        fly_pos = super().get_observation()[\"fly\"][0, :2]\n",
    "        tgt_pos = self.arena.odor_source[0, :2]\n",
    "        distance = np.linalg.norm(fly_pos - tgt_pos)\n",
    "        distance_reward = self._last_fly_tgt_dist - distance\n",
    "        self._last_fly_tgt_dist = distance\n",
    "\n",
    "        # check if fly is too close to any obstacle\n",
    "        has_collision = False\n",
    "        for obst_pos in self.arena.obstacle_positions:\n",
    "            if np.linalg.norm(fly_pos - obst_pos) < self.arena.obstacle_radius + 1:\n",
    "                has_collision = True\n",
    "                break\n",
    "\n",
    "        # calculate final reward\n",
    "        if distance < 2:\n",
    "            reward = 30\n",
    "            terminated = True\n",
    "            info[\"state_desc\"] = \"success\"\n",
    "        elif collision:\n",
    "            reward = -5\n",
    "            terminated = True\n",
    "            info[\"state_desc\"] = \"collision\"\n",
    "        elif info[\"flip\"]:\n",
    "            reward = -5\n",
    "            terminated = True\n",
    "            info[\"state_desc\"] = \"flipped\"\n",
    "        else:\n",
    "            reward = distance_reward\n",
    "            terminated = False\n",
    "            info[\"state_desc\"] = \"seeking\"\n",
    "        \n",
    "        # apply penalty for rapid turning\n",
    "        action_diff = np.abs(amplitude - self._last_action).sum() / 2\n",
    "\n",
    "        info[\"distance_reward\"] = distance_reward\n",
    "        info[\"has_collision\"] = has_collision\n",
    "        info[\"distance\"] = distance\n",
    "        truncated = (\n",
    "            self.curr_time > self.max_time and not terminated\n",
    "        )  # start a new episode\n",
    "\n",
    "        if self.debug_mode:\n",
    "            print(f\"fly_pos: {fly_pos}, reward={reward}, state={info['state_desc']}\")\n",
    "            if terminated:\n",
    "                print(\"terminated\")\n",
    "            if truncated:\n",
    "                print(\"truncated\")\n",
    "        \n",
    "        self._last_action = amplitude\n",
    "        return obs, reward, terminated, truncated, info\n",
    "\n",
    "    def reset(self, seed=0):\n",
    "        super().reset()\n",
    "        obs = np.array([0, 0, 0, 0, 0, 0.5, 0.5], dtype=\"float32\")\n",
    "        self._last_fly_tgt_dist = np.linalg.norm(\n",
    "            np.zeros(2) - self.arena.odor_source[0, :2]\n",
    "        )\n",
    "        self._last_action = np.zeros((2,))\n",
    "        if self.debug_mode:\n",
    "            print(\"resetting environment\")\n",
    "        return obs, {\"state_desc\": \"reset\"}"
   ]
  },
  {
   "cell_type": "code",
   "execution_count": 7,
   "metadata": {},
   "outputs": [
    {
     "name": "stderr",
     "output_type": "stream",
     "text": [
      "/home/sibwang/anaconda3/envs/flygym/lib/python3.11/site-packages/numba/np/ufunc/parallel.py:371: NumbaWarning: The TBB threading layer requires TBB version 2021 update 6 or later i.e., TBB_INTERFACE_VERSION >= 12060. Found TBB_INTERFACE_VERSION = 12050. The TBB threading layer is disabled.\n",
      "  warnings.warn(problem)\n"
     ]
    },
    {
     "name": "stdout",
     "output_type": "stream",
     "text": [
      "resetting environment\n",
      "resetting environment\n",
      "resetting environment\n",
      "fly_pos: [ 3.9329195  -0.10393089], reward=3.932663140450657, state=seeking\n",
      "resetting environment\n",
      "fly_pos: [4.38542067 0.00805808], reward=4.385419093901756, state=seeking\n",
      "fly_pos: [5.00995423 0.1175348 ], reward=0.6241896037907111, state=seeking\n",
      "fly_pos: [ 5.30737244 -0.22641765], reward=0.29646216193157926, state=seeking\n",
      "fly_pos: [5.5954696  0.01594871], reward=-10, state=collision\n",
      "terminated\n",
      "resetting environment\n",
      "fly_pos: [ 4.28742342 -0.14806542], reward=4.2868941967232175, state=seeking\n",
      "fly_pos: [ 5.02696505 -0.0588084 ], reward=0.7399842772924003, state=seeking\n",
      "fly_pos: [5.37436605 0.1219977 ], reward=0.34710840095400286, state=seeking\n",
      "fly_pos: [ 5.54695655 -0.06689521], reward=-10, state=collision\n",
      "terminated\n",
      "resetting environment\n",
      "fly_pos: [ 4.21534329 -0.26079222], reward=4.213707230717596, state=seeking\n",
      "fly_pos: [ 4.2685994  -0.44876242], reward=0.05003566780369795, state=seeking\n"
     ]
    }
   ],
   "source": [
    "terrain_arena = FlatTerrain(ground_alpha=1)\n",
    "arena = ObstacleOdorArena(\n",
    "    terrain=terrain_arena,\n",
    "    obstacle_positions=np.array([(7.5, -2.5), (12.5, 2.5)]),\n",
    "    odor_source=np.array([[20, 0, 2]]),\n",
    "    marker_size=0.5,\n",
    "    obstacle_colors=(0.14, 0.14, 0.2, 1),\n",
    ")\n",
    "sim = NMFNavigation(\n",
    "    spawn_pos=np.array([5, 0, 0]),\n",
    "    arena=arena,\n",
    "    vision_model=vision_model,\n",
    "    ommatidia_graph=ommatidia_graph_pg,\n",
    "    test_mode=True,\n",
    "    debug_mode=True,\n",
    ")\n",
    "env_checker.check_env(sim)"
   ]
  },
  {
   "cell_type": "code",
   "execution_count": 8,
   "metadata": {},
   "outputs": [
    {
     "name": "stdout",
     "output_type": "stream",
     "text": [
      "resetting environment\n"
     ]
    },
    {
     "name": "stderr",
     "output_type": "stream",
     "text": [
      " 10%|█         | 1/10 [00:02<00:24,  2.70s/it]"
     ]
    },
    {
     "name": "stdout",
     "output_type": "stream",
     "text": [
      "fly_pos: [ 4.22271406 -0.03561077], reward=4.222683541946729, state=seeking\n"
     ]
    },
    {
     "name": "stderr",
     "output_type": "stream",
     "text": [
      " 20%|██        | 2/10 [00:05<00:21,  2.63s/it]"
     ]
    },
    {
     "name": "stdout",
     "output_type": "stream",
     "text": [
      "fly_pos: [4.80596661 0.32148532], reward=0.5807242334746832, state=seeking\n"
     ]
    },
    {
     "name": "stderr",
     "output_type": "stream",
     "text": [
      " 30%|███       | 3/10 [00:07<00:17,  2.54s/it]"
     ]
    },
    {
     "name": "stdout",
     "output_type": "stream",
     "text": [
      "fly_pos: [4.79460167 0.90645849], reward=-0.029128747016116563, state=seeking\n"
     ]
    },
    {
     "name": "stderr",
     "output_type": "stream",
     "text": [
      " 30%|███       | 3/10 [00:10<00:24,  3.43s/it]"
     ]
    },
    {
     "name": "stdout",
     "output_type": "stream",
     "text": [
      "fly_pos: [5.92755868 0.92293877], reward=-10, state=collision\n",
      "terminated\n"
     ]
    },
    {
     "name": "stderr",
     "output_type": "stream",
     "text": [
      "\n"
     ]
    }
   ],
   "source": [
    "sim.reset()\n",
    "for i in trange(10):\n",
    "    obs, reward, terminated, truncated, info = sim.step(np.ones((2,)) * 0.8)\n",
    "    if terminated:\n",
    "        break"
   ]
  },
  {
   "cell_type": "code",
   "execution_count": 9,
   "metadata": {},
   "outputs": [],
   "source": [
    "sim.save_video(\"test.mp4\", stabilization_time=0)"
   ]
  },
  {
   "cell_type": "code",
   "execution_count": 10,
   "metadata": {},
   "outputs": [
    {
     "name": "stdout",
     "output_type": "stream",
     "text": [
      "Logging to logs/trial_2\n"
     ]
    },
    {
     "data": {
      "application/vnd.jupyter.widget-view+json": {
       "model_id": "37c485b82d9b470db36cd017b9a9a05b",
       "version_major": 2,
       "version_minor": 0
      },
      "text/plain": [
       "Output()"
      ]
     },
     "metadata": {},
     "output_type": "display_data"
    },
    {
     "name": "stdout",
     "output_type": "stream",
     "text": [
      "Using cuda device\n",
      "Wrapping the env with a `Monitor` wrapper\n",
      "Wrapping the env in a DummyVecEnv.\n"
     ]
    },
    {
     "name": "stdout",
     "output_type": "stream",
     "text": [
      "---------------------------------\n",
      "| rollout/           |          |\n",
      "|    ep_len_mean     | 13       |\n",
      "|    ep_rew_mean     | -5.5     |\n",
      "| time/              |          |\n",
      "|    episodes        | 4        |\n",
      "|    fps             | 0        |\n",
      "|    time_elapsed    | 69       |\n",
      "|    total_timesteps | 52       |\n",
      "---------------------------------\n"
     ]
    },
    {
     "name": "stdout",
     "output_type": "stream",
     "text": [
      "---------------------------------\n",
      "| rollout/           |          |\n",
      "|    ep_len_mean     | 12       |\n",
      "|    ep_rew_mean     | -6.08    |\n",
      "| time/              |          |\n",
      "|    episodes        | 8        |\n",
      "|    fps             | 0        |\n",
      "|    time_elapsed    | 127      |\n",
      "|    total_timesteps | 96       |\n",
      "---------------------------------\n"
     ]
    },
    {
     "name": "stdout",
     "output_type": "stream",
     "text": [
      "---------------------------------\n",
      "| rollout/           |          |\n",
      "|    ep_len_mean     | 13.2     |\n",
      "|    ep_rew_mean     | -5.75    |\n",
      "| time/              |          |\n",
      "|    episodes        | 12       |\n",
      "|    fps             | 0        |\n",
      "|    time_elapsed    | 211      |\n",
      "|    total_timesteps | 159      |\n",
      "| train/             |          |\n",
      "|    actor_loss      | -0.989   |\n",
      "|    critic_loss     | 6.66     |\n",
      "|    ent_coef        | 0.57     |\n",
      "|    ent_coef_loss   | -1.79    |\n",
      "|    learning_rate   | 0.01     |\n",
      "|    n_updates       | 58       |\n",
      "---------------------------------\n"
     ]
    },
    {
     "name": "stdout",
     "output_type": "stream",
     "text": [
      "---------------------------------\n",
      "| rollout/           |          |\n",
      "|    ep_len_mean     | 15.5     |\n",
      "|    ep_rew_mean     | -5.39    |\n",
      "| time/              |          |\n",
      "|    episodes        | 16       |\n",
      "|    fps             | 0        |\n",
      "|    time_elapsed    | 334      |\n",
      "|    total_timesteps | 248      |\n",
      "| train/             |          |\n",
      "|    actor_loss      | -0.299   |\n",
      "|    critic_loss     | 6.87     |\n",
      "|    ent_coef        | 0.263    |\n",
      "|    ent_coef_loss   | -3.53    |\n",
      "|    learning_rate   | 0.01     |\n",
      "|    n_updates       | 147      |\n",
      "---------------------------------\n"
     ]
    },
    {
     "name": "stdout",
     "output_type": "stream",
     "text": [
      "---------------------------------\n",
      "| rollout/           |          |\n",
      "|    ep_len_mean     | 18.6     |\n",
      "|    ep_rew_mean     | -5.4     |\n",
      "| time/              |          |\n",
      "|    episodes        | 20       |\n",
      "|    fps             | 0        |\n",
      "|    time_elapsed    | 505      |\n",
      "|    total_timesteps | 371      |\n",
      "| train/             |          |\n",
      "|    actor_loss      | 0.0787   |\n",
      "|    critic_loss     | 4.18     |\n",
      "|    ent_coef        | 0.115    |\n",
      "|    ent_coef_loss   | -2.82    |\n",
      "|    learning_rate   | 0.01     |\n",
      "|    n_updates       | 270      |\n",
      "---------------------------------\n"
     ]
    },
    {
     "name": "stdout",
     "output_type": "stream",
     "text": [
      "---------------------------------\n",
      "| rollout/           |          |\n",
      "|    ep_len_mean     | 17.7     |\n",
      "|    ep_rew_mean     | -5.22    |\n",
      "| time/              |          |\n",
      "|    episodes        | 24       |\n",
      "|    fps             | 0        |\n",
      "|    time_elapsed    | 583      |\n",
      "|    total_timesteps | 425      |\n",
      "| train/             |          |\n",
      "|    actor_loss      | 0.501    |\n",
      "|    critic_loss     | 2.96     |\n",
      "|    ent_coef        | 0.0963   |\n",
      "|    ent_coef_loss   | -1.1     |\n",
      "|    learning_rate   | 0.01     |\n",
      "|    n_updates       | 324      |\n",
      "---------------------------------\n"
     ]
    },
    {
     "name": "stdout",
     "output_type": "stream",
     "text": [
      "---------------------------------\n",
      "| rollout/           |          |\n",
      "|    ep_len_mean     | 19.6     |\n",
      "|    ep_rew_mean     | -5.36    |\n",
      "| time/              |          |\n",
      "|    episodes        | 28       |\n",
      "|    fps             | 0        |\n",
      "|    time_elapsed    | 758      |\n",
      "|    total_timesteps | 550      |\n",
      "| train/             |          |\n",
      "|    actor_loss      | 0.0679   |\n",
      "|    critic_loss     | 2.4      |\n",
      "|    ent_coef        | 0.0622   |\n",
      "|    ent_coef_loss   | -1.38    |\n",
      "|    learning_rate   | 0.01     |\n",
      "|    n_updates       | 449      |\n",
      "---------------------------------\n"
     ]
    },
    {
     "name": "stdout",
     "output_type": "stream",
     "text": [
      "---------------------------------\n",
      "| rollout/           |          |\n",
      "|    ep_len_mean     | 23.4     |\n",
      "|    ep_rew_mean     | -5.6     |\n",
      "| time/              |          |\n",
      "|    episodes        | 32       |\n",
      "|    fps             | 0        |\n",
      "|    time_elapsed    | 1028     |\n",
      "|    total_timesteps | 750      |\n",
      "| train/             |          |\n",
      "|    actor_loss      | 0.232    |\n",
      "|    critic_loss     | 2.62     |\n",
      "|    ent_coef        | 0.0327   |\n",
      "|    ent_coef_loss   | 0.899    |\n",
      "|    learning_rate   | 0.01     |\n",
      "|    n_updates       | 649      |\n",
      "---------------------------------\n"
     ]
    },
    {
     "name": "stdout",
     "output_type": "stream",
     "text": [
      "---------------------------------\n",
      "| rollout/           |          |\n",
      "|    ep_len_mean     | 25.3     |\n",
      "|    ep_rew_mean     | -6.04    |\n",
      "| time/              |          |\n",
      "|    episodes        | 36       |\n",
      "|    fps             | 0        |\n",
      "|    time_elapsed    | 1229     |\n",
      "|    total_timesteps | 910      |\n",
      "| train/             |          |\n",
      "|    actor_loss      | 0.569    |\n",
      "|    critic_loss     | 1.02     |\n",
      "|    ent_coef        | 0.0209   |\n",
      "|    ent_coef_loss   | 0.804    |\n",
      "|    learning_rate   | 0.01     |\n",
      "|    n_updates       | 809      |\n",
      "---------------------------------\n"
     ]
    },
    {
     "name": "stdout",
     "output_type": "stream",
     "text": [
      "---------------------------------\n",
      "| rollout/           |          |\n",
      "|    ep_len_mean     | 26       |\n",
      "|    ep_rew_mean     | -5.69    |\n",
      "| time/              |          |\n",
      "|    episodes        | 40       |\n",
      "|    fps             | 0        |\n",
      "|    time_elapsed    | 1392     |\n",
      "|    total_timesteps | 1041     |\n",
      "| train/             |          |\n",
      "|    actor_loss      | 0.723    |\n",
      "|    critic_loss     | 2.08     |\n",
      "|    ent_coef        | 0.025    |\n",
      "|    ent_coef_loss   | 1.28     |\n",
      "|    learning_rate   | 0.01     |\n",
      "|    n_updates       | 940      |\n",
      "---------------------------------\n"
     ]
    },
    {
     "name": "stdout",
     "output_type": "stream",
     "text": [
      "---------------------------------\n",
      "| rollout/           |          |\n",
      "|    ep_len_mean     | 24.9     |\n",
      "|    ep_rew_mean     | -5.61    |\n",
      "| time/              |          |\n",
      "|    episodes        | 44       |\n",
      "|    fps             | 0        |\n",
      "|    time_elapsed    | 1462     |\n",
      "|    total_timesteps | 1097     |\n",
      "| train/             |          |\n",
      "|    actor_loss      | 0.984    |\n",
      "|    critic_loss     | 2.65     |\n",
      "|    ent_coef        | 0.0263   |\n",
      "|    ent_coef_loss   | 2.75     |\n",
      "|    learning_rate   | 0.01     |\n",
      "|    n_updates       | 996      |\n",
      "---------------------------------\n"
     ]
    },
    {
     "name": "stdout",
     "output_type": "stream",
     "text": [
      "---------------------------------\n",
      "| rollout/           |          |\n",
      "|    ep_len_mean     | 25       |\n",
      "|    ep_rew_mean     | -5.17    |\n",
      "| time/              |          |\n",
      "|    episodes        | 48       |\n",
      "|    fps             | 0        |\n",
      "|    time_elapsed    | 1586     |\n",
      "|    total_timesteps | 1199     |\n",
      "| train/             |          |\n",
      "|    actor_loss      | 0.984    |\n",
      "|    critic_loss     | 2.96     |\n",
      "|    ent_coef        | 0.0458   |\n",
      "|    ent_coef_loss   | 1.07     |\n",
      "|    learning_rate   | 0.01     |\n",
      "|    n_updates       | 1098     |\n",
      "---------------------------------\n"
     ]
    },
    {
     "name": "stdout",
     "output_type": "stream",
     "text": [
      "---------------------------------\n",
      "| rollout/           |          |\n",
      "|    ep_len_mean     | 24.8     |\n",
      "|    ep_rew_mean     | -5.31    |\n",
      "| time/              |          |\n",
      "|    episodes        | 52       |\n",
      "|    fps             | 0        |\n",
      "|    time_elapsed    | 1700     |\n",
      "|    total_timesteps | 1291     |\n",
      "| train/             |          |\n",
      "|    actor_loss      | 1.09     |\n",
      "|    critic_loss     | 2.1      |\n",
      "|    ent_coef        | 0.0549   |\n",
      "|    ent_coef_loss   | 0.0462   |\n",
      "|    learning_rate   | 0.01     |\n",
      "|    n_updates       | 1190     |\n",
      "---------------------------------\n"
     ]
    },
    {
     "name": "stdout",
     "output_type": "stream",
     "text": [
      "---------------------------------\n",
      "| rollout/           |          |\n",
      "|    ep_len_mean     | 25.9     |\n",
      "|    ep_rew_mean     | -5.58    |\n",
      "| time/              |          |\n",
      "|    episodes        | 56       |\n",
      "|    fps             | 0        |\n",
      "|    time_elapsed    | 1898     |\n",
      "|    total_timesteps | 1453     |\n",
      "| train/             |          |\n",
      "|    actor_loss      | 1.12     |\n",
      "|    critic_loss     | 1.59     |\n",
      "|    ent_coef        | 0.0435   |\n",
      "|    ent_coef_loss   | -0.369   |\n",
      "|    learning_rate   | 0.01     |\n",
      "|    n_updates       | 1352     |\n",
      "---------------------------------\n"
     ]
    },
    {
     "name": "stdout",
     "output_type": "stream",
     "text": [
      "---------------------------------\n",
      "| rollout/           |          |\n",
      "|    ep_len_mean     | 25.6     |\n",
      "|    ep_rew_mean     | -5.68    |\n",
      "| time/              |          |\n",
      "|    episodes        | 60       |\n",
      "|    fps             | 0        |\n",
      "|    time_elapsed    | 2006     |\n",
      "|    total_timesteps | 1539     |\n",
      "| train/             |          |\n",
      "|    actor_loss      | 1.51     |\n",
      "|    critic_loss     | 1.93     |\n",
      "|    ent_coef        | 0.0354   |\n",
      "|    ent_coef_loss   | -1.1     |\n",
      "|    learning_rate   | 0.01     |\n",
      "|    n_updates       | 1438     |\n",
      "---------------------------------\n"
     ]
    },
    {
     "name": "stdout",
     "output_type": "stream",
     "text": [
      "---------------------------------\n",
      "| rollout/           |          |\n",
      "|    ep_len_mean     | 24.8     |\n",
      "|    ep_rew_mean     | -5.62    |\n",
      "| time/              |          |\n",
      "|    episodes        | 64       |\n",
      "|    fps             | 0        |\n",
      "|    time_elapsed    | 2068     |\n",
      "|    total_timesteps | 1584     |\n",
      "| train/             |          |\n",
      "|    actor_loss      | 1.39     |\n",
      "|    critic_loss     | 2.68     |\n",
      "|    ent_coef        | 0.0394   |\n",
      "|    ent_coef_loss   | 0.335    |\n",
      "|    learning_rate   | 0.01     |\n",
      "|    n_updates       | 1483     |\n",
      "---------------------------------\n"
     ]
    },
    {
     "name": "stdout",
     "output_type": "stream",
     "text": [
      "---------------------------------\n",
      "| rollout/           |          |\n",
      "|    ep_len_mean     | 24.1     |\n",
      "|    ep_rew_mean     | -5.56    |\n",
      "| time/              |          |\n",
      "|    episodes        | 68       |\n",
      "|    fps             | 0        |\n",
      "|    time_elapsed    | 2143     |\n",
      "|    total_timesteps | 1642     |\n",
      "| train/             |          |\n",
      "|    actor_loss      | 1.53     |\n",
      "|    critic_loss     | 2.41     |\n",
      "|    ent_coef        | 0.0459   |\n",
      "|    ent_coef_loss   | -0.795   |\n",
      "|    learning_rate   | 0.01     |\n",
      "|    n_updates       | 1541     |\n",
      "---------------------------------\n"
     ]
    },
    {
     "name": "stdout",
     "output_type": "stream",
     "text": [
      "---------------------------------\n",
      "| rollout/           |          |\n",
      "|    ep_len_mean     | 23.5     |\n",
      "|    ep_rew_mean     | -5.51    |\n",
      "| time/              |          |\n",
      "|    episodes        | 72       |\n",
      "|    fps             | 0        |\n",
      "|    time_elapsed    | 2207     |\n",
      "|    total_timesteps | 1689     |\n",
      "| train/             |          |\n",
      "|    actor_loss      | 1.36     |\n",
      "|    critic_loss     | 2.07     |\n",
      "|    ent_coef        | 0.0396   |\n",
      "|    ent_coef_loss   | -0.405   |\n",
      "|    learning_rate   | 0.01     |\n",
      "|    n_updates       | 1588     |\n",
      "---------------------------------\n"
     ]
    },
    {
     "name": "stdout",
     "output_type": "stream",
     "text": [
      "---------------------------------\n",
      "| rollout/           |          |\n",
      "|    ep_len_mean     | 23.2     |\n",
      "|    ep_rew_mean     | -4.69    |\n",
      "| time/              |          |\n",
      "|    episodes        | 76       |\n",
      "|    fps             | 0        |\n",
      "|    time_elapsed    | 2305     |\n",
      "|    total_timesteps | 1765     |\n",
      "| train/             |          |\n",
      "|    actor_loss      | 1.72     |\n",
      "|    critic_loss     | 3.11     |\n",
      "|    ent_coef        | 0.0304   |\n",
      "|    ent_coef_loss   | -0.205   |\n",
      "|    learning_rate   | 0.01     |\n",
      "|    n_updates       | 1664     |\n",
      "---------------------------------\n"
     ]
    },
    {
     "name": "stdout",
     "output_type": "stream",
     "text": [
      "---------------------------------\n",
      "| rollout/           |          |\n",
      "|    ep_len_mean     | 24.1     |\n",
      "|    ep_rew_mean     | -4.75    |\n",
      "| time/              |          |\n",
      "|    episodes        | 80       |\n",
      "|    fps             | 0        |\n",
      "|    time_elapsed    | 2506     |\n",
      "|    total_timesteps | 1927     |\n",
      "| train/             |          |\n",
      "|    actor_loss      | 1.81     |\n",
      "|    critic_loss     | 3.17     |\n",
      "|    ent_coef        | 0.0474   |\n",
      "|    ent_coef_loss   | -0.113   |\n",
      "|    learning_rate   | 0.01     |\n",
      "|    n_updates       | 1826     |\n",
      "---------------------------------\n"
     ]
    },
    {
     "name": "stdout",
     "output_type": "stream",
     "text": [
      "---------------------------------\n",
      "| rollout/           |          |\n",
      "|    ep_len_mean     | 24.1     |\n",
      "|    ep_rew_mean     | -4.94    |\n",
      "| time/              |          |\n",
      "|    episodes        | 84       |\n",
      "|    fps             | 0        |\n",
      "|    time_elapsed    | 2627     |\n",
      "|    total_timesteps | 2024     |\n",
      "| train/             |          |\n",
      "|    actor_loss      | 1.94     |\n",
      "|    critic_loss     | 2.96     |\n",
      "|    ent_coef        | 0.0499   |\n",
      "|    ent_coef_loss   | -0.265   |\n",
      "|    learning_rate   | 0.01     |\n",
      "|    n_updates       | 1923     |\n",
      "---------------------------------\n"
     ]
    },
    {
     "name": "stdout",
     "output_type": "stream",
     "text": [
      "---------------------------------\n",
      "| rollout/           |          |\n",
      "|    ep_len_mean     | 23.8     |\n",
      "|    ep_rew_mean     | -5.06    |\n",
      "| time/              |          |\n",
      "|    episodes        | 88       |\n",
      "|    fps             | 0        |\n",
      "|    time_elapsed    | 2714     |\n",
      "|    total_timesteps | 2095     |\n",
      "| train/             |          |\n",
      "|    actor_loss      | 1.64     |\n",
      "|    critic_loss     | 2.59     |\n",
      "|    ent_coef        | 0.0368   |\n",
      "|    ent_coef_loss   | 1.06     |\n",
      "|    learning_rate   | 0.01     |\n",
      "|    n_updates       | 1994     |\n",
      "---------------------------------\n"
     ]
    },
    {
     "name": "stdout",
     "output_type": "stream",
     "text": [
      "---------------------------------\n",
      "| rollout/           |          |\n",
      "|    ep_len_mean     | 24.1     |\n",
      "|    ep_rew_mean     | -5.12    |\n",
      "| time/              |          |\n",
      "|    episodes        | 92       |\n",
      "|    fps             | 0        |\n",
      "|    time_elapsed    | 2865     |\n",
      "|    total_timesteps | 2219     |\n",
      "| train/             |          |\n",
      "|    actor_loss      | 2.1      |\n",
      "|    critic_loss     | 2.62     |\n",
      "|    ent_coef        | 0.0326   |\n",
      "|    ent_coef_loss   | -1.47    |\n",
      "|    learning_rate   | 0.01     |\n",
      "|    n_updates       | 2118     |\n",
      "---------------------------------\n"
     ]
    },
    {
     "name": "stdout",
     "output_type": "stream",
     "text": [
      "---------------------------------\n",
      "| rollout/           |          |\n",
      "|    ep_len_mean     | 25.2     |\n",
      "|    ep_rew_mean     | -5.58    |\n",
      "| time/              |          |\n",
      "|    episodes        | 96       |\n",
      "|    fps             | 0        |\n",
      "|    time_elapsed    | 3106     |\n",
      "|    total_timesteps | 2419     |\n",
      "| train/             |          |\n",
      "|    actor_loss      | 2.2      |\n",
      "|    critic_loss     | 2.79     |\n",
      "|    ent_coef        | 0.0397   |\n",
      "|    ent_coef_loss   | 0.227    |\n",
      "|    learning_rate   | 0.01     |\n",
      "|    n_updates       | 2318     |\n",
      "---------------------------------\n"
     ]
    },
    {
     "name": "stdout",
     "output_type": "stream",
     "text": [
      "---------------------------------\n",
      "| rollout/           |          |\n",
      "|    ep_len_mean     | 25.5     |\n",
      "|    ep_rew_mean     | -5.61    |\n",
      "| time/              |          |\n",
      "|    episodes        | 100      |\n",
      "|    fps             | 0        |\n",
      "|    time_elapsed    | 3271     |\n",
      "|    total_timesteps | 2554     |\n",
      "| train/             |          |\n",
      "|    actor_loss      | 2.31     |\n",
      "|    critic_loss     | 1.82     |\n",
      "|    ent_coef        | 0.03     |\n",
      "|    ent_coef_loss   | 0.418    |\n",
      "|    learning_rate   | 0.01     |\n",
      "|    n_updates       | 2453     |\n",
      "---------------------------------\n"
     ]
    },
    {
     "name": "stdout",
     "output_type": "stream",
     "text": [
      "---------------------------------\n",
      "| rollout/           |          |\n",
      "|    ep_len_mean     | 27       |\n",
      "|    ep_rew_mean     | -6       |\n",
      "| time/              |          |\n",
      "|    episodes        | 104      |\n",
      "|    fps             | 0        |\n",
      "|    time_elapsed    | 3512     |\n",
      "|    total_timesteps | 2754     |\n",
      "| train/             |          |\n",
      "|    actor_loss      | 2.78     |\n",
      "|    critic_loss     | 2.04     |\n",
      "|    ent_coef        | 0.034    |\n",
      "|    ent_coef_loss   | 0.0509   |\n",
      "|    learning_rate   | 0.01     |\n",
      "|    n_updates       | 2653     |\n",
      "---------------------------------\n"
     ]
    },
    {
     "name": "stdout",
     "output_type": "stream",
     "text": [
      "---------------------------------\n",
      "| rollout/           |          |\n",
      "|    ep_len_mean     | 28.6     |\n",
      "|    ep_rew_mean     | -6.24    |\n",
      "| time/              |          |\n",
      "|    episodes        | 108      |\n",
      "|    fps             | 0        |\n",
      "|    time_elapsed    | 3754     |\n",
      "|    total_timesteps | 2954     |\n",
      "| train/             |          |\n",
      "|    actor_loss      | 3.35     |\n",
      "|    critic_loss     | 1.63     |\n",
      "|    ent_coef        | 0.0213   |\n",
      "|    ent_coef_loss   | -0.28    |\n",
      "|    learning_rate   | 0.01     |\n",
      "|    n_updates       | 2853     |\n",
      "---------------------------------\n"
     ]
    },
    {
     "name": "stdout",
     "output_type": "stream",
     "text": [
      "---------------------------------\n",
      "| rollout/           |          |\n",
      "|    ep_len_mean     | 29.6     |\n",
      "|    ep_rew_mean     | -6.08    |\n",
      "| time/              |          |\n",
      "|    episodes        | 112      |\n",
      "|    fps             | 0        |\n",
      "|    time_elapsed    | 3962     |\n",
      "|    total_timesteps | 3122     |\n",
      "| train/             |          |\n",
      "|    actor_loss      | 3.38     |\n",
      "|    critic_loss     | 1.46     |\n",
      "|    ent_coef        | 0.0196   |\n",
      "|    ent_coef_loss   | 0.646    |\n",
      "|    learning_rate   | 0.01     |\n",
      "|    n_updates       | 3021     |\n",
      "---------------------------------\n"
     ]
    },
    {
     "name": "stdout",
     "output_type": "stream",
     "text": [
      "---------------------------------\n",
      "| rollout/           |          |\n",
      "|    ep_len_mean     | 30.4     |\n",
      "|    ep_rew_mean     | -6.44    |\n",
      "| time/              |          |\n",
      "|    episodes        | 116      |\n",
      "|    fps             | 0        |\n",
      "|    time_elapsed    | 4172     |\n",
      "|    total_timesteps | 3284     |\n",
      "| train/             |          |\n",
      "|    actor_loss      | 3.55     |\n",
      "|    critic_loss     | 1.69     |\n",
      "|    ent_coef        | 0.023    |\n",
      "|    ent_coef_loss   | 0.48     |\n",
      "|    learning_rate   | 0.01     |\n",
      "|    n_updates       | 3183     |\n",
      "---------------------------------\n"
     ]
    },
    {
     "name": "stdout",
     "output_type": "stream",
     "text": [
      "---------------------------------\n",
      "| rollout/           |          |\n",
      "|    ep_len_mean     | 30.8     |\n",
      "|    ep_rew_mean     | -6.73    |\n",
      "| time/              |          |\n",
      "|    episodes        | 120      |\n",
      "|    fps             | 0        |\n",
      "|    time_elapsed    | 4383     |\n",
      "|    total_timesteps | 3448     |\n",
      "| train/             |          |\n",
      "|    actor_loss      | 3.42     |\n",
      "|    critic_loss     | 2.36     |\n",
      "|    ent_coef        | 0.0237   |\n",
      "|    ent_coef_loss   | -0.322   |\n",
      "|    learning_rate   | 0.01     |\n",
      "|    n_updates       | 3347     |\n",
      "---------------------------------\n"
     ]
    },
    {
     "name": "stdout",
     "output_type": "stream",
     "text": [
      "---------------------------------\n",
      "| rollout/           |          |\n",
      "|    ep_len_mean     | 31.6     |\n",
      "|    ep_rew_mean     | -6.57    |\n",
      "| time/              |          |\n",
      "|    episodes        | 124      |\n",
      "|    fps             | 0        |\n",
      "|    time_elapsed    | 4554     |\n",
      "|    total_timesteps | 3581     |\n",
      "| train/             |          |\n",
      "|    actor_loss      | 3.93     |\n",
      "|    critic_loss     | 2        |\n",
      "|    ent_coef        | 0.0344   |\n",
      "|    ent_coef_loss   | 0.814    |\n",
      "|    learning_rate   | 0.01     |\n",
      "|    n_updates       | 3480     |\n",
      "---------------------------------\n"
     ]
    },
    {
     "name": "stdout",
     "output_type": "stream",
     "text": [
      "---------------------------------\n",
      "| rollout/           |          |\n",
      "|    ep_len_mean     | 31.2     |\n",
      "|    ep_rew_mean     | -6.74    |\n",
      "| time/              |          |\n",
      "|    episodes        | 128      |\n",
      "|    fps             | 0        |\n",
      "|    time_elapsed    | 4670     |\n",
      "|    total_timesteps | 3672     |\n",
      "| train/             |          |\n",
      "|    actor_loss      | 4.15     |\n",
      "|    critic_loss     | 1.94     |\n",
      "|    ent_coef        | 0.0291   |\n",
      "|    ent_coef_loss   | 0.405    |\n",
      "|    learning_rate   | 0.01     |\n",
      "|    n_updates       | 3571     |\n",
      "---------------------------------\n"
     ]
    },
    {
     "name": "stdout",
     "output_type": "stream",
     "text": [
      "---------------------------------\n",
      "| rollout/           |          |\n",
      "|    ep_len_mean     | 30.8     |\n",
      "|    ep_rew_mean     | -6.76    |\n",
      "| time/              |          |\n",
      "|    episodes        | 132      |\n",
      "|    fps             | 0        |\n",
      "|    time_elapsed    | 4876     |\n",
      "|    total_timesteps | 3834     |\n",
      "| train/             |          |\n",
      "|    actor_loss      | 4.47     |\n",
      "|    critic_loss     | 1.54     |\n",
      "|    ent_coef        | 0.0398   |\n",
      "|    ent_coef_loss   | -0.103   |\n",
      "|    learning_rate   | 0.01     |\n",
      "|    n_updates       | 3733     |\n",
      "---------------------------------\n"
     ]
    },
    {
     "name": "stdout",
     "output_type": "stream",
     "text": [
      "---------------------------------\n",
      "| rollout/           |          |\n",
      "|    ep_len_mean     | 30.9     |\n",
      "|    ep_rew_mean     | -6.73    |\n",
      "| time/              |          |\n",
      "|    episodes        | 136      |\n",
      "|    fps             | 0        |\n",
      "|    time_elapsed    | 5082     |\n",
      "|    total_timesteps | 3997     |\n",
      "| train/             |          |\n",
      "|    actor_loss      | 4.46     |\n",
      "|    critic_loss     | 1.33     |\n",
      "|    ent_coef        | 0.0219   |\n",
      "|    ent_coef_loss   | 0.324    |\n",
      "|    learning_rate   | 0.01     |\n",
      "|    n_updates       | 3896     |\n",
      "---------------------------------\n"
     ]
    },
    {
     "name": "stdout",
     "output_type": "stream",
     "text": [
      "---------------------------------\n",
      "| rollout/           |          |\n",
      "|    ep_len_mean     | 30.5     |\n",
      "|    ep_rew_mean     | -6.7     |\n",
      "| time/              |          |\n",
      "|    episodes        | 140      |\n",
      "|    fps             | 0        |\n",
      "|    time_elapsed    | 5206     |\n",
      "|    total_timesteps | 4092     |\n",
      "| train/             |          |\n",
      "|    actor_loss      | 4.65     |\n",
      "|    critic_loss     | 1.57     |\n",
      "|    ent_coef        | 0.0312   |\n",
      "|    ent_coef_loss   | -0.251   |\n",
      "|    learning_rate   | 0.01     |\n",
      "|    n_updates       | 3991     |\n",
      "---------------------------------\n"
     ]
    },
    {
     "name": "stdout",
     "output_type": "stream",
     "text": [
      "---------------------------------\n",
      "| rollout/           |          |\n",
      "|    ep_len_mean     | 31.6     |\n",
      "|    ep_rew_mean     | -6.8     |\n",
      "| time/              |          |\n",
      "|    episodes        | 144      |\n",
      "|    fps             | 0        |\n",
      "|    time_elapsed    | 5409     |\n",
      "|    total_timesteps | 4253     |\n",
      "| train/             |          |\n",
      "|    actor_loss      | 4.67     |\n",
      "|    critic_loss     | 1.71     |\n",
      "|    ent_coef        | 0.0271   |\n",
      "|    ent_coef_loss   | 1.37     |\n",
      "|    learning_rate   | 0.01     |\n",
      "|    n_updates       | 4152     |\n",
      "---------------------------------\n"
     ]
    },
    {
     "name": "stdout",
     "output_type": "stream",
     "text": [
      "---------------------------------\n",
      "| rollout/           |          |\n",
      "|    ep_len_mean     | 31.9     |\n",
      "|    ep_rew_mean     | -7.04    |\n",
      "| time/              |          |\n",
      "|    episodes        | 148      |\n",
      "|    fps             | 0        |\n",
      "|    time_elapsed    | 5581     |\n",
      "|    total_timesteps | 4391     |\n",
      "| train/             |          |\n",
      "|    actor_loss      | 5.08     |\n",
      "|    critic_loss     | 1.55     |\n",
      "|    ent_coef        | 0.0287   |\n",
      "|    ent_coef_loss   | -0.0671  |\n",
      "|    learning_rate   | 0.01     |\n",
      "|    n_updates       | 4290     |\n",
      "---------------------------------\n"
     ]
    },
    {
     "name": "stdout",
     "output_type": "stream",
     "text": [
      "---------------------------------\n",
      "| rollout/           |          |\n",
      "|    ep_len_mean     | 32.7     |\n",
      "|    ep_rew_mean     | -7.11    |\n",
      "| time/              |          |\n",
      "|    episodes        | 152      |\n",
      "|    fps             | 0        |\n",
      "|    time_elapsed    | 5810     |\n",
      "|    total_timesteps | 4561     |\n",
      "| train/             |          |\n",
      "|    actor_loss      | 5.12     |\n",
      "|    critic_loss     | 1.82     |\n",
      "|    ent_coef        | 0.0444   |\n",
      "|    ent_coef_loss   | 0.439    |\n",
      "|    learning_rate   | 0.01     |\n",
      "|    n_updates       | 4460     |\n",
      "---------------------------------\n"
     ]
    },
    {
     "name": "stdout",
     "output_type": "stream",
     "text": [
      "---------------------------------\n",
      "| rollout/           |          |\n",
      "|    ep_len_mean     | 32.2     |\n",
      "|    ep_rew_mean     | -7.19    |\n",
      "| time/              |          |\n",
      "|    episodes        | 156      |\n",
      "|    fps             | 0        |\n",
      "|    time_elapsed    | 5960     |\n",
      "|    total_timesteps | 4678     |\n",
      "| train/             |          |\n",
      "|    actor_loss      | 4.95     |\n",
      "|    critic_loss     | 1.53     |\n",
      "|    ent_coef        | 0.0324   |\n",
      "|    ent_coef_loss   | 0.263    |\n",
      "|    learning_rate   | 0.01     |\n",
      "|    n_updates       | 4577     |\n",
      "---------------------------------\n"
     ]
    },
    {
     "name": "stdout",
     "output_type": "stream",
     "text": [
      "---------------------------------\n",
      "| rollout/           |          |\n",
      "|    ep_len_mean     | 32.9     |\n",
      "|    ep_rew_mean     | -7.35    |\n",
      "| time/              |          |\n",
      "|    episodes        | 160      |\n",
      "|    fps             | 0        |\n",
      "|    time_elapsed    | 6146     |\n",
      "|    total_timesteps | 4825     |\n",
      "| train/             |          |\n",
      "|    actor_loss      | 5.74     |\n",
      "|    critic_loss     | 1.44     |\n",
      "|    ent_coef        | 0.029    |\n",
      "|    ent_coef_loss   | 1.04     |\n",
      "|    learning_rate   | 0.01     |\n",
      "|    n_updates       | 4724     |\n",
      "---------------------------------\n"
     ]
    },
    {
     "name": "stdout",
     "output_type": "stream",
     "text": [
      "---------------------------------\n",
      "| rollout/           |          |\n",
      "|    ep_len_mean     | 33.4     |\n",
      "|    ep_rew_mean     | -7.2     |\n",
      "| time/              |          |\n",
      "|    episodes        | 164      |\n",
      "|    fps             | 0        |\n",
      "|    time_elapsed    | 6275     |\n",
      "|    total_timesteps | 4927     |\n",
      "| train/             |          |\n",
      "|    actor_loss      | 5.68     |\n",
      "|    critic_loss     | 1.89     |\n",
      "|    ent_coef        | 0.0388   |\n",
      "|    ent_coef_loss   | -0.824   |\n",
      "|    learning_rate   | 0.01     |\n",
      "|    n_updates       | 4826     |\n",
      "---------------------------------\n"
     ]
    },
    {
     "name": "stdout",
     "output_type": "stream",
     "text": [
      "---------------------------------\n",
      "| rollout/           |          |\n",
      "|    ep_len_mean     | 34.2     |\n",
      "|    ep_rew_mean     | -7.46    |\n",
      "| time/              |          |\n",
      "|    episodes        | 168      |\n",
      "|    fps             | 0        |\n",
      "|    time_elapsed    | 6445     |\n",
      "|    total_timesteps | 5064     |\n",
      "| train/             |          |\n",
      "|    actor_loss      | 6.13     |\n",
      "|    critic_loss     | 1.7      |\n",
      "|    ent_coef        | 0.0188   |\n",
      "|    ent_coef_loss   | -2.36    |\n",
      "|    learning_rate   | 0.01     |\n",
      "|    n_updates       | 4963     |\n",
      "---------------------------------\n"
     ]
    },
    {
     "name": "stdout",
     "output_type": "stream",
     "text": [
      "---------------------------------\n",
      "| rollout/           |          |\n",
      "|    ep_len_mean     | 35.4     |\n",
      "|    ep_rew_mean     | -7.8     |\n",
      "| time/              |          |\n",
      "|    episodes        | 172      |\n",
      "|    fps             | 0        |\n",
      "|    time_elapsed    | 6664     |\n",
      "|    total_timesteps | 5231     |\n",
      "| train/             |          |\n",
      "|    actor_loss      | 6.23     |\n",
      "|    critic_loss     | 1.72     |\n",
      "|    ent_coef        | 0.0238   |\n",
      "|    ent_coef_loss   | -0.0745  |\n",
      "|    learning_rate   | 0.01     |\n",
      "|    n_updates       | 5130     |\n",
      "---------------------------------\n"
     ]
    },
    {
     "name": "stdout",
     "output_type": "stream",
     "text": [
      "---------------------------------\n",
      "| rollout/           |          |\n",
      "|    ep_len_mean     | 35.6     |\n",
      "|    ep_rew_mean     | -8.35    |\n",
      "| time/              |          |\n",
      "|    episodes        | 176      |\n",
      "|    fps             | 0        |\n",
      "|    time_elapsed    | 6796     |\n",
      "|    total_timesteps | 5323     |\n",
      "| train/             |          |\n",
      "|    actor_loss      | 6.41     |\n",
      "|    critic_loss     | 1.8      |\n",
      "|    ent_coef        | 0.0147   |\n",
      "|    ent_coef_loss   | -0.484   |\n",
      "|    learning_rate   | 0.01     |\n",
      "|    n_updates       | 5222     |\n",
      "---------------------------------\n"
     ]
    },
    {
     "name": "stdout",
     "output_type": "stream",
     "text": [
      "---------------------------------\n",
      "| rollout/           |          |\n",
      "|    ep_len_mean     | 34.5     |\n",
      "|    ep_rew_mean     | -8.28    |\n",
      "| time/              |          |\n",
      "|    episodes        | 180      |\n",
      "|    fps             | 0        |\n",
      "|    time_elapsed    | 6861     |\n",
      "|    total_timesteps | 5373     |\n",
      "| train/             |          |\n",
      "|    actor_loss      | 6.01     |\n",
      "|    critic_loss     | 2.36     |\n",
      "|    ent_coef        | 0.0129   |\n",
      "|    ent_coef_loss   | 1.03     |\n",
      "|    learning_rate   | 0.01     |\n",
      "|    n_updates       | 5272     |\n",
      "---------------------------------\n"
     ]
    },
    {
     "name": "stdout",
     "output_type": "stream",
     "text": [
      "---------------------------------\n",
      "| rollout/           |          |\n",
      "|    ep_len_mean     | 34.4     |\n",
      "|    ep_rew_mean     | -8.18    |\n",
      "| time/              |          |\n",
      "|    episodes        | 184      |\n",
      "|    fps             | 0        |\n",
      "|    time_elapsed    | 6982     |\n",
      "|    total_timesteps | 5464     |\n",
      "| train/             |          |\n",
      "|    actor_loss      | 6.71     |\n",
      "|    critic_loss     | 1.18     |\n",
      "|    ent_coef        | 0.0373   |\n",
      "|    ent_coef_loss   | 1.03     |\n",
      "|    learning_rate   | 0.01     |\n",
      "|    n_updates       | 5363     |\n",
      "---------------------------------\n"
     ]
    },
    {
     "name": "stdout",
     "output_type": "stream",
     "text": [
      "---------------------------------\n",
      "| rollout/           |          |\n",
      "|    ep_len_mean     | 34.1     |\n",
      "|    ep_rew_mean     | -8.06    |\n",
      "| time/              |          |\n",
      "|    episodes        | 188      |\n",
      "|    fps             | 0        |\n",
      "|    time_elapsed    | 7037     |\n",
      "|    total_timesteps | 5504     |\n",
      "| train/             |          |\n",
      "|    actor_loss      | 6.78     |\n",
      "|    critic_loss     | 1.15     |\n",
      "|    ent_coef        | 0.0462   |\n",
      "|    ent_coef_loss   | -0.945   |\n",
      "|    learning_rate   | 0.01     |\n",
      "|    n_updates       | 5403     |\n",
      "---------------------------------\n"
     ]
    }
   ],
   "source": [
    "terrain_arena = FlatTerrain(ground_alpha=1)\n",
    "arena = ObstacleOdorArena(\n",
    "    terrain=terrain_arena,\n",
    "    obstacle_positions=np.array([(7.5, 0), (12.5, 5), (17.5, -5)]),\n",
    "    odor_source=np.array([[25, 0, 2]]),\n",
    "    marker_size=0.5,\n",
    "    obstacle_colors=(0.14, 0.14, 0.2, 1),\n",
    ")\n",
    "sim = NMFNavigation(\n",
    "    arena=arena,\n",
    "    vision_model=vision_model,\n",
    "    ommatidia_graph=ommatidia_graph_pg,\n",
    "    max_time=5,\n",
    "    test_mode=False,\n",
    ")\n",
    "env_checker.check_env(sim)\n",
    "\n",
    "np.random.seed(0)\n",
    "sb3.common.utils.set_random_seed(0, using_cuda=True)\n",
    "\n",
    "start_from = None\n",
    "train = True\n",
    "\n",
    "log_dir = \"logs/trial_3\"\n",
    "checkpoint_callback = callbacks.CheckpointCallback(\n",
    "    save_freq=1000,\n",
    "    save_path=log_dir,\n",
    "    name_prefix=\"trial_3\",\n",
    "    save_replay_buffer=True,\n",
    "    save_vecnormalize=True,\n",
    ")\n",
    "my_logger = logger.configure(log_dir, [\"tensorboard\", \"stdout\", \"csv\"])\n",
    "model = sb3.SAC(\n",
    "    \"MlpPolicy\",\n",
    "    env=sim,\n",
    "    policy_kwargs={\"net_arch\": [32, 32]},\n",
    "    verbose=2,\n",
    "    learning_rate=0.01,\n",
    ")\n",
    "if start_from is not None:\n",
    "    model = sb3.SAC.load(start_from)\n",
    "model.set_logger(my_logger)\n",
    "\n",
    "if train:\n",
    "    model.learn(total_timesteps=50_000, progress_bar=True, callback=checkpoint_callback)\n",
    "    model.save(\"models/trial_3\")"
   ]
  },
  {
   "cell_type": "code",
   "execution_count": null,
   "metadata": {},
   "outputs": [
    {
     "data": {
      "text/plain": [
       "23.330371908742478"
      ]
     },
     "execution_count": 66,
     "metadata": {},
     "output_type": "execute_result"
    }
   ],
   "source": [
    "np.abs(sim.physics.named.data.cfrc_ext[\"obstacle_0\"]).sum()"
   ]
  },
  {
   "cell_type": "code",
   "execution_count": null,
   "metadata": {},
   "outputs": [],
   "source": []
  }
 ],
 "metadata": {
  "kernelspec": {
   "display_name": "flygym",
   "language": "python",
   "name": "python3"
  },
  "language_info": {
   "codemirror_mode": {
    "name": "ipython",
    "version": 3
   },
   "file_extension": ".py",
   "mimetype": "text/x-python",
   "name": "python",
   "nbconvert_exporter": "python",
   "pygments_lexer": "ipython3",
   "version": "3.11.0"
  },
  "orig_nbformat": 4
 },
 "nbformat": 4,
 "nbformat_minor": 2
}
