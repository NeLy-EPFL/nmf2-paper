{
 "cells": [
  {
   "cell_type": "code",
   "execution_count": 1,
   "metadata": {},
   "outputs": [],
   "source": [
    "import matplotlib.pyplot as plt\n",
    "import matplotlib.ticker as mticker\n",
    "import seaborn as sns\n",
    "import numpy as np\n",
    "import pandas as pd\n",
    "import pickle\n",
    "from scipy.stats import mannwhitneyu\n",
    "from pathlib import Path"
   ]
  },
  {
   "cell_type": "code",
   "execution_count": 2,
   "metadata": {},
   "outputs": [],
   "source": [
    "plt.rcParams[\"font.family\"] = \"Arial\"\n",
    "plt.rcParams[\"pdf.fonttype\"] = 42"
   ]
  },
  {
   "cell_type": "code",
   "execution_count": 3,
   "metadata": {},
   "outputs": [],
   "source": [
    "base_path = Path(\"simulation_results\")\n",
    "all_folders = base_path.glob(\"*pts*\")\n",
    "\n",
    "# Now in each folder for each pkl file open the observation list\n",
    "# From the observation list get obs_list[-1][\"fly\"][0] the last fly position\n",
    "# Generate a scatter plot for each condition with the last fly z position¨\n",
    "# Chnage the color if the adhesion is on\n",
    "# Save the figure in the base directory\n",
    "\n",
    "save_path = base_path / \"panel_adh.pdf\"\n",
    "\n",
    "controllers = [\"cpg\", \"rule_based\", \"hybrid\"]\n",
    "terrain = [\"flat\", \"blocks\", \"gapped\", \"mixed\"]\n",
    "adhesion = [True]\n",
    "\n",
    "conditions = [(c, t) for t in terrain for c in controllers]\n",
    "n_conditions = len(conditions)\n",
    "\n",
    "# sim_time = 1.0\n",
    "# init_time = 0.0\n",
    "timestep = 1e-4\n",
    "all_rows = []\n",
    "all_colors = np.tile([\"r\", \"b\"], n_conditions)\n",
    "\n",
    "\n",
    "start_pts = 0\n",
    "all_dir = True\n",
    "\n",
    "for controller, terrain in conditions:\n",
    "    for adh in adhesion:\n",
    "        path = base_path / f\"{terrain}/{controller}\"\n",
    "        if not path.is_dir():\n",
    "            print(f\"Path {path} does not exist\")\n",
    "            continue\n",
    "        all_pkl = list(path.glob(\"*.pkl\"))\n",
    "        assert len(all_pkl) > 1, f\"Path {path} does not contain any pkl file\"\n",
    "        data_pts = []\n",
    "        for pkl_file in all_pkl:\n",
    "            with open(pkl_file, \"rb\") as f:\n",
    "                try:\n",
    "                    obs_list = pickle.load(f)\n",
    "                except:\n",
    "                    obs_list = []\n",
    "            # assert len(obs_list) == sim_time * 10_000\n",
    "            if len(obs_list) > start_pts:\n",
    "                if all_dir:\n",
    "                    distance = np.linalg.norm(\n",
    "                        obs_list[-1][\"fly\"][0][:2] - obs_list[start_pts][\"fly\"][0][:2]\n",
    "                    )\n",
    "                else:\n",
    "                    distance = (\n",
    "                        obs_list[-1][\"fly\"][0][0] - obs_list[start_pts][\"fly\"][0][0]\n",
    "                    )\n",
    "                exp_len = (len(obs_list) - start_pts) * timestep\n",
    "            else:\n",
    "                distance = 0.0\n",
    "                exp_len = 100\n",
    "            speed = distance / exp_len\n",
    "            all_rows.append([controller.lower(), terrain.lower(), adh, speed, distance])\n",
    "\n",
    "speed_df = pd.DataFrame(\n",
    "    all_rows, columns=[\"controller\", \"terrain\", \"adhesion\", \"speed\", \"distance\"]\n",
    ")\n",
    "# speed_df.to_csv(\"outputs/mean_speed.csv\", index=False)"
   ]
  },
  {
   "cell_type": "code",
   "execution_count": 4,
   "metadata": {},
   "outputs": [
    {
     "name": "stderr",
     "output_type": "stream",
     "text": [
      "/tmp/ipykernel_38608/4272763772.py:2: FutureWarning: A value is trying to be set on a copy of a DataFrame or Series through chained assignment using an inplace method.\n",
      "The behavior will change in pandas 3.0. This inplace method will never work because the intermediate object on which we are setting values always behaves as a copy.\n",
      "\n",
      "For example, when doing 'df[col].method(value, inplace=True)', try using 'df.method({col: value}, inplace=True)' or df[col] = df[col].method(value) instead, to perform the operation inplace on the original object.\n",
      "\n",
      "\n",
      "  speed_df[\"controller\"].replace({\"rule_based\": \"decentralized\"}, inplace=True)\n"
     ]
    }
   ],
   "source": [
    "# replace rule based with decentralized\n",
    "speed_df[\"controller\"].replace({\"rule_based\": \"decentralized\"}, inplace=True)\n",
    "controllers[1] = \"decentralized\""
   ]
  },
  {
   "cell_type": "code",
   "execution_count": 5,
   "metadata": {},
   "outputs": [
    {
     "name": "stdout",
     "output_type": "stream",
     "text": [
      "14.390784772237144\n",
      "10.601579030354817\n",
      "14.405930582682291\n"
     ]
    }
   ],
   "source": [
    "speed_df_norm = speed_df.copy()\n",
    "for controller in controllers:\n",
    "    full_speed = np.nanmean(\n",
    "        speed_df[\n",
    "            (speed_df[\"controller\"] == controller) & (speed_df[\"terrain\"] == \"flat\")\n",
    "        ][\"speed\"]\n",
    "    )\n",
    "    print(full_speed)\n",
    "    speed_df_norm.loc[speed_df_norm[\"controller\"] == controller, \"speed\"] /= full_speed"
   ]
  },
  {
   "cell_type": "code",
   "execution_count": 6,
   "metadata": {},
   "outputs": [
    {
     "name": "stdout",
     "output_type": "stream",
     "text": [
      "10.298075358072916 14.831053415934244\n",
      "0.06852597488464118 1.0003340361485884\n"
     ]
    }
   ],
   "source": [
    "print(\n",
    "    speed_df[speed_df[\"terrain\"] == \"flat\"][\"speed\"].min(),\n",
    "    speed_df[speed_df[\"terrain\"] == \"flat\"][\"speed\"].max(),\n",
    ")\n",
    "print(\n",
    "    speed_df_norm[speed_df_norm[\"terrain\"] != \"flat\"][\"speed\"].min(),\n",
    "    speed_df_norm[speed_df_norm[\"terrain\"] != \"flat\"][\"speed\"].max(),\n",
    ")"
   ]
  },
  {
   "cell_type": "code",
   "execution_count": 7,
   "metadata": {},
   "outputs": [],
   "source": [
    "def plot(df_others, df_flat=None):\n",
    "    if df_flat is None:\n",
    "        df_flat = df_others\n",
    "\n",
    "    fig = plt.figure(figsize=(6, 2))\n",
    "\n",
    "    widths = np.array([1, 0.8, 1, 0.2, 1, 0.2, 1])\n",
    "    widths /= widths.sum()\n",
    "\n",
    "    axs = {}\n",
    "\n",
    "    terrains = [\"flat\", \"gapped\", \"blocks\", \"mixed\"]\n",
    "    palette = [\"tab:blue\", \"tab:orange\", \"tab:brown\"]\n",
    "    legend_labels = [\"CPG-based\", \"Rule-based\", \"Hybrid\"]\n",
    "\n",
    "    for j, terrain in enumerate([\"flat\", \"gapped\", \"blocks\", \"mixed\"]):\n",
    "        axs[terrain] = ax = fig.add_axes([widths[: j * 2].sum(), 0, widths[j * 2], 1])\n",
    "        ax.set_title(terrain.capitalize() + \" terrain\")\n",
    "\n",
    "        df = df_flat if terrain == \"flat\" else df_others\n",
    "\n",
    "        sns.boxplot(\n",
    "            x=\"controller\",\n",
    "            y=\"speed\",\n",
    "            data=df.query(f\"terrain == '{terrain}'\"),\n",
    "            width=0.6,\n",
    "            ax=ax,\n",
    "            showfliers=False,\n",
    "            boxprops={\"facecolor\": \"None\", \"edgecolor\": \"k\", \"linewidth\": 0.5},\n",
    "            medianprops={\"color\": \"gray\", \"linewidth\": 0.5},\n",
    "            whiskerprops={\"color\": \"gray\", \"linewidth\": 0.5},\n",
    "            capprops={\"color\": \"gray\", \"linewidth\": 0.5},\n",
    "        )\n",
    "        sns.swarmplot(\n",
    "            x=\"controller\",\n",
    "            y=\"speed\",\n",
    "            data=df.query(f\"terrain == '{terrain}'\"),\n",
    "            hue=\"controller\",\n",
    "            size=1.75,\n",
    "            palette=palette,\n",
    "            ax=ax,\n",
    "            legend=False,\n",
    "        )\n",
    "\n",
    "        ax.set_xmargin(0.1)\n",
    "\n",
    "        for spine in [\"top\", \"right\", \"bottom\"]:\n",
    "            ax.spines[spine].set_visible(False)\n",
    "\n",
    "        if terrain == \"flat\":\n",
    "            ax.set_ylabel(\"Avg. speed (mm/s)\")\n",
    "            ax.set_ylim(0, 15)\n",
    "            ax.set_yticks(np.arange(0, 16, 5))\n",
    "        elif terrain == \"gapped\":\n",
    "            ax.set_ylabel(\"Avg. speed\\n(% of flat terrain speed in mm/s)\")\n",
    "            ax.yaxis.set_major_formatter(mticker.PercentFormatter(1))\n",
    "            ax.set_yticks(np.arange(0, 1.1, 0.2))\n",
    "        else:\n",
    "            ax.yaxis.set_visible(False)\n",
    "            ax.spines[\"left\"].set_visible(False)\n",
    "\n",
    "        if j > 1:\n",
    "            ax.sharey(axs[terrains[j - 1]])\n",
    "\n",
    "        ax.xaxis.set_visible(False)\n",
    "\n",
    "    handles = [\n",
    "        plt.Line2D(\n",
    "            [0],\n",
    "            [0],\n",
    "            marker=\"o\",\n",
    "            color=\"w\",\n",
    "            markerfacecolor=palette[i],\n",
    "            markersize=5,\n",
    "            label=legend_labels[i],\n",
    "        )\n",
    "        for i in range(3)\n",
    "    ]\n",
    "\n",
    "    # axs[\"flat\"].axhline(0, clip_on=False, color=\"k\", linewidth=0.5)\n",
    "    ax = fig.add_axes([widths[:2].sum(), 0, widths[2:].sum(), 1])\n",
    "    ax.axis(\"off\")\n",
    "    # ax.axhline(0, clip_on=False, color=\"k\", linewidth=0.5)\n",
    "\n",
    "    fig.legend(\n",
    "        handles=handles,\n",
    "        labels=legend_labels,\n",
    "        loc=\"upper left\",\n",
    "        bbox_to_anchor=(1, 1),\n",
    "        frameon=False,\n",
    "        labelcolor=palette,\n",
    "        handletextpad=0.6,\n",
    "        handlelength=0,\n",
    "        fontsize=\"large\",\n",
    "    )\n",
    "\n",
    "    return axs"
   ]
  },
  {
   "cell_type": "code",
   "execution_count": 8,
   "metadata": {},
   "outputs": [],
   "source": [
    "# remove nans\n",
    "speed_df = speed_df.dropna()\n",
    "speed_df_norm = speed_df_norm.dropna()\n",
    "\n",
    "p_values = {}\n",
    "\n",
    "for variable, df in [(\"Absolute speed\", speed_df), (\"Normalized speed\", speed_df_norm)]:\n",
    "    for terrain_type in [\"flat\", \"gapped\", \"blocks\", \"mixed\"]:\n",
    "        hybrid_pts = df[\n",
    "            (df[\"controller\"] == \"hybrid\") & (df[\"terrain\"] == terrain_type)\n",
    "        ][\"speed\"].values\n",
    "        for controller in [\"cpg\", \"decentralized\"]:\n",
    "            my_pts = df[\n",
    "                (df[\"controller\"] == controller) & (df[\"terrain\"] == terrain_type)\n",
    "            ][\"speed\"].values\n",
    "            u, p = mannwhitneyu(\n",
    "                my_pts, hybrid_pts, alternative=\"less\", method=\"asymptotic\"\n",
    "            )\n",
    "            # print(f\"{variable} - {terrain_type} - {controller} vs hybrid: {p:.6f}\")\n",
    "            p_values[variable, terrain_type, controller] = p"
   ]
  },
  {
   "cell_type": "code",
   "execution_count": 9,
   "metadata": {},
   "outputs": [],
   "source": [
    "def get_asterisks(p):\n",
    "    if p < 0.001:\n",
    "        return \"***\"\n",
    "    if p < 0.01:\n",
    "        return \"**\"\n",
    "    if p < 0.05:\n",
    "        return \"*\"\n",
    "    return \"ns\""
   ]
  },
  {
   "cell_type": "code",
   "execution_count": 10,
   "metadata": {},
   "outputs": [
    {
     "data": {
      "image/png": "[encoded data removed]",
      "text/plain": [
       "<Figure size 600x200 with 5 Axes>"
      ]
     },
     "metadata": {},
     "output_type": "display_data"
    }
   ],
   "source": [
    "axs = plot(speed_df_norm, speed_df)\n",
    "ax = axs[\"gapped\"]\n",
    "ax.set_ylim(0, None)\n",
    "\n",
    "for terrain, ax in axs.items():\n",
    "    variable = \"Absolute speed\" if terrain == \"flat\" else \"Normalized speed\"\n",
    "\n",
    "    for j, controller in enumerate([\"cpg\", \"decentralized\"]):\n",
    "        p = p_values[variable, terrain, controller]\n",
    "\n",
    "        x = (j + 2) / 2\n",
    "        y = (j * 0.8 - 1.2) / 10\n",
    "        ax.errorbar(\n",
    "            x,\n",
    "            y,\n",
    "            xerr=(2 - j) / 2,\n",
    "            capsize=2,\n",
    "            color=\"k\",\n",
    "            linewidth=0.5,\n",
    "            capthick=0.5,\n",
    "            transform=ax.get_xaxis_transform(),\n",
    "            clip_on=False,\n",
    "        )\n",
    "        text = get_asterisks(p)\n",
    "        ax.text(\n",
    "            x,\n",
    "            y,\n",
    "            text,\n",
    "            ha=\"center\",\n",
    "            va=\"bottom\" if text == \"ns\" else \"center\",\n",
    "            fontsize=\"small\",\n",
    "            transform=ax.get_xaxis_transform(),\n",
    "            clip_on=False,\n",
    "        )\n",
    "\n",
    "Path(\"outputs\").mkdir(exist_ok=True)\n",
    "plt.savefig(\"outputs/speed_comparison.pdf\", bbox_inches=\"tight\", transparent=True)"
   ]
  },
  {
   "cell_type": "code",
   "execution_count": null,
   "metadata": {},
   "outputs": [],
   "source": []
  }
 ],
 "metadata": {
  "kernelspec": {
   "display_name": "flygym",
   "language": "python",
   "name": "python3"
  },
  "language_info": {
   "codemirror_mode": {
    "name": "ipython",
    "version": 3
   },
   "file_extension": ".py",
   "mimetype": "text/x-python",
   "name": "python",
   "nbconvert_exporter": "python",
   "pygments_lexer": "ipython3",
   "version": "3.11.8"
  },
  "orig_nbformat": 4,
  "vscode": {
   "interpreter": {
    "hash": "c59852332aaf9da574302dd025ef100eabc038e7fe3e9111c7011bf89b7be9c6"
   }
  }
 },
 "nbformat": 4,
 "nbformat_minor": 2
}
