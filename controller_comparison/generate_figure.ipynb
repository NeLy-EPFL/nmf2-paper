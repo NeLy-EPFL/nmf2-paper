{
 "cells": [
  {
   "cell_type": "code",
   "execution_count": 1,
   "metadata": {},
   "outputs": [],
   "source": [
    "import matplotlib.pyplot as plt\n",
    "import seaborn as sns\n",
    "import numpy as np\n",
    "import pandas as pd\n",
    "from scipy.stats import mannwhitneyu\n",
    "from pathlib import Path"
   ]
  },
  {
   "cell_type": "code",
   "execution_count": 2,
   "metadata": {},
   "outputs": [],
   "source": [
    "plt.rcParams[\"font.family\"] = \"Arial\"\n",
    "plt.rcParams[\"pdf.fonttype\"] = 42"
   ]
  },
  {
   "cell_type": "code",
   "execution_count": 3,
   "metadata": {},
   "outputs": [],
   "source": [
    "base_path = Path(\"outputs/obs\")\n",
    "\n",
    "# Now in each folder for each npz file open the observation list\n",
    "# From the observation list get obs_list[-1][\"fly\"][0] the last fly position\n",
    "# Generate a scatter plot for each condition with the last fly z position¨\n",
    "# Save the figure in the base directory\n",
    "\n",
    "save_path = base_path / \"panel_adh.pdf\"\n",
    "\n",
    "controllers = [\"cpg\", \"rule_based\", \"hybrid\"]\n",
    "terrain = [\"flat\", \"blocks\", \"gapped\", \"mixed\"]\n",
    "\n",
    "conditions = [(c, t) for t in terrain for c in controllers]\n",
    "n_conditions = len(conditions)\n",
    "\n",
    "timestep = 1e-4\n",
    "all_rows = []\n",
    "all_colors = np.tile([\"r\", \"b\"], n_conditions)\n",
    "\n",
    "\n",
    "start_pts = 0\n",
    "all_dir = True\n",
    "\n",
    "for controller, terrain in conditions:\n",
    "    all_npz = list(base_path.glob(f\"{controller}_{terrain}_*.npz\"))\n",
    "    assert len(all_npz) > 1, f\"{controller=},{terrain=} does not contain any npz file\"\n",
    "    data_pts = []\n",
    "    for npz_file in all_npz:\n",
    "        obs_fly_list = np.load(npz_file)[\"fly\"]\n",
    "        # assert len(obs_list) == sim_time * 10_000\n",
    "        if len(obs_fly_list) > start_pts:\n",
    "            if all_dir:\n",
    "                distance = np.linalg.norm(\n",
    "                    obs_fly_list[-1, 0, :2] - obs_fly_list[start_pts, 0, :2]\n",
    "                )\n",
    "            else:\n",
    "                distance = obs_fly_list[-1, 0, 0] - obs_fly_list[start_pts, 0, 0]\n",
    "            exp_len = (len(obs_fly_list) - start_pts) * timestep\n",
    "        else:\n",
    "            distance = 0.0\n",
    "            exp_len = 100\n",
    "        speed = distance / exp_len\n",
    "        all_rows.append([controller.lower(), terrain.lower(), speed])\n",
    "\n",
    "df = pd.DataFrame(all_rows, columns=[\"controller\", \"terrain\", \"speed\"])"
   ]
  },
  {
   "cell_type": "code",
   "execution_count": 4,
   "metadata": {},
   "outputs": [
    {
     "name": "stdout",
     "output_type": "stream",
     "text": [
      "10.437405268351236 14.676584879557291\n"
     ]
    }
   ],
   "source": [
    "print(\n",
    "    df[df[\"terrain\"] == \"flat\"][\"speed\"].min(),\n",
    "    df[df[\"terrain\"] == \"flat\"][\"speed\"].max(),\n",
    ")"
   ]
  },
  {
   "cell_type": "code",
   "execution_count": 5,
   "metadata": {},
   "outputs": [],
   "source": [
    "def plot(df):\n",
    "    fig = plt.figure(figsize=(6, 2))\n",
    "\n",
    "    widths = np.array([1, 0.2, 1, 0.2, 1, 0.2, 1])\n",
    "    widths /= widths.sum()\n",
    "\n",
    "    axs = {}\n",
    "\n",
    "    terrains = [\"flat\", \"gapped\", \"blocks\", \"mixed\"]\n",
    "    palette = [\"tab:blue\", \"tab:orange\", \"tab:brown\"]\n",
    "    legend_labels = [\"CPG-based\", \"Rule-based\", \"Hybrid\"]\n",
    "\n",
    "    for j, terrain in enumerate([\"flat\", \"gapped\", \"blocks\", \"mixed\"]):\n",
    "        axs[terrain] = ax = fig.add_axes([widths[: j * 2].sum(), 0, widths[j * 2], 1])\n",
    "        ax.set_title(terrain.capitalize() + \" terrain\")\n",
    "\n",
    "        df = df if terrain == \"flat\" else df\n",
    "\n",
    "        sns.boxplot(\n",
    "            x=\"controller\",\n",
    "            y=\"speed\",\n",
    "            data=df.query(f\"terrain == '{terrain}'\"),\n",
    "            width=0.6,\n",
    "            ax=ax,\n",
    "            showfliers=False,\n",
    "            boxprops={\"facecolor\": \"None\", \"edgecolor\": \"k\", \"linewidth\": 0.5},\n",
    "            medianprops={\"color\": \"gray\", \"linewidth\": 0.5},\n",
    "            whiskerprops={\"color\": \"gray\", \"linewidth\": 0.5},\n",
    "            capprops={\"color\": \"gray\", \"linewidth\": 0.5},\n",
    "        )\n",
    "        sns.swarmplot(\n",
    "            x=\"controller\",\n",
    "            y=\"speed\",\n",
    "            data=df.query(f\"terrain == '{terrain}'\"),\n",
    "            hue=\"controller\",\n",
    "            size=1.75,\n",
    "            palette=palette,\n",
    "            ax=ax,\n",
    "            legend=False,\n",
    "        )\n",
    "\n",
    "        ax.set_xmargin(0.1)\n",
    "\n",
    "        for spine in [\"top\", \"right\", \"bottom\"]:\n",
    "            ax.spines[spine].set_visible(False)\n",
    "\n",
    "        if terrain == \"flat\":\n",
    "            ax.set_ylabel(\"Avg. speed (mm/s)\")\n",
    "            ax.set_ylim(0, 15)\n",
    "            ax.set_yticks(np.arange(0, 16, 5))\n",
    "        else:\n",
    "            ax.yaxis.set_visible(False)\n",
    "            ax.spines[\"left\"].set_visible(False)\n",
    "\n",
    "        if j >= 1:\n",
    "            ax.sharey(axs[terrains[j - 1]])\n",
    "\n",
    "        ax.xaxis.set_visible(False)\n",
    "\n",
    "    handles = [\n",
    "        plt.Line2D(\n",
    "            [0],\n",
    "            [0],\n",
    "            marker=\"o\",\n",
    "            color=\"w\",\n",
    "            markerfacecolor=palette[i],\n",
    "            markersize=5,\n",
    "            label=legend_labels[i],\n",
    "        )\n",
    "        for i in range(3)\n",
    "    ]\n",
    "\n",
    "    ax = fig.add_axes([widths[:2].sum(), 0, widths[2:].sum(), 1])\n",
    "    ax.axis(\"off\")\n",
    "\n",
    "    fig.legend(\n",
    "        handles=handles,\n",
    "        labels=legend_labels,\n",
    "        loc=\"upper left\",\n",
    "        bbox_to_anchor=(1, 1),\n",
    "        frameon=False,\n",
    "        labelcolor=palette,\n",
    "        handletextpad=0.6,\n",
    "        handlelength=0,\n",
    "        fontsize=\"large\",\n",
    "    )\n",
    "\n",
    "    return axs"
   ]
  },
  {
   "cell_type": "code",
   "execution_count": 6,
   "metadata": {},
   "outputs": [],
   "source": [
    "# remove nans\n",
    "df = df.dropna()\n",
    "\n",
    "p_values = {}\n",
    "for terrain_type in [\"flat\", \"gapped\", \"blocks\", \"mixed\"]:\n",
    "    hybrid_pts = df[(df[\"controller\"] == \"hybrid\") & (df[\"terrain\"] == terrain_type)][\n",
    "        \"speed\"\n",
    "    ].values\n",
    "    for controller in [\"cpg\", \"rule_based\"]:\n",
    "        my_pts = df[(df[\"controller\"] == controller) & (df[\"terrain\"] == terrain_type)][\n",
    "            \"speed\"\n",
    "        ].values\n",
    "        u, p = mannwhitneyu(my_pts, hybrid_pts, alternative=\"less\", method=\"asymptotic\")\n",
    "        # print(f\"{variable} - {terrain_type} - {controller} vs hybrid: {p:.6f}\")\n",
    "        p_values[terrain_type, controller] = p"
   ]
  },
  {
   "cell_type": "code",
   "execution_count": 7,
   "metadata": {},
   "outputs": [],
   "source": [
    "def get_asterisks(p):\n",
    "    if p < 0.001:\n",
    "        return \"***\"\n",
    "    if p < 0.01:\n",
    "        return \"**\"\n",
    "    if p < 0.05:\n",
    "        return \"*\"\n",
    "    return \"ns\""
   ]
  },
  {
   "cell_type": "code",
   "execution_count": 8,
   "metadata": {},
   "outputs": [
    {
     "data": {
      "image/png": "[encoded data removed]",
      "text/plain": [
       "<Figure size 600x200 with 5 Axes>"
      ]
     },
     "metadata": {},
     "output_type": "display_data"
    }
   ],
   "source": [
    "axs = plot(df)\n",
    "ax = axs[\"gapped\"]\n",
    "ax.set_ylim(0, None)\n",
    "\n",
    "for terrain, ax in axs.items():\n",
    "    for j, controller in enumerate([\"cpg\", \"rule_based\"]):\n",
    "        p = p_values[terrain, controller]\n",
    "\n",
    "        x = (j + 2) / 2\n",
    "        y = (j * 0.8 - 1.2) / 10\n",
    "        ax.errorbar(\n",
    "            x,\n",
    "            y,\n",
    "            xerr=(2 - j) / 2,\n",
    "            capsize=2,\n",
    "            color=\"k\",\n",
    "            linewidth=0.5,\n",
    "            capthick=0.5,\n",
    "            transform=ax.get_xaxis_transform(),\n",
    "            clip_on=False,\n",
    "        )\n",
    "        text = get_asterisks(p)\n",
    "        ax.text(\n",
    "            x,\n",
    "            y,\n",
    "            text,\n",
    "            ha=\"center\",\n",
    "            va=\"bottom\" if text == \"ns\" else \"center\",\n",
    "            fontsize=\"small\",\n",
    "            transform=ax.get_xaxis_transform(),\n",
    "            clip_on=False,\n",
    "        )\n",
    "\n",
    "Path(\"outputs\").mkdir(exist_ok=True)\n",
    "plt.savefig(\"outputs/speed_comparison.pdf\", bbox_inches=\"tight\", transparent=True)"
   ]
  },
  {
   "cell_type": "code",
   "execution_count": 9,
   "metadata": {},
   "outputs": [],
   "source": [
    "terrains = [\"flat\", \"gapped\", \"blocks\", \"mixed\"]\n",
    "\n",
    "rows = []\n",
    "\n",
    "for terrain_type in terrains:\n",
    "    hybrid_pts = df[df[\"controller\"].eq(\"hybrid\") & df[\"terrain\"].eq(terrain_type)][\n",
    "        \"speed\"\n",
    "    ].values\n",
    "    rows.append([])\n",
    "\n",
    "    for controller in [\"cpg\", \"rule_based\"]:\n",
    "        my_pts = df[(df[\"controller\"] == controller) & (df[\"terrain\"] == terrain_type)][\n",
    "            \"speed\"\n",
    "        ].values\n",
    "        u, p = mannwhitneyu(my_pts, hybrid_pts, alternative=\"less\", method=\"asymptotic\")\n",
    "        rows[-1].append(f\"U = {int(u)}, p = {p:.1E}\")"
   ]
  },
  {
   "cell_type": "code",
   "execution_count": 10,
   "metadata": {},
   "outputs": [
    {
     "data": {
      "text/html": [
       "<div>\n",
       "<style scoped>\n",
       "    .dataframe tbody tr th:only-of-type {\n",
       "        vertical-align: middle;\n",
       "    }\n",
       "\n",
       "    .dataframe tbody tr th {\n",
       "        vertical-align: top;\n",
       "    }\n",
       "\n",
       "    .dataframe thead th {\n",
       "        text-align: right;\n",
       "    }\n",
       "</style>\n",
       "<table border=\"1\" class=\"dataframe\">\n",
       "  <thead>\n",
       "    <tr style=\"text-align: right;\">\n",
       "      <th></th>\n",
       "      <th>cpg &lt; hybrid</th>\n",
       "      <th>rule-based &lt; hybrid</th>\n",
       "    </tr>\n",
       "  </thead>\n",
       "  <tbody>\n",
       "    <tr>\n",
       "      <th>flat</th>\n",
       "      <td>U = 346, p = 1.0E+00</td>\n",
       "      <td>U = 0, p = 3.4E-08</td>\n",
       "    </tr>\n",
       "    <tr>\n",
       "      <th>gapped</th>\n",
       "      <td>U = 25, p = 1.2E-06</td>\n",
       "      <td>U = 16, p = 3.5E-07</td>\n",
       "    </tr>\n",
       "    <tr>\n",
       "      <th>blocks</th>\n",
       "      <td>U = 16, p = 3.5E-07</td>\n",
       "      <td>U = 34, p = 3.8E-06</td>\n",
       "    </tr>\n",
       "    <tr>\n",
       "      <th>mixed</th>\n",
       "      <td>U = 43, p = 1.2E-05</td>\n",
       "      <td>U = 56, p = 5.2E-05</td>\n",
       "    </tr>\n",
       "  </tbody>\n",
       "</table>\n",
       "</div>"
      ],
      "text/plain": [
       "                cpg < hybrid  rule-based < hybrid\n",
       "flat    U = 346, p = 1.0E+00   U = 0, p = 3.4E-08\n",
       "gapped   U = 25, p = 1.2E-06  U = 16, p = 3.5E-07\n",
       "blocks   U = 16, p = 3.5E-07  U = 34, p = 3.8E-06\n",
       "mixed    U = 43, p = 1.2E-05  U = 56, p = 5.2E-05"
      ]
     },
     "execution_count": 10,
     "metadata": {},
     "output_type": "execute_result"
    }
   ],
   "source": [
    "pd.DataFrame(rows, index=terrains, columns=[\"cpg < hybrid\", \"rule-based < hybrid\"])"
   ]
  },
  {
   "cell_type": "code",
   "execution_count": 11,
   "metadata": {},
   "outputs": [],
   "source": [
    "df.to_csv(\"outputs/speed_comparison.csv\", index=False)"
   ]
  }
 ],
 "metadata": {
  "kernelspec": {
   "display_name": "flygym",
   "language": "python",
   "name": "python3"
  },
  "language_info": {
   "codemirror_mode": {
    "name": "ipython",
    "version": 3
   },
   "file_extension": ".py",
   "mimetype": "text/x-python",
   "name": "python",
   "nbconvert_exporter": "python",
   "pygments_lexer": "ipython3",
   "version": "3.12.4"
  },
  "orig_nbformat": 4,
  "vscode": {
   "interpreter": {
    "hash": "c59852332aaf9da574302dd025ef100eabc038e7fe3e9111c7011bf89b7be9c6"
   }
  }
 },
 "nbformat": 4,
 "nbformat_minor": 2
}
