{
 "cells": [
  {
   "cell_type": "code",
   "execution_count": 38,
   "metadata": {},
   "outputs": [],
   "source": [
    "import numpy as np\n",
    "import matplotlib.pyplot as plt\n",
    "from tqdm import tqdm, trange\n",
    "from flygym import Fly, Camera, SingleFlySimulation\n",
    "from flygym.examples import PreprogrammedSteps\n",
    "\n",
    "from flygym.arena.tethered import Tethered"
   ]
  },
  {
   "cell_type": "code",
   "execution_count": 39,
   "metadata": {},
   "outputs": [],
   "source": [
    "timestep = 1e-4\n",
    "\n",
    "# Define leg raise correction vectors\n",
    "correction_vectors = {\n",
    "    # \"leg pos\": (Coxa, Coxa_roll, Coxa_yaw, Femur, Femur_roll, Tibia, Tarsus1)\n",
    "    # unit: radian\n",
    "    \"F\": np.array([-0.03, 0, 0, -0.03, 0, 0.03, 0.03]),\n",
    "    \"M\": np.array([-0.015, 0.001, 0.025, -0.02, 0, -0.02, 0.0]),\n",
    "    \"H\": np.array([0, 0, 0, -0.02, 0, 0.01, -0.02]),\n",
    "}\n",
    "\n",
    "\"\"\"correction_vectors = {\n",
    "    # \"leg pos\": (Coxa, Coxa_roll, Coxa_yaw, Femur, Femur_roll, Tibia, Tarsus1)\n",
    "    # unit: radian\n",
    "    \"F\": np.array([-0.03, 0, 0, -0.04, 0, 0.032, 0.02]),\n",
    "    \"M\": np.array([-0.015, 0.001, 0.2, 0.004, 0, 0.01, -0.008]),\n",
    "    \"H\": np.array([0, 0, 0, -0.01, 0, 0.005, 0]),\n",
    "}\"\"\"\n",
    "\n",
    "right_leg_inversion = [1, -1, -1, 1, -1, 1, 1]\n",
    "\n",
    "# Define leg raise rates\n",
    "correction_rates = {\"retraction\": (500, 400), \"stumbling\": (2000, 1900)}\n",
    "max_increment = 80"
   ]
  },
  {
   "cell_type": "code",
   "execution_count": 40,
   "metadata": {},
   "outputs": [],
   "source": [
    "fly = Fly(\n",
    "    enable_adhesion=True,\n",
    "    draw_adhesion=True,\n",
    "    init_pose=\"tripod\",\n",
    "    control=\"position\",\n",
    "    spawn_pos=np.concatenate([np.random.rand(2), [0]]) - np.concatenate([np.ones(2)*0.5, [0]]),\n",
    "    detect_flip=True,\n",
    ")\n",
    "\n",
    "cam = Camera(fly=fly, play_speed=0.05, camera_id=\"Animat/camera_right\")\n",
    "cam.cam_offset += [0.0, 4.0, 0.0]\n",
    "arena = Tethered()\n",
    "sim = SingleFlySimulation(\n",
    "    fly=fly,\n",
    "    cameras=[cam],\n",
    "    timestep=1e-4,\n",
    "    arena=arena,\n",
    ")\n",
    "\n",
    "cam.update_camera_pos = False\n",
    "\n",
    "obs, _ = sim.reset()"
   ]
  },
  {
   "cell_type": "code",
   "execution_count": 41,
   "metadata": {},
   "outputs": [
    {
     "data": {
      "text/plain": [
       "({'LF': [0, 1, 2, 3, 4, 5, 6],\n",
       "  'LM': [7, 8, 9, 10, 11, 12, 13],\n",
       "  'LH': [14, 15, 16, 17, 18, 19, 20],\n",
       "  'RF': [21, 22, 23, 24, 25, 26, 27],\n",
       "  'RM': [28, 29, 30, 31, 32, 33, 34],\n",
       "  'RH': [35, 36, 37, 38, 39, 40, 41]},\n",
       " array([ 0.6101972 ,  1.32109394, -0.11010561, -2.60880835,  0.91672976,\n",
       "         2.1007223 , -0.41476448,  0.40218574,  1.8716873 ,  0.80052746,\n",
       "        -1.4432551 , -0.19805689,  1.98889966, -0.57303714,  0.49221796,\n",
       "         2.49478087,  0.42962744, -1.52780084, -0.41317017,  1.39048667,\n",
       "         0.04873025,  0.6101972 , -1.32109394,  0.11010561, -2.60880835,\n",
       "        -0.91672976,  2.1007223 , -0.41476448,  0.40218574, -1.8716873 ,\n",
       "        -0.80052746, -1.4432551 ,  0.19805689,  1.98889966, -0.57303714,\n",
       "         0.49221796, -2.49478087, -0.42962744, -1.52780084,  0.41317017,\n",
       "         1.39048667,  0.04873025]))"
      ]
     },
     "execution_count": 41,
     "metadata": {},
     "output_type": "execute_result"
    }
   ],
   "source": [
    "prepro_step = PreprogrammedSteps()\n",
    "all_legs = prepro_step.legs\n",
    "\n",
    "leg_joints_ids = {leg: [i for i, jnt in enumerate(fly.actuated_joints) if jnt.startswith(\"joint_\" + leg)] for leg in all_legs}\n",
    "\n",
    "default_pose =np.zeros(len(fly.actuated_joints))\n",
    "for leg in all_legs:\n",
    "    default_pose[leg_joints_ids[leg]] = prepro_step.get_joint_angles(leg, 0.0, 1.0)\n",
    "\n",
    "leg_joints_ids, default_pose"
   ]
  },
  {
   "cell_type": "code",
   "execution_count": 42,
   "metadata": {},
   "outputs": [
    {
     "name": "stderr",
     "output_type": "stream",
     "text": [
      "100%|██████████| 1000/1000 [00:02<00:00, 491.98it/s]\n",
      "100%|██████████| 1000/1000 [00:01<00:00, 615.81it/s]\n",
      "100%|██████████| 1000/1000 [00:01<00:00, 599.59it/s]\n"
     ]
    }
   ],
   "source": [
    "num_steps_per_leg = 1000\n",
    "correction = 0.0\n",
    "\n",
    "for i, leg in enumerate([\"RF\", \"RM\", \"RH\"]):\n",
    "    correction = 0.0\n",
    "    for j in trange(num_steps_per_leg):\n",
    "        if j < num_steps_per_leg // 2:\n",
    "            correction += correction_rates[\"retraction\"][0] * sim.timestep\n",
    "        else:\n",
    "            correction -= correction_rates[\"retraction\"][1] * sim.timestep\n",
    "\n",
    "        correction = np.clip(correction, -1*max_increment, max_increment)\n",
    "        joint_angles_corr = correction * correction_vectors[leg[1]]\n",
    "        if leg[0] == \"R\":\n",
    "            joint_angles_corr *= right_leg_inversion\n",
    "        \n",
    "        joint_angles = default_pose.copy()\n",
    "        joint_angles[leg_joints_ids[leg]] += joint_angles_corr\n",
    "\n",
    "        action = {\"joints\": joint_angles, \"adhesion\": np.zeros(6)}  \n",
    "        obs, _, _, _, _ = sim.step(action)\n",
    "        sim.render()\n",
    "\n",
    "cam.save_video(\"outputs/stumbling_right.mp4\", 0)"
   ]
  },
  {
   "cell_type": "code",
   "execution_count": 43,
   "metadata": {},
   "outputs": [
    {
     "name": "stderr",
     "output_type": "stream",
     "text": [
      "100%|██████████| 1000/1000 [00:01<00:00, 530.73it/s]\n",
      "100%|██████████| 1000/1000 [00:01<00:00, 644.18it/s]\n",
      "100%|██████████| 1000/1000 [00:01<00:00, 619.40it/s]\n",
      "100%|██████████| 1000/1000 [00:01<00:00, 552.66it/s]\n",
      "100%|██████████| 1000/1000 [00:01<00:00, 518.52it/s]\n",
      "100%|██████████| 1000/1000 [00:01<00:00, 572.39it/s]\n"
     ]
    }
   ],
   "source": [
    "fly = Fly(\n",
    "    enable_adhesion=True,\n",
    "    draw_adhesion=True,\n",
    "    init_pose=\"tripod\",\n",
    "    control=\"position\",\n",
    "    spawn_pos=np.concatenate([np.random.rand(2), [0]]) - np.concatenate([np.ones(2)*0.5, [0]]),\n",
    "    detect_flip=True,\n",
    ")\n",
    "\n",
    "cam = Camera(fly=fly, play_speed=0.05, camera_id=\"Animat/camera_front\")\n",
    "cam.cam_offset -= [4.0, 0.0, 0.0]\n",
    "arena = Tethered()\n",
    "sim = SingleFlySimulation(\n",
    "    fly=fly,\n",
    "    cameras=[cam],\n",
    "    timestep=1e-4,\n",
    "    arena=arena,\n",
    ")\n",
    "\n",
    "cam.update_camera_pos = False\n",
    "\n",
    "obs, _ = sim.reset()\n",
    "\n",
    "for i, leg in enumerate(all_legs):\n",
    "    correction = 0.0\n",
    "    for j in trange(num_steps_per_leg):\n",
    "        if j < num_steps_per_leg // 2:\n",
    "            correction += correction_rates[\"retraction\"][0] * sim.timestep\n",
    "        else:\n",
    "            correction -= correction_rates[\"retraction\"][1] * sim.timestep\n",
    "\n",
    "        correction = np.clip(correction, -1*max_increment, max_increment)\n",
    "        joint_angles_corr = correction * correction_vectors[leg[1]]\n",
    "        if leg[0] == \"R\":\n",
    "            joint_angles_corr *= right_leg_inversion\n",
    "        \n",
    "        joint_angles = default_pose.copy()\n",
    "        joint_angles[leg_joints_ids[leg]] += joint_angles_corr\n",
    "\n",
    "        action = {\"joints\": joint_angles, \"adhesion\": np.zeros(6)}  \n",
    "        obs, _, _, _, _ = sim.step(action)\n",
    "        sim.render()\n",
    "\n",
    "cam.save_video(\"outputs/stumbling_front.mp4\", 0)"
   ]
  },
  {
   "cell_type": "code",
   "execution_count": null,
   "metadata": {},
   "outputs": [],
   "source": []
  },
  {
   "cell_type": "code",
   "execution_count": null,
   "metadata": {},
   "outputs": [],
   "source": []
  },
  {
   "cell_type": "code",
   "execution_count": null,
   "metadata": {},
   "outputs": [],
   "source": []
  }
 ],
 "metadata": {
  "kernelspec": {
   "display_name": "flygym_other",
   "language": "python",
   "name": "python3"
  },
  "language_info": {
   "codemirror_mode": {
    "name": "ipython",
    "version": 3
   },
   "file_extension": ".py",
   "mimetype": "text/x-python",
   "name": "python",
   "nbconvert_exporter": "python",
   "pygments_lexer": "ipython3",
   "version": "3.8.16"
  }
 },
 "nbformat": 4,
 "nbformat_minor": 2
}
