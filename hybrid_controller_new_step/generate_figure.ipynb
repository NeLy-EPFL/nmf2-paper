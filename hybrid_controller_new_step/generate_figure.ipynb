{
 "cells": [
  {
   "cell_type": "code",
   "execution_count": 4,
   "metadata": {},
   "outputs": [],
   "source": [
    "import matplotlib.pyplot as plt\n",
    "import matplotlib.ticker as mticker\n",
    "import seaborn as sns\n",
    "import numpy as np\n",
    "import pandas as pd\n",
    "import pickle\n",
    "from scipy.stats import mannwhitneyu\n",
    "from pathlib import Path"
   ]
  },
  {
   "cell_type": "code",
   "execution_count": 5,
   "metadata": {},
   "outputs": [],
   "source": [
    "plt.rcParams['font.family'] = 'Arial'\n",
    "plt.rcParams['pdf.fonttype'] = 42"
   ]
  },
  {
   "cell_type": "code",
   "execution_count": 6,
   "metadata": {},
   "outputs": [
    {
     "ename": "UnpicklingError",
     "evalue": "pickle data was truncated",
     "output_type": "error",
     "traceback": [
      "\u001b[0;31m---------------------------------------------------------------------------\u001b[0m",
      "\u001b[0;31mUnpicklingError\u001b[0m                           Traceback (most recent call last)",
      "\u001b[0;32m/tmp/ipykernel_1549696/2252405339.py\u001b[0m in \u001b[0;36m<module>\u001b[0;34m\u001b[0m\n\u001b[1;32m     34\u001b[0m         \u001b[0;32mfor\u001b[0m \u001b[0mpkl_file\u001b[0m \u001b[0;32min\u001b[0m \u001b[0mall_pkl\u001b[0m\u001b[0;34m:\u001b[0m\u001b[0;34m\u001b[0m\u001b[0;34m\u001b[0m\u001b[0m\n\u001b[1;32m     35\u001b[0m             \u001b[0;32mwith\u001b[0m \u001b[0mopen\u001b[0m\u001b[0;34m(\u001b[0m\u001b[0mpkl_file\u001b[0m\u001b[0;34m,\u001b[0m \u001b[0;34m\"rb\"\u001b[0m\u001b[0;34m)\u001b[0m \u001b[0;32mas\u001b[0m \u001b[0mf\u001b[0m\u001b[0;34m:\u001b[0m\u001b[0;34m\u001b[0m\u001b[0;34m\u001b[0m\u001b[0m\n\u001b[0;32m---> 36\u001b[0;31m                 \u001b[0mobs_list\u001b[0m \u001b[0;34m=\u001b[0m \u001b[0mpickle\u001b[0m\u001b[0;34m.\u001b[0m\u001b[0mload\u001b[0m\u001b[0;34m(\u001b[0m\u001b[0mf\u001b[0m\u001b[0;34m)\u001b[0m\u001b[0;34m\u001b[0m\u001b[0;34m\u001b[0m\u001b[0m\n\u001b[0m\u001b[1;32m     37\u001b[0m             \u001b[0;31m#assert len(obs_list) == sim_time * 10_000\u001b[0m\u001b[0;34m\u001b[0m\u001b[0;34m\u001b[0m\u001b[0;34m\u001b[0m\u001b[0m\n\u001b[1;32m     38\u001b[0m             \u001b[0;32mif\u001b[0m \u001b[0mlen\u001b[0m\u001b[0;34m(\u001b[0m\u001b[0mobs_list\u001b[0m\u001b[0;34m)\u001b[0m \u001b[0;34m>\u001b[0m \u001b[0;36m0\u001b[0m\u001b[0;34m:\u001b[0m\u001b[0;34m\u001b[0m\u001b[0;34m\u001b[0m\u001b[0m\n",
      "\u001b[0;31mUnpicklingError\u001b[0m: pickle data was truncated"
     ]
    }
   ],
   "source": [
    "base_path = Path(\"simulation_results/\")\n",
    "all_folders = base_path.glob(\"*pts*\")\n",
    "\n",
    "# Now in each folder for each pkl file open the observation list\n",
    "# From the observation list get obs_list[-1][\"fly\"][0] the last fly position\n",
    "# Generate a scatter plot for each condition with the last fly z position¨\n",
    "# Chnage the color if the adhesion is on\n",
    "# Save the figure in the base directory\n",
    "\n",
    "save_path = base_path / \"panel_adh.pdf\"\n",
    "\n",
    "controllers = [\"cpg\", \"rule_based\", \"hybrid\"]\n",
    "terrain = [\"flat\", \"blocks\", \"gapped\", \"mixed\"]\n",
    "adhesion = [True]\n",
    "\n",
    "conditions = [(c, t) for t in terrain for c in controllers]\n",
    "n_conditions = len(conditions)\n",
    "\n",
    "#sim_time = 1.0\n",
    "#init_time = 0.0\n",
    "timestep = 1e-4\n",
    "all_rows = []\n",
    "all_colors = np.tile([\"r\", \"b\"], n_conditions)\n",
    "\n",
    "for controller, terrain in conditions:\n",
    "    for adh in adhesion:\n",
    "        path = base_path / f\"{terrain}/{controller}\"\n",
    "        if not path.is_dir():\n",
    "            print(f\"Path {path} does not exist\")\n",
    "            continue\n",
    "        all_pkl = list(path.glob(\"*.pkl\"))\n",
    "        assert len(all_pkl) > 1, f\"Path {path} does not contain any pkl file\"\n",
    "        data_pts = []\n",
    "        for pkl_file in all_pkl:\n",
    "            with open(pkl_file, \"rb\") as f:\n",
    "                try:\n",
    "                    obs_list = pickle.load(f)\n",
    "                except:\n",
    "                    obs_list = []\n",
    "            #assert len(obs_list) == sim_time * 10_000    \n",
    "            if len(obs_list) > 0:\n",
    "                distance = obs_list[-1][\"fly\"][0][0] - obs_list[0][\"fly\"][0][0]\n",
    "                exp_len = len(obs_list) * timestep\n",
    "            else:\n",
    "                distance = np.nan\n",
    "                exp_len = np.nan\n",
    "            speed = distance / exp_len\n",
    "            all_rows.append([controller.lower(), terrain.lower(), adh, speed, distance])\n",
    "\n",
    "speed_df = pd.DataFrame(\n",
    "    all_rows, columns=[\"controller\", \"terrain\", \"adhesion\", \"speed\", \"distance\"]\n",
    ")\n",
    "#speed_df.to_csv(\"outputs/mean_speed.csv\", index=False)"
   ]
  },
  {
   "cell_type": "code",
   "execution_count": null,
   "metadata": {},
   "outputs": [
    {
     "data": {
      "text/plain": [
       "controller          cpg\n",
       "terrain            flat\n",
       "adhesion           True\n",
       "speed         12.289945\n",
       "distance      36.869835\n",
       "Name: 5, dtype: object"
      ]
     },
     "execution_count": 43,
     "metadata": {},
     "output_type": "execute_result"
    }
   ],
   "source": [
    "speed_df.iloc[5]"
   ]
  },
  {
   "cell_type": "code",
   "execution_count": null,
   "metadata": {},
   "outputs": [
    {
     "name": "stdout",
     "output_type": "stream",
     "text": [
      "12.339636303129652\n",
      "6.099169685727074\n",
      "12.459597269694012\n"
     ]
    }
   ],
   "source": [
    "speed_df_norm = speed_df.copy()\n",
    "for controller in controllers:\n",
    "    full_speed = np.nanmean(speed_df[(speed_df[\"controller\"] == controller) & (speed_df[\"terrain\"] == \"flat\")][\"speed\"])\n",
    "    print(full_speed)\n",
    "    speed_df_norm.loc[speed_df_norm[\"controller\"] == controller, \"speed\"] /= full_speed"
   ]
  },
  {
   "cell_type": "code",
   "execution_count": null,
   "metadata": {},
   "outputs": [
    {
     "name": "stdout",
     "output_type": "stream",
     "text": [
      "5.7952531178792315 12.648150126139322\n",
      "-0.17695135708388254 0.9046105035542737\n"
     ]
    }
   ],
   "source": [
    "print(\n",
    "    speed_df[speed_df[\"terrain\"] == \"flat\"][\"speed\"].min(),\n",
    "    speed_df[speed_df[\"terrain\"] == \"flat\"][\"speed\"].max(),\n",
    ")\n",
    "print(\n",
    "    speed_df_norm[speed_df_norm[\"terrain\"] != \"flat\"][\"speed\"].min(),\n",
    "    speed_df_norm[speed_df_norm[\"terrain\"] != \"flat\"][\"speed\"].max(),\n",
    ")"
   ]
  },
  {
   "cell_type": "code",
   "execution_count": null,
   "metadata": {},
   "outputs": [
    {
     "data": {
      "image/png": "[encoded data removed]",
      "text/plain": [
       "<Figure size 900x300 with 4 Axes>"
      ]
     },
     "metadata": {},
     "output_type": "display_data"
    },
    {
     "ename": "",
     "evalue": "",
     "output_type": "error",
     "traceback": [
      "\u001b[1;31mThe Kernel crashed while executing code in the the current cell or a previous cell. Please review the code in the cell(s) to identify a possible cause of the failure. Click <a href='https://aka.ms/vscodeJupyterKernelCrash'>here</a> for more info. View Jupyter <a href='command:jupyter.viewOutput'>log</a> for further details."
     ]
    }
   ],
   "source": [
    "\n",
    "x_pos_lookup = {\n",
    "    (\"cpg\", \"flat\"): 0,\n",
    "    (\"rule_based\", \"flat\"): 1,\n",
    "    (\"hybrid\", \"flat\"): 2,\n",
    "    (\"cpg\", \"gapped\"): 5,\n",
    "    (\"rule_based\", \"gapped\"): 6,\n",
    "    (\"hybrid\", \"gapped\"): 7,\n",
    "    (\"cpg\", \"blocks\"): 10,\n",
    "    (\"rule_based\", \"blocks\"): 11,\n",
    "    (\"hybrid\", \"blocks\"): 12,\n",
    "    (\"cpg\", \"mixed\"): 15,\n",
    "    (\"rule_based\", \"mixed\"): 16,\n",
    "    (\"hybrid\", \"mixed\"): 17,\n",
    "}\n",
    "colors_lookup = {\n",
    "    \"cpg\": \"tab:blue\",\n",
    "    \"rule_based\": \"tab:orange\",\n",
    "    \"hybrid\": \"tab:brown\",\n",
    "}\n",
    "\n",
    "fig, axs = plt.subplots(1, 4, figsize=(9, 3))\n",
    "plt.subplots_adjust(wspace=0.9)\n",
    "for i, terrain_type in enumerate([\"flat\", \"gapped\", \"blocks\", \"mixed\"]):\n",
    "    ax = axs[i]\n",
    "    ax.set_title(f\"{terrain_type.title()} terrain\")\n",
    "\n",
    "    df = speed_df if terrain_type == \"flat\" else speed_df_norm\n",
    "    ylim = [-0.15 * 10 / 1.15, 25] if terrain_type == \"flat\" else [-0.15, 1.15]\n",
    "\n",
    "    boxplot = sns.boxplot(\n",
    "        x=\"controller\",\n",
    "        y=\"speed\",\n",
    "        data=df.query(f\"terrain == '{terrain_type}'\"),\n",
    "        width=0.6,\n",
    "        ax=ax,\n",
    "        showfliers=False,\n",
    "        boxprops={\"facecolor\": \"None\", \"edgecolor\": \"k\", \"linewidth\": 0.5},\n",
    "        medianprops={\"color\": \"gray\", \"linewidth\": 0.5},\n",
    "        whiskerprops={\"color\": \"gray\", \"linewidth\": 0.5},\n",
    "        capprops={\"color\": \"gray\", \"linewidth\": 0.5},\n",
    "    )\n",
    "    sns.swarmplot(\n",
    "        x=\"controller\",\n",
    "        y=\"speed\",\n",
    "        data=df.query(f\"terrain == '{terrain_type}'\"),\n",
    "        hue=\"controller\",\n",
    "        size=2.5,\n",
    "        palette=[\"tab:blue\", \"tab:orange\", \"tab:brown\"],\n",
    "        ax=ax,\n",
    "        legend=False,\n",
    "    )\n",
    "    ax.set_xlim(-0.6, 2.5)\n",
    "    #ax.set_ylim(ylim)\n",
    "    ax.set_xticklabels(ax.get_xticklabels(), rotation=90)\n",
    "    ax.axhline(0.0, color=\"k\", linewidth=0.5)\n",
    "    if terrain_type not in [\"flat\", \"gapped\"]:\n",
    "        ax.set_ylabel(\"\")\n",
    "        ax.set_yticks([])\n",
    "    if terrain_type == \"flat\":\n",
    "        ax.set_ylabel(\"Avg. speed (mm/s)\")\n",
    "    elif terrain_type == \"gapped\":\n",
    "        ax.set_ylabel(\"Avg. speed\\n(% of flat terrain speed in mm/s)\")\n",
    "        ax.yaxis.set_major_formatter(mticker.PercentFormatter(1))\n",
    "    ax.set_xlabel(\"\")\n",
    "    sns.despine(ax=ax, bottom=True, left=terrain_type not in [\"flat\", \"gapped\"])\n",
    "\n",
    "#plt.savefig(\"outputs/speed_comparison.pdf\", transparent=True)"
   ]
  },
  {
   "cell_type": "code",
   "execution_count": null,
   "metadata": {},
   "outputs": [],
   "source": [
    "# remove nans \n",
    "speed_df = speed_df.dropna()\n",
    "speed_df_norm = speed_df_norm.dropna()"
   ]
  },
  {
   "cell_type": "code",
   "execution_count": null,
   "metadata": {},
   "outputs": [
    {
     "name": "stdout",
     "output_type": "stream",
     "text": [
      "Absolute speed - flat - cpg vs hybrid: 0.009208\n",
      "Absolute speed - flat - rule_based vs hybrid: 0.001703\n",
      "Absolute speed - gapped - cpg vs hybrid: 0.144422\n",
      "Absolute speed - gapped - rule_based vs hybrid: 0.185547\n",
      "Absolute speed - blocks - cpg vs hybrid: 0.095215\n",
      "Absolute speed - blocks - rule_based vs hybrid: 0.095215\n",
      "Absolute speed - mixed - cpg vs hybrid: 0.144422\n",
      "Absolute speed - mixed - rule_based vs hybrid: 0.144422\n",
      "Normalized speed - flat - cpg vs hybrid: 0.471528\n",
      "Normalized speed - flat - rule_based vs hybrid: 0.639508\n",
      "Normalized speed - gapped - cpg vs hybrid: 0.144422\n",
      "Normalized speed - gapped - rule_based vs hybrid: 0.814453\n",
      "Normalized speed - blocks - cpg vs hybrid: 0.095215\n",
      "Normalized speed - blocks - rule_based vs hybrid: 0.191367\n",
      "Normalized speed - mixed - cpg vs hybrid: 0.144422\n",
      "Normalized speed - mixed - rule_based vs hybrid: 0.361837\n"
     ]
    }
   ],
   "source": [
    "for variable, df in [(\"Absolute speed\", speed_df), (\"Normalized speed\", speed_df_norm)]:\n",
    "    for terrain_type in [\"flat\", \"gapped\", \"blocks\", \"mixed\"]:\n",
    "        hybrid_pts = df[\n",
    "            (df[\"controller\"] == \"hybrid\") & (df[\"terrain\"] == terrain_type)\n",
    "        ][\"speed\"].values\n",
    "        for controller in [\"cpg\", \"rule_based\"]:\n",
    "            my_pts = df[\n",
    "                (df[\"controller\"] == controller) & (df[\"terrain\"] == terrain_type)\n",
    "            ][\"speed\"].values\n",
    "            u, p = mannwhitneyu(\n",
    "                my_pts, hybrid_pts, alternative=\"less\", method=\"asymptotic\"\n",
    "            )\n",
    "            print(f\"{variable} - {terrain_type} - {controller} vs hybrid: {p:.6f}\")"
   ]
  },
  {
   "cell_type": "code",
   "execution_count": null,
   "metadata": {},
   "outputs": [],
   "source": []
  }
 ],
 "metadata": {
  "kernelspec": {
   "display_name": "flygym",
   "language": "python",
   "name": "python3"
  },
  "language_info": {
   "codemirror_mode": {
    "name": "ipython",
    "version": 3
   },
   "file_extension": ".py",
   "mimetype": "text/x-python",
   "name": "python",
   "nbconvert_exporter": "python",
   "pygments_lexer": "ipython3",
   "version": "3.7.12"
  },
  "orig_nbformat": 4,
  "vscode": {
   "interpreter": {
    "hash": "c59852332aaf9da574302dd025ef100eabc038e7fe3e9111c7011bf89b7be9c6"
   }
  }
 },
 "nbformat": 4,
 "nbformat_minor": 2
}
